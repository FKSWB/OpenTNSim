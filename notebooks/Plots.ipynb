{
 "cells": [
  {
   "cell_type": "code",
   "execution_count": 1,
   "metadata": {},
   "outputs": [],
   "source": [
    "import networkx as nx\n",
    "import warnings\n",
    "import datetime\n",
    "import seaborn as sn\n",
    "sn.set()\n",
    "import pandas as pd\n",
    "import numpy as np\n",
    "import matplotlib.pyplot as plt\n",
    "from collections import Counter\n",
    "%matplotlib inline\n",
    "warnings.filterwarnings('ignore')"
   ]
  },
  {
   "cell_type": "code",
   "execution_count": 37,
   "metadata": {},
   "outputs": [],
   "source": [
    "origin8 = pd.read_csv('../../Results/TripResults/origin8.csv')\n",
    "origin11 = pd.read_csv('../../Results/TripResults/origin11.csv')\n",
    "origin14 = pd.read_csv('../../Results/TripResults/origin14.csv')\n",
    "origin17 = pd.read_csv('../../Results/TripResults/origin17.csv')\n",
    "origin20 = pd.read_csv('../../Results/TripResults/origin20.csv')"
   ]
  },
  {
   "cell_type": "code",
   "execution_count": 38,
   "metadata": {},
   "outputs": [],
   "source": [
    "destination8 = pd.read_csv('../../Results/TripResults/destination8.csv')\n",
    "destination11 = pd.read_csv('../../Results/TripResults/destination11.csv')\n",
    "destination14 = pd.read_csv('../../Results/TripResults/destination14.csv')\n",
    "destination17 = pd.read_csv('../../Results/TripResults/destination17.csv')\n",
    "destination20 = pd.read_csv('../../Results/TripResults/destination20.csv')"
   ]
  },
  {
   "cell_type": "code",
   "execution_count": 39,
   "metadata": {},
   "outputs": [],
   "source": [
    "od_pairs8 = pd.read_csv('../../Results/TripResults/od_pairs8.csv')\n",
    "od_pairs11 = pd.read_csv('../../Results/TripResults/od_pairs11.csv')\n",
    "od_pairs14 = pd.read_csv('../../Results/TripResults/od_pairs14.csv')\n",
    "od_pairs17 = pd.read_csv('../../Results/TripResults/od_pairs17.csv')\n",
    "od_pairs20 = pd.read_csv('../../Results/TripResults/od_pairs20.csv')"
   ]
  },
  {
   "cell_type": "code",
   "execution_count": 40,
   "metadata": {},
   "outputs": [],
   "source": [
    "iets = origin8.sort_values(by='gvbweek', ascending=False).head(10)\n",
    "iets = iets.sort_values(by='gvbweek', ascending=True)\n",
    "iets = iets[['station', 'gvbweek']]"
   ]
  },
  {
   "cell_type": "code",
   "execution_count": 52,
   "metadata": {},
   "outputs": [
    {
     "data": {
      "image/png": "[encoded data removed]",
      "text/plain": [
       "<Figure size 360x360 with 1 Axes>"
      ]
     },
     "metadata": {},
     "output_type": "display_data"
    }
   ],
   "source": [
    "plot = iets.plot(kind='barh',figsize = [5,5], colors = sn.color_palette(\"Set2\", 1), width = 0.7, x = 'station', y='gvbweek',\n",
    "            title = 'Origin distribution (Monday - Thursday / 08:00 - 09:00)', legend=False)\n",
    "plot.autoscale()\n",
    "plot.figure.savefig(\"../../distribution.png\")"
   ]
  },
  {
   "cell_type": "code",
   "execution_count": null,
   "metadata": {},
   "outputs": [],
   "source": [
    "# index = dfma['index'].tolist()\n",
    "\n",
    "# df = pd.DataFrame({'Monday': dfma[0].tolist(),\n",
    "#                   'Tuesday': dfdo[0].tolist(),\n",
    "#                   'Wednesday': dfwo[0].tolist(),\n",
    "#                   'Thursday': dfdo[0].tolist(),\n",
    "#                   'Friday': dfvr[0].tolist(),\n",
    "#                   'Saturday': dfza[0].tolist(),\n",
    "#                   'Sunday': dfzo[0].tolist()}, index=index)\n",
    "\n",
    "# plot = df.plot.bar(figsize = [20,8], colors = sn.color_palette(\"Set2\", 7), width = 0.7, title = 'Passenger distribution per hour')\n",
    "# plot.figure.savefig(\"distribution.png\")"
   ]
  }
 ],
 "metadata": {
  "kernelspec": {
   "display_name": "Python 3",
   "language": "python",
   "name": "python3"
  },
  "language_info": {
   "codemirror_mode": {
    "name": "ipython",
    "version": 3
   },
   "file_extension": ".py",
   "mimetype": "text/x-python",
   "name": "python",
   "nbconvert_exporter": "python",
   "pygments_lexer": "ipython3",
   "version": "3.6.7"
  }
 },
 "nbformat": 4,
 "nbformat_minor": 2
}
