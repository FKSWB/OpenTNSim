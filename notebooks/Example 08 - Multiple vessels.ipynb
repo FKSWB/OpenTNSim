{
 "cells": [
  {
   "cell_type": "markdown",
   "metadata": {},
   "source": [
    "## Example 08 - Multiple vessels"
   ]
  },
  {
   "cell_type": "markdown",
   "metadata": {},
   "source": [
    "### Imports\n",
    "Import the required libraries"
   ]
  },
  {
   "cell_type": "code",
   "execution_count": 1,
   "metadata": {},
   "outputs": [],
   "source": [
    "# package(s) related to time, space and id\n",
    "import datetime\n",
    "import platform\n",
    "import random\n",
    "import os\n",
    "\n",
    "# you need these dependencies (you can get these from anaconda)\n",
    "# package(s) related to the simulation\n",
    "import simpy\n",
    "\n",
    "# spatial libraries \n",
    "import pyproj\n",
    "import shapely.geometry\n",
    "\n",
    "# package(s) for data handling\n",
    "import pandas as pd\n",
    "import numpy as np\n",
    "import matplotlib.pyplot as plt\n",
    "import matplotlib.animation as animation\n",
    "\n",
    "# tranport network analysis package\n",
    "import transport_network_analysis.core as core\n",
    "import transport_network_analysis.graph_module as graph_module\n",
    "import transport_network_analysis.plot as plot\n",
    "\n",
    "# Used for mathematical functions\n",
    "import math             \n",
    "\n",
    "# Used for making the graph to visualize our problem\n",
    "import networkx as nx  "
   ]
  },
  {
   "cell_type": "code",
   "execution_count": 2,
   "metadata": {},
   "outputs": [],
   "source": [
    "# Graph location\n",
    "selection = 3\n",
    "\n",
    "if selection==1:\n",
    "    # graph of Amsterdam Canals\n",
    "    location_graph = \"Shape-Files/Amsterdam-Canals\"\n",
    "    name_graph = \"final_network_v4.shp\"\n",
    "\n",
    "elif selection ==2:\n",
    "    # graph of Rotterdam-Antwerp transport corridor\n",
    "    location_graph = \"Shape-Files/Rotterdam-Antwerpen-corridor\"\n",
    "    name_graph = \"edges_2.shp\"\n",
    "        \n",
    "elif selection ==3:\n",
    "    # graph of all waterways in the Netherlands\n",
    "    location_graph = \"Shape-Files/Vaarwegvakken\"\n",
    "    name_graph = \"Vaarwegvakken.shp\"\n",
    "\n",
    "elif selection ==4:\n",
    "    # NB: not a navigable graph, rather a shapefile containing km marks\n",
    "    location_graph = \"Shape-Files/Kilometermarkeringen\"\n",
    "    name_graph = \"kmmarkeringen.shp\""
   ]
  },
  {
   "cell_type": "code",
   "execution_count": 3,
   "metadata": {},
   "outputs": [
    {
     "name": "stdout",
     "output_type": "stream",
     "text": [
      "Shape-Files/Vaarwegvakken\n",
      "Vaarwegvakken.shp\n"
     ]
    }
   ],
   "source": [
    "# print graph that is selected\n",
    "print(location_graph)\n",
    "print(name_graph)"
   ]
  },
  {
   "cell_type": "markdown",
   "metadata": {},
   "source": [
    "### Create graph"
   ]
  },
  {
   "cell_type": "markdown",
   "metadata": {},
   "source": [
    "The cel below visualizes the problem. In graph theory the red dots are called *edges* and the lines are called *vertices*. Vessels (or any other object) move from edge 1 to edge 3 and from edge 4 to edge 2. The added complexity is that vertice 5-6 only allows traffic in one direction at a time. Vessels can travel simultanously in one direction.\n",
    "\n",
    "**Important**: \n",
    "\n",
    "If you use windows and get the following error \"ImportError: read_shp requires OGR: http://www.gdal.org/\", you probably have [this issue](https://github.com/conda-forge/gdal-feedstock/issues/219). Solving it is possible by running the following commands in your terminal (as explained [here](https://gis.stackexchange.com/questions/294231/installing-gdal-with-anaconda)):\n",
    "\n",
    "```bash\n",
    "#Create a new virtual environment\n",
    "conda create -n testgdal -c conda-forge gdal vs2015_runtime=14\n",
    "\n",
    "#Activate virtual environment\n",
    "activate testgdal\n",
    "\n",
    "#Open Jupyter notebook\n",
    "jupyer notebook\n",
    "```"
   ]
  },
  {
   "cell_type": "code",
   "execution_count": 4,
   "metadata": {},
   "outputs": [],
   "source": [
    "graph = graph_module.Graph()\n",
    "graph.from_shape(location_graph, name_graph)"
   ]
  },
  {
   "cell_type": "code",
   "execution_count": 5,
   "metadata": {},
   "outputs": [
    {
     "ename": "TypeError",
     "evalue": "in method 'Geometry_Transform', argument 2 of type 'OSRCoordinateTransformationShadow *'",
     "output_type": "error",
     "traceback": [
      "\u001b[1;31m---------------------------------------------------------------------------\u001b[0m",
      "\u001b[1;31mTypeError\u001b[0m                                 Traceback (most recent call last)",
      "\u001b[1;32m<ipython-input-5-028bd67674eb>\u001b[0m in \u001b[0;36m<module>\u001b[1;34m()\u001b[0m\n\u001b[1;32m----> 1\u001b[1;33m \u001b[0mgraph\u001b[0m\u001b[1;33m.\u001b[0m\u001b[0mcreate_graph_new_projection\u001b[0m\u001b[1;33m(\u001b[0m\u001b[1;33m)\u001b[0m\u001b[1;33m\u001b[0m\u001b[0m\n\u001b[0m\u001b[0;32m      2\u001b[0m \u001b[0mgraph\u001b[0m\u001b[1;33m.\u001b[0m\u001b[0mplot\u001b[0m\u001b[1;33m(\u001b[0m\u001b[1;33m)\u001b[0m\u001b[1;33m\u001b[0m\u001b[0m\n",
      "\u001b[1;32mc:\\users\\leo1_\\transport-network-analysis\\src\\transport_network_analysis\\graph_module.py\u001b[0m in \u001b[0;36mcreate_graph_new_projection\u001b[1;34m(self, to_EPSG)\u001b[0m\n\u001b[0;32m     84\u001b[0m         \u001b[1;31m# Add original nodes and edges to new graph\u001b[0m\u001b[1;33m\u001b[0m\u001b[1;33m\u001b[0m\u001b[0m\n\u001b[0;32m     85\u001b[0m         \u001b[1;32mfor\u001b[0m \u001b[0mi\u001b[0m\u001b[1;33m,\u001b[0m \u001b[0mnode\u001b[0m \u001b[1;32min\u001b[0m \u001b[0menumerate\u001b[0m\u001b[1;33m(\u001b[0m\u001b[0mself\u001b[0m\u001b[1;33m.\u001b[0m\u001b[0mgraph\u001b[0m\u001b[1;33m.\u001b[0m\u001b[0mnodes\u001b[0m\u001b[1;33m(\u001b[0m\u001b[0mdata\u001b[0m \u001b[1;33m=\u001b[0m \u001b[1;32mTrue\u001b[0m\u001b[1;33m)\u001b[0m\u001b[1;33m)\u001b[0m\u001b[1;33m:\u001b[0m\u001b[1;33m\u001b[0m\u001b[0m\n\u001b[1;32m---> 86\u001b[1;33m             \u001b[0mcoordinates\u001b[0m \u001b[1;33m=\u001b[0m \u001b[0mself\u001b[0m\u001b[1;33m.\u001b[0m\u001b[0mchange_projection\u001b[0m\u001b[1;33m(\u001b[0m\u001b[0mtransform\u001b[0m\u001b[1;33m,\u001b[0m \u001b[0mshapely\u001b[0m\u001b[1;33m.\u001b[0m\u001b[0mgeometry\u001b[0m\u001b[1;33m.\u001b[0m\u001b[0mPoint\u001b[0m\u001b[1;33m(\u001b[0m\u001b[0mlist\u001b[0m\u001b[1;33m(\u001b[0m\u001b[0mself\u001b[0m\u001b[1;33m.\u001b[0m\u001b[0mgraph\u001b[0m\u001b[1;33m.\u001b[0m\u001b[0mnodes\u001b[0m\u001b[1;33m)\u001b[0m\u001b[1;33m[\u001b[0m\u001b[0mi\u001b[0m\u001b[1;33m]\u001b[0m\u001b[1;33m[\u001b[0m\u001b[1;36m0\u001b[0m\u001b[1;33m]\u001b[0m\u001b[1;33m,\u001b[0m \u001b[0mlist\u001b[0m\u001b[1;33m(\u001b[0m\u001b[0mself\u001b[0m\u001b[1;33m.\u001b[0m\u001b[0mgraph\u001b[0m\u001b[1;33m.\u001b[0m\u001b[0mnodes\u001b[0m\u001b[1;33m)\u001b[0m\u001b[1;33m[\u001b[0m\u001b[0mi\u001b[0m\u001b[1;33m]\u001b[0m\u001b[1;33m[\u001b[0m\u001b[1;36m1\u001b[0m\u001b[1;33m]\u001b[0m\u001b[1;33m)\u001b[0m\u001b[1;33m)\u001b[0m\u001b[1;33m\u001b[0m\u001b[0m\n\u001b[0m\u001b[0;32m     87\u001b[0m             \u001b[0mname\u001b[0m \u001b[1;33m=\u001b[0m \u001b[1;34m\"({:f}, {:f})\"\u001b[0m\u001b[1;33m.\u001b[0m\u001b[0mformat\u001b[0m\u001b[1;33m(\u001b[0m\u001b[0mcoordinates\u001b[0m\u001b[1;33m[\u001b[0m\u001b[1;36m0\u001b[0m\u001b[1;33m]\u001b[0m\u001b[1;33m,\u001b[0m \u001b[0mcoordinates\u001b[0m\u001b[1;33m[\u001b[0m\u001b[1;36m1\u001b[0m\u001b[1;33m]\u001b[0m\u001b[1;33m)\u001b[0m\u001b[1;33m\u001b[0m\u001b[0m\n\u001b[0;32m     88\u001b[0m             \u001b[0mgeometry\u001b[0m \u001b[1;33m=\u001b[0m \u001b[0mshapely\u001b[0m\u001b[1;33m.\u001b[0m\u001b[0mgeometry\u001b[0m\u001b[1;33m.\u001b[0m\u001b[0mPoint\u001b[0m\u001b[1;33m(\u001b[0m\u001b[0mcoordinates\u001b[0m\u001b[1;33m[\u001b[0m\u001b[1;36m0\u001b[0m\u001b[1;33m]\u001b[0m\u001b[1;33m,\u001b[0m \u001b[0mcoordinates\u001b[0m\u001b[1;33m[\u001b[0m\u001b[1;36m1\u001b[0m\u001b[1;33m]\u001b[0m\u001b[1;33m)\u001b[0m\u001b[1;33m\u001b[0m\u001b[0m\n",
      "\u001b[1;32mc:\\users\\leo1_\\transport-network-analysis\\src\\transport_network_analysis\\graph_module.py\u001b[0m in \u001b[0;36mchange_projection\u001b[1;34m(self, transform, point)\u001b[0m\n\u001b[0;32m     69\u001b[0m         \u001b[0mpoint\u001b[0m \u001b[1;33m=\u001b[0m \u001b[0mogr\u001b[0m\u001b[1;33m.\u001b[0m\u001b[0mCreateGeometryFromWkt\u001b[0m\u001b[1;33m(\u001b[0m\u001b[0mstr\u001b[0m\u001b[1;33m(\u001b[0m\u001b[0mpoint\u001b[0m\u001b[1;33m)\u001b[0m\u001b[1;33m)\u001b[0m\u001b[1;33m\u001b[0m\u001b[0m\n\u001b[0;32m     70\u001b[0m \u001b[1;33m\u001b[0m\u001b[0m\n\u001b[1;32m---> 71\u001b[1;33m         \u001b[0mpoint\u001b[0m\u001b[1;33m.\u001b[0m\u001b[0mTransform\u001b[0m\u001b[1;33m(\u001b[0m\u001b[0mtransform\u001b[0m\u001b[1;33m)\u001b[0m\u001b[1;33m\u001b[0m\u001b[0m\n\u001b[0m\u001b[0;32m     72\u001b[0m         \u001b[0mpoint\u001b[0m\u001b[1;33m.\u001b[0m\u001b[0mExportToWkt\u001b[0m\u001b[1;33m(\u001b[0m\u001b[1;33m)\u001b[0m\u001b[1;33m\u001b[0m\u001b[0m\n\u001b[0;32m     73\u001b[0m \u001b[1;33m\u001b[0m\u001b[0m\n",
      "\u001b[1;32m~\\Anaconda3\\lib\\site-packages\\osgeo\\ogr.py\u001b[0m in \u001b[0;36mTransform\u001b[1;34m(self, *args)\u001b[0m\n\u001b[0;32m   7308\u001b[0m         \u001b[0mOGRERR_NONE\u001b[0m \u001b[0mon\u001b[0m \u001b[0msuccess\u001b[0m \u001b[1;32mor\u001b[0m \u001b[0man\u001b[0m \u001b[0merror\u001b[0m \u001b[0mcode\u001b[0m\u001b[1;33m.\u001b[0m\u001b[1;33m\u001b[0m\u001b[0m\n\u001b[0;32m   7309\u001b[0m         \"\"\"\n\u001b[1;32m-> 7310\u001b[1;33m         \u001b[1;32mreturn\u001b[0m \u001b[0m_ogr\u001b[0m\u001b[1;33m.\u001b[0m\u001b[0mGeometry_Transform\u001b[0m\u001b[1;33m(\u001b[0m\u001b[0mself\u001b[0m\u001b[1;33m,\u001b[0m \u001b[1;33m*\u001b[0m\u001b[0margs\u001b[0m\u001b[1;33m)\u001b[0m\u001b[1;33m\u001b[0m\u001b[0m\n\u001b[0m\u001b[0;32m   7311\u001b[0m \u001b[1;33m\u001b[0m\u001b[0m\n\u001b[0;32m   7312\u001b[0m \u001b[1;33m\u001b[0m\u001b[0m\n",
      "\u001b[1;31mTypeError\u001b[0m: in method 'Geometry_Transform', argument 2 of type 'OSRCoordinateTransformationShadow *'"
     ]
    }
   ],
   "source": [
    "graph.create_graph_new_projection()\n",
    "graph.plot()"
   ]
  },
  {
   "cell_type": "markdown",
   "metadata": {},
   "source": [
    "### Make vessels and paths"
   ]
  },
  {
   "cell_type": "code",
   "execution_count": null,
   "metadata": {},
   "outputs": [],
   "source": [
    "# number of vessels to generate\n",
    "nr_of_vessels = 30"
   ]
  },
  {
   "cell_type": "code",
   "execution_count": null,
   "metadata": {},
   "outputs": [],
   "source": [
    "# Make a class out of mix-ins\n",
    "TransportResource = type('TransportResource', \n",
    "                         (core.Identifiable, core.Log, core.ContainerDependentMovable, \n",
    "                          core.HasResource, core.Routeable), {})\n",
    "\n",
    "\n",
    "\n",
    "# For testing purposes we only want v to be 1\n",
    "def compute_v_provider(v_empty, v_full):\n",
    "    return lambda x: 1\n",
    "\n",
    "data_vessel = {\"env\": None,\n",
    "               \"name\": \"Vessel\",\n",
    "               \"route\": None,\n",
    "               \"geometry\": shapely.geometry.Point(0, 0),  # lon, lat\n",
    "               \"capacity\": 1_000,\n",
    "               \"compute_v\": compute_v_provider(v_empty=1, v_full=1)}\n",
    "\n",
    "vessels = []\n",
    "for i in range(nr_of_vessels):\n",
    "    vessel = TransportResource(**data_vessel)\n",
    "    vessel.name = \"Vessel \" + str(i + 1)\n",
    "    vessels.append(vessel)"
   ]
  },
  {
   "cell_type": "code",
   "execution_count": null,
   "metadata": {},
   "outputs": [],
   "source": [
    "paths = []\n",
    "for i in range(nr_of_vessels):\n",
    "    random_1 = random.choice(list(graph.graph))\n",
    "    random_2 = random.choice(list(graph.graph))\n",
    "    \n",
    "    path = nx.dijkstra_path(graph.graph, random_1, random_2)\n",
    "    \n",
    "    paths.append(path)"
   ]
  },
  {
   "cell_type": "markdown",
   "metadata": {},
   "source": [
    "### Start simulation"
   ]
  },
  {
   "cell_type": "code",
   "execution_count": null,
   "metadata": {},
   "outputs": [],
   "source": [
    "def start(env, vessel):\n",
    "    while True:\n",
    "        vessel.log_entry(\"Start sailing\", env.now, \"\", vessel.geometry)\n",
    "        yield from vessel.move()\n",
    "        vessel.log_entry(\"Stop sailing\", env.now, \"\", vessel.geometry)\n",
    "        \n",
    "        if vessel.geometry == nx.get_node_attributes(env.FG, \"geometry\")[vessel.route[-1]]:\n",
    "            break"
   ]
  },
  {
   "cell_type": "code",
   "execution_count": null,
   "metadata": {},
   "outputs": [],
   "source": [
    "# Start simpy environment\n",
    "env = simpy.Environment()\n",
    "\n",
    "# Add graph to environment\n",
    "env.FG = graph.graph\n",
    "\n",
    "for i, vessel in enumerate(vessels):\n",
    "    # Add environment and path to the vessel\n",
    "    vessel.env = env\n",
    "    vessel.route = paths[i]\n",
    "    vessel.geometry = nx.get_node_attributes(graph.graph, \"geometry\")[paths[i][0]]\n",
    "\n",
    "    # Add the movements of the vessel to the simulation\n",
    "    env.process(start(env, vessel))\n",
    "\n",
    "env.epoch = datetime.datetime.now()\n",
    "\n",
    "env.run()"
   ]
  },
  {
   "cell_type": "markdown",
   "metadata": {},
   "source": [
    "### Obtain vessel log information\n",
    "The cel below uses the vessel log. The core function *log_entry* is used, which takes four arguments:\n",
    "\n",
    "- **Log.** A text to describe what is logged.\n",
    "- **t.** The timestamp.\n",
    "- **Value.**  The value for the log (for sailing this is the distance).\n",
    "- **Geometry** The location of the vessel while loggin."
   ]
  },
  {
   "cell_type": "code",
   "execution_count": null,
   "metadata": {},
   "outputs": [],
   "source": [
    "vessel_log = pd.DataFrame.from_dict(vessels[0].log)\n",
    "vessel_log.head()"
   ]
  },
  {
   "cell_type": "markdown",
   "metadata": {},
   "source": [
    "### Visualization of path\n",
    "If you get an error regarding ffmpeg use [this](https://stackoverflow.com/questions/13316397/matplotlib-animation-no-moviewriters-available) answer. You have to install ffmpeg in your Conda environment. It can be done using the following command.\n",
    "\n",
    "```bash\n",
    "#Install ffmpeg using Conda\n",
    "conda install -c conda-forge ffmpeg\n",
    "```"
   ]
  },
  {
   "cell_type": "code",
   "execution_count": null,
   "metadata": {},
   "outputs": [],
   "source": [
    "for vessel in vessels:\n",
    "    geom_x = []\n",
    "    geom_y = []\n",
    "\n",
    "    for geom in vessel.log[\"Geometry\"]:\n",
    "        geom_x.append(geom.x)\n",
    "        geom_y.append(geom.y)\n",
    "\n",
    "    vessel.log[\"Geometry - x\"] = geom_x\n",
    "    vessel.log[\"Geometry - y\"] = geom_y"
   ]
  },
  {
   "cell_type": "code",
   "execution_count": null,
   "metadata": {},
   "outputs": [],
   "source": [
    "time_stamp_min = []\n",
    "time_stamp_max = []\n",
    "\n",
    "for vessel in vessels:\n",
    "    time_stamp_min.append(min(vessel.log[\"Timestamp\"]))\n",
    "    time_stamp_max.append(max(vessel.log[\"Timestamp\"]))\n",
    "\n",
    "time_stamp_min = min(time_stamp_min)\n",
    "time_stamp_max = max(time_stamp_max)\n",
    "\n",
    "stepsize = 60\n",
    "steps = int(np.floor((time_stamp_max - time_stamp_min) / stepsize))\n",
    "\n",
    "timestamps_t = np.linspace(time_stamp_min, time_stamp_max, steps)\n",
    "for vessel in vessels:\n",
    "    vessel.log[\"timestamps_x\"] = np.interp(timestamps_t, vessel.log[\"Timestamp\"], vessel.log[\"Geometry - x\"])\n",
    "    vessel.log[\"timestamps_y\"] = np.interp(timestamps_t, vessel.log[\"Timestamp\"], vessel.log[\"Geometry - y\"])"
   ]
  },
  {
   "cell_type": "code",
   "execution_count": null,
   "metadata": {},
   "outputs": [],
   "source": [
    "# Create a mp4 animation \n",
    "# %%time\n",
    "\n",
    "# # Make the animation\n",
    "# fig = plt.figure(figsize = [12, 12])\n",
    "\n",
    "# nx.draw(graph.graph, nx.get_node_attributes(graph.graph, 'Position'), \n",
    "#         with_labels = False, \n",
    "#         node_size = 0.5,\n",
    "#         font_size = 2, \n",
    "#         width = 0.2, \n",
    "#         arrowsize = 3)\n",
    "\n",
    "\n",
    "# location_1, = plt.plot([], [], color = \"#1f77b4\", marker = \"o\", markersize=15)\n",
    "# path_1,     = plt.plot([], [], color = \"#1f77b4\")\n",
    "\n",
    "# location_2, = plt.plot([], [], color = \"#ff7f0e\", marker = \"o\", markersize=15)\n",
    "# path_2,     = plt.plot([], [], color = \"#ff7f0e\")\n",
    "\n",
    "# location_3, = plt.plot([], [], color = \"#2ca02c\", marker = \"o\", markersize=15)\n",
    "# path_3,     = plt.plot([], [], color = \"#2ca02c\")\n",
    "\n",
    "# location_4, = plt.plot([], [], color = \"#d62728\", marker = \"o\", markersize=15)\n",
    "# path_4,     = plt.plot([], [], color = \"#d62728\")\n",
    "\n",
    "# location_5, = plt.plot([], [], color = \"#9467bd\", marker = \"o\", markersize=15)\n",
    "# path_5,     = plt.plot([], [], color = \"#9467bd\")\n",
    "\n",
    "# def init():\n",
    "#     location_1.set_data([], [])\n",
    "#     path_1.set_data([], [])\n",
    "    \n",
    "#     location_2.set_data([], [])\n",
    "#     path_2.set_data([], [])\n",
    "    \n",
    "#     location_3.set_data([], [])\n",
    "#     path_3.set_data([], [])\n",
    "    \n",
    "#     location_4.set_data([], [])\n",
    "#     path_4.set_data([], [])\n",
    "    \n",
    "#     location_5.set_data([], [])\n",
    "#     path_5.set_data([], [])\n",
    "\n",
    "# def animate(i):\n",
    "#     for j, vessel in enumerate(vessels):\n",
    "#         this_x = [vessel.log[\"timestamps_x\"][i]]\n",
    "#         this_y = [vessel.log[\"timestamps_y\"][i]]\n",
    "\n",
    "#         past_x = [x for x in vessel.log[\"timestamps_x\"][:i]]\n",
    "#         past_y = [y for y in vessel.log[\"timestamps_y\"][:i]]\n",
    "\n",
    "#         if j == 0:\n",
    "#             location_1.set_data(this_x, this_y)\n",
    "#             path_1.set_data(past_x, past_y)\n",
    "#         elif j == 1:\n",
    "#             location_2.set_data(this_x, this_y)\n",
    "#             path_2.set_data(past_x, past_y)\n",
    "#         elif j == 2:\n",
    "#             location_3.set_data(this_x, this_y)\n",
    "#             path_3.set_data(past_x, past_y)\n",
    "#         elif j == 3:\n",
    "#             location_4.set_data(this_x, this_y)\n",
    "#             path_4.set_data(past_x, past_y)\n",
    "#         elif j == 4:\n",
    "#             location_5.set_data(this_x, this_y)\n",
    "#             path_5.set_data(past_x, past_y)\n",
    "\n",
    "#     return location_1, location_2, location_3, location_4, location_5, path_1, path_2, path_3, path_4, path_5\n",
    "    \n",
    "        \n",
    "# ani = animation.FuncAnimation(fig, animate, np.arange(0, len(timestamps_t)), init_func=init)\n",
    "# ani.save('route - improved - example 08.mp4', fps=5)"
   ]
  },
  {
   "cell_type": "code",
   "execution_count": null,
   "metadata": {},
   "outputs": [],
   "source": [
    "# visualise vessel movements based on the information included in the vessel.log\n",
    "plot.vessel_kml(env, vessels)\n",
    "plot.graph_kml(env)"
   ]
  },
  {
   "cell_type": "code",
   "execution_count": null,
   "metadata": {},
   "outputs": [],
   "source": [
    "# # open the file\n",
    "# if platform.system():\n",
    "#     !start ./graph.kml\n",
    "#     !start ./vessel_movements.kml\n",
    "    \n",
    "# else:\n",
    "#     !start explorer ./graph.kml\n",
    "#     !start explorer ./vessel_movements.kml\n"
   ]
  },
  {
   "cell_type": "markdown",
   "metadata": {},
   "source": [
    "## create time distance diagram\n",
    "to do:\n",
    "* time distance diagrams should be generated for a base path\n",
    " * time_distance_diagram(base_path, vessels)\n",
    "* the x axis can then be distance on the base path in m from the origin of the base path\n",
    " * can be done with location_to_distance\n",
    "* for every vessel its location should be converted to this axis (so distance from the origin)\n",
    " * can be done with location to distance (offset with the starting point of the vessel)\n",
    "* the plot should only show movement of the vessel on that base path\n",
    " * a filter should be built that extracts from the vessel log the movement on the base path\n",
    " * this can be done with networkx intersection if you have both the base path and the vessel path"
   ]
  },
  {
   "cell_type": "code",
   "execution_count": null,
   "metadata": {},
   "outputs": [],
   "source": [
    "vessel.__dict__"
   ]
  },
  {
   "cell_type": "code",
   "execution_count": null,
   "metadata": {},
   "outputs": [],
   "source": [
    "def convert_time_to_duration(series):\n",
    "    param = [0]\n",
    "\n",
    "    for log_index, value in enumerate(series[0:-1-1:1]):\n",
    "        # calcuate intervals\n",
    "        start = series[log_index]\n",
    "        stop = series[log_index + 1]\n",
    "        duration = stop - start\n",
    "\n",
    "        param.append(param[-1] + duration)\n",
    "\n",
    "    return param\n",
    "\n",
    "def convert_location_to_distance(series):\n",
    "    param = [0]\n",
    "\n",
    "    for log_index, value in enumerate(series[0:-1-1:1]):\n",
    "        # calcuate intervals\n",
    "        orig = vessel.log[\"Geometry\"][log_index]\n",
    "        dest = vessel.log[\"Geometry\"][log_index + 1]\n",
    "\n",
    "        distance = vessel.wgs84.inv(shapely.geometry.asShape(orig).x, shapely.geometry.asShape(orig).y, \n",
    "                                    shapely.geometry.asShape(dest).x, shapely.geometry.asShape(dest).y)[2]\n",
    "\n",
    "        param.append(param[-1] + distance)\n",
    "\n",
    "    return param        \n",
    "\n",
    "times = convert_time_to_duration(vessel.log[\"Timestamp\"])\n",
    "distances = convert_location_to_distance(vessel.log[\"Geometry\"])"
   ]
  },
  {
   "cell_type": "code",
   "execution_count": null,
   "metadata": {},
   "outputs": [],
   "source": [
    "plt.plot(distances, times)\n",
    "plt.title('time - distance diagram')\n",
    "plt.xlabel('distance from origin [m]')\n",
    "plt.ylabel('time [s]')\n",
    "\n",
    "# diagram should be perfectly one on one, since we made speed equal to distance"
   ]
  }
 ],
 "metadata": {
  "kernelspec": {
   "display_name": "Python 3",
   "language": "python",
   "name": "python3"
  },
  "language_info": {
   "codemirror_mode": {
    "name": "ipython",
    "version": 3
   },
   "file_extension": ".py",
   "mimetype": "text/x-python",
   "name": "python",
   "nbconvert_exporter": "python",
   "pygments_lexer": "ipython3",
   "version": "3.6.5"
  }
 },
 "nbformat": 4,
 "nbformat_minor": 2
}
