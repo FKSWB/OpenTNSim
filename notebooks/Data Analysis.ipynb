{
 "cells": [
  {
   "cell_type": "code",
   "execution_count": 1,
   "metadata": {},
   "outputs": [],
   "source": [
    "import networkx as nx\n",
    "import warnings\n",
    "import datetime\n",
    "import seaborn as sn\n",
    "sn.set()\n",
    "import pandas as pd\n",
    "import numpy as np\n",
    "import matplotlib.pyplot as plt\n",
    "from collections import Counter\n",
    "%matplotlib inline\n",
    "warnings.filterwarnings('ignore')"
   ]
  },
  {
   "cell_type": "code",
   "execution_count": 2,
   "metadata": {},
   "outputs": [],
   "source": [
    "passengers = pd.read_csv(\"Results/passengers.csv\")"
   ]
  },
  {
   "cell_type": "code",
   "execution_count": 3,
   "metadata": {},
   "outputs": [
    {
     "data": {
      "text/html": [
       "<div>\n",
       "<style scoped>\n",
       "    .dataframe tbody tr th:only-of-type {\n",
       "        vertical-align: middle;\n",
       "    }\n",
       "\n",
       "    .dataframe tbody tr th {\n",
       "        vertical-align: top;\n",
       "    }\n",
       "\n",
       "    .dataframe thead th {\n",
       "        text-align: right;\n",
       "    }\n",
       "</style>\n",
       "<table border=\"1\" class=\"dataframe\">\n",
       "  <thead>\n",
       "    <tr style=\"text-align: right;\">\n",
       "      <th></th>\n",
       "      <th>Unnamed: 0</th>\n",
       "      <th>destination</th>\n",
       "      <th>lines</th>\n",
       "      <th>origin</th>\n",
       "      <th>route</th>\n",
       "      <th>transfers</th>\n",
       "      <th>transferstations</th>\n",
       "    </tr>\n",
       "  </thead>\n",
       "  <tbody>\n",
       "    <tr>\n",
       "      <th>0</th>\n",
       "      <td>8f049322-7e25-11e9-b90a-7831c1d08f6a</td>\n",
       "      <td>Amstelstation</td>\n",
       "      <td>['metro54']</td>\n",
       "      <td>Nieuwmarkt</td>\n",
       "      <td>['Nieuwmarkt', 'Waterlooplein', 'Weesperplein'...</td>\n",
       "      <td>0</td>\n",
       "      <td>[]</td>\n",
       "    </tr>\n",
       "    <tr>\n",
       "      <th>1</th>\n",
       "      <td>8f085778-7e25-11e9-9535-7831c1d08f6a</td>\n",
       "      <td>Station Holendrecht</td>\n",
       "      <td>['metro54']</td>\n",
       "      <td>Centraal Station</td>\n",
       "      <td>['Centraal Station', 'Nieuwmarkt', 'Waterloopl...</td>\n",
       "      <td>0</td>\n",
       "      <td>[]</td>\n",
       "    </tr>\n",
       "    <tr>\n",
       "      <th>2</th>\n",
       "      <td>8f0b4082-7e25-11e9-997d-7831c1d08f6a</td>\n",
       "      <td>Station Duivendrecht</td>\n",
       "      <td>['metro54']</td>\n",
       "      <td>Amstelstation</td>\n",
       "      <td>['Amstelstation', 'Spaklerweg', 'Van der Madew...</td>\n",
       "      <td>0</td>\n",
       "      <td>[]</td>\n",
       "    </tr>\n",
       "    <tr>\n",
       "      <th>3</th>\n",
       "      <td>8f0b6dbe-7e25-11e9-8459-7831c1d08f6a</td>\n",
       "      <td>Centraal Station</td>\n",
       "      <td>['metro52']</td>\n",
       "      <td>Noord</td>\n",
       "      <td>['Noord', 'Noorderpark', 'Centraal Station']</td>\n",
       "      <td>0</td>\n",
       "      <td>[]</td>\n",
       "    </tr>\n",
       "    <tr>\n",
       "      <th>4</th>\n",
       "      <td>8f0fd246-7e25-11e9-90ca-7831c1d08f6a</td>\n",
       "      <td>Station Diemen-Zuid</td>\n",
       "      <td>['metro54', 'metro53']</td>\n",
       "      <td>Waterlooplein</td>\n",
       "      <td>['Waterlooplein', 'Weesperplein', 'Wibautstraa...</td>\n",
       "      <td>1</td>\n",
       "      <td>['Van der Madeweg']</td>\n",
       "    </tr>\n",
       "  </tbody>\n",
       "</table>\n",
       "</div>"
      ],
      "text/plain": [
       "                             Unnamed: 0           destination  \\\n",
       "0  8f049322-7e25-11e9-b90a-7831c1d08f6a         Amstelstation   \n",
       "1  8f085778-7e25-11e9-9535-7831c1d08f6a   Station Holendrecht   \n",
       "2  8f0b4082-7e25-11e9-997d-7831c1d08f6a  Station Duivendrecht   \n",
       "3  8f0b6dbe-7e25-11e9-8459-7831c1d08f6a      Centraal Station   \n",
       "4  8f0fd246-7e25-11e9-90ca-7831c1d08f6a   Station Diemen-Zuid   \n",
       "\n",
       "                    lines            origin  \\\n",
       "0             ['metro54']        Nieuwmarkt   \n",
       "1             ['metro54']  Centraal Station   \n",
       "2             ['metro54']     Amstelstation   \n",
       "3             ['metro52']             Noord   \n",
       "4  ['metro54', 'metro53']     Waterlooplein   \n",
       "\n",
       "                                               route  transfers  \\\n",
       "0  ['Nieuwmarkt', 'Waterlooplein', 'Weesperplein'...          0   \n",
       "1  ['Centraal Station', 'Nieuwmarkt', 'Waterloopl...          0   \n",
       "2  ['Amstelstation', 'Spaklerweg', 'Van der Madew...          0   \n",
       "3       ['Noord', 'Noorderpark', 'Centraal Station']          0   \n",
       "4  ['Waterlooplein', 'Weesperplein', 'Wibautstraa...          1   \n",
       "\n",
       "      transferstations  \n",
       "0                   []  \n",
       "1                   []  \n",
       "2                   []  \n",
       "3                   []  \n",
       "4  ['Van der Madeweg']  "
      ]
     },
     "execution_count": 3,
     "metadata": {},
     "output_type": "execute_result"
    }
   ],
   "source": [
    "passengers.head()"
   ]
  },
  {
   "cell_type": "code",
   "execution_count": 4,
   "metadata": {},
   "outputs": [],
   "source": [
    "dest = pd.DataFrame.from_dict(dict(Counter(passengers['destination'].tolist())), orient='index')\n",
    "orig = pd.DataFrame.from_dict(dict(Counter(passengers['origin'].tolist())), orient='index')"
   ]
  },
  {
   "cell_type": "code",
   "execution_count": 5,
   "metadata": {
    "scrolled": true
   },
   "outputs": [],
   "source": [
    "dest = dest.reset_index()\n",
    "dest.columns = ['stop','amount']\n",
    "orig = orig.reset_index()\n",
    "orig.columns = ['stop','amount']"
   ]
  },
  {
   "cell_type": "code",
   "execution_count": 6,
   "metadata": {},
   "outputs": [
    {
     "data": {
      "text/plain": [
       "Index(['stop', 'amount'], dtype='object')"
      ]
     },
     "execution_count": 6,
     "metadata": {},
     "output_type": "execute_result"
    }
   ],
   "source": [
    "dest.columns"
   ]
  },
  {
   "cell_type": "code",
   "execution_count": 7,
   "metadata": {},
   "outputs": [],
   "source": [
    "orig['percentage'] = orig['amount'].apply(lambda x: (x/4510)* 100)\n",
    "dest['percentage'] = dest['amount'].apply(lambda x: (x/4510)* 100)"
   ]
  },
  {
   "cell_type": "code",
   "execution_count": 10,
   "metadata": {},
   "outputs": [
    {
     "data": {
      "text/plain": [
       "<matplotlib.axes._subplots.AxesSubplot at 0x1a158d6668>"
      ]
     },
     "execution_count": 10,
     "metadata": {},
     "output_type": "execute_result"
    },
    {
     "data": {
      "image/png": "[encoded data removed]",
      "text/plain": [
       "<Figure size 720x360 with 1 Axes>"
      ]
     },
     "metadata": {},
     "output_type": "display_data"
    }
   ],
   "source": [
    "orig = (orig.sort_values(by = 'stop', ascending = False)).head(10)\n",
    "orig.plot(kind = 'barh', x = 'stop', y = 'percentage', figsize = [10,5])"
   ]
  },
  {
   "cell_type": "code",
   "execution_count": 11,
   "metadata": {},
   "outputs": [
    {
     "data": {
      "text/plain": [
       "<matplotlib.axes._subplots.AxesSubplot at 0x1a21123a58>"
      ]
     },
     "execution_count": 11,
     "metadata": {},
     "output_type": "execute_result"
    },
    {
     "data": {
      "image/png": "[encoded data removed]",
      "text/plain": [
       "<Figure size 720x360 with 1 Axes>"
      ]
     },
     "metadata": {},
     "output_type": "display_data"
    }
   ],
   "source": [
    "dest = (dest.sort_values(by = 'stop', ascending = False)).head(10)\n",
    "dest.plot(kind = 'barh', x = 'stop', y = 'percentage', figsize = [10,5])"
   ]
  },
  {
   "cell_type": "code",
   "execution_count": null,
   "metadata": {},
   "outputs": [],
   "source": []
  }
 ],
 "metadata": {
  "kernelspec": {
   "display_name": "Python 3",
   "language": "python",
   "name": "python3"
  },
  "language_info": {
   "codemirror_mode": {
    "name": "ipython",
    "version": 3
   },
   "file_extension": ".py",
   "mimetype": "text/x-python",
   "name": "python",
   "nbconvert_exporter": "python",
   "pygments_lexer": "ipython3",
   "version": "3.6.7"
  }
 },
 "nbformat": 4,
 "nbformat_minor": 2
}
