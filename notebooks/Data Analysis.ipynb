{
 "cells": [
  {
   "cell_type": "code",
   "execution_count": 32,
   "metadata": {},
   "outputs": [],
   "source": [
    "import networkx as nx\n",
    "import warnings\n",
    "import datetime\n",
    "import seaborn as sn\n",
    "sn.set()\n",
    "import pandas as pd\n",
    "import numpy as np\n",
    "import matplotlib.pyplot as plt\n",
    "from collections import Counter\n",
    "%matplotlib inline\n",
    "warnings.filterwarnings('ignore')"
   ]
  },
  {
   "cell_type": "code",
   "execution_count": 33,
   "metadata": {},
   "outputs": [],
   "source": [
    "passengers = pd.read_csv(\"Results/passengers.csv\")"
   ]
  },
  {
   "cell_type": "code",
   "execution_count": 34,
   "metadata": {},
   "outputs": [
    {
     "data": {
      "text/html": [
       "<div>\n",
       "<style scoped>\n",
       "    .dataframe tbody tr th:only-of-type {\n",
       "        vertical-align: middle;\n",
       "    }\n",
       "\n",
       "    .dataframe tbody tr th {\n",
       "        vertical-align: top;\n",
       "    }\n",
       "\n",
       "    .dataframe thead th {\n",
       "        text-align: right;\n",
       "    }\n",
       "</style>\n",
       "<table border=\"1\" class=\"dataframe\">\n",
       "  <thead>\n",
       "    <tr style=\"text-align: right;\">\n",
       "      <th></th>\n",
       "      <th>Unnamed: 0</th>\n",
       "      <th>destination</th>\n",
       "      <th>lines</th>\n",
       "      <th>origin</th>\n",
       "      <th>route</th>\n",
       "      <th>transfers</th>\n",
       "      <th>transferstations</th>\n",
       "    </tr>\n",
       "  </thead>\n",
       "  <tbody>\n",
       "    <tr>\n",
       "      <th>0</th>\n",
       "      <td>e0a5f2b6-7e20-11e9-9290-7831c1d08f6a</td>\n",
       "      <td>Gaasperplas</td>\n",
       "      <td>['metro51', 'metro50', 'metro53']</td>\n",
       "      <td>Station Sloterdijk</td>\n",
       "      <td>['Station Sloterdijk', 'Burg.de Vlugtlaan', 'J...</td>\n",
       "      <td>2</td>\n",
       "      <td>['Overamstel', 'Van der Madeweg']</td>\n",
       "    </tr>\n",
       "    <tr>\n",
       "      <th>1</th>\n",
       "      <td>e0a915c2-7e20-11e9-9289-7831c1d08f6a</td>\n",
       "      <td>Wibautstraat</td>\n",
       "      <td>['metro51', 'metro54']</td>\n",
       "      <td>Station Lelylaan</td>\n",
       "      <td>['Station Lelylaan', 'Heemstedestraat', 'Henk ...</td>\n",
       "      <td>1</td>\n",
       "      <td>['Spaklerweg']</td>\n",
       "    </tr>\n",
       "    <tr>\n",
       "      <th>2</th>\n",
       "      <td>e0aa5e98-7e20-11e9-ac64-7831c1d08f6a</td>\n",
       "      <td>Vijzelgracht</td>\n",
       "      <td>['metro51', 'metro52']</td>\n",
       "      <td>Postjesweg</td>\n",
       "      <td>['Postjesweg', 'Station Lelylaan', 'Heemstedes...</td>\n",
       "      <td>1</td>\n",
       "      <td>['Station Zuid']</td>\n",
       "    </tr>\n",
       "    <tr>\n",
       "      <th>3</th>\n",
       "      <td>e0ab9f68-7e20-11e9-b46b-7831c1d08f6a</td>\n",
       "      <td>Centraal Station</td>\n",
       "      <td>['metro54']</td>\n",
       "      <td>Station Bijlmer ArenA</td>\n",
       "      <td>['Station Bijlmer ArenA', 'Strandvliet', 'Stat...</td>\n",
       "      <td>0</td>\n",
       "      <td>[]</td>\n",
       "    </tr>\n",
       "    <tr>\n",
       "      <th>4</th>\n",
       "      <td>e0abc880-7e20-11e9-b735-7831c1d08f6a</td>\n",
       "      <td>Strandvliet</td>\n",
       "      <td>['metro54']</td>\n",
       "      <td>Reigersbos</td>\n",
       "      <td>['Reigersbos', 'Station Holendrecht', 'Bullewi...</td>\n",
       "      <td>0</td>\n",
       "      <td>[]</td>\n",
       "    </tr>\n",
       "  </tbody>\n",
       "</table>\n",
       "</div>"
      ],
      "text/plain": [
       "                             Unnamed: 0       destination  \\\n",
       "0  e0a5f2b6-7e20-11e9-9290-7831c1d08f6a       Gaasperplas   \n",
       "1  e0a915c2-7e20-11e9-9289-7831c1d08f6a      Wibautstraat   \n",
       "2  e0aa5e98-7e20-11e9-ac64-7831c1d08f6a      Vijzelgracht   \n",
       "3  e0ab9f68-7e20-11e9-b46b-7831c1d08f6a  Centraal Station   \n",
       "4  e0abc880-7e20-11e9-b735-7831c1d08f6a       Strandvliet   \n",
       "\n",
       "                               lines                 origin  \\\n",
       "0  ['metro51', 'metro50', 'metro53']     Station Sloterdijk   \n",
       "1             ['metro51', 'metro54']       Station Lelylaan   \n",
       "2             ['metro51', 'metro52']             Postjesweg   \n",
       "3                        ['metro54']  Station Bijlmer ArenA   \n",
       "4                        ['metro54']             Reigersbos   \n",
       "\n",
       "                                               route  transfers  \\\n",
       "0  ['Station Sloterdijk', 'Burg.de Vlugtlaan', 'J...          2   \n",
       "1  ['Station Lelylaan', 'Heemstedestraat', 'Henk ...          1   \n",
       "2  ['Postjesweg', 'Station Lelylaan', 'Heemstedes...          1   \n",
       "3  ['Station Bijlmer ArenA', 'Strandvliet', 'Stat...          0   \n",
       "4  ['Reigersbos', 'Station Holendrecht', 'Bullewi...          0   \n",
       "\n",
       "                    transferstations  \n",
       "0  ['Overamstel', 'Van der Madeweg']  \n",
       "1                     ['Spaklerweg']  \n",
       "2                   ['Station Zuid']  \n",
       "3                                 []  \n",
       "4                                 []  "
      ]
     },
     "execution_count": 34,
     "metadata": {},
     "output_type": "execute_result"
    }
   ],
   "source": [
    "passengers.head()"
   ]
  },
  {
   "cell_type": "code",
   "execution_count": 39,
   "metadata": {},
   "outputs": [],
   "source": [
    "dest = dict(Counter(passengers['destination'].tolist()))\n",
    "orig = dict(Counter(passengers['origin'].tolist()))"
   ]
  },
  {
   "cell_type": "code",
   "execution_count": null,
   "metadata": {},
   "outputs": [],
   "source": []
  }
 ],
 "metadata": {
  "kernelspec": {
   "display_name": "Python 3",
   "language": "python",
   "name": "python3"
  },
  "language_info": {
   "codemirror_mode": {
    "name": "ipython",
    "version": 3
   },
   "file_extension": ".py",
   "mimetype": "text/x-python",
   "name": "python",
   "nbconvert_exporter": "python",
   "pygments_lexer": "ipython3",
   "version": "3.6.7"
  }
 },
 "nbformat": 4,
 "nbformat_minor": 2
}
