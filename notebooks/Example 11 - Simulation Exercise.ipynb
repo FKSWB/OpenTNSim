{
 "cells": [
  {
   "cell_type": "markdown",
   "metadata": {},
   "source": [
    "## Example 11 - Simulation Exercise"
   ]
  },
  {
   "cell_type": "markdown",
   "metadata": {},
   "source": [
    "### Imports\n",
    "Import the required libraries"
   ]
  },
  {
   "cell_type": "code",
   "execution_count": 1,
   "metadata": {},
   "outputs": [],
   "source": [
    "# package(s) related to time, space and id\n",
    "import datetime, time\n",
    "import platform\n",
    "\n",
    "# you need these dependencies (you can get these from anaconda)\n",
    "# package(s) related to the simulation\n",
    "import simpy\n",
    "\n",
    "# spatial libraries \n",
    "import pyproj\n",
    "import shapely.geometry\n",
    "from simplekml import Kml, Style\n",
    "\n",
    "# package(s) for data handling\n",
    "import numpy as np\n",
    "import matplotlib.pyplot as plt\n",
    "\n",
    "# tranport network analysis package\n",
    "import transport_network_analysis.core as core\n",
    "\n",
    "# Used for mathematical functions\n",
    "import math             \n",
    "\n",
    "# Used for making the graph to visualize our problem\n",
    "import networkx as nx  "
   ]
  },
  {
   "cell_type": "markdown",
   "metadata": {},
   "source": [
    "### Create sites"
   ]
  },
  {
   "cell_type": "code",
   "execution_count": 2,
   "metadata": {},
   "outputs": [],
   "source": [
    "Node = type('Site', (core.Identifiable, core.Log, core.Locatable, core.HasResource), {})\n",
    "Quay = type('Quay', (core.Identifiable, core.Log, core.Locatable, core.HasResource, core.HasLength), {})\n",
    "Turn = type('Turn', (core.Identifiable, core.Log, core.Locatable, core.HasResource, core.RequiresTurning), {})\n",
    "\n",
    "\n",
    "data_node_01 = {\"env\": [],\n",
    "               \"name\": \"anchorage\",\n",
    "               \"geometry\": shapely.geometry.Point(0, 0)}\n",
    "data_node_02 = {\"env\": [],\n",
    "               \"name\": \"Node 1\",\n",
    "               \"geometry\": shapely.geometry.Point(2, 0)}\n",
    "data_node_03 = {\"env\": [],\n",
    "               \"name\": \"Node 2\",\n",
    "               \"geometry\": shapely.geometry.Point(4, 0)}\n",
    "data_node_04 = {\"env\": [],\n",
    "               \"name\": \"Node 3\",\n",
    "               \"geometry\": shapely.geometry.Point(5, 0)}\n",
    "\n",
    "data_node_05 = {\"env\": [],\n",
    "               \"name\": \"tb5\",\n",
    "               \"geometry\": shapely.geometry.Point(9, 0)}\n",
    "data_node_07 = {\"env\": [],\n",
    "               \"name\": \"tb7\",\n",
    "               \"geometry\": shapely.geometry.Point(12, 0)}\n",
    "data_node_09 = {\"env\": [],\n",
    "               \"name\": \"tb9\",\n",
    "               \"geometry\": shapely.geometry.Point(15, 0)}\n",
    "\n",
    "\n",
    "data_berth_52 = {\"env\": [],\n",
    "               \"name\": \"b52\",\n",
    "               \"geometry\": shapely.geometry.Point(9, -1),\n",
    "               \"length\": 300}\n",
    "data_berth_62 = {\"env\": [],\n",
    "               \"name\": \"b62\",\n",
    "               \"geometry\": shapely.geometry.Point(12, -1),\n",
    "               \"length\": 300}\n",
    "data_berth_72 = {\"env\": [],\n",
    "               \"name\": \"b72\",\n",
    "               \"geometry\": shapely.geometry.Point(15, 1),\n",
    "               \"length\": 300}\n",
    "\n",
    "anchor = Node(**data_node_01)\n",
    "node_1 = Node(**data_node_02)\n",
    "node_2 = Node(**data_node_03)\n",
    "node_3 = Node(**data_node_04)\n",
    "tb1    = Node(**data_node_05)\n",
    "tb2    = Node(**data_node_07)\n",
    "tb3    = Node(**data_node_09)\n",
    "\n",
    "berth1 = Quay(**data_berth_52)\n",
    "berth2 = Quay(**data_berth_62)\n",
    "berth3 = Quay(**data_berth_72)\n",
    "\n",
    "nodes1 = [anchor, node_1, node_2, node_3, tb1, berth1, tb2, berth2, tb3, berth3]"
   ]
  },
  {
   "cell_type": "markdown",
   "metadata": {},
   "source": [
    "### Create graph"
   ]
  },
  {
   "cell_type": "markdown",
   "metadata": {},
   "source": [
    "The cel below visualizes the problem. In graph theory the red dots are called *edges* and the lines are called *vertices*. Vessels (or any other object) move from edge 1 to edge 3 and from edge 4 to edge 2. The added complexity is that vertice 5-6 only allows traffic in one direction at a time. Vessels can travel simultanously in one direction."
   ]
  },
  {
   "cell_type": "code",
   "execution_count": 3,
   "metadata": {},
   "outputs": [
    {
     "name": "stdout",
     "output_type": "stream",
     "text": [
      "at quay\n",
      "at quay\n",
      "at quay\n",
      "('tb9', 'b72')\n"
     ]
    },
    {
     "data": {
      "image/png": "[encoded data removed]",
      "text/plain": [
       "<Figure size 432x288 with 1 Axes>"
      ]
     },
     "metadata": {},
     "output_type": "display_data"
    }
   ],
   "source": [
    "FG = nx.DiGraph()\n",
    "\n",
    "positions = {}\n",
    "it=-1\n",
    "for node in nodes1:\n",
    "    it+=1\n",
    "    positions[node.name] = (node.geometry.x, node.geometry.y)\n",
    "    FG.add_node(node.name, geometry = node.geometry)\n",
    "    if isinstance(node, Quay):\n",
    "        itnum=it\n",
    "        print(\"at quay\")\n",
    "        obj = 'quay'\n",
    "        \n",
    "path = [[anchor, node_1], # From node 1 to node 2\n",
    "        [node_1, node_2], # From node 2 to node 3\n",
    "        [node_2, node_3], # From node 3 to node 4\n",
    "        [node_3, tb1], # From node 3 to node 2\n",
    "        [tb1, berth1],\n",
    "        [berth1, tb1],\n",
    "        [tb1, tb2],\n",
    "        [tb2, berth2],\n",
    "        [berth2, tb2],\n",
    "        [tb2, tb3],\n",
    "        [tb3, berth3],\n",
    "        [berth3, tb3],\n",
    "        [tb3, tb2],\n",
    "        [tb2, tb1],\n",
    "        [tb1, node_3], # From node 3 to node 4\n",
    "        [node_3, node_2],\n",
    "        [node_2, node_1],\n",
    "        [node_1, anchor]] # From node 4 to node 3 - So one-way traffic is from node 1 to node 4\n",
    "\n",
    "it=-2\n",
    "for edge in path:\n",
    "    it+=1\n",
    "    if it==itnum:\n",
    "        print((edge[0].name, edge[1].name))\n",
    "        FG.add_edge(edge[0].name, edge[1].name, Object = \"quay\", weight = 1)\n",
    "    else:\n",
    "        FG.add_edge(edge[0].name, edge[1].name, weight = 1)\n",
    "\n",
    "nx.draw(FG, positions, with_labels=True, font_weight='bold')\n",
    "plt.show()"
   ]
  },
  {
   "cell_type": "code",
   "execution_count": 4,
   "metadata": {},
   "outputs": [
    {
     "name": "stdout",
     "output_type": "stream",
     "text": [
      "From b52 to b62: 4 steps.\n",
      "From b62 to anchorage: 7 steps.\n"
     ]
    }
   ],
   "source": [
    "# To show that moving from Node 4 to Node 1 is not possible\n",
    "print(\"From b52 to b62:\", nx.shortest_path_length(FG, \"b52\", \"b72\"), \"steps.\")\n",
    "print(\"From b62 to anchorage:\", nx.shortest_path_length(FG, \"b72\", \"anchorage\"), \"steps.\")\n",
    "# print(\"From 4 to 1:\", nx.shortest_path_length(FG, \"Node 4\", \"Node 1\"))"
   ]
  },
  {
   "cell_type": "markdown",
   "metadata": {},
   "source": [
    "### Create vessels"
   ]
  },
  {
   "cell_type": "markdown",
   "metadata": {},
   "source": [
    "#### define paths"
   ]
  },
  {
   "cell_type": "code",
   "execution_count": 5,
   "metadata": {},
   "outputs": [],
   "source": [
    "# Vessel1 moves first from \"anchorage\" to \"b72\" and then back to \"anchorage\"\n",
    "path_1 = nx.dijkstra_path(FG, \"anchorage\", \"b72\")\n",
    "path_2 = nx.dijkstra_path(FG, \"b72\", \"anchorage\")\n",
    "path_vessel_1 = np.concatenate((path_1, path_2[1:]), axis = None)\n",
    "\n",
    "# Vessel1 moves first from \"anchorage\" to \"b52\" and then back to \"anchorage\"\n",
    "path_1 = nx.dijkstra_path(FG, \"anchorage\", \"b52\")\n",
    "path_2 = nx.dijkstra_path(FG, \"b52\", \"anchorage\")\n",
    "path_vessel_2 = np.concatenate((path_1, path_2[1:]), axis = None)"
   ]
  },
  {
   "cell_type": "markdown",
   "metadata": {},
   "source": [
    "#### define vessels"
   ]
  },
  {
   "cell_type": "code",
   "execution_count": 6,
   "metadata": {},
   "outputs": [],
   "source": [
    "# Make a class out of mix-ins\n",
    "TransportResource = type('TransportResource', \n",
    "                         (core.Identifiable, core.Log, core.ContainerDependentMovable, \n",
    "                          core.HasResource, core.Routeable, core.Berthable), {})\n",
    "\n",
    "# For testing purposes we only want v to be 1\n",
    "def compute_v_provider(v_empty, v_full):\n",
    "    return lambda x: 1\n",
    "\n",
    "data_vessel_1 = {\"env\": None,\n",
    "               \"name\": \"Vessel number 1\",\n",
    "               \"route\": path_vessel_1,\n",
    "               \"geometry\": shapely.geometry.Point(0, 0),  # lon, lat\n",
    "               \"capacity\": 1_000,\n",
    "               \"lengthquay\": berth3.length,\n",
    "               \"lengthvessel\": 100,\n",
    "               \"compute_v\": compute_v_provider(v_empty=1, v_full=1)}\n",
    "data_vessel_2 = {\"env\": None,\n",
    "               \"name\": \"Vessel number 2\",\n",
    "               \"route\": path_vessel_2,\n",
    "               \"geometry\": shapely.geometry.Point(0, 0),  # lon, lat\n",
    "               \"capacity\": 1_000,\n",
    "               \"lengthquay\": berth3.length,\n",
    "               \"lengthvessel\": 80,\n",
    "               \"compute_v\": compute_v_provider(v_empty=1, v_full=1)}\n",
    "\n",
    "vessels = []\n",
    "# create the transport processing resource\n",
    "vessels.append(TransportResource(**data_vessel_1))\n",
    "vessels.append(TransportResource(**data_vessel_2))\n",
    "\n",
    "# dit werkt beter dan vessels kopieren en dan properties aanpassen. \n",
    "# Python beschouwt kopieen vaak als gekoppelde objecten."
   ]
  },
  {
   "cell_type": "markdown",
   "metadata": {},
   "source": [
    "### Run simulation"
   ]
  },
  {
   "cell_type": "code",
   "execution_count": 7,
   "metadata": {},
   "outputs": [],
   "source": [
    "def start(env, vessel):\n",
    "    while True:\n",
    "        vessel.log_entry(\"Start sailing\", env.now, \"\", vessel.geometry)\n",
    "        print(\"{} started sailing\".format(vessel.name))\n",
    " \n",
    "        yield from vessel.move()\n",
    "    \n",
    "        vessel.log_entry(\"Stop sailing\", env.now, \"\", vessel.geometry)\n",
    "        print(\"{} stopped sailing\".format(vessel.name))\n",
    "        \n",
    "        if vessel.geometry == nx.get_node_attributes(FG, \"geometry\")[vessel.route[-1]]:\n",
    "            break"
   ]
  },
  {
   "cell_type": "code",
   "execution_count": 8,
   "metadata": {},
   "outputs": [
    {
     "name": "stdout",
     "output_type": "stream",
     "text": [
      "instantiate Vessel number 1\n",
      "instantiate Vessel number 2\n",
      "Vessel number 1 started sailing\n",
      "Vessel number 2 started sailing\n",
      "Vessel number 1 at quay, service time is 18000 sec\n",
      "Remaining available quay length is 200.0 m.\n",
      "Vessel number 2 stopped sailing\n",
      "Vessel number 1 stopped sailing\n"
     ]
    }
   ],
   "source": [
    "# Start simpy environment\n",
    "simulation_start = datetime.datetime.now()\n",
    "env = simpy.Environment(initial_time = time.mktime(simulation_start.timetuple()))\n",
    "env.epoch = time.mktime(simulation_start.timetuple())\n",
    "\n",
    "# Add graph to environment\n",
    "env.FG = FG\n",
    "\n",
    "# Add environment and path to the vessel\n",
    "for vessel in vessels:\n",
    "    vessel.env = env\n",
    "    vessel.service_time = 18000\n",
    "\n",
    "    # Start the simulation\n",
    "    print(\"instantiate {}\".format(vessel.name))\n",
    "    env.process(start(env, vessel))\n",
    "\n",
    "# instantiate all processes and only execute env.run() once at the end\n",
    "env.run()\n",
    "\n",
    "# print(\"Simulation of path {} took {} seconds\".format(path, int(env.now)))"
   ]
  },
  {
   "cell_type": "markdown",
   "metadata": {},
   "source": [
    "### Testing"
   ]
  }
 ],
 "metadata": {
  "kernelspec": {
   "display_name": "Python 3",
   "language": "python",
   "name": "python3"
  },
  "language_info": {
   "codemirror_mode": {
    "name": "ipython",
    "version": 3
   },
   "file_extension": ".py",
   "mimetype": "text/x-python",
   "name": "python",
   "nbconvert_exporter": "python",
   "pygments_lexer": "ipython3",
   "version": "3.6.3"
  }
 },
 "nbformat": 4,
 "nbformat_minor": 2
}
