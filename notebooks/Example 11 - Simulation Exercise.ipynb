{
 "cells": [
  {
   "cell_type": "markdown",
   "metadata": {},
   "source": [
    "## Example 11 - Simulation Exercise"
   ]
  },
  {
   "cell_type": "markdown",
   "metadata": {},
   "source": [
    "### Imports\n",
    "Import the required libraries"
   ]
  },
  {
   "cell_type": "code",
   "execution_count": 1,
   "metadata": {},
   "outputs": [],
   "source": [
    "# package(s) related to time, space and id\n",
    "import datetime, time\n",
    "import platform\n",
    "\n",
    "# you need these dependencies (you can get these from anaconda)\n",
    "# package(s) related to the simulation\n",
    "import simpy\n",
    "\n",
    "# spatial libraries \n",
    "import pyproj\n",
    "import shapely.geometry\n",
    "from simplekml import Kml, Style\n",
    "\n",
    "# package(s) for data handling\n",
    "import numpy as np\n",
    "import matplotlib.pyplot as plt\n",
    "\n",
    "# tranport network analysis package\n",
    "import transport_network_analysis.core as core\n",
    "\n",
    "# Used for mathematical functions\n",
    "import math             \n",
    "\n",
    "# Used for making the graph to visualize our problem\n",
    "import networkx as nx  "
   ]
  },
  {
   "cell_type": "code",
   "execution_count": 2,
   "metadata": {},
   "outputs": [],
   "source": [
    "class quay:\n",
    "    \"\"\"quay class\n",
    "    \n",
    "    A quay has a limited length\"\"\"\n",
    "    \n",
    "    def __init__(self, quaylength):\n",
    "        \"\"\"initialization\"\"\"\n",
    "\n",
    "#         self.env = env\n",
    "        # quay properties\n",
    "        self.quaylength = quaylength\n",
    "        "
   ]
  },
  {
   "cell_type": "code",
   "execution_count": 3,
   "metadata": {},
   "outputs": [
    {
     "name": "stdout",
     "output_type": "stream",
     "text": [
      "<__main__.quay object at 0x000002450F491588>\n"
     ]
    }
   ],
   "source": [
    "quay1=quay(300)\n",
    "print(quay1)"
   ]
  },
  {
   "cell_type": "markdown",
   "metadata": {},
   "source": [
    "### Create graph"
   ]
  },
  {
   "cell_type": "markdown",
   "metadata": {},
   "source": [
    "The cel below visualizes the problem. In graph theory the red dots are called *edges* and the lines are called *vertices*. Vessels (or any other object) move from edge 1 to edge 3 and from edge 4 to edge 2. The added complexity is that vertice 5-6 only allows traffic in one direction at a time. Vessels can travel simultanously in one direction."
   ]
  },
  {
   "cell_type": "code",
   "execution_count": 4,
   "metadata": {},
   "outputs": [],
   "source": [
    "Node = type('Site', (core.Identifiable, core.Log, core.Locatable, core.HasResource), {})\n",
    "Quay = type('Quay', (core.Identifiable, core.Log, core.Locatable, core.HasResource, quay), {})\n",
    "\n",
    "data_node_01 = {\"env\": [],\n",
    "               \"name\": \"anchorage\",\n",
    "               \"geometry\": shapely.geometry.Point(0, 0)}\n",
    "data_node_02 = {\"env\": [],\n",
    "               \"name\": \"Node 1\",\n",
    "               \"geometry\": shapely.geometry.Point(2, 0)}\n",
    "data_node_03 = {\"env\": [],\n",
    "               \"name\": \"Node 2\",\n",
    "               \"geometry\": shapely.geometry.Point(4, 0)}\n",
    "data_node_04 = {\"env\": [],\n",
    "               \"name\": \"Node 3\",\n",
    "               \"geometry\": shapely.geometry.Point(5, 0)}\n",
    "data_node_05 = {\"env\": [],\n",
    "               \"name\": \"tb5\",\n",
    "               \"geometry\": shapely.geometry.Point(9, 0)}\n",
    "data_node_06 = {\"env\": [],\n",
    "               \"name\": \"b52\",\n",
    "               \"geometry\": shapely.geometry.Point(9, -1)}\n",
    "data_node_07 = {\"env\": [],\n",
    "               \"name\": \"tb7\",\n",
    "               \"geometry\": shapely.geometry.Point(12, 0)}\n",
    "data_node_08 = {\"env\": [],\n",
    "               \"name\": \"b62\",\n",
    "               \"geometry\": shapely.geometry.Point(12, -1)}\n",
    "data_node_09 = {\"env\": [],\n",
    "               \"name\": \"tb9\",\n",
    "               \"geometry\": shapely.geometry.Point(15, 0)}\n",
    "data_node_10 = {\"env\": [],\n",
    "               \"name\": \"b72\",\n",
    "               \"geometry\": shapely.geometry.Point(15, 1),\n",
    "               \"quaylength\": 300}\n",
    "\n",
    "anchor = Node(**data_node_01)\n",
    "node_1 = Node(**data_node_02)\n",
    "node_2 = Node(**data_node_03)\n",
    "node_3 = Node(**data_node_04)\n",
    "tb1    = Node(**data_node_05)\n",
    "berth1 = Node(**data_node_06)\n",
    "tb2    = Node(**data_node_07)\n",
    "berth2 = Node(**data_node_08)\n",
    "tb3    = Node(**data_node_09)\n",
    "berth3 = Quay(**data_node_10)\n",
    "\n",
    "nodes1 = [anchor, node_1, node_2, node_3, tb1, berth1, tb2, berth2, tb3, berth3]"
   ]
  },
  {
   "cell_type": "code",
   "execution_count": 5,
   "metadata": {},
   "outputs": [
    {
     "name": "stdout",
     "output_type": "stream",
     "text": [
      "at quay\n",
      "('tb9', 'b72')\n"
     ]
    },
    {
     "data": {
      "image/png": "[encoded data removed]",
      "text/plain": [
       "<Figure size 432x288 with 1 Axes>"
      ]
     },
     "metadata": {},
     "output_type": "display_data"
    }
   ],
   "source": [
    "FG = nx.DiGraph()\n",
    "\n",
    "positions = {}\n",
    "it=-1\n",
    "for node in nodes1:\n",
    "    it+=1\n",
    "    positions[node.name] = (node.geometry.x, node.geometry.y)\n",
    "    FG.add_node(node.name, geometry = node.geometry)\n",
    "    if isinstance(node, quay):\n",
    "        itnum=it\n",
    "        print(\"at quay\")\n",
    "        obj = 'quay'\n",
    "        \n",
    "\n",
    "path = [[anchor, node_1], # From node 1 to node 2\n",
    "        [node_1, node_2], # From node 2 to node 3\n",
    "        [node_2, node_3], # From node 3 to node 4\n",
    "        [node_3, tb1], # From node 3 to node 2\n",
    "        [tb1, berth1],\n",
    "        [berth1, tb1],\n",
    "        [tb1, tb2],\n",
    "        [tb2, berth2],\n",
    "        [berth2, tb2],\n",
    "        [tb2, tb3],\n",
    "        [tb3, berth3],\n",
    "        [berth3, tb3],\n",
    "        [tb3, tb2],\n",
    "        [tb2, tb1],\n",
    "        [tb1, node_3], # From node 3 to node 4\n",
    "        [node_3, node_2],\n",
    "        [node_2, node_1],\n",
    "        [node_1, anchor]] # From node 4 to node 3 - So one-way traffic is from node 1 to node 4\n",
    "\n",
    "it=-2\n",
    "for edge in path:\n",
    "    it+=1\n",
    "    if it==itnum:\n",
    "        print((edge[0].name, edge[1].name))\n",
    "        FG.add_edge(edge[0].name, edge[1].name, Object = \"quay\", weight = 1)\n",
    "    else:\n",
    "        FG.add_edge(edge[0].name, edge[1].name, weight = 1)\n",
    "\n",
    "nx.draw(FG, positions)\n",
    "plt.show()"
   ]
  },
  {
   "cell_type": "code",
   "execution_count": 6,
   "metadata": {},
   "outputs": [
    {
     "name": "stdout",
     "output_type": "stream",
     "text": [
      "From b52 to b62: 4 steps.\n",
      "From b62 to anchorage: 7 steps.\n"
     ]
    }
   ],
   "source": [
    "# To show that moving from Node 4 to Node 1 is not possible\n",
    "print(\"From b52 to b62:\", nx.shortest_path_length(FG, \"b52\", \"b72\"), \"steps.\")\n",
    "print(\"From b62 to anchorage:\", nx.shortest_path_length(FG, \"b72\", \"anchorage\"), \"steps.\")\n",
    "# print(\"From 4 to 1:\", nx.shortest_path_length(FG, \"Node 4\", \"Node 1\"))"
   ]
  },
  {
   "cell_type": "code",
   "execution_count": 7,
   "metadata": {},
   "outputs": [],
   "source": [
    "class turning_basin:\n",
    "    \"\"\"turning basin class\n",
    "    \n",
    "    A turning basin has a required turning time\"\"\"\n",
    "    \n",
    "    def __init__(self, turntime):\n",
    "        \"\"\"initialization\"\"\"\n",
    "\n",
    "#         self.env = env\n",
    "        # tb properties\n",
    "        self.turntime = turntime"
   ]
  },
  {
   "cell_type": "markdown",
   "metadata": {},
   "source": [
    "### Create vessels\n",
    "Vessel without graph, but with shortest path."
   ]
  },
  {
   "cell_type": "code",
   "execution_count": 8,
   "metadata": {},
   "outputs": [],
   "source": [
    "# Make a class out of mix-ins\n",
    "TransportResource = type('TransportResource', \n",
    "                         (core.Identifiable, core.Log, core.ContainerDependentMovable, \n",
    "                          core.HasResource, core.Routeable, core.Berthable), {})\n",
    "\n",
    "\n",
    "\n",
    "# For testing purposes we only want v to be 1\n",
    "def compute_v_provider(v_empty, v_full):\n",
    "    return lambda x: 1\n",
    "\n",
    "data_vessel = {\"env\": None,\n",
    "               \"name\": \"Vessel number 1\",\n",
    "               \"route\": None,\n",
    "               \"geometry\": shapely.geometry.Point(0, 0),  # lon, lat\n",
    "               \"capacity\": 1_000,\n",
    "               \"quaylength\": quay1.quaylength,\n",
    "               \"length\": 100,\n",
    "               \"compute_v\": compute_v_provider(v_empty=1, v_full=1)}\n",
    "\n",
    "# create the transport processing resource\n",
    "vessel = TransportResource(**data_vessel)\n",
    "vessel2=vessel\n",
    "vessel2.length=80"
   ]
  },
  {
   "cell_type": "markdown",
   "metadata": {},
   "source": [
    "### Define paths"
   ]
  },
  {
   "cell_type": "code",
   "execution_count": 9,
   "metadata": {},
   "outputs": [],
   "source": [
    "# First simulation is from Node 1 to Node 4\n",
    "path_1 = nx.dijkstra_path(FG, \"anchorage\", \"b72\")\n",
    "\n",
    "# Second simulation is from Node 4 to Node 1\n",
    "path_2 = nx.dijkstra_path(FG, \"b72\", \"anchorage\")\n",
    "\n",
    "paths = [path_1, path_2]\n",
    "# paths = np.r_[path_1, path_2]"
   ]
  },
  {
   "cell_type": "markdown",
   "metadata": {},
   "source": [
    "### Run simulation"
   ]
  },
  {
   "cell_type": "code",
   "execution_count": 10,
   "metadata": {},
   "outputs": [],
   "source": [
    "def start(env, vessel):\n",
    "    while True:\n",
    "        vessel.log_entry(\"Start sailing\", env.now, \"\", vessel.geometry)\n",
    "        yield from vessel.move()\n",
    "        vessel.log_entry(\"Stop sailing\", env.now, \"\", vessel.geometry)\n",
    "        \n",
    "        if vessel.geometry == nx.get_node_attributes(FG, \"geometry\")[vessel.route[-1]]:\n",
    "            break"
   ]
  },
  {
   "cell_type": "code",
   "execution_count": 11,
   "metadata": {},
   "outputs": [
    {
     "name": "stdout",
     "output_type": "stream",
     "text": [
      "Vessel number 1 at quay, service time is 18000 sec\n",
      "Remaining available quay length is 220.0 m.\n",
      "Simulation of path 1 took 1553672493 seconds\n",
      "Simulation of path 2 took 1553765067 seconds\n"
     ]
    }
   ],
   "source": [
    "for path in enumerate(paths):\n",
    "    # Start simpy environment\n",
    "    simulation_start = datetime.datetime.now()\n",
    "    env = simpy.Environment(initial_time = time.mktime(simulation_start.timetuple()))\n",
    "    env.epoch = time.mktime(simulation_start.timetuple())\n",
    "    \n",
    "    # Add graph to environment\n",
    "    env.FG = FG\n",
    "    \n",
    "    # Add environment and path to the vessel\n",
    "    vessel.env = env\n",
    "    vessel.route = path[1]\n",
    "    vessel.service_time = 18000\n",
    "#     vessel.quay = core.quay(300)\n",
    "\n",
    "    # Start the simulation\n",
    "    env.process(start(env, vessel))\n",
    "    env.run()\n",
    "    print(\"Simulation of path {} took {} seconds\".format(path[0] + 1, int(env.now)))"
   ]
  },
  {
   "cell_type": "markdown",
   "metadata": {},
   "source": [
    "### Testing"
   ]
  },
  {
   "cell_type": "code",
   "execution_count": 12,
   "metadata": {},
   "outputs": [
    {
     "name": "stdout",
     "output_type": "stream",
     "text": [
      "0.0 0.0\n",
      "0.0 0.0\n",
      "2.0 0.0\n",
      "2.0 0.0\n",
      "4.0 0.0\n",
      "4.0 0.0\n",
      "5.0 0.0\n",
      "5.0 0.0\n",
      "9.0 0.0\n",
      "9.0 0.0\n",
      "12.0 0.0\n",
      "12.0 0.0\n",
      "15.0 0.0\n",
      "15.0 1.0\n",
      "15.0 1.0\n",
      "15.0 1.0\n",
      "15.0 0.0\n",
      "15.0 0.0\n",
      "12.0 0.0\n",
      "12.0 0.0\n",
      "9.0 0.0\n",
      "9.0 0.0\n",
      "5.0 0.0\n",
      "5.0 0.0\n",
      "4.0 0.0\n",
      "4.0 0.0\n",
      "2.0 0.0\n",
      "2.0 0.0\n",
      "0.0 0.0\n",
      "0.0 0.0\n"
     ]
    }
   ],
   "source": [
    "for geo in vessel.log[\"Geometry\"]:\n",
    "    print(geo.x, geo.y)"
   ]
  },
  {
   "cell_type": "code",
   "execution_count": 13,
   "metadata": {},
   "outputs": [
    {
     "data": {
      "text/plain": [
       "[datetime.datetime(2019, 3, 7, 19, 51, 41),\n",
       " datetime.datetime(2019, 3, 7, 19, 51, 41),\n",
       " datetime.datetime(2019, 3, 10, 9, 42, 19, 981586),\n",
       " datetime.datetime(2019, 3, 10, 9, 42, 19, 981586),\n",
       " datetime.datetime(2019, 3, 12, 23, 32, 58, 963173),\n",
       " datetime.datetime(2019, 3, 12, 23, 32, 58, 963173),\n",
       " datetime.datetime(2019, 3, 14, 6, 28, 18, 453966),\n",
       " datetime.datetime(2019, 3, 14, 6, 28, 18, 453966),\n",
       " datetime.datetime(2019, 3, 19, 10, 9, 36, 417139),\n",
       " datetime.datetime(2019, 3, 19, 10, 9, 36, 417139),\n",
       " datetime.datetime(2019, 3, 23, 6, 55, 34, 889519),\n",
       " datetime.datetime(2019, 3, 23, 6, 55, 34, 889519),\n",
       " datetime.datetime(2019, 3, 27, 3, 41, 33, 361899),\n",
       " datetime.datetime(2019, 3, 27, 8, 41, 33, 361899),\n",
       " datetime.datetime(2019, 3, 7, 19, 51, 41),\n",
       " datetime.datetime(2019, 3, 7, 19, 51, 41),\n",
       " datetime.datetime(2019, 3, 9, 2, 34, 35, 388558),\n",
       " datetime.datetime(2019, 3, 9, 2, 34, 35, 388558),\n",
       " datetime.datetime(2019, 3, 12, 23, 20, 33, 860938),\n",
       " datetime.datetime(2019, 3, 12, 23, 20, 33, 860938),\n",
       " datetime.datetime(2019, 3, 16, 20, 6, 32, 333318),\n",
       " datetime.datetime(2019, 3, 16, 20, 6, 32, 333318),\n",
       " datetime.datetime(2019, 3, 21, 23, 47, 50, 296491),\n",
       " datetime.datetime(2019, 3, 21, 23, 47, 50, 296491),\n",
       " datetime.datetime(2019, 3, 23, 6, 43, 9, 787284),\n",
       " datetime.datetime(2019, 3, 23, 6, 43, 9, 787284),\n",
       " datetime.datetime(2019, 3, 25, 20, 33, 48, 768871),\n",
       " datetime.datetime(2019, 3, 25, 20, 33, 48, 768871),\n",
       " datetime.datetime(2019, 3, 28, 10, 24, 27, 750457),\n",
       " datetime.datetime(2019, 3, 28, 10, 24, 27, 750457)]"
      ]
     },
     "execution_count": 13,
     "metadata": {},
     "output_type": "execute_result"
    }
   ],
   "source": [
    "vessel.log[\"Timestamp\"]"
   ]
  },
  {
   "cell_type": "code",
   "execution_count": 14,
   "metadata": {},
   "outputs": [],
   "source": [
    "wgs84 = pyproj.Geod(ellps='WGS84')\n",
    "distance_path_1 = 0\n",
    "distance_path_2 = 0\n",
    "\n",
    "for node in enumerate(path_1):\n",
    "    orig = nx.get_node_attributes(FG, \"geometry\")[path_1[node[0]]]\n",
    "    dest = nx.get_node_attributes(FG, \"geometry\")[path_1[node[0] + 1]]\n",
    "\n",
    "    distance_path_1 += int(wgs84.inv(shapely.geometry.asShape(orig).x, shapely.geometry.asShape(orig).y, \n",
    "                                     shapely.geometry.asShape(dest).x, shapely.geometry.asShape(dest).y)[2])\n",
    "    \n",
    "    if node[0] + 2 == len(path_1):\n",
    "                break\n",
    "\n",
    "for node in enumerate(path_2):\n",
    "    orig = nx.get_node_attributes(FG, \"geometry\")[path_2[node[0]]]\n",
    "    dest = nx.get_node_attributes(FG, \"geometry\")[path_2[node[0] + 1]]\n",
    "\n",
    "    distance_path_2 += int(wgs84.inv(shapely.geometry.asShape(orig).x, shapely.geometry.asShape(orig).y, \n",
    "                                     shapely.geometry.asShape(dest).x, shapely.geometry.asShape(dest).y)[2])\n",
    "    \n",
    "    if node[0] + 2 == len(path_2):\n",
    "                break"
   ]
  },
  {
   "cell_type": "code",
   "execution_count": 15,
   "metadata": {},
   "outputs": [
    {
     "data": {
      "text/plain": [
       "[<__main__.Site at 0x2450f4c36d8>, <__main__.Site at 0x2450f4c36a0>]"
      ]
     },
     "execution_count": 15,
     "metadata": {},
     "output_type": "execute_result"
    }
   ],
   "source": [
    "edge"
   ]
  }
 ],
 "metadata": {
  "kernelspec": {
   "display_name": "Python 3",
   "language": "python",
   "name": "python3"
  },
  "language_info": {
   "codemirror_mode": {
    "name": "ipython",
    "version": 3
   },
   "file_extension": ".py",
   "mimetype": "text/x-python",
   "name": "python",
   "nbconvert_exporter": "python",
   "pygments_lexer": "ipython3",
   "version": "3.7.1"
  }
 },
 "nbformat": 4,
 "nbformat_minor": 2
}
