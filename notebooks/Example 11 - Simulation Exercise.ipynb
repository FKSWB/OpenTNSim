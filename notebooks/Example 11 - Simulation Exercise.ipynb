{
 "cells": [
  {
   "cell_type": "markdown",
   "metadata": {},
   "source": [
    "## Example 11 - Simulation Exercise"
   ]
  },
  {
   "cell_type": "markdown",
   "metadata": {},
   "source": [
    "* [**0. Import required libraries:**](#0.-Import-required-libraries)<br>\n",
    "* [**1. Create network elements:**](#1.-Create-network-elements)<br>\n",
    "* [**2. Create graph from network elements:**](#2.-Create-graph-from-network-elements)<br>\n",
    "* [**3. Create vessel objects:**](#3.-Create-vessel-objects)<br>\n",
    "* [**4. Run the simulation:**](#4.-Run-the-simulation)<br>\n",
    "* [**5. Post processing:**](#5.-Post-processing)<br>"
   ]
  },
  {
   "cell_type": "markdown",
   "metadata": {},
   "source": [
    "## 0. Import the required libraries"
   ]
  },
  {
   "cell_type": "code",
   "execution_count": 1,
   "metadata": {},
   "outputs": [],
   "source": [
    "# package(s) related to time, space and id\n",
    "import datetime, time\n",
    "import platform\n",
    "\n",
    "# you need these dependencies (you can get these from anaconda)\n",
    "# package(s) related to the simulation\n",
    "import simpy\n",
    "\n",
    "# spatial libraries \n",
    "import pyproj\n",
    "import shapely.geometry\n",
    "from simplekml import Kml, Style\n",
    "\n",
    "# package(s) for data handling\n",
    "import numpy as np\n",
    "import matplotlib.pyplot as plt\n",
    "\n",
    "# tranport network analysis package\n",
    "import transport_network_analysis.core as core\n",
    "\n",
    "# Used for mathematical functions\n",
    "import math             \n",
    "\n",
    "# Used for making the graph to visualize our problem\n",
    "import networkx as nx  "
   ]
  },
  {
   "cell_type": "markdown",
   "metadata": {},
   "source": [
    "## 1. Create network elements\n",
    "You can specify network element objects by entering mix-ins:\n",
    "\n",
    "    core.Berthable - enables handling of servicing process at a specific berth (lengthvessel, servicetime, quayobject)\n",
    "    core.Identifiable - enables you to give the object a name\n",
    "    core.Log - enables you to log all discrete events in which the object is involved\n",
    "    core.Locatable - enables you to add coordinates to extract distance information and visualize\n",
    "    core.HasContainer - enables you to add information on the material available at the site\n",
    "    core.HasResource - enables you to add information on serving equipment\n",
    "    core.HasWeather - enables you to add weather conditions\n",
    "    core.HasLength - enables waiting to be triggered when insufficient length is available (quaylength)\n",
    "    core.HasTurningCircle - to define an object that has a turning circle, i.e. a turning basin (turntime)\n",
    "    core.RequiresTurning - if turning is required in this node a timeout is given, at specific location (maketurnat)"
   ]
  },
  {
   "cell_type": "markdown",
   "metadata": {},
   "source": [
    "#### First create objects with the desired properties"
   ]
  },
  {
   "cell_type": "code",
   "execution_count": 2,
   "metadata": {},
   "outputs": [],
   "source": [
    "Node = type('Node', (core.Identifiable, core.Log, core.Locatable, core.HasResource), {})\n",
    "Quay = type('Quay', (core.Identifiable, core.Log, core.Locatable, core.HasResource, core.HasLength), {})\n",
    "Turn = type('Turn', (core.Identifiable, core.Log, core.Locatable, core.HasResource, core.HasTurningCircle), {})"
   ]
  },
  {
   "cell_type": "markdown",
   "metadata": {},
   "source": [
    "#### Next specify the properties for objects you wish to create"
   ]
  },
  {
   "cell_type": "code",
   "execution_count": 3,
   "metadata": {},
   "outputs": [],
   "source": [
    "# anchorage\n",
    "data_node_01 = {\"env\": [],\n",
    "               \"name\": \"anchorage\",\n",
    "               \"geometry\": shapely.geometry.Point(0, 0)}\n",
    "\n",
    "# nodes\n",
    "data_node_02 = {\"env\": [],\n",
    "               \"name\": \"Node 1\",\n",
    "               \"geometry\": shapely.geometry.Point(2, 0)}\n",
    "data_node_03 = {\"env\": [],\n",
    "               \"name\": \"Node 2\",\n",
    "               \"geometry\": shapely.geometry.Point(4, 0)}\n",
    "data_node_04 = {\"env\": [],\n",
    "               \"name\": \"Node 3\",\n",
    "               \"geometry\": shapely.geometry.Point(5, 0)}\n",
    "\n",
    "# turning basins\n",
    "# todo: implement the turning timeout\n",
    "data_node_05 = {\"env\": [],\n",
    "               \"name\": \"tb5\",\n",
    "               \"turntime\": 300,\n",
    "               \"geometry\": shapely.geometry.Point(9, 0)}\n",
    "data_node_07 = {\"env\": [],\n",
    "               \"name\": \"tb7\",\n",
    "               \"turntime\": 300,\n",
    "               \"geometry\": shapely.geometry.Point(12, 0)}\n",
    "data_node_09 = {\"env\": [],\n",
    "               \"name\": \"tb9\",\n",
    "               \"turntime\": 300,\n",
    "               \"geometry\": shapely.geometry.Point(15, 0)}\n",
    "\n",
    "# berths\n",
    "data_berth_52 = {\"env\": [],\n",
    "               \"name\": \"b52\",\n",
    "               \"geometry\": shapely.geometry.Point(9, -1),\n",
    "               \"quaylength\": 300}\n",
    "data_berth_62 = {\"env\": [],\n",
    "               \"name\": \"b62\",\n",
    "               \"geometry\": shapely.geometry.Point(12, -1),\n",
    "               \"quaylength\": 300}\n",
    "data_berth_72 = {\"env\": [],\n",
    "               \"name\": \"b72\",\n",
    "               \"geometry\": shapely.geometry.Point(15, 1),\n",
    "               \"quaylength\": 300}"
   ]
  },
  {
   "cell_type": "markdown",
   "metadata": {},
   "source": [
    "#### Finally create specific instances of the predefined objects with the specified properties"
   ]
  },
  {
   "cell_type": "code",
   "execution_count": 4,
   "metadata": {},
   "outputs": [],
   "source": [
    "# anchorage\n",
    "anchor = Node(**data_node_01)\n",
    "\n",
    "# nodes\n",
    "node_1 = Node(**data_node_02)\n",
    "node_2 = Node(**data_node_03)\n",
    "node_3 = Node(**data_node_04)\n",
    "\n",
    "# turning basins\n",
    "tb1    = Turn(**data_node_05)\n",
    "tb2    = Turn(**data_node_07)\n",
    "tb3    = Turn(**data_node_09)\n",
    "\n",
    "# berths\n",
    "berth1 = Quay(**data_berth_52)\n",
    "berth2 = Quay(**data_berth_62)\n",
    "berth3 = Quay(**data_berth_72)"
   ]
  },
  {
   "cell_type": "code",
   "execution_count": 5,
   "metadata": {},
   "outputs": [
    {
     "data": {
      "text/plain": [
       "__main__.Quay"
      ]
     },
     "execution_count": 5,
     "metadata": {},
     "output_type": "execute_result"
    }
   ],
   "source": [
    "type(berth1)"
   ]
  },
  {
   "cell_type": "markdown",
   "metadata": {},
   "source": [
    "## 2. Create graph from network elements"
   ]
  },
  {
   "cell_type": "markdown",
   "metadata": {},
   "source": [
    "#### Define nodes and edges from network element objects"
   ]
  },
  {
   "cell_type": "code",
   "execution_count": 6,
   "metadata": {},
   "outputs": [],
   "source": [
    "nodes = [anchor, node_1, node_2, node_3, tb1, berth1, tb2, berth2, tb3, berth3]\n",
    "\n",
    "edges = [[anchor, node_1], \n",
    "        [node_1, node_2], \n",
    "        [node_2, node_3], \n",
    "        [node_3, tb1], \n",
    "        [tb1, berth1],\n",
    "        [berth1, tb1],\n",
    "        [tb1, tb2],\n",
    "        [tb2, berth2],\n",
    "        [berth2, tb2],\n",
    "        [tb2, tb3],\n",
    "        [tb3, berth3],\n",
    "        [berth3, tb3],\n",
    "        [tb3, tb2],\n",
    "        [tb2, tb1],\n",
    "        [tb1, node_3], \n",
    "        [node_3, node_2],\n",
    "        [node_2, node_1],\n",
    "        [node_1, anchor]] "
   ]
  },
  {
   "cell_type": "markdown",
   "metadata": {},
   "source": [
    "#### Use nodes and edges to construct a graph"
   ]
  },
  {
   "cell_type": "code",
   "execution_count": 7,
   "metadata": {},
   "outputs": [
    {
     "name": "stdout",
     "output_type": "stream",
     "text": [
      "quay\n",
      "[<__main__.Quay object at 0x000002A973E92828>, <__main__.Turn object at 0x000002A973E92940>]\n",
      "quay\n",
      "[<__main__.Quay object at 0x000002A973E92780>, <__main__.Turn object at 0x000002A973E92B70>]\n",
      "quay\n",
      "[<__main__.Quay object at 0x000002A973E92F98>, <__main__.Turn object at 0x000002A973E92A58>]\n"
     ]
    }
   ],
   "source": [
    "FG = nx.DiGraph()\n",
    "\n",
    "labels = {}\n",
    "for node in nodes:\n",
    "    labels[node.name] = (node.geometry.x, node.geometry.y)\n",
    "    if isinstance(node, Turn):\n",
    "        FG.add_node(node.name, geometry = node.geometry, Object = node)\n",
    "    elif isinstance(node, Quay):\n",
    "        FG.add_node(node.name, geometry = node.geometry, Object = node)\n",
    "    else:\n",
    "        FG.add_node(node.name, geometry = node.geometry)\n",
    "\n",
    "for edge in edges:\n",
    "    if isinstance(edge[0], Quay):\n",
    "        print(\"quay\")\n",
    "        FG.add_edge(edge[0].name, edge[1].name, Object = edge[0], weight = 1)\n",
    "        print(edge)\n",
    "    elif isinstance(edge[0], Turn):\n",
    "        FG.add_edge(edge[0].name, edge[1].name, Object = \"Turning Basin\", weight = 1)\n",
    "    else:\n",
    "        FG.add_edge(edge[0].name, edge[1].name, weight = 1)"
   ]
  },
  {
   "cell_type": "markdown",
   "metadata": {},
   "source": [
    "#### Draw graph"
   ]
  },
  {
   "cell_type": "code",
   "execution_count": 8,
   "metadata": {},
   "outputs": [
    {
     "data": {
      "image/png": "[encoded data removed]",
      "text/plain": [
       "<Figure size 432x288 with 1 Axes>"
      ]
     },
     "metadata": {},
     "output_type": "display_data"
    }
   ],
   "source": [
    "nx.draw(FG, labels, with_labels=True, font_weight='bold')"
   ]
  },
  {
   "cell_type": "code",
   "execution_count": 9,
   "metadata": {},
   "outputs": [
    {
     "name": "stdout",
     "output_type": "stream",
     "text": [
      "From b52 to b62: 4 steps.\n",
      "From b62 to anchorage: 7 steps.\n"
     ]
    }
   ],
   "source": [
    "# To show that moving from Node 4 to Node 1 is not possible\n",
    "print(\"From b52 to b62:\", nx.shortest_path_length(FG, \"b52\", \"b72\"), \"steps.\")\n",
    "print(\"From b62 to anchorage:\", nx.shortest_path_length(FG, \"b72\", \"anchorage\"), \"steps.\")\n",
    "# print(\"From 4 to 1:\", nx.shortest_path_length(FG, \"Node 4\", \"Node 1\"))"
   ]
  },
  {
   "cell_type": "markdown",
   "metadata": {},
   "source": [
    "## 3. Create vessel objects"
   ]
  },
  {
   "cell_type": "markdown",
   "metadata": {},
   "source": [
    "#### First create objects with the desired properties"
   ]
  },
  {
   "cell_type": "code",
   "execution_count": 10,
   "metadata": {},
   "outputs": [],
   "source": [
    "# Make a class out of mix-ins\n",
    "TransportResource = type('TransportResource', \n",
    "                         (core.Identifiable, core.Log, core.ContainerDependentMovable, \n",
    "                          core.HasResource, core.Routeable, core.Berthable, core.RequiresTurning), {})\n"
   ]
  },
  {
   "cell_type": "markdown",
   "metadata": {},
   "source": [
    "#### Next specify the properties for objects you wish to create"
   ]
  },
  {
   "cell_type": "code",
   "execution_count": 11,
   "metadata": {},
   "outputs": [],
   "source": [
    "# Each vessel needs a path in and out of the system\n",
    "# todo: this may just be captured in a function with an entry point and a destination\n",
    "\n",
    "# Vessel_1 moves first from \"anchorage\" to \"b72\" and then back to \"anchorage\"\n",
    "path_1 = nx.dijkstra_path(FG, \"anchorage\", \"b72\")\n",
    "path_2 = nx.dijkstra_path(FG, \"b72\", \"anchorage\")\n",
    "path_vessel_1 = np.concatenate((path_1, path_2[1:]), axis = None)\n",
    "\n",
    "# Vessel_2 moves first from \"anchorage\" to \"b52\" and then back to \"anchorage\"\n",
    "path_1 = nx.dijkstra_path(FG, \"anchorage\", \"b52\")\n",
    "path_2 = nx.dijkstra_path(FG, \"b52\", \"anchorage\")\n",
    "path_vessel_2 = np.concatenate((path_1, path_2[1:]), axis = None)\n",
    "\n",
    "path_1 = nx.dijkstra_path(FG, \"anchorage\", \"b52\")\n",
    "path_2 = nx.dijkstra_path(FG, \"b52\", \"b62\")\n",
    "path_3 = nx.dijkstra_path(FG, \"b62\", \"anchorage\")\n",
    "path_vessel_3 = np.concatenate((path_1, path_2[1:], path_3[1:]), axis = None)"
   ]
  },
  {
   "cell_type": "code",
   "execution_count": 12,
   "metadata": {},
   "outputs": [],
   "source": [
    "# Define lambda functions where needed\n",
    "\n",
    "# For testing purposes we only want the vessels to sail with v = 1 m/s (distance in m = time travelled)\n",
    "def compute_v_provider(v_empty, v_full):\n",
    "    return lambda x: 1"
   ]
  },
  {
   "cell_type": "code",
   "execution_count": 13,
   "metadata": {},
   "outputs": [],
   "source": [
    "# todo: I think length quay should not be a vessel property. It should be read from the quay object when needed\n",
    "data_vessel_1 = {\"env\": None,\n",
    "               \"name\": \"Vessel number 1\",\n",
    "               \"route\": path_vessel_1,\n",
    "               \"geometry\": shapely.geometry.Point(0, 0),  # lon, lat\n",
    "               \"capacity\": 1_000,\n",
    "               \"servicetime\": 18000,\n",
    "               \"quayobject\": berth3,\n",
    "               \"lengthvessel\": 100,\n",
    "               \"maketurnat\": tb3,\n",
    "               \"compute_v\": compute_v_provider(v_empty=1, v_full=1)}\n",
    "\n",
    "data_vessel_2 = {\"env\": None,\n",
    "               \"name\": \"Vessel number 2\",\n",
    "               \"route\": path_vessel_2,\n",
    "               \"geometry\": shapely.geometry.Point(0, 0),  # lon, lat\n",
    "               \"capacity\": 1_000,\n",
    "               \"servicetime\": 360000,\n",
    "               \"quayobject\": berth1,\n",
    "               \"lengthvessel\": 180,\n",
    "               \"maketurnat\": tb1,\n",
    "               \"compute_v\": compute_v_provider(v_empty=1, v_full=1)}\n",
    "\n",
    "data_vessel_3 = {\"env\": None,\n",
    "               \"name\": \"Vessel number 3\",\n",
    "               \"route\": path_vessel_3,\n",
    "               \"geometry\": shapely.geometry.Point(0, 0),  # lon, lat\n",
    "               \"capacity\": 1_000,\n",
    "               \"servicetime\": 18000,\n",
    "               \"quayobject\": berth1,\n",
    "               \"lengthvessel\": 80,\n",
    "               \"maketurnat\": tb1,\n",
    "               \"compute_v\": compute_v_provider(v_empty=1, v_full=1)}"
   ]
  },
  {
   "cell_type": "code",
   "execution_count": 14,
   "metadata": {},
   "outputs": [],
   "source": [
    "vessels = []\n",
    "# create the transport resource\n",
    "# vessels.append(TransportResource(**data_vessel_1))\n",
    "vessels.append(TransportResource(**data_vessel_2))\n",
    "vessels.append(TransportResource(**data_vessel_3))"
   ]
  },
  {
   "cell_type": "markdown",
   "metadata": {},
   "source": [
    "## 4. Run the simulation"
   ]
  },
  {
   "cell_type": "code",
   "execution_count": 15,
   "metadata": {},
   "outputs": [],
   "source": [
    "# process that each vessel fill follow\n",
    "def start(env, vessel):\n",
    "    while True:\n",
    "        vessel.log_entry(\"Start sailing\", env.now, \"\", vessel.geometry)\n",
    "        print(\"{} started sailing\".format(vessel.name))\n",
    " \n",
    "        yield from vessel.move()\n",
    "    \n",
    "        vessel.log_entry(\"Stop sailing\", env.now, \"\", vessel.geometry)\n",
    "        print(\"{} stopped sailing\".format(vessel.name))\n",
    "        \n",
    "        if vessel.geometry == nx.get_node_attributes(FG, \"geometry\")[vessel.route[-1]]:\n",
    "            break"
   ]
  },
  {
   "cell_type": "code",
   "execution_count": 16,
   "metadata": {},
   "outputs": [
    {
     "name": "stdout",
     "output_type": "stream",
     "text": [
      "Vessel number 2 started sailing\n",
      "Vessel number 3 started sailing\n",
      "Vessel number 2 makes turn in Turning Basin tb5  to approach quay b52\n",
      "Vessel number 3 makes turn in Turning Basin tb5  to approach quay b52\n",
      "t =  1553690634.8056972 Vessel number 2 arrived at quay b52 (service time is 360000 s), remaining quay length: 120 m\n",
      "t =  1553690634.8056972 Vessel number 3 arrived at quay b52 (service time is 18000 s), remaining quay length: 40 m\n",
      "t =  1553708634.8056972  Servicing done, quay space released (available quay length: 120 m)\n",
      "Vessel number 3 left quay b52  and makes turn in Turning Basin tb5\n",
      "t =  1554050634.8056972  Servicing done, quay space released (available quay length: 300 m)\n",
      "Vessel number 2 left quay b52  and makes turn in Turning Basin tb5\n",
      "t =  1554264042.055193 Vessel number 3 arrived at quay b62 (service time is 18000 s), remaining quay length: 220 m\n",
      "t =  1554282042.055193  Servicing done, quay space released (available quay length: 300 m)\n",
      "Vessel number 3 left quay b62  and makes turn in Turning Basin tb7\n",
      "Vessel number 2 stopped sailing\n",
      "Vessel number 3 stopped sailing\n"
     ]
    }
   ],
   "source": [
    "# Start simpy environment\n",
    "simulation_start = datetime.datetime.now()\n",
    "env = simpy.Environment(initial_time = time.mktime(simulation_start.timetuple()))\n",
    "env.epoch = time.mktime(simulation_start.timetuple())\n",
    "\n",
    "# Add graph to environment\n",
    "env.FG = FG\n",
    "\n",
    "# Add environment and path to the vessel\n",
    "for vessel in vessels:\n",
    "    vessel.env = env\n",
    "\n",
    "    # Start the simulation\n",
    "    env.process(start(env, vessel))\n",
    "\n",
    "# instantiate all processes and only execute env.run() once at the end\n",
    "env.run()"
   ]
  },
  {
   "cell_type": "code",
   "execution_count": 17,
   "metadata": {},
   "outputs": [],
   "source": [
    "# todo: Add \"call on service\" -> check if enough space available at quay before sailing there"
   ]
  },
  {
   "cell_type": "code",
   "execution_count": 18,
   "metadata": {},
   "outputs": [],
   "source": [
    "# todo: Add turning basin - with certain turntime - to the process"
   ]
  },
  {
   "cell_type": "markdown",
   "metadata": {},
   "source": [
    "## 5. Post processing\n",
    "Here postprocessing functions and graphs should be placed"
   ]
  },
  {
   "cell_type": "code",
   "execution_count": 19,
   "metadata": {},
   "outputs": [
    {
     "data": {
      "text/plain": [
       "array(['anchorage', 'Node 1', 'Node 2', 'Node 3', 'tb5', 'b52', 'tb5',\n",
       "       'Node 3', 'Node 2', 'Node 1', 'anchorage'], dtype='<U9')"
      ]
     },
     "execution_count": 19,
     "metadata": {},
     "output_type": "execute_result"
    }
   ],
   "source": [
    "vessels[0].route"
   ]
  },
  {
   "cell_type": "code",
   "execution_count": 20,
   "metadata": {},
   "outputs": [
    {
     "data": {
      "text/plain": [
       "array(['anchorage', 'Node 1', 'Node 2', 'Node 3', 'tb5', 'b52', 'tb5',\n",
       "       'tb7', 'b62', 'tb7', 'tb5', 'Node 3', 'Node 2', 'Node 1',\n",
       "       'anchorage'], dtype='<U9')"
      ]
     },
     "execution_count": 20,
     "metadata": {},
     "output_type": "execute_result"
    }
   ],
   "source": [
    "vessels[1].route"
   ]
  },
  {
   "cell_type": "code",
   "execution_count": 21,
   "metadata": {},
   "outputs": [
    {
     "data": {
      "text/plain": [
       "'Vessel number 3'"
      ]
     },
     "execution_count": 21,
     "metadata": {},
     "output_type": "execute_result"
    }
   ],
   "source": [
    "vessels[1].name"
   ]
  },
  {
   "cell_type": "code",
   "execution_count": 22,
   "metadata": {},
   "outputs": [
    {
     "name": "stdout",
     "output_type": "stream",
     "text": [
      "{'geometry': <shapely.geometry.point.Point object at 0x000002A976BEE240>, 'Object': <__main__.Quay object at 0x000002A973E92F98>}\n"
     ]
    }
   ],
   "source": [
    "print(FG.nodes[\"b72\"])"
   ]
  },
  {
   "cell_type": "code",
   "execution_count": null,
   "metadata": {},
   "outputs": [],
   "source": []
  }
 ],
 "metadata": {
  "kernelspec": {
   "display_name": "Python 3",
   "language": "python",
   "name": "python3"
  },
  "language_info": {
   "codemirror_mode": {
    "name": "ipython",
    "version": 3
   },
   "file_extension": ".py",
   "mimetype": "text/x-python",
   "name": "python",
   "nbconvert_exporter": "python",
   "pygments_lexer": "ipython3",
   "version": "3.7.1"
  }
 },
 "nbformat": 4,
 "nbformat_minor": 2
}
