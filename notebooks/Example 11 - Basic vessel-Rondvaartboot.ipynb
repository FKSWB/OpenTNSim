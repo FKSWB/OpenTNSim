{
 "cells": [
  {
   "cell_type": "markdown",
   "metadata": {},
   "source": [
    "## Example 11 - Making a basic vessel class"
   ]
  },
  {
   "cell_type": "code",
   "execution_count": 9,
   "metadata": {},
   "outputs": [],
   "source": [
    "# package(s) related to time, space and id\n",
    "import datetime\n",
    "import platform\n",
    "\n",
    "# you need these dependencies (you can get these from anaconda)\n",
    "# package(s) related to the simulation\n",
    "import simpy\n",
    "\n",
    "# spatial libraries \n",
    "import shapely.geometry\n",
    "from simplekml import Kml, Style\n",
    "\n",
    "# package(s) for data handling\n",
    "import numpy as np\n",
    "\n",
    "# Used for making the graph to visualize our problem\n",
    "import networkx as nx  \n",
    "\n",
    "# tranport network analysis package\n",
    "import transport_network_analysis.core as core\n",
    "# import digital_twin.model as model"
   ]
  },
  {
   "cell_type": "markdown",
   "metadata": {},
   "source": [
    "## Create vessel\n",
    "The Transport Network Analysis core defines several classes which can be combined in mixin classes you can define yourself. For example, in this simulation we define a Vessel as a TransportResource (so it mainly should be able to move and carry some payload):\n",
    "* Identifiable: an object that can be identified with a name \n",
    "* Log: an object which will contain a log of events that took place concerning this object after the simulation is complete \n",
    "* ContainerDependentMovable: this is in fact a combination (extension) of two other core classes:\n",
    "    * HasContainer: an object which contains a storage for materials\n",
    "    * Movable: an object which can move from one geographical location to another (extends Locatable, clearly a moving object must keep track of its current location)\n",
    "* HasResource: an object only a limited number of activities can interact with at the same time"
   ]
  },
  {
   "cell_type": "code",
   "execution_count": 10,
   "metadata": {},
   "outputs": [],
   "source": [
    "TransportResource = type('TransportResource', \n",
    "                         (core.Identifiable, core.Log, core.ContainerDependentMovable, core.Routeable,\n",
    "                          core.HasResource), {})"
   ]
  },
  {
   "cell_type": "code",
   "execution_count": 11,
   "metadata": {},
   "outputs": [],
   "source": [
    "def compute_v_provider(v_empty, v_full):\n",
    "    return lambda x: x * (v_full - v_empty) + v_empty\n",
    "\n",
    "data_vessel = {\"env\": [],\n",
    "               \"name\": \"Transport barge 01\",\n",
    "               \"geometry\": shapely.geometry.Point(5.019298185633251, 52.94239823421129),  # lon, lat\n",
    "               \"route\": [],\n",
    "               \"capacity\": 1_000,\n",
    "               \"compute_v\": compute_v_provider(v_empty=1.6, v_full=1)}\n",
    "\n",
    "# create the transport processing resource\n",
    "vessel = TransportResource(**data_vessel)"
   ]
  },
  {
   "cell_type": "code",
   "execution_count": null,
   "metadata": {},
   "outputs": [],
   "source": [
    "def start(env, vessel):\n",
    "    for vertice in vessel.path:\n",
    "        yield from vessel.move(vertice)\n",
    "        \n",
    "        if vessel.location == vessel.destination:\n",
    "            break"
   ]
  },
  {
   "cell_type": "markdown",
   "metadata": {},
   "source": [
    "## Create graph"
   ]
  },
  {
   "cell_type": "code",
   "execution_count": 19,
   "metadata": {},
   "outputs": [],
   "source": [
    "# initialise graph object\n",
    "G = nx.Graph()"
   ]
  },
  {
   "cell_type": "code",
   "execution_count": 20,
   "metadata": {},
   "outputs": [],
   "source": [
    "# sketch of example graph\n",
    "#\n",
    "#  1:       o--o\n",
    "#          /    \\\n",
    "#  0:  o--o      o--o\n",
    "#          \\    /\n",
    "# -1:       o--o\n",
    "#\n",
    "#      1  2 3  4 5  6\n",
    "\n",
    "color_map = []\n",
    "# define and add nodes\n",
    "G.add_node(\"a\", pos=(1, 0)); color_map.append('r')\n",
    "G.add_node(\"b\", pos=(2, 0)); color_map.append('r')\n",
    "G.add_node(\"c\", pos=(3, -1)); color_map.append('r')\n",
    "G.add_node(\"d\", pos=(3, 1)); color_map.append('r')\n",
    "G.add_node(\"e\", pos=(4, -1)) ;color_map.append('r')\n",
    "G.add_node(\"f\", pos=(4, 1)); color_map.append('r')\n",
    "G.add_node(\"g\", pos=(5, 0)); color_map.append('r')\n",
    "G.add_node(\"h\", pos=(6, 0));  color_map.append('r')"
   ]
  },
  {
   "cell_type": "code",
   "execution_count": 21,
   "metadata": {},
   "outputs": [],
   "source": [
    "# define wheighted edges (from, to, weight)\n",
    "e = [(\"a\", \"b\", 1), \n",
    "    (\"b\", \"c\", 1), \n",
    "    (\"b\", \"d\", 2), \n",
    "    (\"c\", \"e\", 5), \n",
    "    (\"d\", \"f\", 2), \n",
    "    (\"e\", \"g\", 1), \n",
    "    (\"f\", \"g\", 2), \n",
    "    (\"g\", \"h\", 1)]\n",
    "\n",
    "# add weighted edges\n",
    "G.add_weighted_edges_from(e)"
   ]
  },
  {
   "cell_type": "code",
   "execution_count": 23,
   "metadata": {},
   "outputs": [
    {
     "name": "stdout",
     "output_type": "stream",
     "text": [
      "{('a', 'b'): 1, ('b', 'c'): 1, ('b', 'd'): 2, ('c', 'e'): 5, ('d', 'f'): 2, ('e', 'g'): 1, ('f', 'g'): 2, ('g', 'h'): 1}\n"
     ]
    }
   ],
   "source": [
    "labels = nx.get_edge_attributes(G,'weight')\n",
    "print(labels)"
   ]
  },
  {
   "cell_type": "code",
   "execution_count": 24,
   "metadata": {},
   "outputs": [
    {
     "data": {
      "text/plain": [
       "{'a': Text(1,0,'a'),\n",
       " 'b': Text(2,0,'b'),\n",
       " 'c': Text(3,-1,'c'),\n",
       " 'd': Text(3,1,'d'),\n",
       " 'e': Text(4,-1,'e'),\n",
       " 'f': Text(4,1,'f'),\n",
       " 'g': Text(5,0,'g'),\n",
       " 'h': Text(6,0,'h')}"
      ]
     },
     "execution_count": 24,
     "metadata": {},
     "output_type": "execute_result"
    },
    {
     "data": {
      "image/png": "[encoded data removed]",
      "text/plain": [
       "<Figure size 432x288 with 1 Axes>"
      ]
     },
     "metadata": {},
     "output_type": "display_data"
    }
   ],
   "source": [
    "nx.draw(G,nx.get_node_attributes(G, 'pos'))\n",
    "nx.draw_networkx_edge_labels(G,nx.get_node_attributes(G, 'pos'),edge_labels=labels)\n",
    "nx.draw_networkx_labels(G,nx.get_node_attributes(G, 'pos'))"
   ]
  },
  {
   "cell_type": "markdown",
   "metadata": {},
   "source": [
    "## Generate Dijkstra Path and add it to vessel"
   ]
  },
  {
   "cell_type": "code",
   "execution_count": 26,
   "metadata": {},
   "outputs": [
    {
     "name": "stdout",
     "output_type": "stream",
     "text": [
      "['a', 'b', 'd', 'f', 'g', 'h']\n"
     ]
    }
   ],
   "source": [
    "path = nx.dijkstra_path(G, \"a\", \"h\", weight='weight')\n",
    "print(path)"
   ]
  },
  {
   "cell_type": "code",
   "execution_count": 27,
   "metadata": {},
   "outputs": [],
   "source": [
    "vessel.route = path"
   ]
  },
  {
   "cell_type": "code",
   "execution_count": 28,
   "metadata": {},
   "outputs": [
    {
     "data": {
      "text/plain": [
       "{'compute_v': <function __main__.compute_v_provider.<locals>.<lambda>>,\n",
       " 'container': <simpy.resources.container.Container at 0x1fdda1ea908>,\n",
       " 'env': [],\n",
       " 'geometry': <shapely.geometry.point.Point at 0x1fdda1ea860>,\n",
       " 'geometry_log': [('a', 'b'), ('a', 'b')],\n",
       " 'id': 'bfb7955c-0f5b-11e9-8aec-60f677ba2ce0',\n",
       " 'log': ['start sailing', 'stop sailing'],\n",
       " 'name': 'Transport barge 01',\n",
       " 'resource': <simpy.resources.resource.Resource at 0x1fdda1ea7f0>,\n",
       " 'route': ['a', 'b', 'd', 'f', 'g', 'h'],\n",
       " 't': [1, 2],\n",
       " 'total_requested': 0,\n",
       " 'v': 1,\n",
       " 'value': [3, 3],\n",
       " 'wgs84': <pyproj.Geod at 0x1fdd9d2cd30>}"
      ]
     },
     "execution_count": 28,
     "metadata": {},
     "output_type": "execute_result"
    }
   ],
   "source": [
    "vessel.__dict__"
   ]
  },
  {
   "cell_type": "markdown",
   "metadata": {},
   "source": [
    "## Run simulation"
   ]
  },
  {
   "cell_type": "code",
   "execution_count": null,
   "metadata": {},
   "outputs": [],
   "source": [
    "env = simpy.Environment()\n",
    "\n",
    "\n",
    "\n",
    "env.process(start(env, vessel))\n",
    "\n",
    "env.run()"
   ]
  }
 ],
 "metadata": {
  "kernelspec": {
   "display_name": "Python 3",
   "language": "python",
   "name": "python3"
  },
  "language_info": {
   "codemirror_mode": {
    "name": "ipython",
    "version": 3
   },
   "file_extension": ".py",
   "mimetype": "text/x-python",
   "name": "python",
   "nbconvert_exporter": "python",
   "pygments_lexer": "ipython3",
   "version": "3.6.3"
  }
 },
 "nbformat": 4,
 "nbformat_minor": 2
}
