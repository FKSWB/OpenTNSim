{
 "cells": [
  {
   "cell_type": "markdown",
   "metadata": {},
   "source": [
    "## Example 11 - Making a basic vessel class"
   ]
  },
  {
   "cell_type": "code",
   "execution_count": 1,
   "metadata": {},
   "outputs": [],
   "source": [
    "# package(s) related to time, space and id\n",
    "import datetime\n",
    "import platform\n",
    "\n",
    "# you need these dependencies (you can get these from anaconda)\n",
    "# package(s) related to the simulation\n",
    "import simpy\n",
    "\n",
    "# spatial libraries \n",
    "import shapely.geometry\n",
    "from simplekml import Kml, Style\n",
    "\n",
    "# package(s) for data handling\n",
    "import numpy as np\n",
    "\n",
    "# tranport network analysis package\n",
    "import transport_network_analysis.core as core\n",
    "# import digital_twin.model as model"
   ]
  },
  {
   "cell_type": "markdown",
   "metadata": {},
   "source": [
    "## Create the necessary classes\n",
    "\n",
    "The Transport Network Analysis core defines several classes which can be combined in mixin classes you can define yourself. For example, in this simulation we define a Vessel as a TransportResource (so it mainly should be able to move and carry some payload):\n",
    "* Identifiable: an object that can be identified with a name \n",
    "* Log: an object which will contain a log of events that took place concerning this object after the simulation is complete \n",
    "* ContainerDependentMovable: this is in fact a combination (extension) of two other core classes:\n",
    "    * HasContainer: an object which contains a storage for materials\n",
    "    * Movable: an object which can move from one geographical location to another (extends Locatable, clearly a moving object must keep track of its current location)\n",
    "* HasResource: an object only a limited number of activities can interact with at the same time"
   ]
  },
  {
   "cell_type": "code",
   "execution_count": 3,
   "metadata": {},
   "outputs": [],
   "source": [
    "TransportResource = type('TransportResource', \n",
    "                         (core.Identifiable, core.Log, core.ContainerDependentMovable, core.Routeable,\n",
    "                          core.HasResource), {})"
   ]
  },
  {
   "cell_type": "code",
   "execution_count": 4,
   "metadata": {},
   "outputs": [],
   "source": [
    "def compute_v_provider(v_empty, v_full):\n",
    "    return lambda x: x * (v_full - v_empty) + v_empty\n",
    "\n",
    "data_vessel = {\"env\": [],\n",
    "               \"name\": \"Transport barge 01\",\n",
    "               \"geometry\": shapely.geometry.Point(5.019298185633251, 52.94239823421129),  # lon, lat\n",
    "               \"route\": [],\n",
    "               \"capacity\": 1_000,\n",
    "               \"compute_v\": compute_v_provider(v_empty=1.6, v_full=1)}\n",
    "\n",
    "# create the transport processing resource\n",
    "vessel = TransportResource(**data_vessel)"
   ]
  },
  {
   "cell_type": "code",
   "execution_count": 5,
   "metadata": {},
   "outputs": [
    {
     "data": {
      "text/plain": [
       "{'compute_v': <function __main__.compute_v_provider.<locals>.<lambda>>,\n",
       " 'container': <simpy.resources.container.Container at 0x11232a241d0>,\n",
       " 'env': [],\n",
       " 'geometry': <shapely.geometry.point.Point at 0x11232a24160>,\n",
       " 'id': 'e041b64c-0f57-11e9-b611-60f677ba2ce0',\n",
       " 'log': [],\n",
       " 'name': 'Transport barge 01',\n",
       " 'resource': <simpy.resources.resource.Resource at 0x11232a240f0>,\n",
       " 'route': [],\n",
       " 't': [],\n",
       " 'total_requested': 0,\n",
       " 'v': 1,\n",
       " 'value': [],\n",
       " 'wgs84': <pyproj.Geod at 0x11232a213f8>}"
      ]
     },
     "execution_count": 5,
     "metadata": {},
     "output_type": "execute_result"
    }
   ],
   "source": [
    "vessel.__dict__"
   ]
  },
  {
   "cell_type": "code",
   "execution_count": null,
   "metadata": {},
   "outputs": [],
   "source": []
  }
 ],
 "metadata": {
  "kernelspec": {
   "display_name": "Python 3",
   "language": "python",
   "name": "python3"
  },
  "language_info": {
   "codemirror_mode": {
    "name": "ipython",
    "version": 3
   },
   "file_extension": ".py",
   "mimetype": "text/x-python",
   "name": "python",
   "nbconvert_exporter": "python",
   "pygments_lexer": "ipython3",
   "version": "3.6.3"
  }
 },
 "nbformat": 4,
 "nbformat_minor": 2
}
