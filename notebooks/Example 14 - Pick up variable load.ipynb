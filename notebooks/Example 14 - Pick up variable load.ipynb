{
 "cells": [
  {
   "cell_type": "markdown",
   "metadata": {},
   "source": [
    "## Example 14 - Pick up variable load"
   ]
  },
  {
   "cell_type": "code",
   "execution_count": 1,
   "metadata": {},
   "outputs": [],
   "source": [
    "# package(s) related to time, space and id\n",
    "import datetime, time\n",
    "import platform\n",
    "import random\n",
    "import os\n",
    "\n",
    "# you need these dependencies (you can get these from anaconda)\n",
    "# package(s) related to the simulation\n",
    "import simpy\n",
    "\n",
    "# spatial libraries \n",
    "import pyproj\n",
    "import shapely.geometry\n",
    "from simplekml import Kml, Style\n",
    "\n",
    "# package(s) for data handling\n",
    "import pandas as pd\n",
    "import numpy as np\n",
    "import matplotlib.pyplot as plt\n",
    "import matplotlib.animation as animation\n",
    "\n",
    "# tranport network analysis package\n",
    "import transport_network_analysis.core as core\n",
    "import transport_network_analysis.graph_module as graph_module\n",
    "import transport_network_analysis.model as model\n",
    "\n",
    "# Used for mathematical functions\n",
    "import math             \n",
    "\n",
    "# Used for making the graph to visualize our problem\n",
    "import networkx as nx  "
   ]
  },
  {
   "cell_type": "markdown",
   "metadata": {},
   "source": [
    "### Create graph"
   ]
  },
  {
   "cell_type": "markdown",
   "metadata": {},
   "source": [
    "The cel below visualizes the problem. In graph theory the red dots are called *edges* and the lines are called *vertices*. Vessels (or any other object) move from edge 1 to edge 3 and from edge 4 to edge 2. The added complexity is that vertice 5-6 only allows traffic in one direction at a time. Vessels can travel simultanously in one direction."
   ]
  },
  {
   "cell_type": "code",
   "execution_count": 2,
   "metadata": {},
   "outputs": [],
   "source": [
    "Node = type('Station', (core.Identifiable, core.Log, core.Locatable, core.HasResource, core.Station), {})\n",
    "\n",
    "data_node_1 = {\"env\": [],\n",
    "               \"name\": \"Node 1\",\n",
    "               \"geometry\": shapely.geometry.Point(0, 0),\n",
    "               \"capacity\": 10000}\n",
    "data_node_2 = {\"env\": [],\n",
    "               \"name\": \"Node 2\",\n",
    "               \"geometry\": shapely.geometry.Point(0.05, 0),\n",
    "               \"capacity\": 10000}\n",
    "data_node_3 = {\"env\": [],\n",
    "               \"name\": \"Node 3\",\n",
    "               \"geometry\": shapely.geometry.Point(0.10, 0),\n",
    "               \"capacity\": 10000}\n",
    "data_node_4 = {\"env\": [],\n",
    "               \"name\": \"Node 4\",\n",
    "               \"geometry\": shapely.geometry.Point(0.15, 0),\n",
    "               \"capacity\": 10000}\n",
    "\n",
    "node_1 = Node(**data_node_1)\n",
    "node_2 = Node(**data_node_2)\n",
    "node_3 = Node(**data_node_3)\n",
    "node_4 = Node(**data_node_4)\n",
    "\n",
    "nodes = [node_1, node_2, node_3, node_4]"
   ]
  },
  {
   "cell_type": "code",
   "execution_count": 3,
   "metadata": {},
   "outputs": [
    {
     "data": {
      "image/png": "[encoded data removed]",
      "text/plain": [
       "<Figure size 432x288 with 1 Axes>"
      ]
     },
     "metadata": {},
     "output_type": "display_data"
    }
   ],
   "source": [
    "FG = nx.DiGraph()\n",
    "\n",
    "positions = {}\n",
    "for node in nodes:\n",
    "    positions[node.name] = (node.geometry.x, node.geometry.y)\n",
    "    FG.add_node(node.name, geometry = node.geometry, object_type = node)\n",
    "\n",
    "path = [[node_1, node_2], # From node 1 to node 2\n",
    "        [node_2, node_1], # From node 2 to node 1\n",
    "        [node_2, node_3], # From node 2 to node 3\n",
    "        [node_3, node_2], # From node 3 to node 2\n",
    "        [node_3, node_4], # From node 3 to node 4\n",
    "        [node_4, node_3]] # From node 4 to node 3\n",
    "\n",
    "for edge in path:\n",
    "    FG.add_edge(edge[0].name, edge[1].name, weight = 1, duration = 1)\n",
    "\n",
    "nx.draw(FG, positions)\n",
    "plt.show()"
   ]
  },
  {
   "cell_type": "markdown",
   "metadata": {},
   "source": [
    "### Create moving parts"
   ]
  },
  {
   "cell_type": "code",
   "execution_count": 4,
   "metadata": {},
   "outputs": [],
   "source": [
    "def generate_passenger(origin, destination, environment):\n",
    "    \"\"\" Generate a passenger \"\"\"\n",
    "    Passenger = type('Passenger', (core.Identifiable, core.Routeable, core.Log), {})\n",
    "    \n",
    "    # Name of the object\n",
    "    name = \"Passenger\"\n",
    "    \n",
    "    # Geometry of the origin\n",
    "    geometry = nx.get_node_attributes(environment.FG, \"object_type\")[origin].geometry\n",
    "    \n",
    "    # Travel direction\n",
    "    route = nx.dijkstra_path(environment.FG, origin, destination)\n",
    "    \n",
    "    return Passenger(**{\"env\": environment, \n",
    "                        \"name\": name, \n",
    "                        \"route\": route})"
   ]
  },
  {
   "cell_type": "code",
   "execution_count": 5,
   "metadata": {},
   "outputs": [],
   "source": [
    "def generate_metro(origin, destination, environment):\n",
    "    \"\"\" Generate a metro \"\"\"\n",
    "    Metro = type('Metro', \n",
    "                 (core.Identifiable, core.Movable, core.HasContainer, core.HasResource, core.Routeable, core.Mover), \n",
    "                 {})\n",
    "\n",
    "    # Name of the object\n",
    "    name = \"Metro\"\n",
    "    \n",
    "    # Geometry of origin\n",
    "    geometry = nx.get_node_attributes(environment.FG, \"object_type\")[origin].geometry\n",
    "    \n",
    "    # Travel direction\n",
    "    route = nx.dijkstra_path(environment.FG, origin, destination)\n",
    "    \n",
    "    # Maximum passengers\n",
    "    capacity = 10000\n",
    "    \n",
    "    return Metro(**{\"env\": environment, \n",
    "                    \"name\": name, \n",
    "                    \"route\": route, \n",
    "                    \"capacity\": capacity, \n",
    "                    \"geometry\": geometry})"
   ]
  },
  {
   "cell_type": "markdown",
   "metadata": {},
   "source": [
    "### Spawn the metro trains"
   ]
  },
  {
   "cell_type": "code",
   "execution_count": 6,
   "metadata": {},
   "outputs": [],
   "source": [
    "def metro_1_4(env):\n",
    "    while True:\n",
    "        metro = generate_metro(\"Node 1\", \"Node 4\", env)\n",
    "        env.metros.append(metro)\n",
    "        env.process(metro.move())\n",
    "        \n",
    "        # One metro every 20 minutes\n",
    "        yield env.timeout(7 * 60)"
   ]
  },
  {
   "cell_type": "code",
   "execution_count": 7,
   "metadata": {},
   "outputs": [],
   "source": [
    "def metro_4_1(env):\n",
    "    while True:\n",
    "        metro = generate_metro(\"Node 4\", \"Node 1\", env)\n",
    "        env.metros.append(metro)\n",
    "        env.process(metro.move())\n",
    "        \n",
    "        # One metro every 20 minutes\n",
    "        yield env.timeout(4 * 60)"
   ]
  },
  {
   "cell_type": "code",
   "execution_count": 8,
   "metadata": {},
   "outputs": [],
   "source": [
    "def passengers(env):\n",
    "    while True:\n",
    "        origin, destination = random.sample(env.FG.nodes, 2)\n",
    "        \n",
    "        passenger = generate_passenger(origin, destination, env)\n",
    "        FG.nodes[origin][\"object_type\"].units.append(passenger)\n",
    "        \n",
    "        passenger.log_entry(\"Waiting for metro start\", env.now, 0, nx.get_node_attributes(env.FG, \"object_type\")[origin].geometry)\n",
    "        env.passengers.append(passenger)\n",
    "        \n",
    "        # Random arrivals of passengers with mean interarrival time of 30 seconds\n",
    "        yield env.timeout(random.random() * 60)"
   ]
  },
  {
   "cell_type": "markdown",
   "metadata": {},
   "source": [
    "### Run simulation"
   ]
  },
  {
   "cell_type": "code",
   "execution_count": 9,
   "metadata": {},
   "outputs": [],
   "source": [
    "# Simulation start time\n",
    "simulation_start = datetime.datetime(2019, 1, 1)\n",
    "\n",
    "# Make simulation environment\n",
    "env = simpy.Environment(initial_time = time.mktime(simulation_start.timetuple()))\n",
    "env.FG = FG\n",
    "\n",
    "# For loggin\n",
    "env.metros = []\n",
    "env.passengers = []\n",
    "\n",
    "# Start the simulation\n",
    "env.process(metro_1_4(env))\n",
    "env.process(metro_4_1(env))\n",
    "env.process(passengers(env))\n",
    "env.run(until = env.now + 24 * 60 * 60)"
   ]
  },
  {
   "cell_type": "markdown",
   "metadata": {},
   "source": [
    "### Check results"
   ]
  },
  {
   "cell_type": "code",
   "execution_count": 10,
   "metadata": {},
   "outputs": [
    {
     "data": {
      "text/plain": [
       "['Node 4', 'Node 3', 'Node 2', 'Node 1']"
      ]
     },
     "execution_count": 10,
     "metadata": {},
     "output_type": "execute_result"
    }
   ],
   "source": [
    "env.passengers[5].route"
   ]
  },
  {
   "cell_type": "code",
   "execution_count": 11,
   "metadata": {},
   "outputs": [],
   "source": [
    "# <__main__.Passenger at 0xa18416898>\n",
    "# 'd75978a4-70a6-11e9-9b7f-7831c1d08f6a'\n",
    "# env.passengers[8].__dict__"
   ]
  },
  {
   "cell_type": "code",
   "execution_count": 12,
   "metadata": {
    "scrolled": true
   },
   "outputs": [
    {
     "name": "stdout",
     "output_type": "stream",
     "text": [
      "NODE 1: POINT (0 0)\n",
      "NODE 2: POINT (0.05 0)\n",
      "NODE 3: POINT (0.1 0)\n",
      "NODE 4: POINT (0.15 0)\n"
     ]
    }
   ],
   "source": [
    "print(\"NODE 1:\", FG.node['Node 1']['geometry'])\n",
    "print(\"NODE 2:\", FG.node['Node 2']['geometry'])\n",
    "print(\"NODE 3:\", FG.node['Node 3']['geometry'])\n",
    "print(\"NODE 4:\", FG.node['Node 4']['geometry'])"
   ]
  },
  {
   "cell_type": "code",
   "execution_count": 13,
   "metadata": {},
   "outputs": [
    {
     "data": {
      "text/html": [
       "<div>\n",
       "<style scoped>\n",
       "    .dataframe tbody tr th:only-of-type {\n",
       "        vertical-align: middle;\n",
       "    }\n",
       "\n",
       "    .dataframe tbody tr th {\n",
       "        vertical-align: top;\n",
       "    }\n",
       "\n",
       "    .dataframe thead th {\n",
       "        text-align: right;\n",
       "    }\n",
       "</style>\n",
       "<table border=\"1\" class=\"dataframe\">\n",
       "  <thead>\n",
       "    <tr style=\"text-align: right;\">\n",
       "      <th></th>\n",
       "      <th>Message</th>\n",
       "      <th>Timestamp</th>\n",
       "      <th>Value</th>\n",
       "      <th>Geometry</th>\n",
       "    </tr>\n",
       "  </thead>\n",
       "  <tbody>\n",
       "    <tr>\n",
       "      <th>0</th>\n",
       "      <td>Waiting for metro start</td>\n",
       "      <td>2019-01-01 00:02:16.691950</td>\n",
       "      <td>0</td>\n",
       "      <td>POINT (0.05 0)</td>\n",
       "    </tr>\n",
       "    <tr>\n",
       "      <th>1</th>\n",
       "      <td>Waiting for metro stop</td>\n",
       "      <td>2019-01-01 01:32:45.974540</td>\n",
       "      <td>0</td>\n",
       "      <td>POINT (0.05 0)</td>\n",
       "    </tr>\n",
       "    <tr>\n",
       "      <th>2</th>\n",
       "      <td>In metro start</td>\n",
       "      <td>2019-01-01 01:32:45.974540</td>\n",
       "      <td>0</td>\n",
       "      <td>POINT (0.05 0)</td>\n",
       "    </tr>\n",
       "    <tr>\n",
       "      <th>3</th>\n",
       "      <td>In metro stop</td>\n",
       "      <td>2019-01-01 04:38:17.923619</td>\n",
       "      <td>0</td>\n",
       "      <td>POINT (0.15 0)</td>\n",
       "    </tr>\n",
       "  </tbody>\n",
       "</table>\n",
       "</div>"
      ],
      "text/plain": [
       "                   Message                  Timestamp  Value        Geometry\n",
       "0  Waiting for metro start 2019-01-01 00:02:16.691950      0  POINT (0.05 0)\n",
       "1   Waiting for metro stop 2019-01-01 01:32:45.974540      0  POINT (0.05 0)\n",
       "2           In metro start 2019-01-01 01:32:45.974540      0  POINT (0.05 0)\n",
       "3            In metro stop 2019-01-01 04:38:17.923619      0  POINT (0.15 0)"
      ]
     },
     "execution_count": 13,
     "metadata": {},
     "output_type": "execute_result"
    }
   ],
   "source": [
    "pd.DataFrame.from_dict(env.passengers[3].log)"
   ]
  },
  {
   "cell_type": "code",
   "execution_count": 14,
   "metadata": {},
   "outputs": [
    {
     "data": {
      "text/plain": [
       "['Node 2', 'Node 3', 'Node 4']"
      ]
     },
     "execution_count": 14,
     "metadata": {},
     "output_type": "execute_result"
    }
   ],
   "source": [
    "env.passengers[3].route"
   ]
  },
  {
   "cell_type": "code",
   "execution_count": 15,
   "metadata": {},
   "outputs": [
    {
     "data": {
      "text/plain": [
       "'c098bf8c-70cf-11e9-b895-7831c1d08f6a'"
      ]
     },
     "execution_count": 15,
     "metadata": {},
     "output_type": "execute_result"
    }
   ],
   "source": [
    "env.passengers[3].id"
   ]
  },
  {
   "cell_type": "code",
   "execution_count": 16,
   "metadata": {
    "scrolled": true
   },
   "outputs": [
    {
     "data": {
      "text/html": [
       "<div>\n",
       "<style scoped>\n",
       "    .dataframe tbody tr th:only-of-type {\n",
       "        vertical-align: middle;\n",
       "    }\n",
       "\n",
       "    .dataframe tbody tr th {\n",
       "        vertical-align: top;\n",
       "    }\n",
       "\n",
       "    .dataframe thead th {\n",
       "        text-align: right;\n",
       "    }\n",
       "</style>\n",
       "<table border=\"1\" class=\"dataframe\">\n",
       "  <thead>\n",
       "    <tr style=\"text-align: right;\">\n",
       "      <th></th>\n",
       "      <th>Message</th>\n",
       "      <th>Timestamp</th>\n",
       "      <th>Value</th>\n",
       "      <th>Geometry</th>\n",
       "    </tr>\n",
       "  </thead>\n",
       "  <tbody>\n",
       "    <tr>\n",
       "      <th>0</th>\n",
       "      <td>Loading start</td>\n",
       "      <td>2019-01-01 00:07:00.000000</td>\n",
       "      <td>0</td>\n",
       "      <td>POINT (0 0)</td>\n",
       "    </tr>\n",
       "    <tr>\n",
       "      <th>1</th>\n",
       "      <td>Loading stop</td>\n",
       "      <td>2019-01-01 00:07:00.000000</td>\n",
       "      <td>30</td>\n",
       "      <td>POINT (0 0)</td>\n",
       "    </tr>\n",
       "    <tr>\n",
       "      <th>2</th>\n",
       "      <td>Sailing from node Node 1 to node Node 2 start</td>\n",
       "      <td>2019-01-01 00:07:00.000000</td>\n",
       "      <td>0</td>\n",
       "      <td>POINT (0 0)</td>\n",
       "    </tr>\n",
       "    <tr>\n",
       "      <th>3</th>\n",
       "      <td>Sailing from node Node 1 to node Node 2 stop</td>\n",
       "      <td>2019-01-01 01:39:45.974540</td>\n",
       "      <td>0</td>\n",
       "      <td>POINT (0.05 0)</td>\n",
       "    </tr>\n",
       "    <tr>\n",
       "      <th>4</th>\n",
       "      <td>Unloading start</td>\n",
       "      <td>2019-01-01 01:39:45.974540</td>\n",
       "      <td>0</td>\n",
       "      <td>POINT (0.05 0)</td>\n",
       "    </tr>\n",
       "    <tr>\n",
       "      <th>5</th>\n",
       "      <td>Unloading stop</td>\n",
       "      <td>2019-01-01 01:39:45.974540</td>\n",
       "      <td>30</td>\n",
       "      <td>POINT (0.05 0)</td>\n",
       "    </tr>\n",
       "    <tr>\n",
       "      <th>6</th>\n",
       "      <td>Loading start</td>\n",
       "      <td>2019-01-01 01:39:45.974540</td>\n",
       "      <td>0</td>\n",
       "      <td>POINT (0.05 0)</td>\n",
       "    </tr>\n",
       "    <tr>\n",
       "      <th>7</th>\n",
       "      <td>Loading stop</td>\n",
       "      <td>2019-01-01 01:39:45.974540</td>\n",
       "      <td>30</td>\n",
       "      <td>POINT (0.05 0)</td>\n",
       "    </tr>\n",
       "    <tr>\n",
       "      <th>8</th>\n",
       "      <td>Sailing from node Node 2 to node Node 3 start</td>\n",
       "      <td>2019-01-01 01:39:45.974540</td>\n",
       "      <td>0</td>\n",
       "      <td>POINT (0.05 0)</td>\n",
       "    </tr>\n",
       "    <tr>\n",
       "      <th>9</th>\n",
       "      <td>Sailing from node Node 2 to node Node 3 stop</td>\n",
       "      <td>2019-01-01 03:12:31.949080</td>\n",
       "      <td>0</td>\n",
       "      <td>POINT (0.1 0)</td>\n",
       "    </tr>\n",
       "    <tr>\n",
       "      <th>10</th>\n",
       "      <td>Unloading start</td>\n",
       "      <td>2019-01-01 03:12:31.949080</td>\n",
       "      <td>0</td>\n",
       "      <td>POINT (0.1 0)</td>\n",
       "    </tr>\n",
       "    <tr>\n",
       "      <th>11</th>\n",
       "      <td>Unloading stop</td>\n",
       "      <td>2019-01-01 03:12:31.949080</td>\n",
       "      <td>30</td>\n",
       "      <td>POINT (0.1 0)</td>\n",
       "    </tr>\n",
       "    <tr>\n",
       "      <th>12</th>\n",
       "      <td>Loading start</td>\n",
       "      <td>2019-01-01 03:12:31.949080</td>\n",
       "      <td>0</td>\n",
       "      <td>POINT (0.1 0)</td>\n",
       "    </tr>\n",
       "    <tr>\n",
       "      <th>13</th>\n",
       "      <td>Loading stop</td>\n",
       "      <td>2019-01-01 03:12:31.949080</td>\n",
       "      <td>30</td>\n",
       "      <td>POINT (0.1 0)</td>\n",
       "    </tr>\n",
       "    <tr>\n",
       "      <th>14</th>\n",
       "      <td>Sailing from node Node 3 to node Node 4 start</td>\n",
       "      <td>2019-01-01 03:12:31.949080</td>\n",
       "      <td>0</td>\n",
       "      <td>POINT (0.1 0)</td>\n",
       "    </tr>\n",
       "    <tr>\n",
       "      <th>15</th>\n",
       "      <td>Sailing from node Node 3 to node Node 4 stop</td>\n",
       "      <td>2019-01-01 04:45:17.923619</td>\n",
       "      <td>0</td>\n",
       "      <td>POINT (0.15 0)</td>\n",
       "    </tr>\n",
       "    <tr>\n",
       "      <th>16</th>\n",
       "      <td>Unloading start</td>\n",
       "      <td>2019-01-01 04:45:17.923619</td>\n",
       "      <td>0</td>\n",
       "      <td>POINT (0.15 0)</td>\n",
       "    </tr>\n",
       "    <tr>\n",
       "      <th>17</th>\n",
       "      <td>Unloading stop</td>\n",
       "      <td>2019-01-01 04:45:17.923619</td>\n",
       "      <td>30</td>\n",
       "      <td>POINT (0.15 0)</td>\n",
       "    </tr>\n",
       "  </tbody>\n",
       "</table>\n",
       "</div>"
      ],
      "text/plain": [
       "                                          Message                  Timestamp  \\\n",
       "0                                   Loading start 2019-01-01 00:07:00.000000   \n",
       "1                                    Loading stop 2019-01-01 00:07:00.000000   \n",
       "2   Sailing from node Node 1 to node Node 2 start 2019-01-01 00:07:00.000000   \n",
       "3    Sailing from node Node 1 to node Node 2 stop 2019-01-01 01:39:45.974540   \n",
       "4                                 Unloading start 2019-01-01 01:39:45.974540   \n",
       "5                                  Unloading stop 2019-01-01 01:39:45.974540   \n",
       "6                                   Loading start 2019-01-01 01:39:45.974540   \n",
       "7                                    Loading stop 2019-01-01 01:39:45.974540   \n",
       "8   Sailing from node Node 2 to node Node 3 start 2019-01-01 01:39:45.974540   \n",
       "9    Sailing from node Node 2 to node Node 3 stop 2019-01-01 03:12:31.949080   \n",
       "10                                Unloading start 2019-01-01 03:12:31.949080   \n",
       "11                                 Unloading stop 2019-01-01 03:12:31.949080   \n",
       "12                                  Loading start 2019-01-01 03:12:31.949080   \n",
       "13                                   Loading stop 2019-01-01 03:12:31.949080   \n",
       "14  Sailing from node Node 3 to node Node 4 start 2019-01-01 03:12:31.949080   \n",
       "15   Sailing from node Node 3 to node Node 4 stop 2019-01-01 04:45:17.923619   \n",
       "16                                Unloading start 2019-01-01 04:45:17.923619   \n",
       "17                                 Unloading stop 2019-01-01 04:45:17.923619   \n",
       "\n",
       "    Value        Geometry  \n",
       "0       0     POINT (0 0)  \n",
       "1      30     POINT (0 0)  \n",
       "2       0     POINT (0 0)  \n",
       "3       0  POINT (0.05 0)  \n",
       "4       0  POINT (0.05 0)  \n",
       "5      30  POINT (0.05 0)  \n",
       "6       0  POINT (0.05 0)  \n",
       "7      30  POINT (0.05 0)  \n",
       "8       0  POINT (0.05 0)  \n",
       "9       0   POINT (0.1 0)  \n",
       "10      0   POINT (0.1 0)  \n",
       "11     30   POINT (0.1 0)  \n",
       "12      0   POINT (0.1 0)  \n",
       "13     30   POINT (0.1 0)  \n",
       "14      0   POINT (0.1 0)  \n",
       "15      0  POINT (0.15 0)  \n",
       "16      0  POINT (0.15 0)  \n",
       "17     30  POINT (0.15 0)  "
      ]
     },
     "execution_count": 16,
     "metadata": {},
     "output_type": "execute_result"
    }
   ],
   "source": [
    "pd.DataFrame.from_dict(env.metros[3].log)"
   ]
  },
  {
   "cell_type": "code",
   "execution_count": 17,
   "metadata": {
    "scrolled": true
   },
   "outputs": [
    {
     "data": {
      "text/plain": [
       "{'Message': ['Loading start',\n",
       "  'Loading stop',\n",
       "  'Sailing from node Node 1 to node Node 2 start',\n",
       "  'Sailing from node Node 1 to node Node 2 stop',\n",
       "  'Unloading start',\n",
       "  'Unloading stop',\n",
       "  'Loading start',\n",
       "  'Loading stop',\n",
       "  'Sailing from node Node 2 to node Node 3 start',\n",
       "  'Sailing from node Node 2 to node Node 3 stop',\n",
       "  'Unloading start',\n",
       "  'Unloading stop',\n",
       "  'Loading start',\n",
       "  'Loading stop',\n",
       "  'Sailing from node Node 3 to node Node 4 start',\n",
       "  'Sailing from node Node 3 to node Node 4 stop',\n",
       "  'Unloading start',\n",
       "  'Unloading stop'],\n",
       " 'Timestamp': [datetime.datetime(2019, 1, 1, 0, 7),\n",
       "  datetime.datetime(2019, 1, 1, 0, 7),\n",
       "  datetime.datetime(2019, 1, 1, 0, 7),\n",
       "  datetime.datetime(2019, 1, 1, 1, 39, 45, 974540),\n",
       "  datetime.datetime(2019, 1, 1, 1, 39, 45, 974540),\n",
       "  datetime.datetime(2019, 1, 1, 1, 39, 45, 974540),\n",
       "  datetime.datetime(2019, 1, 1, 1, 39, 45, 974540),\n",
       "  datetime.datetime(2019, 1, 1, 1, 39, 45, 974540),\n",
       "  datetime.datetime(2019, 1, 1, 1, 39, 45, 974540),\n",
       "  datetime.datetime(2019, 1, 1, 3, 12, 31, 949080),\n",
       "  datetime.datetime(2019, 1, 1, 3, 12, 31, 949080),\n",
       "  datetime.datetime(2019, 1, 1, 3, 12, 31, 949080),\n",
       "  datetime.datetime(2019, 1, 1, 3, 12, 31, 949080),\n",
       "  datetime.datetime(2019, 1, 1, 3, 12, 31, 949080),\n",
       "  datetime.datetime(2019, 1, 1, 3, 12, 31, 949080),\n",
       "  datetime.datetime(2019, 1, 1, 4, 45, 17, 923619),\n",
       "  datetime.datetime(2019, 1, 1, 4, 45, 17, 923619),\n",
       "  datetime.datetime(2019, 1, 1, 4, 45, 17, 923619)],\n",
       " 'Value': [0, 30, 0, 0, 0, 30, 0, 30, 0, 0, 0, 30, 0, 30, 0, 0, 0, 30],\n",
       " 'Geometry': [<shapely.geometry.point.Point at 0xa17686748>,\n",
       "  <shapely.geometry.point.Point at 0xa17686748>,\n",
       "  <shapely.geometry.point.Point at 0xa17686748>,\n",
       "  <shapely.geometry.point.Point at 0xa17686780>,\n",
       "  <shapely.geometry.point.Point at 0xa17686780>,\n",
       "  <shapely.geometry.point.Point at 0xa17686780>,\n",
       "  <shapely.geometry.point.Point at 0xa17686780>,\n",
       "  <shapely.geometry.point.Point at 0xa17686780>,\n",
       "  <shapely.geometry.point.Point at 0xa17686780>,\n",
       "  <shapely.geometry.point.Point at 0xa17686828>,\n",
       "  <shapely.geometry.point.Point at 0xa17686828>,\n",
       "  <shapely.geometry.point.Point at 0xa17686828>,\n",
       "  <shapely.geometry.point.Point at 0xa17686828>,\n",
       "  <shapely.geometry.point.Point at 0xa17686828>,\n",
       "  <shapely.geometry.point.Point at 0xa17686828>,\n",
       "  <shapely.geometry.point.Point at 0xa17686860>,\n",
       "  <shapely.geometry.point.Point at 0xa17686860>,\n",
       "  <shapely.geometry.point.Point at 0xa17686860>]}"
      ]
     },
     "execution_count": 17,
     "metadata": {},
     "output_type": "execute_result"
    }
   ],
   "source": [
    "env.metros[3].log"
   ]
  },
  {
   "cell_type": "code",
   "execution_count": 19,
   "metadata": {},
   "outputs": [],
   "source": [
    "logs = []\n",
    "for i in range(len(env.passengers)):\n",
    "    logs.append(env.passengers[i].log['Message'])"
   ]
  },
  {
   "cell_type": "code",
   "execution_count": 24,
   "metadata": {},
   "outputs": [
    {
     "data": {
      "text/plain": [
       "2563"
      ]
     },
     "execution_count": 24,
     "metadata": {},
     "output_type": "execute_result"
    }
   ],
   "source": [
    "logs.count(['Waiting for metro start',\n",
    "  'Waiting for metro stop',\n",
    "  'In metro start',\n",
    "  'In metro stop'])"
   ]
  },
  {
   "cell_type": "code",
   "execution_count": 25,
   "metadata": {},
   "outputs": [
    {
     "data": {
      "text/plain": [
       "19"
      ]
     },
     "execution_count": 25,
     "metadata": {},
     "output_type": "execute_result"
    }
   ],
   "source": [
    "logs.count(['Waiting for metro start'])"
   ]
  },
  {
   "cell_type": "code",
   "execution_count": 27,
   "metadata": {},
   "outputs": [
    {
     "data": {
      "text/plain": [
       "326"
      ]
     },
     "execution_count": 27,
     "metadata": {},
     "output_type": "execute_result"
    }
   ],
   "source": [
    "logs.count(['Waiting for metro start',\n",
    "  'Waiting for metro stop',\n",
    "  'In metro start'])"
   ]
  },
  {
   "cell_type": "code",
   "execution_count": 28,
   "metadata": {},
   "outputs": [
    {
     "data": {
      "text/plain": [
       "0"
      ]
     },
     "execution_count": 28,
     "metadata": {},
     "output_type": "execute_result"
    }
   ],
   "source": [
    "logs.count(['Waiting for metro start',\n",
    "  'Waiting for metro stop'])"
   ]
  },
  {
   "cell_type": "code",
   "execution_count": null,
   "metadata": {},
   "outputs": [],
   "source": []
  }
 ],
 "metadata": {
  "kernelspec": {
   "display_name": "Python 3",
   "language": "python",
   "name": "python3"
  },
  "language_info": {
   "codemirror_mode": {
    "name": "ipython",
    "version": 3
   },
   "file_extension": ".py",
   "mimetype": "text/x-python",
   "name": "python",
   "nbconvert_exporter": "python",
   "pygments_lexer": "ipython3",
   "version": "3.6.7"
  }
 },
 "nbformat": 4,
 "nbformat_minor": 2
}
