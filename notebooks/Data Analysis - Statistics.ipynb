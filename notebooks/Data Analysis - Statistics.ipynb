{
 "cells": [
  {
   "cell_type": "code",
   "execution_count": 72,
   "metadata": {},
   "outputs": [],
   "source": [
    "import networkx as nx\n",
    "import warnings\n",
    "import datetime\n",
    "import seaborn as sn\n",
    "sn.set()\n",
    "sn.set(font_scale=1.1)\n",
    "import pandas as pd\n",
    "import numpy as np\n",
    "import matplotlib.pyplot as plt\n",
    "from collections import Counter\n",
    "from ast import literal_eval\n",
    "import gmaps\n",
    "import gmaps.datasets\n",
    "from ipywidgets.embed import embed_minimal_html\n",
    "from sklearn.metrics import mean_absolute_error\n",
    "%matplotlib inline\n",
    "warnings.filterwarnings('ignore')"
   ]
  },
  {
   "cell_type": "code",
   "execution_count": 67,
   "metadata": {},
   "outputs": [],
   "source": [
    "def statistics(path):\n",
    "    waiting = []\n",
    "    transfers = []\n",
    "    duration = []\n",
    "\n",
    "    for i in range(1, 11):\n",
    "        filepath = path + str(i) + \".csv\"\n",
    "        df = pd.read_csv(filepath)\n",
    "        waiting_list = df['waiting_time'].tolist()\n",
    "        transfer_list = df['transfers'].tolist()\n",
    "        duration_list = df['duration'].tolist()\n",
    "        waiting += waiting_list\n",
    "        transfers += transfer_list\n",
    "        duration += duration_list\n",
    "\n",
    "    waiting_round = [round(x) for x in waiting]\n",
    "    transfers_round = [round(x) for x in transfers]\n",
    "    duration_round = [round(x) for x in duration]\n",
    "\n",
    "    return waiting_round, transfers_round, duration_round"
   ]
  },
  {
   "cell_type": "code",
   "execution_count": 68,
   "metadata": {},
   "outputs": [],
   "source": [
    "waiting1, transfers1, duration1 = statistics(\"../../Results/Sc1Weekend/20/passengers_h20_sc1week_i\")\n",
    "waiting2, transfers2, duration2 = statistics(\"../../Results/Sc2Weekend/20/passengers_h20_sc2week_i\")\n",
    "waiting3, transfers3, duration3 = statistics(\"../../Results/Sc1Week/20/passengers_h20_sc1week_i\")\n",
    "waiting4, transfers4, duration4 = statistics(\"../../Results/Sc2Week/20/passengers_h20_sc2week_i\")"
   ]
  },
  {
   "cell_type": "code",
   "execution_count": 79,
   "metadata": {},
   "outputs": [],
   "source": [
    "df1 = pd.DataFrame({'Transfers': transfers1, 'Scenario': 'Scenario 1', 'Day': 'Weekends'})\n",
    "df2 = pd.DataFrame({'Transfers': transfers2, 'Scenario': 'Scenario 2', 'Day': 'Weekends'})\n",
    "df3 = pd.DataFrame({'Transfers': transfers3, 'Scenario': 'Scenario 1', 'Day': 'Weekdays'})\n",
    "df4 = pd.DataFrame({'Transfers': transfers4, 'Scenario': 'Scenario 2', 'Day': 'Weekdays'})"
   ]
  },
  {
   "cell_type": "code",
   "execution_count": 80,
   "metadata": {},
   "outputs": [],
   "source": [
    "dfboxplot = pd.concat([df1, df2, df3, df4])"
   ]
  },
  {
   "cell_type": "code",
   "execution_count": 77,
   "metadata": {},
   "outputs": [
    {
     "data": {
      "text/plain": [
       "<matplotlib.axes._subplots.AxesSubplot at 0x1a28d40be0>"
      ]
     },
     "execution_count": 77,
     "metadata": {},
     "output_type": "execute_result"
    },
    {
     "data": {
      "image/png": "[encoded data removed]",
      "text/plain": [
       "<Figure size 432x288 with 1 Axes>"
      ]
     },
     "metadata": {},
     "output_type": "display_data"
    }
   ],
   "source": [
    "# Grouped boxplot\n",
    "sn.boxplot(x=\"Day\", y=\"Duration\", hue=\"Scenario\", data = dfboxplot, palette=\"Set1\", linewidth=1)"
   ]
  },
  {
   "cell_type": "code",
   "execution_count": 81,
   "metadata": {},
   "outputs": [
    {
     "data": {
      "text/plain": [
       "<matplotlib.axes._subplots.AxesSubplot at 0x1a28985ba8>"
      ]
     },
     "execution_count": 81,
     "metadata": {},
     "output_type": "execute_result"
    },
    {
     "data": {
      "image/png": "[encoded data removed]",
      "text/plain": [
       "<Figure size 432x288 with 1 Axes>"
      ]
     },
     "metadata": {},
     "output_type": "display_data"
    }
   ],
   "source": [
    "sn.barplot(x=\"Day\", y=\"Transfers\", hue=\"Scenario\", data = dfboxplot, palette=\"Set1\", linewidth=1)"
   ]
  },
  {
   "cell_type": "code",
   "execution_count": null,
   "metadata": {},
   "outputs": [],
   "source": []
  }
 ],
 "metadata": {
  "kernelspec": {
   "display_name": "Python 3",
   "language": "python",
   "name": "python3"
  },
  "language_info": {
   "codemirror_mode": {
    "name": "ipython",
    "version": 3
   },
   "file_extension": ".py",
   "mimetype": "text/x-python",
   "name": "python",
   "nbconvert_exporter": "python",
   "pygments_lexer": "ipython3",
   "version": "3.6.7"
  }
 },
 "nbformat": 4,
 "nbformat_minor": 2
}
