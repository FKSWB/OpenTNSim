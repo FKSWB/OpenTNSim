{
 "cells": [
  {
   "cell_type": "code",
   "execution_count": 27,
   "metadata": {},
   "outputs": [],
   "source": [
    "import networkx as nx\n",
    "import warnings\n",
    "import datetime\n",
    "import seaborn as sn\n",
    "sn.set()\n",
    "sn.set(font_scale=1.1)\n",
    "import pandas as pd\n",
    "import numpy as np\n",
    "import matplotlib.pyplot as plt\n",
    "from collections import Counter\n",
    "from ast import literal_eval\n",
    "import gmaps\n",
    "import gmaps.datasets\n",
    "from ipywidgets.embed import embed_minimal_html\n",
    "from sklearn.metrics import mean_absolute_error\n",
    "%matplotlib inline\n",
    "warnings.filterwarnings('ignore')"
   ]
  },
  {
   "cell_type": "code",
   "execution_count": 3,
   "metadata": {},
   "outputs": [],
   "source": [
    "def statistics(path):\n",
    "    waiting = []\n",
    "    transfers = []\n",
    "    duration = []\n",
    "\n",
    "    for i in range(1, 11):\n",
    "        filepath = path + str(i) + \".csv\"\n",
    "        df = pd.read_csv(filepath)\n",
    "        waiting_list = df['waiting_time'].tolist()\n",
    "        transfer_list = df['transfers'].tolist()\n",
    "        duration_list = df['duration'].tolist()\n",
    "        waiting += waiting_list\n",
    "        transfers += transfer_list\n",
    "        duration += duration_list\n",
    "\n",
    "    waiting_round = [round(x) for x in waiting]\n",
    "    transfers_round = [round(x) for x in transfers]\n",
    "    duration_round = [round(x) for x in duration]\n",
    "\n",
    "    return waiting_round, transfers_round, duration_round"
   ]
  },
  {
   "cell_type": "code",
   "execution_count": 7,
   "metadata": {},
   "outputs": [
    {
     "data": {
      "text/plain": [
       "Counter({1: 87421, 0: 90111, 2: 15448})"
      ]
     },
     "execution_count": 7,
     "metadata": {},
     "output_type": "execute_result"
    }
   ],
   "source": [
    "waiting1, transfers1, duration1 = statistics(\"../../Results/Sc1Weekend/8/passengers_h8_sc1week_i\")\n",
    "waiting2, transfers2, duration2 = statistics(\"../../Results/Sc2Weekend/8/passengers_h8_sc2week_i\")\n",
    "waiting3, transfers3, duration3 = statistics(\"../../Results/Sc1Week/8/passengers_h8_sc1week_i\")\n",
    "waiting4, transfers4, duration4 = statistics(\"../../Results/Sc2Week/8/passengers_h8_sc2week_i\")\n",
    "Counter(transfers4)"
   ]
  },
  {
   "cell_type": "code",
   "execution_count": 8,
   "metadata": {},
   "outputs": [],
   "source": [
    "df1 = pd.DataFrame({'Transfers': [0, 1, 2], 'Scenario': 'Scenario 1', \n",
    "                    'Day': 'Weekends', 'Count': [15022, 15011, 2197]})\n",
    "df2 = pd.DataFrame({'Transfers': [0, 1, 2], 'Scenario': 'Scenario 2', \n",
    "                    'Day': 'Weekends', 'Count': [15015, 14942, 2273]})\n",
    "df3 = pd.DataFrame({'Transfers': [0, 1, 2], 'Scenario': 'Scenario 1', \n",
    "                    'Day': 'Weekdays', 'Count': [90029, 87429, 15522]})\n",
    "df4 = pd.DataFrame({'Transfers': [0, 1, 2], 'Scenario': 'Scenario 2', \n",
    "                    'Day': 'Weekdays', 'Count': [90111, 87421, 15448]})"
   ]
  },
  {
   "cell_type": "code",
   "execution_count": 11,
   "metadata": {},
   "outputs": [
    {
     "data": {
      "text/plain": [
       "[Text(0,0,'Scenario 1'), Text(0,0,'Scenario 2')]"
      ]
     },
     "execution_count": 11,
     "metadata": {},
     "output_type": "execute_result"
    },
    {
     "data": {
      "image/png": "[encoded data removed]",
      "text/plain": [
       "<Figure size 720x360 with 1 Axes>"
      ]
     },
     "metadata": {},
     "output_type": "display_data"
    }
   ],
   "source": [
    "index = [\"Scenario 1\", \"Scenario 2\"]\n",
    "\n",
    "df = pd.DataFrame({'0': [9002, 9011],\n",
    "                  '1': [8742, 8742],\n",
    "                  '2': [1552, 1544]}, index=index)\n",
    "\n",
    "plot = df.plot.bar(figsize = [10,5], colors = sn.color_palette(\"Set2\", 7), width = 0.5)\n",
    "plot.set_xticklabels(index, rotation=0)"
   ]
  },
  {
   "cell_type": "code",
   "execution_count": 29,
   "metadata": {},
   "outputs": [],
   "source": [
    "df1 = pd.DataFrame({'Waiting time': waiting1, 'Scenario': 'Scenario 1', \n",
    "                    'Day': 'Weekends'})\n",
    "df2 = pd.DataFrame({'Waiting time': waiting2, 'Scenario': 'Scenario 2', \n",
    "                    'Day': 'Weekends'})\n",
    "df3 = pd.DataFrame({'Waiting time': waiting3, 'Scenario': 'Scenario 1', \n",
    "                    'Day': 'Weekdays'})\n",
    "df4 = pd.DataFrame({'Waiting time': waiting4, 'Scenario': 'Scenario 2', \n",
    "                    'Day': 'Weekdays'})"
   ]
  },
  {
   "cell_type": "code",
   "execution_count": 30,
   "metadata": {},
   "outputs": [],
   "source": [
    "dfboxplot = pd.concat([df1, df2, df3, df4])"
   ]
  },
  {
   "cell_type": "code",
   "execution_count": 31,
   "metadata": {},
   "outputs": [
    {
     "data": {
      "text/plain": [
       "<matplotlib.axes._subplots.AxesSubplot at 0x1a13f24710>"
      ]
     },
     "execution_count": 31,
     "metadata": {},
     "output_type": "execute_result"
    },
    {
     "data": {
      "image/png": "[encoded data removed]",
      "text/plain": [
       "<Figure size 432x288 with 1 Axes>"
      ]
     },
     "metadata": {},
     "output_type": "display_data"
    }
   ],
   "source": [
    "sn.boxplot(x=\"Day\", y=\"Waiting time\", hue=\"Scenario\", data = dfboxplot, palette=\"Set1\", linewidth=1)"
   ]
  },
  {
   "cell_type": "code",
   "execution_count": null,
   "metadata": {},
   "outputs": [],
   "source": []
  }
 ],
 "metadata": {
  "kernelspec": {
   "display_name": "Python 3",
   "language": "python",
   "name": "python3"
  },
  "language_info": {
   "codemirror_mode": {
    "name": "ipython",
    "version": 3
   },
   "file_extension": ".py",
   "mimetype": "text/x-python",
   "name": "python",
   "nbconvert_exporter": "python",
   "pygments_lexer": "ipython3",
   "version": "3.6.7"
  }
 },
 "nbformat": 4,
 "nbformat_minor": 2
}
