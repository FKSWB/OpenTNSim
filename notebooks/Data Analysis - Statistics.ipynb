{
 "cells": [
  {
   "cell_type": "code",
   "execution_count": 1,
   "metadata": {},
   "outputs": [],
   "source": [
    "import networkx as nx\n",
    "import warnings\n",
    "import datetime\n",
    "import seaborn as sn\n",
    "sn.set()\n",
    "import pandas as pd\n",
    "import numpy as np\n",
    "import matplotlib.pyplot as plt\n",
    "from collections import Counter\n",
    "from ast import literal_eval\n",
    "import gmaps\n",
    "import gmaps.datasets\n",
    "from ipywidgets.embed import embed_minimal_html\n",
    "from sklearn.metrics import mean_absolute_error\n",
    "%matplotlib inline\n",
    "warnings.filterwarnings('ignore')"
   ]
  },
  {
   "cell_type": "code",
   "execution_count": 58,
   "metadata": {},
   "outputs": [],
   "source": [
    "waiting = []\n",
    "transfers = []\n",
    "duration = []\n",
    "\n",
    "for i in range(1, 11):\n",
    "    path = \"../../Results/Sc2Weekend/20/passengers_h20_sc2week_i\" + str(i) + \".csv\"\n",
    "    df = pd.read_csv(path)\n",
    "    waiting_list = df['waiting_time'].tolist()\n",
    "    transfer_list = df['transfers'].tolist()\n",
    "    duration_list = df['duration'].tolist()\n",
    "    waiting.append(np.mean(waiting_list))\n",
    "    transfers.append(np.mean(transfer_list))\n",
    "    duration.append(np.mean(duration_list))    "
   ]
  },
  {
   "cell_type": "code",
   "execution_count": 59,
   "metadata": {},
   "outputs": [
    {
     "name": "stdout",
     "output_type": "stream",
     "text": [
      "WAITING: 5.464685363471466\n",
      "TRANFERS: 0.6985768103809125\n",
      "DURATION: 16.99815822519883\n"
     ]
    }
   ],
   "source": [
    "print(\"WAITING:\", np.mean(waiting))\n",
    "print(\"TRANFERS:\", np.mean(transfers))\n",
    "print(\"DURATION:\", np.mean(duration))"
   ]
  },
  {
   "cell_type": "code",
   "execution_count": null,
   "metadata": {},
   "outputs": [],
   "source": []
  }
 ],
 "metadata": {
  "kernelspec": {
   "display_name": "Python 3",
   "language": "python",
   "name": "python3"
  },
  "language_info": {
   "codemirror_mode": {
    "name": "ipython",
    "version": 3
   },
   "file_extension": ".py",
   "mimetype": "text/x-python",
   "name": "python",
   "nbconvert_exporter": "python",
   "pygments_lexer": "ipython3",
   "version": "3.6.7"
  }
 },
 "nbformat": 4,
 "nbformat_minor": 2
}
