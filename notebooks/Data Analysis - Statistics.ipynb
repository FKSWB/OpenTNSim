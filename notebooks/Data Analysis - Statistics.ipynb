{
 "cells": [
  {
   "cell_type": "code",
   "execution_count": 19,
   "metadata": {},
   "outputs": [],
   "source": [
    "import networkx as nx\n",
    "import warnings\n",
    "import datetime\n",
    "import seaborn as sn\n",
    "sn.set()\n",
    "sn.set(font_scale=2)\n",
    "import pandas as pd\n",
    "import numpy as np\n",
    "import matplotlib.pyplot as plt\n",
    "from collections import Counter\n",
    "from ast import literal_eval\n",
    "import gmaps\n",
    "import gmaps.datasets\n",
    "from ipywidgets.embed import embed_minimal_html\n",
    "from sklearn.metrics import mean_absolute_error\n",
    "%matplotlib inline\n",
    "warnings.filterwarnings('ignore')"
   ]
  },
  {
   "cell_type": "code",
   "execution_count": 2,
   "metadata": {},
   "outputs": [],
   "source": [
    "def statistics(path):\n",
    "    waiting = []\n",
    "    transfers = []\n",
    "    duration = []\n",
    "\n",
    "    for i in range(1, 11):\n",
    "        filepath = path + str(i) + \".csv\"\n",
    "        df = pd.read_csv(filepath)\n",
    "        waiting_list = df['waiting_time'].tolist()\n",
    "        transfer_list = df['transfers'].tolist()\n",
    "        duration_list = df['duration'].tolist()\n",
    "        waiting += waiting_list\n",
    "        transfers += transfer_list\n",
    "        duration += duration_list\n",
    "\n",
    "    waiting_round = [round(x) for x in waiting]\n",
    "    transfers_round = [round(x) for x in transfers]\n",
    "    duration_round = [round(x) for x in duration]\n",
    "\n",
    "    return waiting_round, transfers_round, duration_round"
   ]
  },
  {
   "cell_type": "code",
   "execution_count": 3,
   "metadata": {},
   "outputs": [],
   "source": [
    "waiting1, transfers1, duration1 = statistics(\"../../Results/Sc1Weekend/20/passengers_h20_sc1week_i\")\n",
    "waiting2, transfers2, duration2 = statistics(\"../../Results/Sc2Weekend/20/passengers_h20_sc2week_i\")\n",
    "waiting3, transfers3, duration3 = statistics(\"../../Results/Sc1Week/20/passengers_h20_sc1week_i\")\n",
    "waiting4, transfers4, duration4 = statistics(\"../../Results/Sc2Week/20/passengers_h20_sc2week_i\")"
   ]
  },
  {
   "cell_type": "code",
   "execution_count": 12,
   "metadata": {},
   "outputs": [
    {
     "data": {
      "text/plain": [
       "Counter({1: 29286, 0: 25899, 2: 6995})"
      ]
     },
     "execution_count": 12,
     "metadata": {},
     "output_type": "execute_result"
    }
   ],
   "source": [
    "transfers1 = Counter(transfers1)\n",
    "transfers2 = Counter(transfers2)\n",
    "transfers3 = Counter(transfers3)\n",
    "transfers4 = Counter(transfers4)\n",
    "transfers4"
   ]
  },
  {
   "cell_type": "code",
   "execution_count": 13,
   "metadata": {},
   "outputs": [],
   "source": [
    "df1 = pd.DataFrame({'Transfers': [0, 1, 2], 'Scenario': 'Scenario 1', \n",
    "                    'Day': 'Weekends', 'Count': [29734, 33403, 8533]})\n",
    "df2 = pd.DataFrame({'Transfers': [0, 1, 2], 'Scenario': 'Scenario 2', \n",
    "                    'Day': 'Weekends', 'Count': [29897, 33479, 8294]})\n",
    "df3 = pd.DataFrame({'Transfers': [0, 1, 2], 'Scenario': 'Scenario 1', \n",
    "                    'Day': 'Weekdays', 'Count': [25910, 29125, 7145]})\n",
    "df4 = pd.DataFrame({'Transfers': [0, 1, 2], 'Scenario': 'Scenario 2', \n",
    "                    'Day': 'Weekdays', 'Count': [29286, 25899, 6995]})"
   ]
  },
  {
   "cell_type": "code",
   "execution_count": 14,
   "metadata": {},
   "outputs": [
    {
     "data": {
      "text/html": [
       "<div>\n",
       "<style scoped>\n",
       "    .dataframe tbody tr th:only-of-type {\n",
       "        vertical-align: middle;\n",
       "    }\n",
       "\n",
       "    .dataframe tbody tr th {\n",
       "        vertical-align: top;\n",
       "    }\n",
       "\n",
       "    .dataframe thead th {\n",
       "        text-align: right;\n",
       "    }\n",
       "</style>\n",
       "<table border=\"1\" class=\"dataframe\">\n",
       "  <thead>\n",
       "    <tr style=\"text-align: right;\">\n",
       "      <th></th>\n",
       "      <th>Transfers</th>\n",
       "      <th>Scenario</th>\n",
       "      <th>Day</th>\n",
       "      <th>Count</th>\n",
       "    </tr>\n",
       "  </thead>\n",
       "  <tbody>\n",
       "    <tr>\n",
       "      <th>0</th>\n",
       "      <td>0</td>\n",
       "      <td>Scenario 1</td>\n",
       "      <td>Weekends</td>\n",
       "      <td>29734</td>\n",
       "    </tr>\n",
       "    <tr>\n",
       "      <th>1</th>\n",
       "      <td>1</td>\n",
       "      <td>Scenario 1</td>\n",
       "      <td>Weekends</td>\n",
       "      <td>33403</td>\n",
       "    </tr>\n",
       "    <tr>\n",
       "      <th>2</th>\n",
       "      <td>2</td>\n",
       "      <td>Scenario 1</td>\n",
       "      <td>Weekends</td>\n",
       "      <td>8533</td>\n",
       "    </tr>\n",
       "    <tr>\n",
       "      <th>0</th>\n",
       "      <td>0</td>\n",
       "      <td>Scenario 2</td>\n",
       "      <td>Weekends</td>\n",
       "      <td>29897</td>\n",
       "    </tr>\n",
       "    <tr>\n",
       "      <th>1</th>\n",
       "      <td>1</td>\n",
       "      <td>Scenario 2</td>\n",
       "      <td>Weekends</td>\n",
       "      <td>33479</td>\n",
       "    </tr>\n",
       "    <tr>\n",
       "      <th>2</th>\n",
       "      <td>2</td>\n",
       "      <td>Scenario 2</td>\n",
       "      <td>Weekends</td>\n",
       "      <td>8294</td>\n",
       "    </tr>\n",
       "    <tr>\n",
       "      <th>0</th>\n",
       "      <td>0</td>\n",
       "      <td>Scenario 1</td>\n",
       "      <td>Weekdays</td>\n",
       "      <td>25910</td>\n",
       "    </tr>\n",
       "    <tr>\n",
       "      <th>1</th>\n",
       "      <td>1</td>\n",
       "      <td>Scenario 1</td>\n",
       "      <td>Weekdays</td>\n",
       "      <td>29125</td>\n",
       "    </tr>\n",
       "    <tr>\n",
       "      <th>2</th>\n",
       "      <td>2</td>\n",
       "      <td>Scenario 1</td>\n",
       "      <td>Weekdays</td>\n",
       "      <td>7145</td>\n",
       "    </tr>\n",
       "    <tr>\n",
       "      <th>0</th>\n",
       "      <td>0</td>\n",
       "      <td>Scenario 2</td>\n",
       "      <td>Weekdays</td>\n",
       "      <td>29286</td>\n",
       "    </tr>\n",
       "    <tr>\n",
       "      <th>1</th>\n",
       "      <td>1</td>\n",
       "      <td>Scenario 2</td>\n",
       "      <td>Weekdays</td>\n",
       "      <td>25899</td>\n",
       "    </tr>\n",
       "    <tr>\n",
       "      <th>2</th>\n",
       "      <td>2</td>\n",
       "      <td>Scenario 2</td>\n",
       "      <td>Weekdays</td>\n",
       "      <td>6995</td>\n",
       "    </tr>\n",
       "  </tbody>\n",
       "</table>\n",
       "</div>"
      ],
      "text/plain": [
       "   Transfers    Scenario       Day  Count\n",
       "0          0  Scenario 1  Weekends  29734\n",
       "1          1  Scenario 1  Weekends  33403\n",
       "2          2  Scenario 1  Weekends   8533\n",
       "0          0  Scenario 2  Weekends  29897\n",
       "1          1  Scenario 2  Weekends  33479\n",
       "2          2  Scenario 2  Weekends   8294\n",
       "0          0  Scenario 1  Weekdays  25910\n",
       "1          1  Scenario 1  Weekdays  29125\n",
       "2          2  Scenario 1  Weekdays   7145\n",
       "0          0  Scenario 2  Weekdays  29286\n",
       "1          1  Scenario 2  Weekdays  25899\n",
       "2          2  Scenario 2  Weekdays   6995"
      ]
     },
     "execution_count": 14,
     "metadata": {},
     "output_type": "execute_result"
    }
   ],
   "source": [
    "dfboxplot = pd.concat([df1, df2, df3, df4])\n",
    "dfboxplot"
   ]
  },
  {
   "cell_type": "code",
   "execution_count": 25,
   "metadata": {},
   "outputs": [
    {
     "data": {
      "text/plain": [
       "[Text(0,0,'Scenario 1'), Text(0,0,'Scenario 2')]"
      ]
     },
     "execution_count": 25,
     "metadata": {},
     "output_type": "execute_result"
    },
    {
     "data": {
      "image/png": "[encoded data removed]",
      "text/plain": [
       "<Figure size 720x360 with 1 Axes>"
      ]
     },
     "metadata": {},
     "output_type": "display_data"
    }
   ],
   "source": [
    "index = [\"Scenario 1\", \"Scenario 2\"]\n",
    "\n",
    "df = pd.DataFrame({'0': [25910, 29286],\n",
    "                  '1': [29125, 25899],\n",
    "                  '2': [7145, 6995]}, index=index)\n",
    "\n",
    "plot = df.plot.bar(figsize = [10,5], colors = sn.color_palette(\"Set2\", 7), width = 0.5)\n",
    "plot.set_xticklabels(index, rotation=0)"
   ]
  },
  {
   "cell_type": "code",
   "execution_count": null,
   "metadata": {},
   "outputs": [],
   "source": []
  }
 ],
 "metadata": {
  "kernelspec": {
   "display_name": "Python 3",
   "language": "python",
   "name": "python3"
  },
  "language_info": {
   "codemirror_mode": {
    "name": "ipython",
    "version": 3
   },
   "file_extension": ".py",
   "mimetype": "text/x-python",
   "name": "python",
   "nbconvert_exporter": "python",
   "pygments_lexer": "ipython3",
   "version": "3.6.7"
  }
 },
 "nbformat": 4,
 "nbformat_minor": 2
}
