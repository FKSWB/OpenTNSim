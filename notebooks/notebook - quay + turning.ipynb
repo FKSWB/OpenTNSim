{
 "cells": [
  {
   "cell_type": "code",
   "execution_count": 1,
   "metadata": {},
   "outputs": [],
   "source": [
    "# package(s) related to time, space and id\n",
    "import datetime, time\n",
    "import platform\n",
    "\n",
    "# you need these dependencies (you can get these from anaconda)\n",
    "# package(s) related to the simulation\n",
    "import simpy\n",
    "\n",
    "# spatial libraries \n",
    "import pyproj\n",
    "import shapely.geometry\n",
    "from simplekml import Kml, Style\n",
    "\n",
    "# package(s) for data handling\n",
    "import numpy as np\n",
    "import matplotlib.pyplot as plt\n",
    "\n",
    "# tranport network analysis package\n",
    "import transport_network_analysis.core as core\n",
    "\n",
    "# Used for mathematical functions\n",
    "import math             \n",
    "\n",
    "# Used for making the graph to visualize our problem\n",
    "import networkx as nx"
   ]
  },
  {
   "cell_type": "code",
   "execution_count": null,
   "metadata": {},
   "outputs": [],
   "source": [
    "class turning():\n",
    "    \n",
    "    def __init__(self, time):\n",
    "        self.time = time"
   ]
  },
  {
   "cell_type": "code",
   "execution_count": null,
   "metadata": {},
   "outputs": [],
   "source": [
    "class quay():\n",
    "    \n",
    "    def __init__(self, length, service):\n",
    "        self.length = length\n",
    "        self.service = service"
   ]
  },
  {
   "cell_type": "code",
   "execution_count": 3,
   "metadata": {},
   "outputs": [
    {
     "ename": "NameError",
     "evalue": "name 'node_4' is not defined",
     "output_type": "error",
     "traceback": [
      "\u001b[1;31m---------------------------------------------------------------------------\u001b[0m",
      "\u001b[1;31mNameError\u001b[0m                                 Traceback (most recent call last)",
      "\u001b[1;32m<ipython-input-3-9caf968f8c83>\u001b[0m in \u001b[0;36m<module>\u001b[1;34m\u001b[0m\n\u001b[0;32m     38\u001b[0m \u001b[1;31m# node_4 = Node(**data_node_)\u001b[0m\u001b[1;33m\u001b[0m\u001b[1;33m\u001b[0m\u001b[1;33m\u001b[0m\u001b[0m\n\u001b[0;32m     39\u001b[0m \u001b[1;33m\u001b[0m\u001b[0m\n\u001b[1;32m---> 40\u001b[1;33m \u001b[0mnodes\u001b[0m \u001b[1;33m=\u001b[0m \u001b[1;33m[\u001b[0m\u001b[0mnode_1\u001b[0m\u001b[1;33m,\u001b[0m \u001b[0mnode_2\u001b[0m\u001b[1;33m,\u001b[0m \u001b[0mnode_3\u001b[0m\u001b[1;33m,\u001b[0m \u001b[0mnode_4\u001b[0m\u001b[1;33m]\u001b[0m\u001b[1;33m\u001b[0m\u001b[1;33m\u001b[0m\u001b[0m\n\u001b[0m",
      "\u001b[1;31mNameError\u001b[0m: name 'node_4' is not defined"
     ]
    }
   ],
   "source": [
    "Node = type('Site', (core.Identifiable, core.Log, core.Locatable, core.HasResource), {})\n",
    "Turning = type('Turning', (core.IsTurningCircle, \n",
    "                           \n",
    "\n",
    "data_node_01 = {\"env\": [],\n",
    "               \"name\": \"anchorage\",\n",
    "               \"geometry\": shapely.geometry.Point(0, 0)}\n",
    "data_node_02 = {\"env\": [],\n",
    "               \"name\": \"Node 1\",\n",
    "               \"geometry\": shapely.geometry.Point(0, 200)}\n",
    "data_node_03 = {\"env\": [],\n",
    "               \"name\": \"Node 2\",\n",
    "               \"geometry\": shapely.geometry.Point(0, 400)}\n",
    "data_node_04 = {\"env\": [],\n",
    "               \"name\": \"Node 3\",\n",
    "               \"geometry\": shapely.geometry.Point(0, 500)}\n",
    "data_node_05 = {\"env\": [],\n",
    "               \"name\": \"tb5\",\n",
    "               \"geometry\": shapely.geometry.Point(0, 900)}\n",
    "data_node_06 = {\"env\": [],\n",
    "               \"name\": \"b52\",\n",
    "               \"geometry\": shapely.geometry.Point(-200, 900)}\n",
    "data_node_07 = {\"env\": [],\n",
    "               \"name\": \"tb7\",\n",
    "               \"geometry\": shapely.geometry.Point(0, 1200)}\n",
    "data_node_08 = {\"env\": [],\n",
    "               \"name\": \"b62\",\n",
    "               \"geometry\": shapely.geometry.Point(-200, 1200)}\n",
    "data_node_09 = {\"env\": [],\n",
    "               \"name\": \"tb9\",\n",
    "               \"geometry\": shapely.geometry.Point(0, 1500)}\n",
    "data_node_10 = {\"env\": [],\n",
    "               \"name\": \"b72\",\n",
    "               \"geometry\": shapely.geometry.Point(200, 1500)}\n",
    "\n",
    "anchor = Node(**data_node_01)\n",
    "node_1 = Node(**data_node_02)\n",
    "node_2 = Node(**data_node_03)\n",
    "node_3 = Node(**data_node_04)\n",
    "# node_4 = Node(**data_node_)\n",
    "\n",
    "nodes = [node_1, node_2, node_3]"
   ]
  }
 ],
 "metadata": {
  "kernelspec": {
   "display_name": "Python 3",
   "language": "python",
   "name": "python3"
  },
  "language_info": {
   "codemirror_mode": {
    "name": "ipython",
    "version": 3
   },
   "file_extension": ".py",
   "mimetype": "text/x-python",
   "name": "python",
   "nbconvert_exporter": "python",
   "pygments_lexer": "ipython3",
   "version": "3.7.1"
  }
 },
 "nbformat": 4,
 "nbformat_minor": 2
}
