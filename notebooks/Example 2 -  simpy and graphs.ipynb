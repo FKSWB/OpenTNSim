{
 "cells": [
  {
   "cell_type": "markdown",
   "metadata": {},
   "source": [
    "## Example 2 - Combining basic vessel class with simpy and graphs"
   ]
  },
  {
   "cell_type": "code",
   "execution_count": 1,
   "metadata": {},
   "outputs": [],
   "source": [
    "# package(s) related to time, space and id\n",
    "import datetime\n",
    "import platform\n",
    "\n",
    "# you need these dependencies (you can get these from anaconda)\n",
    "# package(s) related to the simulation\n",
    "import simpy\n",
    "\n",
    "# spatial libraries \n",
    "import shapely.geometry\n",
    "from simplekml import Kml, Style\n",
    "\n",
    "# package(s) for data handling\n",
    "import numpy as np\n",
    "\n",
    "# tranport network analysis package\n",
    "import transport_network_analysis.core as core\n",
    "\n",
    "# Used for mathematical functions\n",
    "import math             \n",
    "\n",
    "# Used for making the graph to visualize our problem\n",
    "import networkx as nx  "
   ]
  },
  {
   "cell_type": "markdown",
   "metadata": {},
   "source": [
    "### Create graph"
   ]
  },
  {
   "cell_type": "markdown",
   "metadata": {},
   "source": [
    "The cel below visualizes the problem. In graph theory the red dots are called *edges* and the lines are called *vertices*. Vessels (or any other object) move from edge 1 to edge 3 and from edge 4 to edge 2. The added complexity is that vertice 5-6 only allows traffic in one direction at a time. Vessels can travel simultanously in one direction."
   ]
  },
  {
   "cell_type": "code",
   "execution_count": 4,
   "metadata": {},
   "outputs": [
    {
     "data": {
      "image/png": "[encoded data removed]",
      "text/plain": [
       "<Figure size 432x288 with 1 Axes>"
      ]
     },
     "metadata": {},
     "output_type": "display_data"
    }
   ],
   "source": [
    "FG = nx.Graph()\n",
    "FG.add_edges_from([(2, 1)])\n",
    "nx.draw_shell(FG, with_labels=True, font_weight='bold')"
   ]
  },
  {
   "cell_type": "markdown",
   "metadata": {},
   "source": [
    "### Make classes"
   ]
  },
  {
   "cell_type": "code",
   "execution_count": 18,
   "metadata": {},
   "outputs": [],
   "source": [
    "class edge(object):\n",
    "    \"\"\"Every edge has a location\"\"\"\n",
    "    \n",
    "    def __init__(self, name, x, y):\n",
    "        self.name = name\n",
    "        self.x = x\n",
    "        self.y = y"
   ]
  },
  {
   "cell_type": "code",
   "execution_count": 19,
   "metadata": {},
   "outputs": [],
   "source": [
    "class vertice(object):\n",
    "    \"\"\"Every edge is connected to another node via a vertice\"\"\"\n",
    "    \n",
    "    def __init__(self, env, edge_1, edge_2, resources=10, pass_limits=False):\n",
    "        self.env = env\n",
    "        self.edge_1 = edge_1\n",
    "        self.edge_2 = edge_2\n",
    "        self.distance = math.sqrt((edge_1.x - edge_2.x) ** 2 + (edge_1.y - edge_2.y) ** 2)\n",
    "        self.resources = simpy.Resource(env, resources)\n",
    "        \n",
    "        if pass_limits == True:\n",
    "            self.pass_limits = simpy.Resource(env, 1)\n",
    "            self.pass_direction = None\n",
    "        else:\n",
    "            self.pass_limits = False\n",
    "            self.pass_direction = None\n",
    "    \n",
    "    def pass_vertice(self, traveller, from_edge, to_edge):\n",
    "        \"\"\"To pass a vertice you have to travel and check whether passing is possible.\n",
    "        \n",
    "        If traffic is one-way, this should be checked.\n",
    "        \"\"\"\n",
    "        if (from_edge != self.edge_1 and from_edge != self.edge_2) or \\\n",
    "           (to_edge != self.edge_1 and to_edge != self.edge_2):\n",
    "            print(\"BREAK THE FUNCTION\")\n",
    "            \n",
    "        if self.pass_direction == \"{} to {}\".format(from_edge, to_edge) or self.pass_limits == False:\n",
    "            print(\"{} - {} has passed edge {} and is now at edge {}.\".format(self.env.now, traveller.name, from_edge.name, to_edge.name))\n",
    "\n",
    "            yield self.env.timeout(self.distance / traveller.speed)\n",
    "            traveller.location = to_edge\n",
    "            traveller.log_entry(\"Passed vertice\", to_edge, self.env.now)\n",
    "        \n",
    "        else:\n",
    "            arrive = self.env.now\n",
    "            with self.pass_limits.request() as request:\n",
    "                yield request\n",
    "                \n",
    "                print(\"\")\n",
    "                print(\"Traffic now moves from {} to {}\".format(from_edge.name, to_edge.name))\n",
    "                print(\"{} - {} has passed edge {} and is now at edge {}.\".format(self.env.now, traveller.name, from_edge.name, to_edge.name))\n",
    "                \n",
    "                if arrive != self.env.now:\n",
    "                    traveller.log_entry(\"Waiting to pass vertice\", to_edge, self.env.now)\n",
    "                \n",
    "                yield self.env.timeout(self.distance / traveller.speed)\n",
    "                traveller.location = to_edge\n",
    "                traveller.log_entry(\"Passed vertice\", to_edge, self.env.now)"
   ]
  },
  {
   "cell_type": "code",
   "execution_count": 20,
   "metadata": {},
   "outputs": [],
   "source": [
    "class vessel(object):\n",
    "    \"\"\"Vessels are the objects that move over the vertices\"\"\"\n",
    "    \n",
    "    def __init__(self, env, name, speed, origin, destination, path):\n",
    "        self.env = env\n",
    "        self.name = name\n",
    "        self.speed = speed\n",
    "        self.location = origin\n",
    "        self.destination = destination\n",
    "        self.path = path \n",
    "        \n",
    "        self.log = []\n",
    "        self.loc = []\n",
    "        self.t = []\n",
    "        \n",
    "    def move(self, vertice):\n",
    "        \"\"\"Move from one edge to another, passing a vertice\"\"\"\n",
    "        if self.location == vertice.edge_1:\n",
    "                local_destination = vertice.edge_2\n",
    "        else:\n",
    "            local_destination = vertice.edge_1\n",
    "\n",
    "        with vertice.resources.request() as request:\n",
    "            yield request\n",
    "        \n",
    "            yield from vertice.pass_vertice(self, self.location, local_destination)\n",
    "    \n",
    "    def log_entry(self, log, location, t):\n",
    "        \"\"\"Logging the information\"\"\"\n",
    "        self.log.append(log)\n",
    "        self.loc.append(location)\n",
    "        self.t.append(t)"
   ]
  },
  {
   "cell_type": "code",
   "execution_count": 21,
   "metadata": {},
   "outputs": [],
   "source": [
    "def start(env, vessel):\n",
    "    for vertice in vessel.path:\n",
    "        yield from vessel.move(vertice)\n",
    "        \n",
    "        if vessel.location == vessel.destination:\n",
    "            break"
   ]
  },
  {
   "cell_type": "markdown",
   "metadata": {},
   "source": [
    "### Define environment"
   ]
  },
  {
   "cell_type": "code",
   "execution_count": 22,
   "metadata": {},
   "outputs": [],
   "source": [
    "env = simpy.Environment()"
   ]
  },
  {
   "cell_type": "code",
   "execution_count": 23,
   "metadata": {},
   "outputs": [],
   "source": [
    "edge_1 = edge(\"1\", 0, 2)\n",
    "edge_2 = edge(\"2\", 3, 2)\n",
    "edge_3 = edge(\"3\", 0, 0)\n",
    "edge_4 = edge(\"4\", 3, 0)\n",
    "edge_5 = edge(\"5\", 1, 1)\n",
    "edge_6 = edge(\"6\", 2, 1)"
   ]
  },
  {
   "cell_type": "code",
   "execution_count": 24,
   "metadata": {},
   "outputs": [],
   "source": [
    "vertice_1_5 = vertice(env, edge_1, edge_5)\n",
    "vertice_2_6 = vertice(env, edge_2, edge_6)\n",
    "vertice_3_5 = vertice(env, edge_3, edge_5)\n",
    "vertice_4_6 = vertice(env, edge_4, edge_6)\n",
    "vertice_5_6 = vertice(env, edge_5, edge_6, pass_limits = True)"
   ]
  },
  {
   "cell_type": "code",
   "execution_count": 25,
   "metadata": {},
   "outputs": [],
   "source": [
    "path_1 = [vertice_1_5, vertice_5_6, vertice_2_6]\n",
    "path_2 = [vertice_4_6, vertice_5_6, vertice_3_5]"
   ]
  },
  {
   "cell_type": "code",
   "execution_count": 26,
   "metadata": {},
   "outputs": [],
   "source": [
    "vessel_1 = vessel(env, \"Vessel 1\", 3, edge_1, edge_2, path_1)\n",
    "vessel_2 = vessel(env, \"Vessel 2\", 3, edge_4, edge_3, path_2)"
   ]
  },
  {
   "cell_type": "markdown",
   "metadata": {},
   "source": [
    "### Run simulation"
   ]
  },
  {
   "cell_type": "code",
   "execution_count": 27,
   "metadata": {
    "scrolled": false
   },
   "outputs": [
    {
     "name": "stdout",
     "output_type": "stream",
     "text": [
      "0 - Vessel 1 has passed edge 1 and is now at edge 5.\n",
      "0 - Vessel 2 has passed edge 4 and is now at edge 6.\n",
      "\n",
      "Traffic now moves from 5 to 6\n",
      "0.47140452079103173 - Vessel 1 has passed edge 5 and is now at edge 6.\n",
      "0.804737854124365 - Vessel 1 has passed edge 6 and is now at edge 2.\n",
      "\n",
      "Traffic now moves from 6 to 5\n",
      "0.804737854124365 - Vessel 2 has passed edge 6 and is now at edge 5.\n",
      "1.1380711874576983 - Vessel 2 has passed edge 5 and is now at edge 3.\n"
     ]
    }
   ],
   "source": [
    "env.process(start(env, vessel_1))\n",
    "env.process(start(env, vessel_2))\n",
    "\n",
    "env.run()"
   ]
  },
  {
   "cell_type": "code",
   "execution_count": 28,
   "metadata": {},
   "outputs": [
    {
     "name": "stdout",
     "output_type": "stream",
     "text": [
      "Passed vertice 0.47140452079103173\n",
      "Passed vertice 0.804737854124365\n",
      "Passed vertice 1.2761423749153968\n"
     ]
    }
   ],
   "source": [
    "for i in range(len(vessel_1.log)):\n",
    "    print(vessel_1.log[i], vessel_1.t[i])"
   ]
  },
  {
   "cell_type": "code",
   "execution_count": 29,
   "metadata": {},
   "outputs": [
    {
     "name": "stdout",
     "output_type": "stream",
     "text": [
      "Passed vertice 0.47140452079103173\n",
      "Waiting to pass vertice 0.804737854124365\n",
      "Passed vertice 1.1380711874576983\n",
      "Passed vertice 1.60947570824873\n"
     ]
    }
   ],
   "source": [
    "for i in range(len(vessel_2.log)):\n",
    "    print(vessel_2.log[i], vessel_2.t[i])"
   ]
  }
 ],
 "metadata": {
  "kernelspec": {
   "display_name": "Python 3",
   "language": "python",
   "name": "python3"
  },
  "language_info": {
   "codemirror_mode": {
    "name": "ipython",
    "version": 3
   },
   "file_extension": ".py",
   "mimetype": "text/x-python",
   "name": "python",
   "nbconvert_exporter": "python",
   "pygments_lexer": "ipython3",
   "version": "3.6.3"
  }
 },
 "nbformat": 4,
 "nbformat_minor": 2
}
