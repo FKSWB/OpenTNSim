{
 "cells": [
  {
   "cell_type": "markdown",
   "metadata": {},
   "source": [
    "## Example 09 - Multiple vessels - edge constraints"
   ]
  },
  {
   "cell_type": "markdown",
   "metadata": {},
   "source": [
    "### Imports\n",
    "Import the required libraries"
   ]
  },
  {
   "cell_type": "code",
   "execution_count": 26,
   "metadata": {},
   "outputs": [],
   "source": [
    "# package(s) related to time, space and id\n",
    "import datetime, time\n",
    "import platform\n",
    "import random\n",
    "import os\n",
    "\n",
    "# you need these dependencies (you can get these from anaconda)\n",
    "# package(s) related to the simulation\n",
    "import simpy\n",
    "\n",
    "# spatial libraries \n",
    "import pyproj\n",
    "import shapely.geometry\n",
    "from simplekml import Kml, Style\n",
    "\n",
    "# package(s) for data handling\n",
    "import pandas as pd\n",
    "import numpy as np\n",
    "import matplotlib.pyplot as plt\n",
    "import matplotlib.animation as animation\n",
    "\n",
    "# tranport network analysis package\n",
    "import transport_network_analysis.core as core\n",
    "import transport_network_analysis.graph_module as graph_module\n",
    "\n",
    "# Used for mathematical functions\n",
    "import math             \n",
    "\n",
    "# Used for making the graph to visualize our problem\n",
    "import networkx as nx \n",
    "\n",
    "# Start simpy environment\n",
    "# env = simpy.Environment()\n",
    "simulation_start = datetime.datetime.now()\n",
    "env = simpy.Environment(initial_time = time.mktime(simulation_start.timetuple()))\n"
   ]
  },
  {
   "cell_type": "markdown",
   "metadata": {},
   "source": [
    "### Create graph"
   ]
  },
  {
   "cell_type": "markdown",
   "metadata": {},
   "source": [
    "The cel below visualizes the problem. In graph theory the red dots are called *edges* and the lines are called *vertices*. Vessels (or any other object) move from edge 1 to edge 3 and from edge 4 to edge 2. The added complexity is that vertice 5-6 only allows traffic in one direction at a time. Vessels can travel simultanously in one direction.\n",
    "\n",
    "**Important**: \n",
    "\n",
    "If you use windows and get the following error \"ImportError: read_shp requires OGR: http://www.gdal.org/\", you probably have [this issue](https://github.com/conda-forge/gdal-feedstock/issues/219). Solving it is possible by running the following commands in your terminal (as explained [here](https://gis.stackexchange.com/questions/294231/installing-gdal-with-anaconda)):\n",
    "\n",
    "```bash\n",
    "#Create a new virtual environment\n",
    "conda create -n testgdal -c conda-forge gdal vs2015_runtime=14\n",
    "\n",
    "#Activate virtual environment\n",
    "activate testgdal\n",
    "\n",
    "#Open Jupyter notebook\n",
    "jupyer notebook\n",
    "```"
   ]
  },
  {
   "cell_type": "code",
   "execution_count": 27,
   "metadata": {},
   "outputs": [
    {
     "data": {
      "image/png": "[encoded data removed]",
      "text/plain": [
       "<Figure size 1080x360 with 1 Axes>"
      ]
     },
     "metadata": {},
     "output_type": "display_data"
    }
   ],
   "source": [
    "# Make networkx variable\n",
    "graph = graph_module.Graph()\n",
    "graph.graph = graph.graph.to_directed()\n",
    "\n",
    "# Add graph nodes and edges\n",
    "# Add nodes\n",
    "node_1 = {\"Name\": \"Node 1\", \"Geometry\": shapely.geometry.Point(00.0000, 0)}\n",
    "node_2 = {\"Name\": \"Node 2\", \"Geometry\": shapely.geometry.Point(00.0008, 0)}\n",
    "node_3 = {\"Name\": \"Node 3\", \"Geometry\": shapely.geometry.Point(00.0016, 0)} # lock part 1\n",
    "node_4 = {\"Name\": \"Node 4\", \"Geometry\": shapely.geometry.Point(00.0020, 0)} # lock part 2\n",
    "node_5 = {\"Name\": \"Node 5\", \"Geometry\": shapely.geometry.Point(00.0028, 0)}\n",
    "node_6 = {\"Name\": \"Node 6\", \"Geometry\": shapely.geometry.Point(00.0036, 0)}\n",
    "\n",
    "nodes = [node_1, node_2, node_3, node_4, node_5, node_6]\n",
    "\n",
    "for node in nodes:\n",
    "    graph.graph.add_node(node[\"Name\"], \n",
    "                         geometry = node[\"Geometry\"], \n",
    "                         Position = (node[\"Geometry\"].x, node[\"Geometry\"].y))\n",
    "\n",
    "# Add edges\n",
    "edge_1_2 = [node_1, node_2, \"Canal\", simpy.Resource(env, capacity = math.inf)]\n",
    "edge_2_1 = [node_2, node_1, \"Canal\", simpy.Resource(env, capacity = math.inf)]\n",
    "\n",
    "edge_2_3 = [node_2, node_3, \"Waiting Area\", simpy.Resource(env, capacity = 1)]\n",
    "edge_3_2 = [node_3, node_2, \"Canal\", simpy.Resource(env, capacity = math.inf)]\n",
    "\n",
    "shared_resource = simpy.PriorityResource(env, capacity = 1)\n",
    "edge_3_4 = [node_3, node_4, \"Lock\", shared_resource]\n",
    "edge_4_3 = [node_4, node_3, \"Lock\", shared_resource]\n",
    "\n",
    "edge_4_5 = [node_4, node_5, \"Canal\", simpy.Resource(env, capacity = math.inf)]\n",
    "edge_5_4 = [node_5, node_4, \"Waiting Area\", simpy.Resource(env, capacity = 1)]\n",
    "\n",
    "edge_5_6 = [node_5, node_6, \"Canal\", simpy.Resource(env, capacity = math.inf)]\n",
    "edge_6_5 = [node_6, node_5, \"Canal\", simpy.Resource(env, capacity = math.inf)]\n",
    "\n",
    "edges = [edge_1_2, edge_2_1,\n",
    "         edge_2_3, edge_3_2,\n",
    "         edge_3_4, edge_4_3,\n",
    "         edge_4_5, edge_5_4,\n",
    "         edge_5_6, edge_6_5]\n",
    "\n",
    "for edge in edges:\n",
    "    graph.graph.add_edge(edge[0][\"Name\"], edge[1][\"Name\"], \n",
    "                         Object = edge[2], weight = 1, Resources = edge[3])\n",
    "    \n",
    "# Plot the graph\n",
    "graph.plot(size = [15, 5], arrowsize = 15)"
   ]
  },
  {
   "cell_type": "markdown",
   "metadata": {},
   "source": [
    "### Make vessels and paths"
   ]
  },
  {
   "cell_type": "code",
   "execution_count": 28,
   "metadata": {},
   "outputs": [],
   "source": [
    "paths = []\n",
    "\n",
    "path = nx.dijkstra_path(graph.graph, node_1[\"Name\"], node_6[\"Name\"])\n",
    "paths.append(path)\n",
    "paths.append(path)\n",
    "paths.append(path)\n",
    "\n",
    "path = nx.dijkstra_path(graph.graph, node_6[\"Name\"], node_1[\"Name\"])\n",
    "paths.append(path)\n",
    "paths.append(path)\n",
    "paths.append(path)"
   ]
  },
  {
   "cell_type": "code",
   "execution_count": 29,
   "metadata": {},
   "outputs": [],
   "source": [
    "# Make a class out of mix-ins\n",
    "TransportResource = type('TransportResource', \n",
    "                         (core.Identifiable, core.Log, core.ContainerDependentMovable, \n",
    "                          core.HasResource, core.Routeable), {})\n",
    "\n",
    "\n",
    "\n",
    "# For testing purposes we only want v to be 1\n",
    "def compute_v_provider(v_empty, v_full):\n",
    "    return lambda x: (v_empty + v_full) / 2\n",
    "\n",
    "data_vessel = {\"env\": None,\n",
    "               \"name\": \"Vessel\",\n",
    "               \"route\": None,\n",
    "               \"geometry\": shapely.geometry.Point(0, 0),  # lon, lat\n",
    "               \"capacity\": 1_000,\n",
    "               \"compute_v\": compute_v_provider(v_empty=0.05, v_full=0.05)}\n",
    "\n",
    "vessels = []\n",
    "for i in range(6):\n",
    "    vessel = TransportResource(**data_vessel)\n",
    "    vessel.name = \"Vessel \" + str(i + 1)\n",
    "    vessels.append(vessel)"
   ]
  },
  {
   "cell_type": "markdown",
   "metadata": {},
   "source": [
    "### Start simulation"
   ]
  },
  {
   "cell_type": "code",
   "execution_count": 30,
   "metadata": {},
   "outputs": [],
   "source": [
    "def start(env, vessel):\n",
    "    while True:\n",
    "        vessel.log_entry(\"Start sailing\", env.now, \"\", vessel.geometry)\n",
    "        yield from vessel.move()\n",
    "        vessel.log_entry(\"Stop sailing\", env.now, \"\", vessel.geometry)\n",
    "        \n",
    "        if vessel.geometry == nx.get_node_attributes(graph.graph, \"geometry\")[vessel.route[-1]]:\n",
    "            break"
   ]
  },
  {
   "cell_type": "code",
   "execution_count": 31,
   "metadata": {
    "scrolled": false
   },
   "outputs": [],
   "source": [
    "#graph.add_resources(list(graph.graph.edges), resources, env)\n",
    "env.FG = graph.graph\n",
    "\n",
    "for i, vessel in enumerate(vessels):\n",
    "    # Add environment and path to the vessel\n",
    "    vessel.env = env\n",
    "    vessel.route = paths[i]\n",
    "    \n",
    "    vessel.geometry = nx.get_node_attributes(graph.graph, \"geometry\")[paths[i][0]]\n",
    "\n",
    "    # Add the movements of the vessel to the simulation\n",
    "    env.process(start(env, vessel))\n",
    "\n",
    "# env.epoch = datetime.datetime.now()\n",
    "env.epoch = time.mktime(simulation_start.timetuple())\n",
    "\n",
    "env.run()"
   ]
  },
  {
   "cell_type": "markdown",
   "metadata": {},
   "source": [
    "### Obtain vessel log information\n",
    "The cel below uses the vessel log. The core function *log_entry* is used, which takes four arguments:\n",
    "\n",
    "- **Log.** A text to describe what is logged.\n",
    "- **t.** The timestamp.\n",
    "- **Value.**  The value for the log (for sailing this is the distance).\n",
    "- **Geometry** The location of the vessel while loggin."
   ]
  },
  {
   "cell_type": "code",
   "execution_count": 32,
   "metadata": {},
   "outputs": [
    {
     "name": "stdout",
     "output_type": "stream",
     "text": [
      "Vessel 1 - finished after 1549838900 seconds.\n",
      "Vessel 2 - finished after 1549847300 seconds.\n",
      "Vessel 3 - finished after 1549863500 seconds.\n",
      "Vessel 4 - finished after 1549841900 seconds.\n",
      "Vessel 5 - finished after 1549852700 seconds.\n",
      "Vessel 6 - finished after 1549858100 seconds.\n"
     ]
    }
   ],
   "source": [
    "for vessel in vessels:\n",
    "    print(vessel.name, \"- finished after\", int(vessel.log[\"Timestamp\"][-1].timestamp()), \"seconds.\")"
   ]
  },
  {
   "cell_type": "markdown",
   "metadata": {},
   "source": [
    "### Visualization of path\n",
    "If you get an error regarding ffmpeg use [this](https://stackoverflow.com/questions/13316397/matplotlib-animation-no-moviewriters-available) answer. You have to install ffmpeg in your Conda environment. It can be done using the following command.\n",
    "\n",
    "```bash\n",
    "#Install ffmpeg using Conda\n",
    "conda install -c conda-forge ffmpeg\n",
    "```"
   ]
  },
  {
   "cell_type": "code",
   "execution_count": 36,
   "metadata": {},
   "outputs": [],
   "source": [
    "for vessel in vessels:\n",
    "    geom_x = []\n",
    "    geom_y = []\n",
    "\n",
    "    for geom in vessel.log[\"Geometry\"]:\n",
    "        geom_x.append(geom.x)\n",
    "        geom_y.append(geom.y)\n",
    "\n",
    "    vessel.log[\"Geometry - x\"] = geom_x\n",
    "    vessel.log[\"Geometry - y\"] = geom_y\n",
    "\n",
    "    time_stamp_min = min(vessel.log[\"Timestamp\"]).timestamp()\n",
    "    time_stamp_max = max(vessel.log[\"Timestamp\"]).timestamp()\n",
    "\n",
    "    steps = int(np.floor((time_stamp_max - time_stamp_min) / stepsize))\n",
    "    timestamps_t = np.linspace(time_stamp_min, time_stamp_max, steps)\n",
    "\n",
    "    times = []\n",
    "    for t in vessel.log[\"Timestamp\"]:\n",
    "        times.append(t.timestamp())\n",
    "\n",
    "    vessel.log[\"timestamps_t\"] = timestamps_t\n",
    "    vessel.log[\"timestamps_x\"] = np.interp(timestamps_t, times, vessel.log[\"Geometry - x\"])\n",
    "    vessel.log[\"timestamps_y\"] = np.interp(timestamps_t, times, vessel.log[\"Geometry - y\"])"
   ]
  },
  {
   "cell_type": "code",
   "execution_count": 37,
   "metadata": {},
   "outputs": [
    {
     "ename": "IndexError",
     "evalue": "index 1012 is out of bounds for axis 0 with size 1012",
     "output_type": "error",
     "traceback": [
      "\u001b[1;31m---------------------------------------------------------------------------\u001b[0m",
      "\u001b[1;31mIndexError\u001b[0m                                Traceback (most recent call last)",
      "\u001b[1;32m<timed exec>\u001b[0m in \u001b[0;36m<module>\u001b[1;34m()\u001b[0m\n",
      "\u001b[1;32mc:\\users\\mrv\\appdata\\local\\continuum\\miniconda3\\lib\\site-packages\\matplotlib\\animation.py\u001b[0m in \u001b[0;36msave\u001b[1;34m(self, filename, writer, fps, dpi, codec, bitrate, extra_args, metadata, extra_anim, savefig_kwargs)\u001b[0m\n\u001b[0;32m   1171\u001b[0m                     \u001b[1;32mfor\u001b[0m \u001b[0manim\u001b[0m\u001b[1;33m,\u001b[0m \u001b[0md\u001b[0m \u001b[1;32min\u001b[0m \u001b[0mzip\u001b[0m\u001b[1;33m(\u001b[0m\u001b[0mall_anim\u001b[0m\u001b[1;33m,\u001b[0m \u001b[0mdata\u001b[0m\u001b[1;33m)\u001b[0m\u001b[1;33m:\u001b[0m\u001b[1;33m\u001b[0m\u001b[0m\n\u001b[0;32m   1172\u001b[0m                         \u001b[1;31m# TODO: See if turning off blit is really necessary\u001b[0m\u001b[1;33m\u001b[0m\u001b[1;33m\u001b[0m\u001b[0m\n\u001b[1;32m-> 1173\u001b[1;33m                         \u001b[0manim\u001b[0m\u001b[1;33m.\u001b[0m\u001b[0m_draw_next_frame\u001b[0m\u001b[1;33m(\u001b[0m\u001b[0md\u001b[0m\u001b[1;33m,\u001b[0m \u001b[0mblit\u001b[0m\u001b[1;33m=\u001b[0m\u001b[1;32mFalse\u001b[0m\u001b[1;33m)\u001b[0m\u001b[1;33m\u001b[0m\u001b[0m\n\u001b[0m\u001b[0;32m   1174\u001b[0m                     \u001b[0mwriter\u001b[0m\u001b[1;33m.\u001b[0m\u001b[0mgrab_frame\u001b[0m\u001b[1;33m(\u001b[0m\u001b[1;33m**\u001b[0m\u001b[0msavefig_kwargs\u001b[0m\u001b[1;33m)\u001b[0m\u001b[1;33m\u001b[0m\u001b[0m\n\u001b[0;32m   1175\u001b[0m \u001b[1;33m\u001b[0m\u001b[0m\n",
      "\u001b[1;32mc:\\users\\mrv\\appdata\\local\\continuum\\miniconda3\\lib\\site-packages\\matplotlib\\animation.py\u001b[0m in \u001b[0;36m_draw_next_frame\u001b[1;34m(self, framedata, blit)\u001b[0m\n\u001b[0;32m   1208\u001b[0m         \u001b[1;31m# post- draw, as well as the drawing of the frame itself.\u001b[0m\u001b[1;33m\u001b[0m\u001b[1;33m\u001b[0m\u001b[0m\n\u001b[0;32m   1209\u001b[0m         \u001b[0mself\u001b[0m\u001b[1;33m.\u001b[0m\u001b[0m_pre_draw\u001b[0m\u001b[1;33m(\u001b[0m\u001b[0mframedata\u001b[0m\u001b[1;33m,\u001b[0m \u001b[0mblit\u001b[0m\u001b[1;33m)\u001b[0m\u001b[1;33m\u001b[0m\u001b[0m\n\u001b[1;32m-> 1210\u001b[1;33m         \u001b[0mself\u001b[0m\u001b[1;33m.\u001b[0m\u001b[0m_draw_frame\u001b[0m\u001b[1;33m(\u001b[0m\u001b[0mframedata\u001b[0m\u001b[1;33m)\u001b[0m\u001b[1;33m\u001b[0m\u001b[0m\n\u001b[0m\u001b[0;32m   1211\u001b[0m         \u001b[0mself\u001b[0m\u001b[1;33m.\u001b[0m\u001b[0m_post_draw\u001b[0m\u001b[1;33m(\u001b[0m\u001b[0mframedata\u001b[0m\u001b[1;33m,\u001b[0m \u001b[0mblit\u001b[0m\u001b[1;33m)\u001b[0m\u001b[1;33m\u001b[0m\u001b[0m\n\u001b[0;32m   1212\u001b[0m \u001b[1;33m\u001b[0m\u001b[0m\n",
      "\u001b[1;32mc:\\users\\mrv\\appdata\\local\\continuum\\miniconda3\\lib\\site-packages\\matplotlib\\animation.py\u001b[0m in \u001b[0;36m_draw_frame\u001b[1;34m(self, framedata)\u001b[0m\n\u001b[0;32m   1760\u001b[0m         \u001b[1;31m# Call the func with framedata and args. If blitting is desired,\u001b[0m\u001b[1;33m\u001b[0m\u001b[1;33m\u001b[0m\u001b[0m\n\u001b[0;32m   1761\u001b[0m         \u001b[1;31m# func needs to return a sequence of any artists that were modified.\u001b[0m\u001b[1;33m\u001b[0m\u001b[1;33m\u001b[0m\u001b[0m\n\u001b[1;32m-> 1762\u001b[1;33m         \u001b[0mself\u001b[0m\u001b[1;33m.\u001b[0m\u001b[0m_drawn_artists\u001b[0m \u001b[1;33m=\u001b[0m \u001b[0mself\u001b[0m\u001b[1;33m.\u001b[0m\u001b[0m_func\u001b[0m\u001b[1;33m(\u001b[0m\u001b[0mframedata\u001b[0m\u001b[1;33m,\u001b[0m \u001b[1;33m*\u001b[0m\u001b[0mself\u001b[0m\u001b[1;33m.\u001b[0m\u001b[0m_args\u001b[0m\u001b[1;33m)\u001b[0m\u001b[1;33m\u001b[0m\u001b[0m\n\u001b[0m\u001b[0;32m   1763\u001b[0m         \u001b[1;32mif\u001b[0m \u001b[0mself\u001b[0m\u001b[1;33m.\u001b[0m\u001b[0m_blit\u001b[0m\u001b[1;33m:\u001b[0m\u001b[1;33m\u001b[0m\u001b[0m\n\u001b[0;32m   1764\u001b[0m             \u001b[1;32mif\u001b[0m \u001b[0mself\u001b[0m\u001b[1;33m.\u001b[0m\u001b[0m_drawn_artists\u001b[0m \u001b[1;32mis\u001b[0m \u001b[1;32mNone\u001b[0m\u001b[1;33m:\u001b[0m\u001b[1;33m\u001b[0m\u001b[0m\n",
      "\u001b[1;32m<timed exec>\u001b[0m in \u001b[0;36manimate\u001b[1;34m(i)\u001b[0m\n",
      "\u001b[1;31mIndexError\u001b[0m: index 1012 is out of bounds for axis 0 with size 1012"
     ]
    },
    {
     "data": {
      "image/png": "[encoded data removed]",
      "text/plain": [
       "<Figure size 864x864 with 1 Axes>"
      ]
     },
     "metadata": {},
     "output_type": "display_data"
    }
   ],
   "source": [
    "%%time\n",
    "\n",
    "# Make the animation\n",
    "fig = plt.figure(figsize = [12, 12])\n",
    "\n",
    "nx.draw(graph.graph, nx.get_node_attributes(graph.graph, 'Position'), \n",
    "        with_labels = False, \n",
    "        node_size = 0.5,\n",
    "        font_size = 2, \n",
    "        width = 0.2, \n",
    "        arrowsize = 3)\n",
    "\n",
    "\n",
    "location_1, = plt.plot([], [], color = \"#1f77b4\", marker = \"o\", markersize=15)\n",
    "path_1,     = plt.plot([], [], color = \"#1f77b4\")\n",
    "\n",
    "location_2, = plt.plot([], [], color = \"#ff7f0e\", marker = \"o\", markersize=15)\n",
    "path_2,     = plt.plot([], [], color = \"#ff7f0e\")\n",
    "\n",
    "location_3, = plt.plot([], [], color = \"#2ca02c\", marker = \"o\", markersize=15)\n",
    "path_3,     = plt.plot([], [], color = \"#2ca02c\")\n",
    "\n",
    "location_4, = plt.plot([], [], color = \"#d62728\", marker = \"o\", markersize=15)\n",
    "path_4,     = plt.plot([], [], color = \"#d62728\")\n",
    "\n",
    "location_5, = plt.plot([], [], color = \"#9467bd\", marker = \"o\", markersize=15)\n",
    "path_5,     = plt.plot([], [], color = \"#9467bd\")\n",
    "\n",
    "def init():\n",
    "    location_1.set_data([], [])\n",
    "    path_1.set_data([], [])\n",
    "    \n",
    "    location_2.set_data([], [])\n",
    "    path_2.set_data([], [])\n",
    "    \n",
    "    location_3.set_data([], [])\n",
    "    path_3.set_data([], [])\n",
    "    \n",
    "    location_4.set_data([], [])\n",
    "    path_4.set_data([], [])\n",
    "    \n",
    "    location_5.set_data([], [])\n",
    "    path_5.set_data([], [])\n",
    "\n",
    "def animate(i):\n",
    "    for j, vessel in enumerate(vessels):\n",
    "        this_x = [vessel.log[\"timestamps_x\"][i]]\n",
    "        this_y = [vessel.log[\"timestamps_y\"][i]]\n",
    "\n",
    "        past_x = [x for x in vessel.log[\"timestamps_x\"][:i]]\n",
    "        past_y = [y for y in vessel.log[\"timestamps_y\"][:i]]\n",
    "\n",
    "        if j == 0:\n",
    "            location_1.set_data(this_x, this_y)\n",
    "            path_1.set_data(past_x, past_y)\n",
    "        elif j == 1:\n",
    "            location_2.set_data(this_x, this_y)\n",
    "            path_2.set_data(past_x, past_y)\n",
    "        elif j == 2:\n",
    "            location_3.set_data(this_x, this_y)\n",
    "            path_3.set_data(past_x, past_y)\n",
    "        elif j == 3:\n",
    "            location_4.set_data(this_x, this_y)\n",
    "            path_4.set_data(past_x, past_y)\n",
    "        elif j == 4:\n",
    "            location_5.set_data(this_x, this_y)\n",
    "            path_5.set_data(past_x, past_y)\n",
    "\n",
    "    return location_1, location_2, location_3, location_4, location_5, path_1, path_2, path_3, path_4, path_5\n",
    "    \n",
    "        \n",
    "ani = animation.FuncAnimation(fig, animate, np.arange(0, len(timestamps_t)), init_func=init)\n",
    "ani.save('Lock - example 10.mp4', fps=5)"
   ]
  }
 ],
 "metadata": {
  "kernelspec": {
   "display_name": "Python 3",
   "language": "python",
   "name": "python3"
  },
  "language_info": {
   "codemirror_mode": {
    "name": "ipython",
    "version": 3
   },
   "file_extension": ".py",
   "mimetype": "text/x-python",
   "name": "python",
   "nbconvert_exporter": "python",
   "pygments_lexer": "ipython3",
   "version": "3.6.3"
  }
 },
 "nbformat": 4,
 "nbformat_minor": 2
}
