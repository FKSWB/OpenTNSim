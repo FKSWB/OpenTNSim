{
 "cells": [
  {
   "cell_type": "markdown",
   "metadata": {},
   "source": [
    "## Example 09 - Multiple vessels - edge constraints"
   ]
  },
  {
   "cell_type": "markdown",
   "metadata": {},
   "source": [
    "### Imports\n",
    "Import the required libraries"
   ]
  },
  {
   "cell_type": "code",
   "execution_count": 1,
   "metadata": {},
   "outputs": [],
   "source": [
    "# package(s) related to time, space and id\n",
    "import datetime\n",
    "import platform\n",
    "import random\n",
    "import os\n",
    "\n",
    "# you need these dependencies (you can get these from anaconda)\n",
    "# package(s) related to the simulation\n",
    "import simpy\n",
    "\n",
    "# spatial libraries \n",
    "import pyproj\n",
    "import shapely.geometry\n",
    "from simplekml import Kml, Style\n",
    "\n",
    "# package(s) for data handling\n",
    "import pandas as pd\n",
    "import numpy as np\n",
    "import matplotlib.pyplot as plt\n",
    "import matplotlib.animation as animation\n",
    "\n",
    "# tranport network analysis package\n",
    "import transport_network_analysis.core as core\n",
    "import transport_network_analysis.graph_module as graph_module\n",
    "\n",
    "# Used for mathematical functions\n",
    "import math             \n",
    "\n",
    "# Used for making the graph to visualize our problem\n",
    "import networkx as nx \n",
    "\n",
    "# Start simpy environment\n",
    "env = simpy.Environment()"
   ]
  },
  {
   "cell_type": "markdown",
   "metadata": {},
   "source": [
    "### Create graph"
   ]
  },
  {
   "cell_type": "markdown",
   "metadata": {},
   "source": [
    "The cel below visualizes the problem. In graph theory the red dots are called *edges* and the lines are called *vertices*. Vessels (or any other object) move from edge 1 to edge 3 and from edge 4 to edge 2. The added complexity is that vertice 5-6 only allows traffic in one direction at a time. Vessels can travel simultanously in one direction.\n",
    "\n",
    "**Important**: \n",
    "\n",
    "If you use windows and get the following error \"ImportError: read_shp requires OGR: http://www.gdal.org/\", you probably have [this issue](https://github.com/conda-forge/gdal-feedstock/issues/219). Solving it is possible by running the following commands in your terminal (as explained [here](https://gis.stackexchange.com/questions/294231/installing-gdal-with-anaconda)):\n",
    "\n",
    "```bash\n",
    "#Create a new virtual environment\n",
    "conda create -n testgdal -c conda-forge gdal vs2015_runtime=14\n",
    "\n",
    "#Activate virtual environment\n",
    "activate testgdal\n",
    "\n",
    "#Open Jupyter notebook\n",
    "jupyer notebook\n",
    "```"
   ]
  },
  {
   "cell_type": "code",
   "execution_count": 2,
   "metadata": {},
   "outputs": [
    {
     "data": {
      "image/png": "[encoded data removed]",
      "text/plain": [
       "<Figure size 1080x360 with 1 Axes>"
      ]
     },
     "metadata": {},
     "output_type": "display_data"
    }
   ],
   "source": [
    "# Make networkx variable\n",
    "graph = graph_module.Graph()\n",
    "graph.graph = graph.graph.to_directed()\n",
    "\n",
    "# Add graph nodes and edges\n",
    "# Add nodes\n",
    "node_1 = {\"Name\": \"Node 1\", \"Geometry\": shapely.geometry.Point(00.0000, 0)}\n",
    "node_2 = {\"Name\": \"Node 2\", \"Geometry\": shapely.geometry.Point(00.0008, 0)}\n",
    "node_3 = {\"Name\": \"Node 3\", \"Geometry\": shapely.geometry.Point(00.0016, 0)} # lock part 1\n",
    "node_4 = {\"Name\": \"Node 4\", \"Geometry\": shapely.geometry.Point(00.0020, 0)} # lock part 2\n",
    "node_5 = {\"Name\": \"Node 5\", \"Geometry\": shapely.geometry.Point(00.0028, 0)}\n",
    "node_6 = {\"Name\": \"Node 6\", \"Geometry\": shapely.geometry.Point(00.0036, 0)}\n",
    "\n",
    "nodes = [node_1, node_2, node_3, node_4, node_5, node_6]\n",
    "\n",
    "for node in nodes:\n",
    "    graph.graph.add_node(node[\"Name\"], \n",
    "                         geometry = node[\"Geometry\"], \n",
    "                         Position = (node[\"Geometry\"].x, node[\"Geometry\"].y))\n",
    "\n",
    "# Add edges\n",
    "edge_1_2 = [node_1, node_2, \"Canal\", simpy.Resource(env, capacity = math.inf)]\n",
    "edge_2_1 = [node_2, node_1, \"Canal\", simpy.Resource(env, capacity = math.inf)]\n",
    "\n",
    "edge_2_3 = [node_2, node_3, \"Waiting Area\", simpy.Resource(env, capacity = 1)]\n",
    "edge_3_2 = [node_3, node_2, \"Canal\", simpy.Resource(env, capacity = math.inf)]\n",
    "\n",
    "shared_resource = simpy.PriorityResource(env, capacity = 1)\n",
    "edge_3_4 = [node_3, node_4, \"Lock\", shared_resource]\n",
    "edge_4_3 = [node_4, node_3, \"Lock\", shared_resource]\n",
    "\n",
    "edge_4_5 = [node_4, node_5, \"Canal\", simpy.Resource(env, capacity = math.inf)]\n",
    "edge_5_4 = [node_5, node_4, \"Waiting Area\", simpy.Resource(env, capacity = 1)]\n",
    "\n",
    "edge_5_6 = [node_5, node_6, \"Canal\", simpy.Resource(env, capacity = math.inf)]\n",
    "edge_6_5 = [node_6, node_5, \"Canal\", simpy.Resource(env, capacity = math.inf)]\n",
    "\n",
    "edges = [edge_1_2, edge_2_1,\n",
    "         edge_2_3, edge_3_2,\n",
    "         edge_3_4, edge_4_3,\n",
    "         edge_4_5, edge_5_4,\n",
    "         edge_5_6, edge_6_5]\n",
    "\n",
    "for edge in edges:\n",
    "    graph.graph.add_edge(edge[0][\"Name\"], edge[1][\"Name\"], \n",
    "                         Object = edge[2], weight = 1, Resources = edge[3])\n",
    "    \n",
    "# Plot the graph\n",
    "graph.plot(size = [15, 5], arrowsize = 15)"
   ]
  },
  {
   "cell_type": "markdown",
   "metadata": {},
   "source": [
    "### Make vessels and paths"
   ]
  },
  {
   "cell_type": "code",
   "execution_count": 3,
   "metadata": {},
   "outputs": [],
   "source": [
    "paths = []\n",
    "\n",
    "path = nx.dijkstra_path(graph.graph, node_1[\"Name\"], node_6[\"Name\"])\n",
    "paths.append(path)\n",
    "paths.append(path)\n",
    "paths.append(path)\n",
    "\n",
    "path = nx.dijkstra_path(graph.graph, node_6[\"Name\"], node_1[\"Name\"])\n",
    "paths.append(path)\n",
    "paths.append(path)\n",
    "paths.append(path)"
   ]
  },
  {
   "cell_type": "code",
   "execution_count": 4,
   "metadata": {},
   "outputs": [],
   "source": [
    "# Make a class out of mix-ins\n",
    "TransportResource = type('TransportResource', \n",
    "                         (core.Identifiable, core.Log, core.ContainerDependentMovable, \n",
    "                          core.HasResource, core.Routeable), {})\n",
    "\n",
    "\n",
    "\n",
    "# For testing purposes we only want v to be 1\n",
    "def compute_v_provider(v_empty, v_full):\n",
    "    return lambda x: (v_empty + v_full) / 2\n",
    "\n",
    "data_vessel = {\"env\": None,\n",
    "               \"name\": \"Vessel\",\n",
    "               \"route\": None,\n",
    "               \"geometry\": shapely.geometry.Point(0, 0),  # lon, lat\n",
    "               \"capacity\": 1_000,\n",
    "               \"compute_v\": compute_v_provider(v_empty=0.05, v_full=0.05)}\n",
    "\n",
    "vessels = []\n",
    "for i in range(6):\n",
    "    vessel = TransportResource(**data_vessel)\n",
    "    vessel.name = \"Vessel \" + str(i + 1)\n",
    "    vessels.append(vessel)"
   ]
  },
  {
   "cell_type": "markdown",
   "metadata": {},
   "source": [
    "### Start simulation"
   ]
  },
  {
   "cell_type": "code",
   "execution_count": 5,
   "metadata": {},
   "outputs": [],
   "source": [
    "def start(env, vessel):\n",
    "    while True:\n",
    "        vessel.log_entry(\"Start sailing\", env.now, \"\", vessel.geometry)\n",
    "        yield from vessel.move()\n",
    "        vessel.log_entry(\"Stop sailing\", env.now, \"\", vessel.geometry)\n",
    "        \n",
    "        if vessel.geometry == nx.get_node_attributes(graph.graph, \"geometry\")[vessel.route[-1]]:\n",
    "            break"
   ]
  },
  {
   "cell_type": "code",
   "execution_count": 6,
   "metadata": {
    "scrolled": false
   },
   "outputs": [],
   "source": [
    "#graph.add_resources(list(graph.graph.edges), resources, env)\n",
    "env.FG = graph.graph\n",
    "\n",
    "for i, vessel in enumerate(vessels):\n",
    "    # Add environment and path to the vessel\n",
    "    vessel.env = env\n",
    "    vessel.route = paths[i]\n",
    "    \n",
    "    vessel.geometry = nx.get_node_attributes(graph.graph, \"geometry\")[paths[i][0]]\n",
    "\n",
    "    # Add the movements of the vessel to the simulation\n",
    "    env.process(start(env, vessel))\n",
    "\n",
    "env.epoch = datetime.datetime.now()\n",
    "\n",
    "env.run()"
   ]
  },
  {
   "cell_type": "markdown",
   "metadata": {},
   "source": [
    "### Obtain vessel log information\n",
    "The cel below uses the vessel log. The core function *log_entry* is used, which takes four arguments:\n",
    "\n",
    "- **Log.** A text to describe what is logged.\n",
    "- **t.** The timestamp.\n",
    "- **Value.**  The value for the log (for sailing this is the distance).\n",
    "- **Geometry** The location of the vessel while loggin."
   ]
  },
  {
   "cell_type": "code",
   "execution_count": 7,
   "metadata": {},
   "outputs": [
    {
     "name": "stdout",
     "output_type": "stream",
     "text": [
      "Vessel 1 - finished after 10124 seconds.\n",
      "Vessel 2 - finished after 18524 seconds.\n",
      "Vessel 3 - finished after 34724 seconds.\n",
      "Vessel 4 - finished after 13124 seconds.\n",
      "Vessel 5 - finished after 23924 seconds.\n",
      "Vessel 6 - finished after 29324 seconds.\n"
     ]
    }
   ],
   "source": [
    "for vessel in vessels:\n",
    "    print(vessel.name, \"- finished after\", int(vessel.log[\"Timestamp\"][-1]), \"seconds.\")"
   ]
  },
  {
   "cell_type": "markdown",
   "metadata": {},
   "source": [
    "### Visualization of path\n",
    "If you get an error regarding ffmpeg use [this](https://stackoverflow.com/questions/13316397/matplotlib-animation-no-moviewriters-available) answer. You have to install ffmpeg in your Conda environment. It can be done using the following command.\n",
    "\n",
    "```bash\n",
    "#Install ffmpeg using Conda\n",
    "conda install -c conda-forge ffmpeg\n",
    "```"
   ]
  },
  {
   "cell_type": "code",
   "execution_count": 8,
   "metadata": {},
   "outputs": [],
   "source": [
    "for vessel in vessels:\n",
    "    geom_x = []\n",
    "    geom_y = []\n",
    "\n",
    "    for geom in vessel.log[\"Geometry\"]:\n",
    "        geom_x.append(geom.x)\n",
    "        geom_y.append(geom.y)\n",
    "\n",
    "    vessel.log[\"Geometry - x\"] = geom_x\n",
    "    vessel.log[\"Geometry - y\"] = geom_y"
   ]
  },
  {
   "cell_type": "code",
   "execution_count": 9,
   "metadata": {},
   "outputs": [],
   "source": [
    "time_stamp_min = []\n",
    "time_stamp_max = []\n",
    "\n",
    "for vessel in vessels:\n",
    "    time_stamp_min.append(min(vessel.log[\"Timestamp\"]))\n",
    "    time_stamp_max.append(max(vessel.log[\"Timestamp\"]))\n",
    "\n",
    "time_stamp_min = min(time_stamp_min)\n",
    "time_stamp_max = max(time_stamp_max)\n",
    "\n",
    "stepsize = 10\n",
    "steps = int(np.floor((time_stamp_max - time_stamp_min) / stepsize))\n",
    "\n",
    "timestamps_t = np.linspace(time_stamp_min, time_stamp_max, steps)\n",
    "for vessel in vessels:\n",
    "    vessel.log[\"timestamps_x\"] = np.interp(timestamps_t, vessel.log[\"Timestamp\"], vessel.log[\"Geometry - x\"])\n",
    "    vessel.log[\"timestamps_y\"] = np.interp(timestamps_t, vessel.log[\"Timestamp\"], vessel.log[\"Geometry - y\"])"
   ]
  },
  {
   "cell_type": "code",
   "execution_count": 10,
   "metadata": {},
   "outputs": [],
   "source": [
    "# %%time\n",
    "\n",
    "# # Make the animation\n",
    "# fig = plt.figure(figsize = [12, 12])\n",
    "\n",
    "# nx.draw(graph.graph, nx.get_node_attributes(graph.graph, 'Position'), \n",
    "#         with_labels = False, \n",
    "#         node_size = 0.5,\n",
    "#         font_size = 2, \n",
    "#         width = 0.2, \n",
    "#         arrowsize = 3)\n",
    "\n",
    "\n",
    "# location_1, = plt.plot([], [], color = \"#1f77b4\", marker = \"o\", markersize=15)\n",
    "# path_1,     = plt.plot([], [], color = \"#1f77b4\")\n",
    "\n",
    "# location_2, = plt.plot([], [], color = \"#ff7f0e\", marker = \"o\", markersize=15)\n",
    "# path_2,     = plt.plot([], [], color = \"#ff7f0e\")\n",
    "\n",
    "# location_3, = plt.plot([], [], color = \"#2ca02c\", marker = \"o\", markersize=15)\n",
    "# path_3,     = plt.plot([], [], color = \"#2ca02c\")\n",
    "\n",
    "# location_4, = plt.plot([], [], color = \"#d62728\", marker = \"o\", markersize=15)\n",
    "# path_4,     = plt.plot([], [], color = \"#d62728\")\n",
    "\n",
    "# location_5, = plt.plot([], [], color = \"#9467bd\", marker = \"o\", markersize=15)\n",
    "# path_5,     = plt.plot([], [], color = \"#9467bd\")\n",
    "\n",
    "# def init():\n",
    "#     location_1.set_data([], [])\n",
    "#     path_1.set_data([], [])\n",
    "    \n",
    "#     location_2.set_data([], [])\n",
    "#     path_2.set_data([], [])\n",
    "    \n",
    "#     location_3.set_data([], [])\n",
    "#     path_3.set_data([], [])\n",
    "    \n",
    "#     location_4.set_data([], [])\n",
    "#     path_4.set_data([], [])\n",
    "    \n",
    "#     location_5.set_data([], [])\n",
    "#     path_5.set_data([], [])\n",
    "\n",
    "# def animate(i):\n",
    "#     for j, vessel in enumerate(vessels):\n",
    "#         this_x = [vessel.log[\"timestamps_x\"][i]]\n",
    "#         this_y = [vessel.log[\"timestamps_y\"][i]]\n",
    "\n",
    "#         past_x = [x for x in vessel.log[\"timestamps_x\"][:i]]\n",
    "#         past_y = [y for y in vessel.log[\"timestamps_y\"][:i]]\n",
    "\n",
    "#         if j == 0:\n",
    "#             location_1.set_data(this_x, this_y)\n",
    "#             path_1.set_data(past_x, past_y)\n",
    "#         elif j == 1:\n",
    "#             location_2.set_data(this_x, this_y)\n",
    "#             path_2.set_data(past_x, past_y)\n",
    "#         elif j == 2:\n",
    "#             location_3.set_data(this_x, this_y)\n",
    "#             path_3.set_data(past_x, past_y)\n",
    "#         elif j == 3:\n",
    "#             location_4.set_data(this_x, this_y)\n",
    "#             path_4.set_data(past_x, past_y)\n",
    "#         elif j == 4:\n",
    "#             location_5.set_data(this_x, this_y)\n",
    "#             path_5.set_data(past_x, past_y)\n",
    "\n",
    "#     return location_1, location_2, location_3, location_4, location_5, path_1, path_2, path_3, path_4, path_5\n",
    "    \n",
    "        \n",
    "# ani = animation.FuncAnimation(fig, animate, np.arange(0, len(timestamps_t)), init_func=init)\n",
    "# ani.save('Lock - example 10.mp4', fps=5)"
   ]
  }
 ],
 "metadata": {
  "kernelspec": {
   "display_name": "Python 3",
   "language": "python",
   "name": "python3"
  },
  "language_info": {
   "codemirror_mode": {
    "name": "ipython",
    "version": 3
   },
   "file_extension": ".py",
   "mimetype": "text/x-python",
   "name": "python",
   "nbconvert_exporter": "python",
   "pygments_lexer": "ipython3",
   "version": "3.7.0"
  }
 },
 "nbformat": 4,
 "nbformat_minor": 2
}
