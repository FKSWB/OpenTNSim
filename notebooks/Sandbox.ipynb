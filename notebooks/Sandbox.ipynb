{
 "cells": [
  {
   "cell_type": "markdown",
   "metadata": {},
   "source": [
    "# Potential approach to tranport network analysis\n",
    "\n",
    "**initialize system** \n",
    "\n",
    "* **Step 1:** define nodes and edges of network + vessels in the system (location, origin, destination)\n",
    "\n",
    "**for each timestep** \n",
    "\n",
    "    * shortest distance\n",
    "    * lowest cost\n",
    "    * least amount of time\n",
    "    * lowest CO2 footprint\n",
    "    * nicest scenery\n",
    "    * largest loading capacity (no depth restrictions, no height restrictions)\n",
    "    * fastest sailing speed (vessel speed, current speed)\n",
    "\n",
    "* **Step 2:** assign weights to edges based on some kind of criterion\n",
    "    \n",
    "**NB:** the network can change for each timestep (changing waterlevels, closures, traffic)\n",
    "\n",
    "    * currents\n",
    "    * changing waterlevels\n",
    "    * likely traffic related delays\n",
    "    * likely infrastructure related delays (locks, bridges)\n",
    "\n",
    "**for each vessel**\n",
    "\n",
    "* **Step 3:** For each vessel check the shortest path based on weights assigned\n",
    "\n",
    "* **Step 4:** For each vessel select its preferred route in case of multiple paths of equal wheight\n",
    "\n",
    "* **Step 5:** Send vessel on its way for 1 timestep and repeat (sailing speed times timestep is distance)\n",
    "\n",
    "This procedure will move vessels through the system. Per edge it should be possible to see how many vessels are in it. This will be a matter of postprocessing. I think it should be possible to incorporate such a network weighting routine in a simpy simulation, which could then also simulate queueing. \n",
    "\n",
    "Questions:\n",
    "* what is my best departure time if I want to take the largest amount of cargo?\n",
    "* which route is most likely to be the fastest\n",
    "* which will be the busiest parts of the network"
   ]
  },
  {
   "cell_type": "markdown",
   "metadata": {},
   "source": [
    "## basic imports"
   ]
  },
  {
   "cell_type": "code",
   "execution_count": 1,
   "metadata": {},
   "outputs": [],
   "source": [
    "# import json\n",
    "import networkx as nx\n",
    "import numpy as np"
   ]
  },
  {
   "cell_type": "markdown",
   "metadata": {},
   "source": [
    "## instantiate graph object"
   ]
  },
  {
   "cell_type": "code",
   "execution_count": 2,
   "metadata": {},
   "outputs": [],
   "source": [
    "# initialise graph object\n",
    "G = nx.Graph()"
   ]
  },
  {
   "cell_type": "markdown",
   "metadata": {},
   "source": [
    "## define nodes"
   ]
  },
  {
   "cell_type": "code",
   "execution_count": 3,
   "metadata": {},
   "outputs": [],
   "source": [
    "# sketch of example graph\n",
    "#\n",
    "#  1:       o--o\n",
    "#          /    \\\n",
    "#  0:  o--o      o--o\n",
    "#          \\    /\n",
    "# -1:       o--o\n",
    "#\n",
    "#      1  2 3  4 5  6\n",
    "\n",
    "# define and add nodes\n",
    "G.add_node(\"a\", pos=(1, 0))\n",
    "G.add_node(\"b\", pos=(2, 0))\n",
    "G.add_node(\"c\", pos=(3, -1))\n",
    "G.add_node(\"d\", pos=(3, 1))\n",
    "G.add_node(\"e\", pos=(4, -1))\n",
    "G.add_node(\"f\", pos=(4, 1))\n",
    "G.add_node(\"g\", pos=(5, 0))\n",
    "G.add_node(\"h\", pos=(6, 0))"
   ]
  },
  {
   "cell_type": "markdown",
   "metadata": {},
   "source": [
    "## define edges"
   ]
  },
  {
   "cell_type": "code",
   "execution_count": 4,
   "metadata": {},
   "outputs": [],
   "source": [
    "# define wheighted edges (from, to, weight)\n",
    "e = [(\"a\", \"b\", 1), \n",
    "    (\"b\", \"c\", 1), \n",
    "    (\"b\", \"d\", 2), \n",
    "    (\"c\", \"e\", 4), \n",
    "    (\"d\", \"f\", 2), \n",
    "    (\"e\", \"g\", 1), \n",
    "    (\"f\", \"g\", 2), \n",
    "    (\"g\", \"h\", 1),\n",
    "    (\"a\", \"h\", 10)]\n",
    "\n",
    "# add weighted edges\n",
    "G.add_weighted_edges_from(e)"
   ]
  },
  {
   "cell_type": "markdown",
   "metadata": {},
   "source": [
    "## draw graph"
   ]
  },
  {
   "cell_type": "code",
   "execution_count": 5,
   "metadata": {},
   "outputs": [],
   "source": [
    "nx.draw(G,nx.get_node_attributes(G, 'pos'))"
   ]
  },
  {
   "cell_type": "code",
   "execution_count": 6,
   "metadata": {},
   "outputs": [
    {
     "name": "stdout",
     "output_type": "stream",
     "text": [
      "{('a', 'b'): 1, ('a', 'h'): 10, ('b', 'c'): 1, ('b', 'd'): 2, ('c', 'e'): 4, ('d', 'f'): 2, ('e', 'g'): 1, ('f', 'g'): 2, ('g', 'h'): 1}\n"
     ]
    }
   ],
   "source": [
    "labels = nx.get_edge_attributes(G,'weight')\n",
    "print(labels)"
   ]
  },
  {
   "cell_type": "code",
   "execution_count": 7,
   "metadata": {},
   "outputs": [
    {
     "data": {
      "text/plain": [
       "{'a': Text(1,0,'a'),\n",
       " 'b': Text(2,0,'b'),\n",
       " 'c': Text(3,-1,'c'),\n",
       " 'd': Text(3,1,'d'),\n",
       " 'e': Text(4,-1,'e'),\n",
       " 'f': Text(4,1,'f'),\n",
       " 'g': Text(5,0,'g'),\n",
       " 'h': Text(6,0,'h')}"
      ]
     },
     "execution_count": 7,
     "metadata": {},
     "output_type": "execute_result"
    },
    {
     "data": {
      "image/png": "[encoded data removed]",
      "text/plain": [
       "<Figure size 432x288 with 1 Axes>"
      ]
     },
     "metadata": {},
     "output_type": "display_data"
    }
   ],
   "source": [
    "nx.draw(G,nx.get_node_attributes(G, 'pos'))\n",
    "nx.draw_networkx_edge_labels(G,nx.get_node_attributes(G, 'pos'),edge_labels=labels)\n",
    "nx.draw_networkx_labels(G,nx.get_node_attributes(G, 'pos'))"
   ]
  },
  {
   "cell_type": "markdown",
   "metadata": {},
   "source": [
    "## list shortest paths\n",
    "Shortest path(s) based on weight factors"
   ]
  },
  {
   "cell_type": "code",
   "execution_count": 8,
   "metadata": {},
   "outputs": [
    {
     "data": {
      "text/plain": [
       "[['a', 'b', 'd', 'f', 'g', 'h'], ['a', 'b', 'c', 'e', 'g', 'h']]"
      ]
     },
     "execution_count": 8,
     "metadata": {},
     "output_type": "execute_result"
    }
   ],
   "source": [
    "shortest_path_generator = nx.all_shortest_paths(G, \"a\", \"h\", weight=\"weight\")\n",
    "list(shortest_path_generator)"
   ]
  },
  {
   "cell_type": "markdown",
   "metadata": {},
   "source": [
    "## get Dijkstra path\n",
    "Shortes path based on weight, but only returns one"
   ]
  },
  {
   "cell_type": "code",
   "execution_count": 9,
   "metadata": {},
   "outputs": [
    {
     "name": "stdout",
     "output_type": "stream",
     "text": [
      "['a', 'b', 'd', 'f', 'g', 'h']\n"
     ]
    }
   ],
   "source": [
    "path = nx.dijkstra_path(G, \"a\", \"h\", weight='weight')\n",
    "print(path)"
   ]
  },
  {
   "cell_type": "markdown",
   "metadata": {},
   "source": [
    "## Move a vessel along the Dijkstrapath (starting at path[0])"
   ]
  },
  {
   "cell_type": "markdown",
   "metadata": {},
   "source": [
    "### create some basic methods for distance, angle, moving, and moving along a path"
   ]
  },
  {
   "cell_type": "code",
   "execution_count": 10,
   "metadata": {},
   "outputs": [],
   "source": [
    "import math\n",
    "import networkx as nx\n",
    "\n",
    "def Distance(Node1, Node2, Print=False):\n",
    "    # calculate distance between two points\n",
    "    distance = ((Node2[0]-Node1[0])**2+(Node2[1]-Node1[1])**2)**0.5\n",
    "\n",
    "    if Print:\n",
    "        print('distance :', distance)\n",
    "    return distance\n",
    "\n",
    "def Angle(Node1, Node2, Print=False):\n",
    "    # calculate angle going from point 1 to point 2 (NB: atan2(y,x))\n",
    "    angle = math.atan2(Node2[1]-Node1[1],Node2[0]-Node1[0])*(180.0 / math.pi) \n",
    "\n",
    "    if Print:\n",
    "        print('angle :', angle)\n",
    "    return angle\n",
    "\n",
    "def Move(Node1, Node2, move, Print=False):\n",
    "    # move towards Node2\n",
    "    distance = Distance(Node1, Node2)\n",
    "    angle = Angle(Node1, Node2)\n",
    "    new_node = (Node1[0]+math.cos(angle*math.pi/180)*move, Node1[1]+math.sin(angle*math.pi/180)*move)\n",
    "    if Print:\n",
    "        print('new_node :', new_node)\n",
    "    return new_node\n",
    "\n",
    "def Move_on_path(G, vessel_pos, path, to_node_id, move, Print=False):\n",
    "    # vessel_pos is your boat\n",
    "    to_node_pos = nx.get_node_attributes(G, 'pos')[path[to_node_id]]\n",
    "    \n",
    "    # You need to know the next node in the path\n",
    "    # Calculate the distance between Node1 and the next node\n",
    "    distance_to_next_node = Distance(vessel_pos, to_node_pos, True)\n",
    "    \n",
    "    # If move <= distance to next node, make move\n",
    "    if move < distance_to_next_node:\n",
    "        vessel_pos_new = Move(vessel_pos, to_node_pos, move, True)\n",
    "    else:\n",
    "        if to_node_id == len(path)-1:\n",
    "            print('arrived')\n",
    "            vessel_pos_new = to_node_pos \n",
    "        else:\n",
    "            # reposition vessel at next node and calculate remaining move distance\n",
    "            vessel_pos = nx.get_node_attributes(G, 'pos')[path[to_node_id]]\n",
    "            remaining_distance=distance_to_next_node-move\n",
    "            # up the to_node_id with 1 and find new to_node_pos\n",
    "            to_node_id+=1\n",
    "            to_node_pos = nx.get_node_attributes(G, 'pos')[path[to_node_id]]\n",
    "            # calculate distance to next node\n",
    "            vessel_pos_new = Move(vessel_pos, to_node_pos, remaining_distance, True)\n",
    "        \n",
    "    # If move > distance to next node, move to next node and set move to move-distance, try again\n",
    "    if Print:\n",
    "        print('vessel_pos_new:', vessel_pos_new)\n",
    "        print('to_node_id :', to_node_id)\n",
    "        \n",
    "    return vessel_pos_new, to_node_id"
   ]
  },
  {
   "cell_type": "markdown",
   "metadata": {},
   "source": [
    "### Brief tests of the above methods to check if they work"
   ]
  },
  {
   "cell_type": "code",
   "execution_count": 11,
   "metadata": {},
   "outputs": [
    {
     "name": "stdout",
     "output_type": "stream",
     "text": [
      "angle : 0.0\n",
      "angle : 45.0\n",
      "angle : 90.0\n",
      "angle : 135.0\n",
      "angle : 180.0\n",
      "angle : -135.0\n",
      "angle : -90.0\n",
      "angle : -45.0\n",
      "angle : 0.0\n",
      "angle : 45.0\n",
      "new_node : (0.7071067811865476, 0.7071067811865476)\n",
      "angle : 90.0\n",
      "angle : 135.0\n",
      "angle : 180.0\n",
      "angle : -135.0\n",
      "new_node : (-0.7071067811865475, -0.7071067811865476)\n",
      "angle : -90.0\n",
      "angle : -45.0\n"
     ]
    },
    {
     "data": {
      "text/plain": [
       "-45.0"
      ]
     },
     "execution_count": 11,
     "metadata": {},
     "output_type": "execute_result"
    }
   ],
   "source": [
    "Node1=(0,0);Node2=(1,0);Angle(Node1,Node2, True)\n",
    "Node1=(0,0);Node2=(1,1);Angle(Node1,Node2, True)\n",
    "Node1=(0,0);Node2=(0,1);Angle(Node1,Node2, True)\n",
    "Node1=(0,0);Node2=(-1,1);Angle(Node1,Node2, True)\n",
    "Node1=(0,0);Node2=(-1,0);Angle(Node1,Node2, True)\n",
    "Node1=(0,0);Node2=(-1,-1);Angle(Node1,Node2, True)\n",
    "Node1=(0,0);Node2=(0,-1);Angle(Node1,Node2, True)\n",
    "Node1=(0,0);Node2=(1,-1);Angle(Node1,Node2, True)\n",
    "\n",
    "Node1=(0,0);Node2=(2,0);Angle(Node1,Node2,True)\n",
    "Node1=(0,0);Node2=(2,2);Angle(Node1,Node2, True);Move(Node1,Node2,1, True)\n",
    "Node1=(0,0);Node2=(0,2);Angle(Node1,Node2, True)\n",
    "Node1=(0,0);Node2=(-2,2);Angle(Node1,Node2, True)\n",
    "Node1=(0,0);Node2=(-2,0);Angle(Node1,Node2, True)\n",
    "Node1=(0,0);Node2=(-2,-2);Angle(Node1,Node2, True);Move(Node1,Node2,1, True)\n",
    "Node1=(0,0);Node2=(0,-2);Angle(Node1,Node2, True)\n",
    "Node1=(0,0);Node2=(2,-2);Angle(Node1,Node2, True)\n"
   ]
  },
  {
   "cell_type": "markdown",
   "metadata": {},
   "source": [
    "## Initiate the move"
   ]
  },
  {
   "cell_type": "code",
   "execution_count": 12,
   "metadata": {},
   "outputs": [],
   "source": [
    "# get the Dijkstra path a few cells up\n",
    "# path = ['a', 'b', 'd', 'f', 'g', 'h'] \n",
    "\n",
    "# start to move at path[0]\n",
    "vessel_pos = nx.get_node_attributes(G, 'pos')[path[0]] \n",
    "\n",
    "to_node_id = 1 \n",
    "# we need to keep track of the to_node_id"
   ]
  },
  {
   "cell_type": "markdown",
   "metadata": {},
   "source": [
    "## run this cell with cntrl+enter until the vessel arrives"
   ]
  },
  {
   "cell_type": "code",
   "execution_count": 13,
   "metadata": {},
   "outputs": [
    {
     "name": "stdout",
     "output_type": "stream",
     "text": [
      "(1, 0)\n",
      "distance : 1.0\n",
      "new_node : (1.5, 0.0)\n",
      "vessel_pos_new: (1.5, 0.0)\n",
      "to_node_id : 1\n"
     ]
    }
   ],
   "source": [
    "# run this cell with cntrl+enter, or in a while loop to take timesteps\n",
    "print(vessel_pos)\n",
    "timestep = 1\n",
    "speed = 0.5\n",
    "move = timestep * speed\n",
    "vessel_pos, to_node_id = Move_on_path(G, vessel_pos, path, to_node_id, move, True)"
   ]
  },
  {
   "cell_type": "code",
   "execution_count": 14,
   "metadata": {},
   "outputs": [
    {
     "data": {
      "text/plain": [
       "{'a': Text(1,0,'a'),\n",
       " 'b': Text(2,0,'b'),\n",
       " 'c': Text(3,-1,'c'),\n",
       " 'd': Text(3,1,'d'),\n",
       " 'e': Text(4,-1,'e'),\n",
       " 'f': Text(4,1,'f'),\n",
       " 'g': Text(5,0,'g'),\n",
       " 'h': Text(6,0,'h')}"
      ]
     },
     "execution_count": 14,
     "metadata": {},
     "output_type": "execute_result"
    },
    {
     "data": {
      "image/png": "[encoded data removed]",
      "text/plain": [
       "<Figure size 432x288 with 1 Axes>"
      ]
     },
     "metadata": {},
     "output_type": "display_data"
    }
   ],
   "source": [
    "nx.draw(G,nx.get_node_attributes(G, 'pos'))\n",
    "nx.draw_networkx_edge_labels(G,nx.get_node_attributes(G, 'pos'),edge_labels=labels)\n",
    "nx.draw_networkx_labels(G,nx.get_node_attributes(G, 'pos'))\n",
    "# you should be able to plot vessel_pos to see where the vessel is on the graph\n"
   ]
  },
  {
   "cell_type": "markdown",
   "metadata": {},
   "source": [
    "# Waterlevel on a river"
   ]
  },
  {
   "cell_type": "markdown",
   "metadata": {},
   "source": [
    "## Basic code"
   ]
  },
  {
   "cell_type": "code",
   "execution_count": null,
   "metadata": {},
   "outputs": [],
   "source": [
    "import numpy as np\n",
    "\n",
    "def get_values_from_node(F, prop):\n",
    "    \"\"\"extract info from nodes\"\"\"\n",
    "    values=[]\n",
    "    for key, value in F.nodes(prop):\n",
    "        values = np.append(values, value)\n",
    "\n",
    "    return values\n",
    "\n",
    "def get_min_depth(F):\n",
    "    \"\"\"extract bed and waterlvl info from nodes and \n",
    "    find the minimum depth\"\"\"\n",
    "    bed = get_values_from_node(F, 'bed')\n",
    "    waterlvl = get_values_from_node(F, 'waterlvl')\n",
    "    depth = waterlvl-bed\n",
    "\n",
    "    return np.min(depth)"
   ]
  },
  {
   "cell_type": "markdown",
   "metadata": {},
   "source": [
    "## nodes"
   ]
  },
  {
   "cell_type": "code",
   "execution_count": null,
   "metadata": {},
   "outputs": [],
   "source": [
    "# initialise grid (100 km in steps of 10 km)\n",
    "x = range(0, 100000, 10000)"
   ]
  },
  {
   "cell_type": "code",
   "execution_count": null,
   "metadata": {},
   "outputs": [],
   "source": [
    "# initialise graph object\n",
    "F = nx.Graph()"
   ]
  },
  {
   "cell_type": "code",
   "execution_count": null,
   "metadata": {},
   "outputs": [],
   "source": [
    "# add nodes with bed and waterlevels\n",
    "bed = -5\n",
    "waterlvl = 0\n",
    "for val in x:\n",
    "    F.add_node(\"x=\" + str(val), pos=(val, 0), bed=bed, waterlvl=waterlvl)\n",
    "    bed = bed + 0.5\n",
    "    waterlvl = waterlvl + 0.5 + np.sin(val* np.pi*10E8) "
   ]
  },
  {
   "cell_type": "code",
   "execution_count": null,
   "metadata": {},
   "outputs": [],
   "source": [
    "nx.draw(F,nx.get_node_attributes(F, 'pos'))\n",
    "labels = nx.get_edge_attributes(F,'weight')\n",
    "nx.draw_networkx_edge_labels(F,nx.get_node_attributes(F, 'pos'),edge_labels=labels)\n",
    "nx.draw_networkx_labels(F,nx.get_node_attributes(F, 'pos'));"
   ]
  },
  {
   "cell_type": "code",
   "execution_count": null,
   "metadata": {},
   "outputs": [],
   "source": [
    "min_depth = get_min_depth(F)\n",
    "min_depth"
   ]
  }
 ],
 "metadata": {
  "kernelspec": {
   "display_name": "Python 3",
   "language": "python",
   "name": "python3"
  },
  "language_info": {
   "codemirror_mode": {
    "name": "ipython",
    "version": 3
   },
   "file_extension": ".py",
   "mimetype": "text/x-python",
   "name": "python",
   "nbconvert_exporter": "python",
   "pygments_lexer": "ipython3",
   "version": "3.6.3"
  }
 },
 "nbformat": 4,
 "nbformat_minor": 2
}
