{
 "cells": [
  {
   "cell_type": "markdown",
   "metadata": {},
   "source": [
    "# Potential approach to tranport network analysis\n",
    "\n",
    "**initialize system** \n",
    "\n",
    "* **Step 1:** define nodes and edges of network + vessels in the system (location, origin, destination)\n",
    "\n",
    "**for each timestep** \n",
    "\n",
    "    * shortest distance\n",
    "    * lowest cost\n",
    "    * least amount of time\n",
    "    * lowest CO2 footprint\n",
    "    * nicest scenery\n",
    "    * largest loading capacity (no depth restrictions, no height restrictions)\n",
    "    * fastest sailing speed (vessel speed, current speed)\n",
    "\n",
    "* **Step 2:** assign weights to edges based on some kind of criterion\n",
    "    \n",
    "**NB:** the network can change for each timestep (changing waterlevels, closures, traffic)\n",
    "\n",
    "    * currents\n",
    "    * changing waterlevels\n",
    "    * likely traffic related delays\n",
    "    * likely infrastructure related delays (locks, bridges)\n",
    "\n",
    "**for each vessel**\n",
    "\n",
    "* **Step 3:** For each vessel check the shortest path based on weights assigned\n",
    "\n",
    "* **Step 4:** For each vessel select its preferred route in case of multiple paths of equal wheight\n",
    "\n",
    "* **Step 5:** Send vessel on its way for 1 timestep and repeat (sailing speed times timestep is distance)\n",
    "\n",
    "This procedure will move vessels through the system. Per edge it should be possible to see how many vessels are in it. This will be a matter of postprocessing. I think it should be possible to incorporate such a network weighting routine in a simpy simulation, which could then also simulate queueing. \n",
    "\n",
    "Questions:\n",
    "* what is my best departure time if I want to take the largest amount of cargo?\n",
    "* which route is most likely to be the fastest\n",
    "* which will be the busiest parts of the network"
   ]
  },
  {
   "cell_type": "markdown",
   "metadata": {},
   "source": [
    "## basic imports"
   ]
  },
  {
   "cell_type": "code",
   "execution_count": 22,
   "metadata": {},
   "outputs": [],
   "source": [
    "# import json\n",
    "import networkx as nx"
   ]
  },
  {
   "cell_type": "markdown",
   "metadata": {},
   "source": [
    "## instantiate graph object"
   ]
  },
  {
   "cell_type": "code",
   "execution_count": 23,
   "metadata": {},
   "outputs": [],
   "source": [
    "# initialise graph object\n",
    "G = nx.Graph()"
   ]
  },
  {
   "cell_type": "markdown",
   "metadata": {},
   "source": [
    "## define nodes"
   ]
  },
  {
   "cell_type": "code",
   "execution_count": 24,
   "metadata": {},
   "outputs": [],
   "source": [
    "# sketch of example graph\n",
    "#\n",
    "#  1:       o--o\n",
    "#          /    \\\n",
    "#  0:  o--o      o--o\n",
    "#          \\    /\n",
    "# -1:       o--o\n",
    "#\n",
    "#      1  2 3  4 5  6\n",
    "\n",
    "# define and add nodes\n",
    "G.add_node(\"a\", pos=(1, 0))\n",
    "G.add_node(\"b\", pos=(2, 0))\n",
    "G.add_node(\"c\", pos=(3, -1))\n",
    "G.add_node(\"d\", pos=(3, 1))\n",
    "G.add_node(\"e\", pos=(4, -1))\n",
    "G.add_node(\"f\", pos=(4, 1))\n",
    "G.add_node(\"g\", pos=(5, 0))\n",
    "G.add_node(\"h\", pos=(6, 0))"
   ]
  },
  {
   "cell_type": "markdown",
   "metadata": {},
   "source": [
    "## define edges"
   ]
  },
  {
   "cell_type": "code",
   "execution_count": 25,
   "metadata": {},
   "outputs": [],
   "source": [
    "# define wheighted edges (from, to, weight)\n",
    "e = [(\"a\", \"b\", 1), \n",
    "    (\"b\", \"c\", 1), \n",
    "    (\"b\", \"d\", 2), \n",
    "    (\"c\", \"e\", 4), \n",
    "    (\"d\", \"f\", 2), \n",
    "    (\"e\", \"g\", 1), \n",
    "    (\"f\", \"g\", 2), \n",
    "    (\"g\", \"h\", 1),\n",
    "    (\"a\", \"h\", 8)]\n",
    "\n",
    "# add weighted edges\n",
    "G.add_weighted_edges_from(e)"
   ]
  },
  {
   "cell_type": "markdown",
   "metadata": {},
   "source": [
    "## draw graph"
   ]
  },
  {
   "cell_type": "code",
   "execution_count": 26,
   "metadata": {},
   "outputs": [
    {
     "data": {
      "image/png": "[encoded data removed]",
      "text/plain": [
       "<Figure size 432x288 with 1 Axes>"
      ]
     },
     "metadata": {},
     "output_type": "display_data"
    }
   ],
   "source": [
    "nx.draw(G,nx.get_node_attributes(G, 'pos'))"
   ]
  },
  {
   "cell_type": "code",
   "execution_count": 27,
   "metadata": {},
   "outputs": [
    {
     "name": "stdout",
     "output_type": "stream",
     "text": [
      "{('a', 'b'): 1, ('a', 'h'): 8, ('b', 'c'): 1, ('b', 'd'): 2, ('c', 'e'): 4, ('d', 'f'): 2, ('e', 'g'): 1, ('f', 'g'): 2, ('g', 'h'): 1}\n"
     ]
    }
   ],
   "source": [
    "labels = nx.get_edge_attributes(G,'weight')\n",
    "print(labels)"
   ]
  },
  {
   "cell_type": "code",
   "execution_count": 28,
   "metadata": {},
   "outputs": [
    {
     "data": {
      "text/plain": [
       "{'a': Text(1,0,'a'),\n",
       " 'b': Text(2,0,'b'),\n",
       " 'c': Text(3,-1,'c'),\n",
       " 'd': Text(3,1,'d'),\n",
       " 'e': Text(4,-1,'e'),\n",
       " 'f': Text(4,1,'f'),\n",
       " 'g': Text(5,0,'g'),\n",
       " 'h': Text(6,0,'h')}"
      ]
     },
     "execution_count": 28,
     "metadata": {},
     "output_type": "execute_result"
    },
    {
     "data": {
      "image/png": "[encoded data removed]",
      "text/plain": [
       "<Figure size 432x288 with 1 Axes>"
      ]
     },
     "metadata": {},
     "output_type": "display_data"
    }
   ],
   "source": [
    "nx.draw(G,nx.get_node_attributes(G, 'pos'))\n",
    "nx.draw_networkx_edge_labels(G,nx.get_node_attributes(G, 'pos'),edge_labels=labels)\n",
    "nx.draw_networkx_labels(G,nx.get_node_attributes(G, 'pos'))"
   ]
  },
  {
   "cell_type": "markdown",
   "metadata": {},
   "source": [
    "## list shortest paths\n",
    "Shortest path(s) based on weight factors"
   ]
  },
  {
   "cell_type": "code",
   "execution_count": 29,
   "metadata": {},
   "outputs": [
    {
     "data": {
      "text/plain": [
       "[['a', 'h'], ['a', 'b', 'd', 'f', 'g', 'h'], ['a', 'b', 'c', 'e', 'g', 'h']]"
      ]
     },
     "execution_count": 29,
     "metadata": {},
     "output_type": "execute_result"
    }
   ],
   "source": [
    "shortest_path_generator = nx.all_shortest_paths(G, \"a\", \"h\", weight=\"weight\")\n",
    "list(shortest_path_generator)"
   ]
  },
  {
   "cell_type": "markdown",
   "metadata": {},
   "source": [
    "## get Dijkstra path\n",
    "Shortes path based on weight, but only returns one"
   ]
  },
  {
   "cell_type": "code",
   "execution_count": 30,
   "metadata": {},
   "outputs": [
    {
     "name": "stdout",
     "output_type": "stream",
     "text": [
      "['a', 'h']\n"
     ]
    }
   ],
   "source": [
    "print(nx.dijkstra_path(G, \"a\", \"h\", weight='weight'))"
   ]
  },
  {
   "cell_type": "markdown",
   "metadata": {},
   "source": [
    "# Waterlevel on a river"
   ]
  },
  {
   "cell_type": "markdown",
   "metadata": {},
   "source": [
    "## nodes"
   ]
  },
  {
   "cell_type": "code",
   "execution_count": 49,
   "metadata": {},
   "outputs": [],
   "source": [
    "import numpy as np\n",
    "\n",
    "def get_values_from_node(F, prop):\n",
    "    \"\"\"extract info from nodes\"\"\"\n",
    "    values=[]\n",
    "    for key, value in F.nodes(prop):\n",
    "        values = np.append(values, value)\n",
    "\n",
    "    return values\n",
    "\n",
    "def get_min_depth(F):\n",
    "    \"\"\"extract bed and waterlvl info from nodes and \n",
    "    find the minimum depth\"\"\"\n",
    "    bed = get_values_from_node(F, 'bed')\n",
    "    waterlvl = get_values_from_node(F, 'waterlvl')\n",
    "    depth = waterlvl-bed\n",
    "\n",
    "    return np.min(depth)"
   ]
  },
  {
   "cell_type": "code",
   "execution_count": 50,
   "metadata": {},
   "outputs": [],
   "source": [
    "# initialise grid (100 km in steps of 10 km)\n",
    "x = range(0, 100000, 10000)"
   ]
  },
  {
   "cell_type": "code",
   "execution_count": 51,
   "metadata": {},
   "outputs": [],
   "source": [
    "# initialise graph object\n",
    "F = nx.Graph()"
   ]
  },
  {
   "cell_type": "code",
   "execution_count": 52,
   "metadata": {},
   "outputs": [],
   "source": [
    "# add nodes with bed and waterlevels\n",
    "bed = -5\n",
    "waterlvl = 0\n",
    "for val in x:\n",
    "    F.add_node(\"x=\" + str(val), pos=(val, 0), bed=bed, waterlvl=waterlvl)\n",
    "    bed = bed + 0.5\n",
    "    waterlvl = waterlvl + 0.5 + np.sin(val* np.pi*10E8) "
   ]
  },
  {
   "cell_type": "code",
   "execution_count": 53,
   "metadata": {},
   "outputs": [
    {
     "data": {
      "image/png": "[encoded data removed]",
      "text/plain": [
       "<Figure size 432x288 with 1 Axes>"
      ]
     },
     "metadata": {},
     "output_type": "display_data"
    }
   ],
   "source": [
    "nx.draw(F,nx.get_node_attributes(F, 'pos'))\n",
    "labels = nx.get_edge_attributes(F,'weight')\n",
    "nx.draw_networkx_edge_labels(F,nx.get_node_attributes(F, 'pos'),edge_labels=labels)\n",
    "nx.draw_networkx_labels(F,nx.get_node_attributes(F, 'pos'));"
   ]
  },
  {
   "cell_type": "code",
   "execution_count": 54,
   "metadata": {},
   "outputs": [
    {
     "data": {
      "text/plain": [
       "4.975264888343132"
      ]
     },
     "execution_count": 54,
     "metadata": {},
     "output_type": "execute_result"
    }
   ],
   "source": [
    "min_depth = get_min_depth(F)\n",
    "min_depth"
   ]
  }
 ],
 "metadata": {
  "kernelspec": {
   "display_name": "Python 3",
   "language": "python",
   "name": "python3"
  },
  "language_info": {
   "codemirror_mode": {
    "name": "ipython",
    "version": 3
   },
   "file_extension": ".py",
   "mimetype": "text/x-python",
   "name": "python",
   "nbconvert_exporter": "python",
   "pygments_lexer": "ipython3",
   "version": "3.6.3"
  }
 },
 "nbformat": 4,
 "nbformat_minor": 2
}
