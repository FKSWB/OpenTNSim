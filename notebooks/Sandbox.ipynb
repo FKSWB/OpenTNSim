{
 "cells": [
  {
   "cell_type": "markdown",
   "metadata": {},
   "source": [
    "# First experiments"
   ]
  },
  {
   "cell_type": "code",
   "execution_count": 1,
   "metadata": {},
   "outputs": [],
   "source": [
    "import networkx as nx"
   ]
  },
  {
   "cell_type": "code",
   "execution_count": 5,
   "metadata": {},
   "outputs": [],
   "source": [
    "# initialise graph object\n",
    "G = nx.Graph()\n",
    "\n",
    "# initiate edges\n",
    "e = [\n",
    "    ('a', 'b', 0.3), \n",
    "    ('b', 'c', 0.1), \n",
    "    ('a', 'c', 0.5), \n",
    "    ('c', 'd', 1.2)]\n",
    "G.add_weighted_edges_from(e)\n",
    "\n",
    "# initiate nodes\n",
    "G.add_node('a', pos=(1, 1))\n",
    "G.add_node('b', pos=(1, 2))\n",
    "G.add_node('c', pos=(2, 1))\n",
    "G.add_node('d', pos=(2, 2))"
   ]
  },
  {
   "cell_type": "code",
   "execution_count": 6,
   "metadata": {},
   "outputs": [
    {
     "name": "stdout",
     "output_type": "stream",
     "text": [
      "['a', 'b', 'c', 'd']\n"
     ]
    }
   ],
   "source": [
    "# find Dijkstra path and print\n",
    "print(nx.dijkstra_path(G, 'a', 'd'))"
   ]
  },
  {
   "cell_type": "code",
   "execution_count": 8,
   "metadata": {},
   "outputs": [
    {
     "data": {
      "image/png": "[encoded data removed]",
      "text/plain": [
       "<Figure size 432x288 with 1 Axes>"
      ]
     },
     "metadata": {},
     "output_type": "display_data"
    }
   ],
   "source": [
    "# plot\n",
    "nx.draw(G, nx.get_node_attributes(G, 'pos'), with_labels=True, node_size=100)"
   ]
  }
 ],
 "metadata": {
  "kernelspec": {
   "display_name": "Python 3",
   "language": "python",
   "name": "python3"
  },
  "language_info": {
   "codemirror_mode": {
    "name": "ipython",
    "version": 3
   },
   "file_extension": ".py",
   "mimetype": "text/x-python",
   "name": "python",
   "nbconvert_exporter": "python",
   "pygments_lexer": "ipython3",
   "version": "3.6.3"
  }
 },
 "nbformat": 4,
 "nbformat_minor": 2
}
