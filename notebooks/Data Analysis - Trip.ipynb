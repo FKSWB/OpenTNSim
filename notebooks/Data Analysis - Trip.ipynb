{
 "cells": [
  {
   "cell_type": "markdown",
   "metadata": {},
   "source": [
    "### Analysis of scenario 1 / Weekday"
   ]
  },
  {
   "cell_type": "code",
   "execution_count": 58,
   "metadata": {},
   "outputs": [],
   "source": [
    "hour = '20'\n",
    "# scenario = \"Scenario1-Weekday/\"\n",
    "# scenario = \"Scenario2-Weekday/\"\n",
    "# scenario = \"Scenario1-Saturday/\"\n",
    "scenario = \"Scenario2-Saturday/\"\n",
    "\n",
    "# filename = \"/passengers_R_H\"\n",
    "# filename = \"/passengers_M_H\"\n",
    "# filename = \"/passengers_RS_H\"\n",
    "filename = \"/passengers_MS_H\"\n",
    "\n",
    "path = \"../../Results/\" + scenario + hour + filename + hour + \"_I\"\n",
    "\n",
    "df1 = pd.read_csv(path + \"1.csv\")\n",
    "df2 = pd.read_csv(path + \"2.csv\")\n",
    "df3 = pd.read_csv(path + \"3.csv\")\n",
    "df4 = pd.read_csv(path + \"4.csv\")\n",
    "df5 = pd.read_csv(path + \"5.csv\")\n",
    "df6 = pd.read_csv(path + \"6.csv\")\n",
    "df7 = pd.read_csv(path + \"7.csv\")\n",
    "df8 = pd.read_csv(path + \"8.csv\")\n",
    "df9 = pd.read_csv(path + \"9.csv\")\n",
    "df10 = pd.read_csv(path + \"10.csv\")\n",
    "\n",
    "dflist = [df1, df2, df3, df4, df5, df6, df7, df8, df9, df10]"
   ]
  },
  {
   "cell_type": "code",
   "execution_count": 59,
   "metadata": {},
   "outputs": [],
   "source": [
    "from collections import defaultdict\n",
    "\n",
    "origin = Counter()\n",
    "destination = Counter()\n",
    "od_pairs = Counter()\n",
    "\n",
    "for i, df in enumerate(dflist):\n",
    "    orig = Counter(dflist[i]['origin'].tolist())\n",
    "    origin = origin + orig\n",
    "    \n",
    "    dest = Counter(dflist[i]['destination'].tolist())\n",
    "    destination = destination + dest\n",
    "    \n",
    "#     od = Counter(zip(dflist[i]['origin'].tolist(), dflist[i]['destination'].tolist()))\n",
    "#     od_pairs = od_pairs + od\n",
    "    \n",
    "origin = dict(origin)\n",
    "destination = dict(destination)\n",
    "# od_pairs = dict(od_pairs)"
   ]
  },
  {
   "cell_type": "code",
   "execution_count": 60,
   "metadata": {},
   "outputs": [],
   "source": [
    "origin = {k: v / 10 for k, v in origin.items()}\n",
    "destination = {k: v / 10 for k, v in destination.items()}\n",
    "# od_pairs = {k: v / 10 for k, v in od_pairs.items()}"
   ]
  },
  {
   "cell_type": "code",
   "execution_count": 61,
   "metadata": {},
   "outputs": [],
   "source": [
    "origin = pd.DataFrame.from_dict(origin, orient='index').sort_values(by = 0, ascending = False).reset_index()\n",
    "destination = pd.DataFrame.from_dict(destination, orient='index').sort_values(by = 0, ascending = False).reset_index()\n",
    "# od_pairs = pd.DataFrame.from_dict(od_pairs, orient='index').sort_values(by = 0, ascending = False).reset_index()"
   ]
  },
  {
   "cell_type": "code",
   "execution_count": 65,
   "metadata": {},
   "outputs": [],
   "source": [
    "# from ast import literal_eval\n",
    "# dfordest['station'] = [literal_eval(x) for x in dfordest['station']]\n",
    "# dfordest = dfordest.merge(od_pairs, left_on='station', right_on='index', how='outer')"
   ]
  },
  {
   "cell_type": "code",
   "execution_count": 66,
   "metadata": {},
   "outputs": [
    {
     "data": {
      "text/plain": [
       "Index(['station', 'sc1week', 'sc1weekend', 'sc2week', 'index', 0], dtype='object')"
      ]
     },
     "execution_count": 66,
     "metadata": {},
     "output_type": "execute_result"
    }
   ],
   "source": [
    "# dfordest.columns"
   ]
  },
  {
   "cell_type": "code",
   "execution_count": 67,
   "metadata": {},
   "outputs": [],
   "source": [
    "# dfordest.columns = ['station', 'sc1week', 'sc1weekend', 'sc2week', 'station2', 'sc2weekend']"
   ]
  },
  {
   "cell_type": "code",
   "execution_count": 68,
   "metadata": {},
   "outputs": [],
   "source": [
    "# dfordest.station.fillna(dfordest.station2, inplace=True)"
   ]
  },
  {
   "cell_type": "code",
   "execution_count": 69,
   "metadata": {},
   "outputs": [],
   "source": [
    "# del dfordest['station2']"
   ]
  },
  {
   "cell_type": "code",
   "execution_count": 24,
   "metadata": {},
   "outputs": [],
   "source": [
    "import networkx as nx\n",
    "import warnings\n",
    "import datetime\n",
    "import seaborn as sn\n",
    "sn.set()\n",
    "import pandas as pd\n",
    "import numpy as np\n",
    "import matplotlib.pyplot as plt\n",
    "from collections import Counter\n",
    "%matplotlib inline\n",
    "warnings.filterwarnings('ignore')"
   ]
  },
  {
   "cell_type": "code",
   "execution_count": 148,
   "metadata": {},
   "outputs": [],
   "source": [
    "hour = \"20\"\n",
    "dfor = pd.read_csv('../../Results/origin' + hour + '.csv')\n",
    "dfdest = pd.read_csv('../../Results/destination'  + hour + '.csv')"
   ]
  },
  {
   "cell_type": "code",
   "execution_count": 149,
   "metadata": {},
   "outputs": [],
   "source": [
    "origingvb = pd.read_csv('Data/originsaturday.csv')\n",
    "destgvb = pd.read_csv('Data/destinationsaturday.csv')\n",
    "origingvb = origingvb[origingvb['hour'] ==\"20:00 - 20:59\"]\n",
    "destgvb = destgvb[destgvb['hour'] ==\"20:00 - 20:59\"]\n",
    "destgvb = destgvb[['stop', 'mean']]\n",
    "origingvb = origingvb[['stop', 'mean']]"
   ]
  },
  {
   "cell_type": "code",
   "execution_count": 150,
   "metadata": {},
   "outputs": [],
   "source": [
    "dfor = dfor.merge(origingvb, how='outer', left_on='station', right_on='stop')"
   ]
  },
  {
   "cell_type": "code",
   "execution_count": 151,
   "metadata": {},
   "outputs": [],
   "source": [
    "dfor.station.fillna(dfor.stop, inplace=True)"
   ]
  },
  {
   "cell_type": "code",
   "execution_count": 152,
   "metadata": {},
   "outputs": [],
   "source": [
    "del dfor['stop']"
   ]
  },
  {
   "cell_type": "code",
   "execution_count": 153,
   "metadata": {},
   "outputs": [],
   "source": [
    "dfor.columns = [['station', 'sc1week', 'sc1weekend', 'sc2week', 'sc2weekend', 'gvbweek', 'gvbweekend']]"
   ]
  },
  {
   "cell_type": "code",
   "execution_count": 154,
   "metadata": {},
   "outputs": [
    {
     "data": {
      "text/plain": [
       "station       Station ZuidCentraal StationRokinDe PijpStatio...\n",
       "sc1week                                                  4972.7\n",
       "sc1weekend                                                 5811\n",
       "sc2week                                                  4803.7\n",
       "sc2weekend                                               5590.3\n",
       "gvbweek                                                 6217.51\n",
       "gvbweekend                                               7166.2\n",
       "dtype: object"
      ]
     },
     "execution_count": 154,
     "metadata": {},
     "output_type": "execute_result"
    }
   ],
   "source": [
    "dfor.sum(axis = 0, skipna = True) "
   ]
  },
  {
   "cell_type": "code",
   "execution_count": 155,
   "metadata": {},
   "outputs": [],
   "source": [
    "dfdest = dfdest.merge(destgvb, left_on='station', right_on='stop', how='outer')"
   ]
  },
  {
   "cell_type": "code",
   "execution_count": 156,
   "metadata": {},
   "outputs": [],
   "source": [
    "dfdest.station.fillna(dfdest.stop, inplace=True)"
   ]
  },
  {
   "cell_type": "code",
   "execution_count": 157,
   "metadata": {},
   "outputs": [],
   "source": [
    "del dfdest['stop']"
   ]
  },
  {
   "cell_type": "code",
   "execution_count": 158,
   "metadata": {},
   "outputs": [],
   "source": [
    "dfdest.columns = [['station', 'sc1week', 'sc1weekend', 'sc2week', 'sc2weekend', 'gvbweek', 'gvbweekend']]"
   ]
  },
  {
   "cell_type": "code",
   "execution_count": 159,
   "metadata": {},
   "outputs": [
    {
     "data": {
      "text/plain": [
       "sc1week       4972.700000\n",
       "sc1weekend    5811.000000\n",
       "sc2week       4803.700000\n",
       "sc2weekend    5590.300000\n",
       "gvbweek       5854.814520\n",
       "gvbweekend    6772.030303\n",
       "dtype: float64"
      ]
     },
     "execution_count": 159,
     "metadata": {},
     "output_type": "execute_result"
    }
   ],
   "source": [
    "dfdest.sum(axis = 0, skipna = True) "
   ]
  },
  {
   "cell_type": "code",
   "execution_count": 160,
   "metadata": {},
   "outputs": [
    {
     "data": {
      "text/html": [
       "<div>\n",
       "<style scoped>\n",
       "    .dataframe tbody tr th:only-of-type {\n",
       "        vertical-align: middle;\n",
       "    }\n",
       "\n",
       "    .dataframe tbody tr th {\n",
       "        vertical-align: top;\n",
       "    }\n",
       "\n",
       "    .dataframe thead tr th {\n",
       "        text-align: left;\n",
       "    }\n",
       "</style>\n",
       "<table border=\"1\" class=\"dataframe\">\n",
       "  <thead>\n",
       "    <tr>\n",
       "      <th></th>\n",
       "      <th>station</th>\n",
       "      <th>sc1week</th>\n",
       "      <th>sc1weekend</th>\n",
       "      <th>sc2week</th>\n",
       "      <th>sc2weekend</th>\n",
       "      <th>gvbweek</th>\n",
       "      <th>gvbweekend</th>\n",
       "    </tr>\n",
       "  </thead>\n",
       "  <tbody>\n",
       "    <tr>\n",
       "      <th>0</th>\n",
       "      <td>Station Zuid</td>\n",
       "      <td>797.9</td>\n",
       "      <td>594.8</td>\n",
       "      <td>781.6</td>\n",
       "      <td>585.0</td>\n",
       "      <td>1089.727273</td>\n",
       "      <td>784.090909</td>\n",
       "    </tr>\n",
       "    <tr>\n",
       "      <th>1</th>\n",
       "      <td>Centraal Station</td>\n",
       "      <td>529.2</td>\n",
       "      <td>791.4</td>\n",
       "      <td>533.7</td>\n",
       "      <td>778.1</td>\n",
       "      <td>701.985732</td>\n",
       "      <td>1014.778788</td>\n",
       "    </tr>\n",
       "    <tr>\n",
       "      <th>2</th>\n",
       "      <td>Rokin</td>\n",
       "      <td>475.6</td>\n",
       "      <td>623.2</td>\n",
       "      <td>466.2</td>\n",
       "      <td>617.1</td>\n",
       "      <td>537.926768</td>\n",
       "      <td>718.909091</td>\n",
       "    </tr>\n",
       "    <tr>\n",
       "      <th>3</th>\n",
       "      <td>De Pijp</td>\n",
       "      <td>351.3</td>\n",
       "      <td>478.3</td>\n",
       "      <td>329.1</td>\n",
       "      <td>429.4</td>\n",
       "      <td>433.045455</td>\n",
       "      <td>593.651515</td>\n",
       "    </tr>\n",
       "    <tr>\n",
       "      <th>4</th>\n",
       "      <td>Station Bijlmer ArenA</td>\n",
       "      <td>209.3</td>\n",
       "      <td>222.9</td>\n",
       "      <td>207.2</td>\n",
       "      <td>230.0</td>\n",
       "      <td>273.518939</td>\n",
       "      <td>296.000000</td>\n",
       "    </tr>\n",
       "  </tbody>\n",
       "</table>\n",
       "</div>"
      ],
      "text/plain": [
       "                 station sc1week sc1weekend sc2week sc2weekend      gvbweek  \\\n",
       "0           Station Zuid   797.9      594.8   781.6      585.0  1089.727273   \n",
       "1       Centraal Station   529.2      791.4   533.7      778.1   701.985732   \n",
       "2                  Rokin   475.6      623.2   466.2      617.1   537.926768   \n",
       "3                De Pijp   351.3      478.3   329.1      429.4   433.045455   \n",
       "4  Station Bijlmer ArenA   209.3      222.9   207.2      230.0   273.518939   \n",
       "\n",
       "    gvbweekend  \n",
       "0   784.090909  \n",
       "1  1014.778788  \n",
       "2   718.909091  \n",
       "3   593.651515  \n",
       "4   296.000000  "
      ]
     },
     "execution_count": 160,
     "metadata": {},
     "output_type": "execute_result"
    }
   ],
   "source": [
    "dfor.head()"
   ]
  },
  {
   "cell_type": "code",
   "execution_count": 161,
   "metadata": {},
   "outputs": [
    {
     "data": {
      "text/html": [
       "<div>\n",
       "<style scoped>\n",
       "    .dataframe tbody tr th:only-of-type {\n",
       "        vertical-align: middle;\n",
       "    }\n",
       "\n",
       "    .dataframe tbody tr th {\n",
       "        vertical-align: top;\n",
       "    }\n",
       "\n",
       "    .dataframe thead tr th {\n",
       "        text-align: left;\n",
       "    }\n",
       "</style>\n",
       "<table border=\"1\" class=\"dataframe\">\n",
       "  <thead>\n",
       "    <tr>\n",
       "      <th></th>\n",
       "      <th>station</th>\n",
       "      <th>sc1week</th>\n",
       "      <th>sc1weekend</th>\n",
       "      <th>sc2week</th>\n",
       "      <th>sc2weekend</th>\n",
       "      <th>gvbweek</th>\n",
       "      <th>gvbweekend</th>\n",
       "    </tr>\n",
       "  </thead>\n",
       "  <tbody>\n",
       "    <tr>\n",
       "      <th>0</th>\n",
       "      <td>Station Zuid</td>\n",
       "      <td>454.0</td>\n",
       "      <td>465.2</td>\n",
       "      <td>459.3</td>\n",
       "      <td>461.2</td>\n",
       "      <td>612.420455</td>\n",
       "      <td>581.590909</td>\n",
       "    </tr>\n",
       "    <tr>\n",
       "      <th>1</th>\n",
       "      <td>Centraal Station</td>\n",
       "      <td>445.8</td>\n",
       "      <td>496.3</td>\n",
       "      <td>413.8</td>\n",
       "      <td>463.7</td>\n",
       "      <td>561.402525</td>\n",
       "      <td>638.170707</td>\n",
       "    </tr>\n",
       "    <tr>\n",
       "      <th>2</th>\n",
       "      <td>Noord</td>\n",
       "      <td>419.0</td>\n",
       "      <td>465.4</td>\n",
       "      <td>414.2</td>\n",
       "      <td>450.8</td>\n",
       "      <td>489.295455</td>\n",
       "      <td>545.121212</td>\n",
       "    </tr>\n",
       "    <tr>\n",
       "      <th>3</th>\n",
       "      <td>De Pijp</td>\n",
       "      <td>362.9</td>\n",
       "      <td>467.3</td>\n",
       "      <td>362.8</td>\n",
       "      <td>457.9</td>\n",
       "      <td>419.428030</td>\n",
       "      <td>540.393939</td>\n",
       "    </tr>\n",
       "    <tr>\n",
       "      <th>4</th>\n",
       "      <td>Station Bijlmer ArenA</td>\n",
       "      <td>237.8</td>\n",
       "      <td>375.0</td>\n",
       "      <td>234.7</td>\n",
       "      <td>354.5</td>\n",
       "      <td>289.734848</td>\n",
       "      <td>447.196970</td>\n",
       "    </tr>\n",
       "  </tbody>\n",
       "</table>\n",
       "</div>"
      ],
      "text/plain": [
       "                 station sc1week sc1weekend sc2week sc2weekend     gvbweek  \\\n",
       "0           Station Zuid   454.0      465.2   459.3      461.2  612.420455   \n",
       "1       Centraal Station   445.8      496.3   413.8      463.7  561.402525   \n",
       "2                  Noord   419.0      465.4   414.2      450.8  489.295455   \n",
       "3                De Pijp   362.9      467.3   362.8      457.9  419.428030   \n",
       "4  Station Bijlmer ArenA   237.8      375.0   234.7      354.5  289.734848   \n",
       "\n",
       "   gvbweekend  \n",
       "0  581.590909  \n",
       "1  638.170707  \n",
       "2  545.121212  \n",
       "3  540.393939  \n",
       "4  447.196970  "
      ]
     },
     "execution_count": 161,
     "metadata": {},
     "output_type": "execute_result"
    }
   ],
   "source": [
    "dfdest.head()"
   ]
  },
  {
   "cell_type": "code",
   "execution_count": 162,
   "metadata": {},
   "outputs": [],
   "source": [
    "dfor.to_csv('../../Results/origin' + hour + '.csv', index=False)\n",
    "dfdest.to_csv('../../Results/destination'  + hour +  '.csv', index=False)"
   ]
  },
  {
   "cell_type": "code",
   "execution_count": null,
   "metadata": {},
   "outputs": [],
   "source": []
  }
 ],
 "metadata": {
  "kernelspec": {
   "display_name": "Python 3",
   "language": "python",
   "name": "python3"
  },
  "language_info": {
   "codemirror_mode": {
    "name": "ipython",
    "version": 3
   },
   "file_extension": ".py",
   "mimetype": "text/x-python",
   "name": "python",
   "nbconvert_exporter": "python",
   "pygments_lexer": "ipython3",
   "version": "3.6.7"
  }
 },
 "nbformat": 4,
 "nbformat_minor": 2
}
