{
 "cells": [
  {
   "cell_type": "markdown",
   "metadata": {},
   "source": [
    "## Example 06 - Visualizing the sailed path"
   ]
  },
  {
   "cell_type": "markdown",
   "metadata": {},
   "source": [
    "### Imports\n",
    "Import the required libraries"
   ]
  },
  {
   "cell_type": "code",
   "execution_count": null,
   "metadata": {},
   "outputs": [],
   "source": [
    "# package(s) related to time, space and id\n",
    "import datetime\n",
    "import platform\n",
    "import random\n",
    "import os\n",
    "\n",
    "# you need these dependencies (you can get these from anaconda)\n",
    "# package(s) related to the simulation\n",
    "import simpy\n",
    "\n",
    "# spatial libraries \n",
    "import pyproj\n",
    "import shapely.geometry\n",
    "from simplekml import Kml, Style\n",
    "\n",
    "# package(s) for data handling\n",
    "import pandas as pd\n",
    "import numpy as np\n",
    "import matplotlib.pyplot as plt\n",
    "import matplotlib.animation as animation\n",
    "\n",
    "# tranport network analysis package\n",
    "import transport_network_analysis.core as core\n",
    "\n",
    "# Used for mathematical functions\n",
    "import math             \n",
    "\n",
    "# Used for making the graph to visualize our problem\n",
    "import networkx as nx  \n",
    "\n",
    "# Graph location\n",
    "location_graph = \"Shape-Files/Rotterdam-Antwerpen-corridor\"\n",
    "name_graph = \"edges_2.shp\""
   ]
  },
  {
   "cell_type": "markdown",
   "metadata": {},
   "source": [
    "### Create graph"
   ]
  },
  {
   "cell_type": "markdown",
   "metadata": {},
   "source": [
    "The cel below visualizes the problem. In graph theory the red dots are called *edges* and the lines are called *vertices*. Vessels (or any other object) move from edge 1 to edge 3 and from edge 4 to edge 2. The added complexity is that vertice 5-6 only allows traffic in one direction at a time. Vessels can travel simultanously in one direction.\n",
    "\n",
    "**Important**: \n",
    "\n",
    "If you use windows and get the following error \"ImportError: read_shp requires OGR: http://www.gdal.org/\", you probably have [this issue](https://github.com/conda-forge/gdal-feedstock/issues/219). Solving it is possible by running the following commands in your terminal (as explained [here](https://gis.stackexchange.com/questions/294231/installing-gdal-with-anaconda)):\n",
    "\n",
    "```bash\n",
    "#Create a new virtual environment\n",
    "conda create -n testgdal -c conda-forge gdal vs2015_runtime=14\n",
    "\n",
    "#Activate virtual environment\n",
    "activate testgdal\n",
    "\n",
    "#Open Jupyter notebook\n",
    "jupyer notebook\n",
    "```"
   ]
  },
  {
   "cell_type": "code",
   "execution_count": null,
   "metadata": {},
   "outputs": [],
   "source": [
    "# Read the shape-file\n",
    "FG = nx.read_shp(os.path.join(location_graph, name_graph), \n",
    "                 simplify=True)\n",
    "\n",
    "# Draw the shape-file to get a first impression\n",
    "plt.figure(figsize=(18,18))\n",
    "nx.draw(FG)\n",
    "\n",
    "# Show the drawing\n",
    "plt.show()"
   ]
  },
  {
   "cell_type": "code",
   "execution_count": null,
   "metadata": {
    "scrolled": false
   },
   "outputs": [],
   "source": [
    "# calculate distance between two points\n",
    "def calculate_distance(orig, dest):\n",
    "    wgs84 = pyproj.Geod(ellps='WGS84')\n",
    "    \n",
    "    distance = wgs84.inv(shapely.geometry.asShape(orig).x, shapely.geometry.asShape(orig).y, \n",
    "                         shapely.geometry.asShape(dest).x, shapely.geometry.asShape(dest).y)[2]\n",
    "    \n",
    "    return distance\n",
    "\n",
    "H_G = nx.Graph()\n",
    "\n",
    "lat_lon_to_index = {}\n",
    "edge_id_counter = 0\n",
    "\n",
    "for i, node in enumerate(FG.nodes(data = True)):\n",
    "    H_G.add_node(i, pos = node[0], \n",
    "                    name = \"Node {}\".format(i),\n",
    "                    geometry = shapely.geometry.Point(node[0][0], node[0][1]))\n",
    "    lat_lon_to_index[node[0]] = i\n",
    "\n",
    "    \n",
    "for edge in FG.edges(data=True): \n",
    "    H_G.add_edge(lat_lon_to_index[edge[0]], \n",
    "                 lat_lon_to_index[edge[1]],\n",
    "                 dis= calculate_distance(nx.get_node_attributes(H_G, 'geometry')[lat_lon_to_index[edge[1]]], \n",
    "                                         nx.get_node_attributes(H_G, 'geometry')[lat_lon_to_index[edge[0]]]))\n",
    "\n",
    "FG = H_G.to_directed()\n",
    "plt.figure(figsize=(18,18))\n",
    "nx.draw(FG, nx.get_node_attributes(FG, 'pos'), with_labels=True, node_size=0.5, font_size = 2, width = 0.2, arrowsize = 3)\n",
    "plt.show()"
   ]
  },
  {
   "cell_type": "markdown",
   "metadata": {},
   "source": [
    "### Create vessels\n",
    "Vessel without graph, but with shortest path."
   ]
  },
  {
   "cell_type": "code",
   "execution_count": null,
   "metadata": {},
   "outputs": [],
   "source": [
    "# Make a class out of mix-ins\n",
    "TransportResource = type('TransportResource', \n",
    "                         (core.Identifiable, core.Log, core.ContainerDependentMovable, \n",
    "                          core.HasResource, core.Routeable), {})\n",
    "\n",
    "\n",
    "\n",
    "# For testing purposes we only want v to be 1\n",
    "def compute_v_provider(v_empty, v_full):\n",
    "    return lambda x: 1\n",
    "\n",
    "data_vessel = {\"env\": None,\n",
    "               \"name\": \"Vessel number 1\",\n",
    "               \"route\": None,\n",
    "               \"geometry\": shapely.geometry.Point(0, 0),  # lon, lat\n",
    "               \"capacity\": 1_000,\n",
    "               \"compute_v\": compute_v_provider(v_empty=1, v_full=1)}\n",
    "\n",
    "# create the transport processing resource\n",
    "vessel = TransportResource(**data_vessel)"
   ]
  },
  {
   "cell_type": "markdown",
   "metadata": {},
   "source": [
    "### Define paths"
   ]
  },
  {
   "cell_type": "code",
   "execution_count": null,
   "metadata": {},
   "outputs": [],
   "source": [
    "# First simulation is from random node 1 to random node 2\n",
    "random_1 = random.choice(list(FG))\n",
    "random_2 = random.choice(list(FG))\n",
    "\n",
    "path_1 = nx.dijkstra_path(FG, random_1, random_2)\n",
    "print(path_1)"
   ]
  },
  {
   "cell_type": "code",
   "execution_count": null,
   "metadata": {},
   "outputs": [],
   "source": [
    "# First simulation is from random node 1 to random node 2\n",
    "random_1 = random.choice(list(FG))\n",
    "random_2 = random.choice(list(FG))\n",
    "\n",
    "path_2 = nx.dijkstra_path(FG, random_1, random_2)\n",
    "print(path_2)"
   ]
  },
  {
   "cell_type": "code",
   "execution_count": null,
   "metadata": {},
   "outputs": [],
   "source": [
    "paths = [path_1, path_2]"
   ]
  },
  {
   "cell_type": "markdown",
   "metadata": {},
   "source": [
    "### Run simulation"
   ]
  },
  {
   "cell_type": "code",
   "execution_count": null,
   "metadata": {},
   "outputs": [],
   "source": [
    "def start(env, vessel):\n",
    "    while True:\n",
    "        vessel.log_entry(\"Start sailing\", env.now, \"\", vessel.geometry)\n",
    "        yield from vessel.move()\n",
    "        vessel.log_entry(\"Stop sailing\", env.now, \"\", vessel.geometry)\n",
    "        \n",
    "        if vessel.geometry == nx.get_node_attributes(FG, \"geometry\")[vessel.route[-1]]:\n",
    "            break"
   ]
  },
  {
   "cell_type": "code",
   "execution_count": null,
   "metadata": {},
   "outputs": [],
   "source": [
    "for path in enumerate(paths):\n",
    "    # Start simpy environment\n",
    "    env = simpy.Environment()\n",
    "    \n",
    "    # Add graph to environment\n",
    "    env.FG = FG\n",
    "    \n",
    "    # Add environment and path to the vessel\n",
    "    vessel.env = env\n",
    "    vessel.route = path[1]\n",
    "    vessel.geometry = nx.get_node_attributes(FG, \"geometry\")[path[1][0]]\n",
    "\n",
    "    # Start the simulation\n",
    "    env.process(start(env, vessel))\n",
    "    env.run()\n",
    "\n",
    "    print(\"Simulation of path {} took {} seconds\".format(path[0] + 1, int(env.now)))\n",
    "    \n",
    "    break"
   ]
  },
  {
   "cell_type": "markdown",
   "metadata": {},
   "source": [
    "### Testing\n",
    "With v = 1 the distance of a path should be equal to the simulation time.\n",
    "\n",
    "If simulation time == distance of path, test succeeds."
   ]
  },
  {
   "cell_type": "code",
   "execution_count": null,
   "metadata": {},
   "outputs": [],
   "source": [
    "wgs84 = pyproj.Geod(ellps='WGS84')\n",
    "distance_path_1 = 0\n",
    "distance_path_2 = 0\n",
    "\n",
    "for node in enumerate(path_1):\n",
    "    orig = nx.get_node_attributes(FG, \"geometry\")[path_1[node[0]]]\n",
    "    dest = nx.get_node_attributes(FG, \"geometry\")[path_1[node[0] + 1]]\n",
    "\n",
    "    distance_path_1 += int(wgs84.inv(shapely.geometry.asShape(orig).x, shapely.geometry.asShape(orig).y, \n",
    "                                     shapely.geometry.asShape(dest).x, shapely.geometry.asShape(dest).y)[2])\n",
    "    \n",
    "    if node[0] + 2 == len(path_1):\n",
    "                break\n",
    "\n",
    "for node in enumerate(path_2):\n",
    "    orig = nx.get_node_attributes(FG, \"geometry\")[path_2[node[0]]]\n",
    "    dest = nx.get_node_attributes(FG, \"geometry\")[path_2[node[0] + 1]]\n",
    "\n",
    "    distance_path_2 += int(wgs84.inv(shapely.geometry.asShape(orig).x, shapely.geometry.asShape(orig).y, \n",
    "                                     shapely.geometry.asShape(dest).x, shapely.geometry.asShape(dest).y)[2])\n",
    "    \n",
    "    if node[0] + 2 == len(path_2):\n",
    "                break"
   ]
  },
  {
   "cell_type": "code",
   "execution_count": null,
   "metadata": {},
   "outputs": [],
   "source": [
    "distance_path_1, distance_path_2"
   ]
  },
  {
   "cell_type": "markdown",
   "metadata": {},
   "source": [
    "### Obtain vessel log information\n",
    "The cel below uses the vessel log. The core function *log_entry* is used, which takes four arguments:\n",
    "\n",
    "- **Log.** A text to describe what is logged.\n",
    "- **t.** The timestamp.\n",
    "- **Value.**  The value for the log (for sailing this is the distance).\n",
    "- **Geometry** The location of the vessel while loggin."
   ]
  },
  {
   "cell_type": "code",
   "execution_count": null,
   "metadata": {},
   "outputs": [],
   "source": [
    "vessel_log = pd.DataFrame.from_dict(vessel.log)\n",
    "vessel_log.head()"
   ]
  },
  {
   "cell_type": "markdown",
   "metadata": {},
   "source": [
    "### Visualization of path\n",
    "If you get an error regarding ffmpeg use [this](https://stackoverflow.com/questions/13316397/matplotlib-animation-no-moviewriters-available) answer. You have to install ffmpeg in your Conda environment. It can be done using the following command.\n",
    "\n",
    "```bash\n",
    "#Install ffmpeg using Conda\n",
    "conda install -c conda-forge ffmpeg\n",
    "```"
   ]
  },
  {
   "cell_type": "code",
   "execution_count": null,
   "metadata": {},
   "outputs": [],
   "source": [
    "%%time\n",
    "\n",
    "# Get the coordinates of every step\n",
    "coordinates = []\n",
    "for i in vessel.geometry_log:\n",
    "    coordinates.append((i.x, i.y))\n",
    "    \n",
    "# Get the time of every step\n",
    "timesteps = []\n",
    "for i in vessel.t:\n",
    "    timesteps.append(i)\n",
    "\n",
    "# Make the animation\n",
    "fig = plt.figure(figsize = [12, 12])\n",
    "\n",
    "nx.draw(FG, nx.get_node_attributes(FG, 'pos'), \n",
    "        with_labels = True, \n",
    "        node_size = 0.5,\n",
    "        font_size = 2, \n",
    "        width = 0.2, \n",
    "        arrowsize = 3)\n",
    "\n",
    "location, = plt.plot([], [], 'kx', markersize=15)\n",
    "path, = plt.plot([], [], 'go', markersize=8)\n",
    "time_text = plt.title(\"\")\n",
    "\n",
    "def init():\n",
    "    location.set_data([], [])\n",
    "    path.set_data([], [])\n",
    "    time_text.set_text(\"Time is 0\")\n",
    "\n",
    "def animate(i):\n",
    "    this_x = [coordinates[i][0]]\n",
    "    this_y = [coordinates[i][1]]\n",
    "    \n",
    "    location.set_data(this_x, this_y)\n",
    "    time_text.set_text(\"Time is {}\".format(int(timesteps[i])))\n",
    "    \n",
    "    if 0 < i:\n",
    "        past_x = [coordinate[0] for coordinate in coordinates[:i]]\n",
    "        past_y = [coordinate[1] for coordinate in coordinates[:i]]\n",
    "        \n",
    "        path.set_data(past_x, past_y)\n",
    "    \n",
    "        return location, path, time_text\n",
    "    \n",
    "    else:\n",
    "        return location, time_text\n",
    "    \n",
    "        \n",
    "ani = animation.FuncAnimation(fig, animate, np.arange(0, len(timesteps)), init_func=init)\n",
    "ani.save('route - example 06.mp4', fps=5)"
   ]
  },
  {
   "cell_type": "markdown",
   "metadata": {},
   "source": [
    "### Visualisation improved"
   ]
  },
  {
   "cell_type": "code",
   "execution_count": null,
   "metadata": {},
   "outputs": [],
   "source": [
    "geom_x = []\n",
    "geom_y = []\n",
    "\n",
    "for geom in vessel_log[\"Geometry\"]:\n",
    "    geom_x.append(geom.x)\n",
    "    geom_y.append(geom.y)\n",
    "\n",
    "vessel_log[\"Geometry - x\"] = geom_x\n",
    "vessel_log[\"Geometry - y\"] = geom_y\n",
    "\n",
    "vessel_log.head()"
   ]
  },
  {
   "cell_type": "code",
   "execution_count": null,
   "metadata": {},
   "outputs": [],
   "source": [
    "time_stamp_min = min(vessel_log[\"Timestamp\"])\n",
    "time_stamp_max = max(vessel_log[\"Timestamp\"])\n",
    "\n",
    "stepsize = 60\n",
    "steps = int(np.floor((time_stamp_max - time_stamp_min) / stepsize))\n",
    "\n",
    "timestamps_t = np.linspace(time_stamp_min, time_stamp_max, steps)\n",
    "timestamps_x = np.interp(timestamps, vessel_log[\"Timestamp\"], vessel_log[\"Geometry - x\"])\n",
    "timestamps_y = np.interp(timestamps, vessel_log[\"Timestamp\"], vessel_log[\"Geometry - y\"])"
   ]
  },
  {
   "cell_type": "code",
   "execution_count": null,
   "metadata": {},
   "outputs": [],
   "source": [
    "%%time\n",
    "\n",
    "# Make the animation\n",
    "fig = plt.figure(figsize = [12, 12])\n",
    "\n",
    "nx.draw(FG, nx.get_node_attributes(FG, 'pos'), \n",
    "        with_labels = True, \n",
    "        node_size = 0.5,\n",
    "        font_size = 2, \n",
    "        width = 0.2, \n",
    "        arrowsize = 3)\n",
    "\n",
    "location, = plt.plot([], [], 'ko', markersize=15)\n",
    "path, = plt.plot([], [], 'g')\n",
    "time_text = plt.title(\"\")\n",
    "\n",
    "def init():\n",
    "    location.set_data([], [])\n",
    "    path.set_data([], [])\n",
    "    time_text.set_text(\"Time is 0\")\n",
    "\n",
    "def animate(i):\n",
    "    this_x = [timestamps_x[i]]\n",
    "    this_y = [timestamps_x[i]]\n",
    "    \n",
    "    location.set_data(this_x, this_y)\n",
    "    time_text.set_text(\"Time is {}\".format(int(timestamps_t[i])))\n",
    "    \n",
    "    if 0 < i:\n",
    "        past_x = [x for x in timestamps_x[:i]]\n",
    "        past_y = [y for y in timestamps_y[:i]]\n",
    "        \n",
    "        path.set_data(past_x, past_y)\n",
    "    \n",
    "        return location, path, time_text\n",
    "    \n",
    "    else:\n",
    "        return location, time_text\n",
    "    \n",
    "        \n",
    "ani = animation.FuncAnimation(fig, animate, np.arange(0, len(timestamps_t)), init_func=init)\n",
    "ani.save('route - improved - example 06.mp4', fps=5)"
   ]
  }
 ],
 "metadata": {
  "kernelspec": {
   "display_name": "Python 3",
   "language": "python",
   "name": "python3"
  },
  "language_info": {
   "codemirror_mode": {
    "name": "ipython",
    "version": 3
   },
   "file_extension": ".py",
   "mimetype": "text/x-python",
   "name": "python",
   "nbconvert_exporter": "python",
   "pygments_lexer": "ipython3",
   "version": "3.7.0"
  }
 },
 "nbformat": 4,
 "nbformat_minor": 2
}
