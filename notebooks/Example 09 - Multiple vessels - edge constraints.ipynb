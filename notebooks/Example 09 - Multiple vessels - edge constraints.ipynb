{
 "cells": [
  {
   "cell_type": "markdown",
   "metadata": {},
   "source": [
    "## Example 09 - Multiple vessels - edge constraints"
   ]
  },
  {
   "cell_type": "markdown",
   "metadata": {},
   "source": [
    "### Imports\n",
    "Import the required libraries"
   ]
  },
  {
   "cell_type": "code",
   "execution_count": 1,
   "metadata": {},
   "outputs": [],
   "source": [
    "# package(s) related to time, space and id\n",
    "import datetime\n",
    "import platform\n",
    "import random\n",
    "import os\n",
    "\n",
    "# you need these dependencies (you can get these from anaconda)\n",
    "# package(s) related to the simulation\n",
    "import simpy\n",
    "\n",
    "# spatial libraries \n",
    "import pyproj\n",
    "import shapely.geometry\n",
    "from simplekml import Kml, Style\n",
    "\n",
    "# package(s) for data handling\n",
    "import pandas as pd\n",
    "import numpy as np\n",
    "import matplotlib.pyplot as plt\n",
    "import matplotlib.animation as animation\n",
    "\n",
    "# tranport network analysis package\n",
    "import transport_network_analysis.core as core\n",
    "import transport_network_analysis.graph_module as graph_module\n",
    "\n",
    "# Used for mathematical functions\n",
    "import math             \n",
    "\n",
    "# Used for making the graph to visualize our problem\n",
    "import networkx as nx  \n",
    "\n",
    "# Graph location\n",
    "location_graph = \"Shape-Files/Rotterdam-Antwerpen-corridor\"\n",
    "name_graph = \"edges_2.shp\""
   ]
  },
  {
   "cell_type": "markdown",
   "metadata": {},
   "source": [
    "### Create graph"
   ]
  },
  {
   "cell_type": "markdown",
   "metadata": {},
   "source": [
    "The cel below visualizes the problem. In graph theory the red dots are called *edges* and the lines are called *vertices*. Vessels (or any other object) move from edge 1 to edge 3 and from edge 4 to edge 2. The added complexity is that vertice 5-6 only allows traffic in one direction at a time. Vessels can travel simultanously in one direction.\n",
    "\n",
    "**Important**: \n",
    "\n",
    "If you use windows and get the following error \"ImportError: read_shp requires OGR: http://www.gdal.org/\", you probably have [this issue](https://github.com/conda-forge/gdal-feedstock/issues/219). Solving it is possible by running the following commands in your terminal (as explained [here](https://gis.stackexchange.com/questions/294231/installing-gdal-with-anaconda)):\n",
    "\n",
    "```bash\n",
    "#Create a new virtual environment\n",
    "conda create -n testgdal -c conda-forge gdal vs2015_runtime=14\n",
    "\n",
    "#Activate virtual environment\n",
    "activate testgdal\n",
    "\n",
    "#Open Jupyter notebook\n",
    "jupyer notebook\n",
    "```"
   ]
  },
  {
   "cell_type": "code",
   "execution_count": 2,
   "metadata": {},
   "outputs": [],
   "source": [
    "graph = graph_module.Graph()\n",
    "graph.from_shape(location_graph, name_graph)"
   ]
  },
  {
   "cell_type": "code",
   "execution_count": 3,
   "metadata": {},
   "outputs": [
    {
     "ename": "TypeError",
     "evalue": "in method 'Geometry_Transform', argument 2 of type 'OSRCoordinateTransformationShadow *'",
     "output_type": "error",
     "traceback": [
      "\u001b[1;31m---------------------------------------------------------------------------\u001b[0m",
      "\u001b[1;31mTypeError\u001b[0m                                 Traceback (most recent call last)",
      "\u001b[1;32m<ipython-input-3-028bd67674eb>\u001b[0m in \u001b[0;36m<module>\u001b[1;34m()\u001b[0m\n\u001b[1;32m----> 1\u001b[1;33m \u001b[0mgraph\u001b[0m\u001b[1;33m.\u001b[0m\u001b[0mcreate_graph_new_projection\u001b[0m\u001b[1;33m(\u001b[0m\u001b[1;33m)\u001b[0m\u001b[1;33m\u001b[0m\u001b[0m\n\u001b[0m\u001b[0;32m      2\u001b[0m \u001b[0mgraph\u001b[0m\u001b[1;33m.\u001b[0m\u001b[0mplot\u001b[0m\u001b[1;33m(\u001b[0m\u001b[1;33m)\u001b[0m\u001b[1;33m\u001b[0m\u001b[0m\n",
      "\u001b[1;32mc:\\users\\leo1_\\transport-network-analysis\\src\\transport_network_analysis\\graph_module.py\u001b[0m in \u001b[0;36mcreate_graph_new_projection\u001b[1;34m(self, to_EPSG)\u001b[0m\n\u001b[0;32m     84\u001b[0m         \u001b[1;31m# Add original nodes and edges to new graph\u001b[0m\u001b[1;33m\u001b[0m\u001b[1;33m\u001b[0m\u001b[0m\n\u001b[0;32m     85\u001b[0m         \u001b[1;32mfor\u001b[0m \u001b[0mi\u001b[0m\u001b[1;33m,\u001b[0m \u001b[0mnode\u001b[0m \u001b[1;32min\u001b[0m \u001b[0menumerate\u001b[0m\u001b[1;33m(\u001b[0m\u001b[0mself\u001b[0m\u001b[1;33m.\u001b[0m\u001b[0mgraph\u001b[0m\u001b[1;33m.\u001b[0m\u001b[0mnodes\u001b[0m\u001b[1;33m(\u001b[0m\u001b[0mdata\u001b[0m \u001b[1;33m=\u001b[0m \u001b[1;32mTrue\u001b[0m\u001b[1;33m)\u001b[0m\u001b[1;33m)\u001b[0m\u001b[1;33m:\u001b[0m\u001b[1;33m\u001b[0m\u001b[0m\n\u001b[1;32m---> 86\u001b[1;33m             \u001b[0mcoordinates\u001b[0m \u001b[1;33m=\u001b[0m \u001b[0mself\u001b[0m\u001b[1;33m.\u001b[0m\u001b[0mchange_projection\u001b[0m\u001b[1;33m(\u001b[0m\u001b[0mtransform\u001b[0m\u001b[1;33m,\u001b[0m \u001b[0mshapely\u001b[0m\u001b[1;33m.\u001b[0m\u001b[0mgeometry\u001b[0m\u001b[1;33m.\u001b[0m\u001b[0mPoint\u001b[0m\u001b[1;33m(\u001b[0m\u001b[0mlist\u001b[0m\u001b[1;33m(\u001b[0m\u001b[0mself\u001b[0m\u001b[1;33m.\u001b[0m\u001b[0mgraph\u001b[0m\u001b[1;33m.\u001b[0m\u001b[0mnodes\u001b[0m\u001b[1;33m)\u001b[0m\u001b[1;33m[\u001b[0m\u001b[0mi\u001b[0m\u001b[1;33m]\u001b[0m\u001b[1;33m[\u001b[0m\u001b[1;36m0\u001b[0m\u001b[1;33m]\u001b[0m\u001b[1;33m,\u001b[0m \u001b[0mlist\u001b[0m\u001b[1;33m(\u001b[0m\u001b[0mself\u001b[0m\u001b[1;33m.\u001b[0m\u001b[0mgraph\u001b[0m\u001b[1;33m.\u001b[0m\u001b[0mnodes\u001b[0m\u001b[1;33m)\u001b[0m\u001b[1;33m[\u001b[0m\u001b[0mi\u001b[0m\u001b[1;33m]\u001b[0m\u001b[1;33m[\u001b[0m\u001b[1;36m1\u001b[0m\u001b[1;33m]\u001b[0m\u001b[1;33m)\u001b[0m\u001b[1;33m)\u001b[0m\u001b[1;33m\u001b[0m\u001b[0m\n\u001b[0m\u001b[0;32m     87\u001b[0m             \u001b[0mname\u001b[0m \u001b[1;33m=\u001b[0m \u001b[1;34m\"({:f}, {:f})\"\u001b[0m\u001b[1;33m.\u001b[0m\u001b[0mformat\u001b[0m\u001b[1;33m(\u001b[0m\u001b[0mcoordinates\u001b[0m\u001b[1;33m[\u001b[0m\u001b[1;36m0\u001b[0m\u001b[1;33m]\u001b[0m\u001b[1;33m,\u001b[0m \u001b[0mcoordinates\u001b[0m\u001b[1;33m[\u001b[0m\u001b[1;36m1\u001b[0m\u001b[1;33m]\u001b[0m\u001b[1;33m)\u001b[0m\u001b[1;33m\u001b[0m\u001b[0m\n\u001b[0;32m     88\u001b[0m             \u001b[0mgeometry\u001b[0m \u001b[1;33m=\u001b[0m \u001b[0mshapely\u001b[0m\u001b[1;33m.\u001b[0m\u001b[0mgeometry\u001b[0m\u001b[1;33m.\u001b[0m\u001b[0mPoint\u001b[0m\u001b[1;33m(\u001b[0m\u001b[0mcoordinates\u001b[0m\u001b[1;33m[\u001b[0m\u001b[1;36m0\u001b[0m\u001b[1;33m]\u001b[0m\u001b[1;33m,\u001b[0m \u001b[0mcoordinates\u001b[0m\u001b[1;33m[\u001b[0m\u001b[1;36m1\u001b[0m\u001b[1;33m]\u001b[0m\u001b[1;33m)\u001b[0m\u001b[1;33m\u001b[0m\u001b[0m\n",
      "\u001b[1;32mc:\\users\\leo1_\\transport-network-analysis\\src\\transport_network_analysis\\graph_module.py\u001b[0m in \u001b[0;36mchange_projection\u001b[1;34m(self, transform, point)\u001b[0m\n\u001b[0;32m     69\u001b[0m         \u001b[0mpoint\u001b[0m \u001b[1;33m=\u001b[0m \u001b[0mogr\u001b[0m\u001b[1;33m.\u001b[0m\u001b[0mCreateGeometryFromWkt\u001b[0m\u001b[1;33m(\u001b[0m\u001b[0mstr\u001b[0m\u001b[1;33m(\u001b[0m\u001b[0mpoint\u001b[0m\u001b[1;33m)\u001b[0m\u001b[1;33m)\u001b[0m\u001b[1;33m\u001b[0m\u001b[0m\n\u001b[0;32m     70\u001b[0m \u001b[1;33m\u001b[0m\u001b[0m\n\u001b[1;32m---> 71\u001b[1;33m         \u001b[0mpoint\u001b[0m\u001b[1;33m.\u001b[0m\u001b[0mTransform\u001b[0m\u001b[1;33m(\u001b[0m\u001b[0mtransform\u001b[0m\u001b[1;33m)\u001b[0m\u001b[1;33m\u001b[0m\u001b[0m\n\u001b[0m\u001b[0;32m     72\u001b[0m         \u001b[0mpoint\u001b[0m\u001b[1;33m.\u001b[0m\u001b[0mExportToWkt\u001b[0m\u001b[1;33m(\u001b[0m\u001b[1;33m)\u001b[0m\u001b[1;33m\u001b[0m\u001b[0m\n\u001b[0;32m     73\u001b[0m \u001b[1;33m\u001b[0m\u001b[0m\n",
      "\u001b[1;32m~\\Anaconda3\\lib\\site-packages\\osgeo\\ogr.py\u001b[0m in \u001b[0;36mTransform\u001b[1;34m(self, *args)\u001b[0m\n\u001b[0;32m   7308\u001b[0m         \u001b[0mOGRERR_NONE\u001b[0m \u001b[0mon\u001b[0m \u001b[0msuccess\u001b[0m \u001b[1;32mor\u001b[0m \u001b[0man\u001b[0m \u001b[0merror\u001b[0m \u001b[0mcode\u001b[0m\u001b[1;33m.\u001b[0m\u001b[1;33m\u001b[0m\u001b[0m\n\u001b[0;32m   7309\u001b[0m         \"\"\"\n\u001b[1;32m-> 7310\u001b[1;33m         \u001b[1;32mreturn\u001b[0m \u001b[0m_ogr\u001b[0m\u001b[1;33m.\u001b[0m\u001b[0mGeometry_Transform\u001b[0m\u001b[1;33m(\u001b[0m\u001b[0mself\u001b[0m\u001b[1;33m,\u001b[0m \u001b[1;33m*\u001b[0m\u001b[0margs\u001b[0m\u001b[1;33m)\u001b[0m\u001b[1;33m\u001b[0m\u001b[0m\n\u001b[0m\u001b[0;32m   7311\u001b[0m \u001b[1;33m\u001b[0m\u001b[0m\n\u001b[0;32m   7312\u001b[0m \u001b[1;33m\u001b[0m\u001b[0m\n",
      "\u001b[1;31mTypeError\u001b[0m: in method 'Geometry_Transform', argument 2 of type 'OSRCoordinateTransformationShadow *'"
     ]
    }
   ],
   "source": [
    "graph.create_graph_new_projection()\n",
    "graph.plot()"
   ]
  },
  {
   "cell_type": "markdown",
   "metadata": {},
   "source": [
    "### Make vessels and paths"
   ]
  },
  {
   "cell_type": "code",
   "execution_count": null,
   "metadata": {},
   "outputs": [],
   "source": [
    "random.seed(10)\n",
    "\n",
    "paths = []\n",
    "random_1 = random.choice(list(graph.graph))\n",
    "random_2 = random.choice(list(graph.graph))\n",
    "\n",
    "path = nx.dijkstra_path(graph.graph, random_1, random_2)\n",
    "paths.append(path)\n",
    "paths.append(path)\n",
    "\n",
    "path = nx.dijkstra_path(graph.graph, random_2, random_1)\n",
    "paths.append(path)\n",
    "paths.append(path)"
   ]
  },
  {
   "cell_type": "code",
   "execution_count": null,
   "metadata": {},
   "outputs": [],
   "source": [
    "# Make a class out of mix-ins\n",
    "TransportResource = type('TransportResource', \n",
    "                         (core.Identifiable, core.Log, core.ContainerDependentMovable, \n",
    "                          core.HasResource, core.Routeable), {})\n",
    "\n",
    "\n",
    "\n",
    "# For testing purposes we only want v to be 1\n",
    "def compute_v_provider(v_empty, v_full):\n",
    "    return lambda x: 1\n",
    "\n",
    "data_vessel = {\"env\": None,\n",
    "               \"name\": \"Vessel\",\n",
    "               \"route\": None,\n",
    "               \"geometry\": shapely.geometry.Point(0, 0),  # lon, lat\n",
    "               \"capacity\": 1_000,\n",
    "               \"compute_v\": compute_v_provider(v_empty=1, v_full=1)}\n",
    "\n",
    "vessels = []\n",
    "for i in range(4):\n",
    "    vessel = TransportResource(**data_vessel)\n",
    "    vessel.name = \"Vessel \" + str(i + 1)\n",
    "    vessels.append(vessel)"
   ]
  },
  {
   "cell_type": "markdown",
   "metadata": {},
   "source": [
    "### Start simulation"
   ]
  },
  {
   "cell_type": "code",
   "execution_count": null,
   "metadata": {},
   "outputs": [],
   "source": [
    "# Start simpy environment\n",
    "env = simpy.Environment()\n",
    "\n",
    "# Add graph to environment\n",
    "graph.add_resources(list(graph.graph.edges), np.ones(len(list(graph.graph.edges))), env)\n",
    "env.FG = graph.graph"
   ]
  },
  {
   "cell_type": "code",
   "execution_count": null,
   "metadata": {},
   "outputs": [],
   "source": [
    "def start(env, vessel):\n",
    "    while True:\n",
    "        vessel.log_entry(\"Start sailing\", env.now, \"\", vessel.geometry)\n",
    "        yield from vessel.move()\n",
    "        vessel.log_entry(\"Stop sailing\", env.now, \"\", vessel.geometry)\n",
    "        \n",
    "        if vessel.geometry == nx.get_node_attributes(graph.graph, \"geometry\")[vessel.route[-1]]:\n",
    "            break"
   ]
  },
  {
   "cell_type": "code",
   "execution_count": null,
   "metadata": {
    "scrolled": true
   },
   "outputs": [],
   "source": [
    "for i, vessel in enumerate(vessels):\n",
    "    # Add environment and path to the vessel\n",
    "    vessel.env = env\n",
    "    vessel.route = paths[i]\n",
    "    vessel.geometry = nx.get_node_attributes(graph.graph, \"geometry\")[paths[i][1]]\n",
    "\n",
    "    # Add the movements of the vessel to the simulation\n",
    "    env.process(start(env, vessel))\n",
    "\n",
    "env.epoch = datetime.datetime.now()\n",
    "\n",
    "env.run()"
   ]
  },
  {
   "cell_type": "markdown",
   "metadata": {},
   "source": [
    "### Obtain vessel log information\n",
    "The cel below uses the vessel log. The core function *log_entry* is used, which takes four arguments:\n",
    "\n",
    "- **Log.** A text to describe what is logged.\n",
    "- **t.** The timestamp.\n",
    "- **Value.**  The value for the log (for sailing this is the distance).\n",
    "- **Geometry** The location of the vessel while loggin."
   ]
  },
  {
   "cell_type": "code",
   "execution_count": null,
   "metadata": {},
   "outputs": [],
   "source": [
    "vessel_log = pd.DataFrame.from_dict(vessels[0].log)\n",
    "vessel_log.head()"
   ]
  },
  {
   "cell_type": "code",
   "execution_count": null,
   "metadata": {},
   "outputs": [],
   "source": [
    "vessel_log = pd.DataFrame.from_dict(vessels[1].log)\n",
    "vessel_log.head()"
   ]
  }
 ],
 "metadata": {
  "kernelspec": {
   "display_name": "Python 3",
   "language": "python",
   "name": "python3"
  },
  "language_info": {
   "codemirror_mode": {
    "name": "ipython",
    "version": 3
   },
   "file_extension": ".py",
   "mimetype": "text/x-python",
   "name": "python",
   "nbconvert_exporter": "python",
   "pygments_lexer": "ipython3",
   "version": "3.6.5"
  }
 },
 "nbformat": 4,
 "nbformat_minor": 2
}
