{
 "cells": [
  {
   "cell_type": "markdown",
   "metadata": {},
   "source": [
    "#  section to be ran in main program"
   ]
  },
  {
   "cell_type": "markdown",
   "metadata": {},
   "source": []
  },
  {
   "cell_type": "markdown",
   "metadata": {},
   "source": [
    "### lock class"
   ]
  },
  {
   "cell_type": "code",
   "execution_count": 1,
   "metadata": {},
   "outputs": [
    {
     "ename": "NameError",
     "evalue": "name 'nx' is not defined",
     "output_type": "error",
     "traceback": [
      "\u001b[0;31m---------------------------------------------------------------------------\u001b[0m",
      "\u001b[0;31mNameError\u001b[0m                                 Traceback (most recent call last)",
      "\u001b[0;32m<ipython-input-1-3f2af9ae49bf>\u001b[0m in \u001b[0;36m<module>\u001b[0;34m\u001b[0m\n\u001b[0;32m----> 1\u001b[0;31m FG = nx.read_shp(os.path.join(location_graph, name_graph), \n\u001b[0m\u001b[1;32m      2\u001b[0m                  simplify=True)\n\u001b[1;32m      3\u001b[0m \u001b[0mgraph\u001b[0m \u001b[0;34m=\u001b[0m \u001b[0mgraph_module\u001b[0m\u001b[0;34m.\u001b[0m\u001b[0mGraph\u001b[0m\u001b[0;34m(\u001b[0m\u001b[0;34m)\u001b[0m\u001b[0;34m\u001b[0m\u001b[0;34m\u001b[0m\u001b[0m\n\u001b[1;32m      4\u001b[0m \u001b[0;34m\u001b[0m\u001b[0m\n\u001b[1;32m      5\u001b[0m \u001b[0mlat_lon_to_index\u001b[0m \u001b[0;34m=\u001b[0m \u001b[0;34m{\u001b[0m\u001b[0;34m}\u001b[0m\u001b[0;34m\u001b[0m\u001b[0;34m\u001b[0m\u001b[0m\n",
      "\u001b[0;31mNameError\u001b[0m: name 'nx' is not defined"
     ]
    }
   ],
   "source": [
    "FG = nx.read_shp(os.path.join(location_graph, name_graph), \n",
    "                 simplify=True)\n",
    "graph = graph_module.Graph()\n",
    "\n",
    "lat_lon_to_index = {}\n",
    "edge_id_counter = 0\n",
    "\n",
    "HEIGHT_RESTRICED_NODES = {'77': 8.7}\n",
    "# first node is closed, rest is locks which are closed on one side for now.\n",
    "CLOSED_NODES = [143 ,365, 73, 208]\n",
    "\n",
    "\n",
    "#New\n",
    "MOVABLE_BRIDGES = [340, 103]"
   ]
  },
  {
   "cell_type": "code",
   "execution_count": null,
   "metadata": {},
   "outputs": [],
   "source": [
    "class Lock():\n",
    "    def __init__(self, args):\n",
    "        self.nodes = args['nodes']\n",
    "        self.operation_time = 0\n",
    "        self.length = args['length']\n",
    "        self.width = args['width']\n",
    "        self.doors_open = args['doors_open']\n",
    "        self.doors_close = args['doors_close']\n",
    "        self.operating_time = args['operating_time']\n",
    "        self.resource = args['resource']\n",
    "        self.neighbour_lock = args['neighbour_lock']\n",
    "        self.log = {\"Message\": [],\n",
    "                    \"Timestamp\": [],\n",
    "                    \"Value\": []\n",
    "                   }\n",
    "        self.lock_name = args[\"name\"]\n",
    "\n",
    "    def log_entry(self, log, t, value):\n",
    "        \"\"\"Log\"\"\"\n",
    "        self.log[\"Message\"].append(log)\n",
    "        self.log[\"Timestamp\"].append(t)\n",
    "        self.log[\"Value\"].append(value)\n",
    "\n",
    "        \n",
    "    def plot_arrivales(self):\n",
    "        plothist = []\n",
    "        time_delta = (self.log[\"Timestamp\"][-1]-self.log[\"Timestamp\"][0]) / 3600\n",
    "        for i in range(len(self.log[\"Message\"])):\n",
    "            if \"in\" in self.log[\"Message\"][i]:\n",
    "                plothist.append(self.log[\"Timestamp\"][i] / 3600)\n",
    "        plt.figure()\n",
    "        plt.ylabel('Vessels arriving at lock')\n",
    "        plt.xlabel('time [h]')\n",
    "        plt.hist(plothist, bins=int(time_delta))\n",
    "        plt.show()\n",
    "        \n",
    "        \n",
    "     \n",
    "    "
   ]
  },
  {
   "cell_type": "markdown",
   "metadata": {},
   "source": [
    "## Create lock entries in the existing graph"
   ]
  },
  {
   "cell_type": "code",
   "execution_count": null,
   "metadata": {},
   "outputs": [],
   "source": [
    "# first entry of nodes corrsepondse to first entry neightbourlock\n",
    "LOCKS = [\n",
    "    Lock({'name':\"Krammerlock\",'nodes':[178,179], 'neighbour_lock':[317, 365],'length':280,'width':24, 'doors_open': 60, 'doors_close':60, 'operating_time':1440, 'resource':simpy.PriorityResource(env, capacity = 3)}), \n",
    "    Lock({'name':\"Hansweertlock\",'nodes':[220,221], 'neighbour_lock':[208, 209], 'length':280,'width':24, 'doors_open': 60, 'doors_close':60, 'operating_time':720, 'resource':simpy.PriorityResource(env, capacity = 3)}), \n",
    "    Lock({'name':\"Kreekraklock\",'nodes':[155, 156], 'neighbour_lock':[73,72], 'length':320,'width':24, 'doors_open': 60, 'doors_close':60, 'operating_time':840, 'resource':simpy.PriorityResource(env, capacity = 4)}),\n",
    "    Lock({'name':\"Krammerlock\",'nodes':[317, 365], 'neighbour_lock':[178,179],'length':280,'width':24, 'doors_open': 60, 'doors_close':60, 'operating_time':1440, 'resource':simpy.PriorityResource(env, capacity = 3)}), \n",
    "    Lock({'name':\"Hansweertlock\",'nodes':[208, 209], 'neighbour_lock':[220,221], 'length':280,'width':24, 'doors_open': 60, 'doors_close':60, 'operating_time':720, 'resource':simpy.PriorityResource(env, capacity = 3)}), \n",
    "    Lock({'name':\"Kreekraklock\",'nodes':[73,72], 'neighbour_lock':[155, 156], 'length':320,'width':24, 'doors_open': 60, 'doors_close':60, 'operating_time':840, 'resource':simpy.PriorityResource(env, capacity = 4)})]"
   ]
  },
  {
   "cell_type": "code",
   "execution_count": null,
   "metadata": {},
   "outputs": [],
   "source": [
    "\n",
    "# calculate distance between two points\n",
    "def calculate_distance(orig, dest):\n",
    "    wgs84 = pyproj.Geod(ellps='WGS84')\n",
    "    distance = wgs84.inv(shapely.geometry.asShape(orig).x, shapely.geometry.asShape(orig).y, \n",
    "                         shapely.geometry.asShape(dest).x, shapely.geometry.asShape(dest).y)[2]\n",
    "    return distance\n",
    "\n",
    "\n",
    "def get_lock(node_one, node_two):\n",
    "    for lock in LOCKS:\n",
    "        nodes_lock = lock.nodes\n",
    "        if node_one in nodes_lock and node_two in nodes_lock:\n",
    "            return lock\n",
    "    return None\n",
    "\n",
    "#new\n",
    "def get_bridge(index):\n",
    "    if index in MOVABLE_BRIDGES:\n",
    "        return True\n",
    "    return False\n",
    "\n",
    "\n",
    "def get_slow_down(index):\n",
    "    if (get_bridge(index)):\n",
    "        return True\n",
    "    for lock in LOCKS:\n",
    "        if index in lock.nodes:\n",
    "            return True\n",
    "    return False\n",
    "    \n",
    "\n",
    "def get_height_restriction(index):\n",
    "    '''\n",
    "    Restriction in meters for a node, vessel can only pass if height < restriction\n",
    "    '''\n",
    "    if (str(index) in HEIGHT_RESTRICED_NODES.keys()):\n",
    "        print(\"found restriction {}\".format(HEIGHT_RESTRICED_NODES[str(index)]))\n",
    "        return HEIGHT_RESTRICED_NODES[str(index)]\n",
    "    return 99\n",
    "\n",
    "def get_closed(index):\n",
    "    if index in CLOSED_NODES:\n",
    "        return True\n",
    "    return False\n",
    "\n",
    "          \n",
    "def do_nodes():\n",
    "    for i, node in enumerate(FG.nodes(data = True)):\n",
    "        graph.graph.add_node(i, pos = node[0], \n",
    "                        height_restriction = get_height_restriction(i),\n",
    "                        closed = get_closed(i),\n",
    "                        name = \"Node {}\".format(i),\n",
    "                        bridge = get_bridge(i),\n",
    "                        slow_down = get_slow_down(i),\n",
    "                        geometry = shapely.geometry.Point(node[0][0], node[0][1]))\n",
    "\n",
    "        lat_lon_to_index[node[0]] = i\n",
    "        \n",
    "\n",
    "def do_edges():\n",
    "    for edge in FG.edges(data=True):\n",
    "        edge_type = 'Canal'\n",
    "        lock = get_lock(lat_lon_to_index[edge[0]],lat_lon_to_index[edge[1]])\n",
    "        edge_attribute = None\n",
    "        resource = simpy.Resource(env, capacity = math.inf)\n",
    "        if (lock != None):\n",
    "            edge_type = 'Lock'\n",
    "            edge_attribute = lock\n",
    "            resource = lock.resource\n",
    "            print(lock)\n",
    "        graph.graph.add_edge(lat_lon_to_index[edge[0]], \n",
    "                     lat_lon_to_index[edge[1]],\n",
    "                     Object=edge_type,\n",
    "                     dis= calculate_distance(nx.get_node_attributes(graph.graph, 'geometry')[lat_lon_to_index[edge[1]]], \n",
    "                                             nx.get_node_attributes(graph.graph, 'geometry')[lat_lon_to_index[edge[0]]]),\n",
    "                     weight = 1,\n",
    "                     Resources = resource,\n",
    "                     attribute = edge_attribute\n",
    "                    )\n",
    "\n",
    "        \n",
    "do_nodes()\n",
    "do_edges()\n",
    "\n",
    "FG = graph.graph\n",
    "FG_S = graph.graph.to_directed()\n"
   ]
  },
  {
   "cell_type": "code",
   "execution_count": null,
   "metadata": {},
   "outputs": [],
   "source": [
    "#def get_lock_edges():\n",
    "    #for edge in H_G.edges(data=True):\n",
    "        #if edge[2]['Object'] == 'Lock':\n",
    "            #print(edge)\n",
    "            #print(\"Has node connecting to..\")\n",
    "            #node_1 = edge[0]\n",
    "            #node_1 = edge[1]\n",
    "            #for edge_connect in H_G.edges(data=True):\n",
    "                #if edge_connect[0] == edge[0] or edge_connect[0] == edge[1] or edge_connect[1] == edge[1] or edge_connect[1] == edge[0]:\n",
    "                    #print(edge_connect)\n",
    "                    #print(H_G.nodes(data=True)[edge[0]])\n",
    "                    #print(H_G.nodes(data=True)[edge[1]])"
   ]
  },
  {
   "cell_type": "code",
   "execution_count": null,
   "metadata": {},
   "outputs": [],
   "source": [
    "\"\"\"\n",
    "for edge in FG.edges(data=True):\n",
    "    if edge[0] == 178 and edge[1] == 179:\n",
    "        print(edge)\n",
    "    if edge[1] == 178 and edge[0] == 179:\n",
    "        print(edge)\n",
    "    if edge[0] == 317 and edge[1] == 365:\n",
    "        print(edge)\n",
    "    if edge[1] == 365 and edge[0] == 317:\n",
    "        print(edge)\n",
    "\"\"\""
   ]
  },
  {
   "cell_type": "code",
   "execution_count": null,
   "metadata": {},
   "outputs": [],
   "source": []
  },
  {
   "cell_type": "code",
   "execution_count": null,
   "metadata": {},
   "outputs": [],
   "source": []
  }
 ],
 "metadata": {
  "kernelspec": {
   "display_name": "Python 3",
   "language": "python",
   "name": "python3"
  },
  "language_info": {
   "codemirror_mode": {
    "name": "ipython",
    "version": 3
   },
   "file_extension": ".py",
   "mimetype": "text/x-python",
   "name": "python",
   "nbconvert_exporter": "python",
   "pygments_lexer": "ipython3",
   "version": "3.6.5"
  }
 },
 "nbformat": 4,
 "nbformat_minor": 2
}
