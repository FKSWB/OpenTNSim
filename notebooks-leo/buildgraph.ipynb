{
 "cells": [
  {
   "cell_type": "markdown",
   "metadata": {},
   "source": [
    "# This is a section to be ran in main program\n",
    "## you cannot run this on its own, needs more context"
   ]
  },
  {
   "cell_type": "markdown",
   "metadata": {},
   "source": []
  },
  {
   "cell_type": "markdown",
   "metadata": {},
   "source": [
    "### lock class"
   ]
  },
  {
   "cell_type": "code",
   "execution_count": 1,
   "metadata": {},
   "outputs": [
    {
     "ename": "NameError",
     "evalue": "name 'simpy' is not defined",
     "output_type": "error",
     "traceback": [
      "\u001b[0;31m---------------------------------------------------------------------------\u001b[0m",
      "\u001b[0;31mNameError\u001b[0m                                 Traceback (most recent call last)",
      "\u001b[0;32m<ipython-input-1-58d977c76024>\u001b[0m in \u001b[0;36m<module>\u001b[0;34m\u001b[0m\n\u001b[0;32m----> 1\u001b[0;31m \u001b[0menv\u001b[0m \u001b[0;34m=\u001b[0m \u001b[0msimpy\u001b[0m\u001b[0;34m.\u001b[0m\u001b[0mEnvironment\u001b[0m\u001b[0;34m(\u001b[0m\u001b[0;34m)\u001b[0m\u001b[0;34m\u001b[0m\u001b[0;34m\u001b[0m\u001b[0m\n\u001b[0m\u001b[1;32m      2\u001b[0m FG = nx.read_shp(os.path.join(location_graph, name_graph), \n\u001b[1;32m      3\u001b[0m                  simplify=True)\n\u001b[1;32m      4\u001b[0m \u001b[0mH_G\u001b[0m \u001b[0;34m=\u001b[0m \u001b[0mnx\u001b[0m\u001b[0;34m.\u001b[0m\u001b[0mGraph\u001b[0m\u001b[0;34m(\u001b[0m\u001b[0;34m)\u001b[0m\u001b[0;34m\u001b[0m\u001b[0;34m\u001b[0m\u001b[0m\n\u001b[1;32m      5\u001b[0m \u001b[0mlat_lon_to_index\u001b[0m \u001b[0;34m=\u001b[0m \u001b[0;34m{\u001b[0m\u001b[0;34m}\u001b[0m\u001b[0;34m\u001b[0m\u001b[0;34m\u001b[0m\u001b[0m\n",
      "\u001b[0;31mNameError\u001b[0m: name 'simpy' is not defined"
     ]
    }
   ],
   "source": [
    "env = simpy.Environment()\n",
    "FG = nx.read_shp(os.path.join(location_graph, name_graph), \n",
    "                 simplify=True)\n",
    "H_G = nx.Graph()\n",
    "lat_lon_to_index = {}\n",
    "edge_id_counter = 0\n",
    "\n",
    "HEIGHT_RESTRICED_NODES = {'2': 8.7}\n",
    "# first node is closed, rest is locks which we want to close on one side for now\n",
    "CLOSED_NODES = [143, 365, 73, 208]"
   ]
  },
  {
   "cell_type": "code",
   "execution_count": null,
   "metadata": {},
   "outputs": [],
   "source": [
    "class Lock():\n",
    "    def __init__(self, args):\n",
    "        self.nodes = args['nodes']\n",
    "        self.operation_time = 0\n",
    "        self.length = args['length']\n",
    "        self.width = args['width']\n",
    "        self.doors_open = args['doors_open']\n",
    "        self.doors_close = args['doors_close']\n",
    "        self.operating_time = args['operating_time']\n",
    "        self.resource = args['resource']\n"
   ]
  },
  {
   "cell_type": "markdown",
   "metadata": {},
   "source": [
    "## Create lock entries in the existing graph"
   ]
  },
  {
   "cell_type": "code",
   "execution_count": null,
   "metadata": {},
   "outputs": [],
   "source": [
    "LOCKS = [\n",
    "    Lock({'nodes':[178,179],'length':280,'width':24, 'doors_open': 60, 'doors_close':60, 'operating_time':1440, 'resource':simpy.PriorityResource(env, capacity = 1)}), \n",
    "    Lock({'nodes':[220,221], 'length':280,'width':24, 'doors_open': 60, 'doors_close':60, 'operating_time':720, 'resource':simpy.PriorityResource(env, capacity = 1)}), \n",
    "    Lock({'nodes':[155,156], 'length':320,'width':24, 'doors_open': 60, 'doors_close':60, 'operating_time':840, 'resource':simpy.PriorityResource(env, capacity = 1)})\n",
    "]"
   ]
  },
  {
   "cell_type": "code",
   "execution_count": null,
   "metadata": {},
   "outputs": [],
   "source": [
    "\n",
    "# calculate distance between two points\n",
    "def calculate_distance(orig, dest):\n",
    "    wgs84 = pyproj.Geod(ellps='WGS84')\n",
    "    distance = wgs84.inv(shapely.geometry.asShape(orig).x, shapely.geometry.asShape(orig).y, \n",
    "                         shapely.geometry.asShape(dest).x, shapely.geometry.asShape(dest).y)[2]\n",
    "    return distance\n",
    "\n",
    "\n",
    "def get_lock(node_one, node_two):\n",
    "    for lock in LOCKS:\n",
    "        nodes_lock = lock.nodes\n",
    "        if node_one in nodes_lock and node_two in nodes_lock:\n",
    "            return lock\n",
    "    return None\n",
    "\n",
    "def get_height_restriction(index):\n",
    "    '''\n",
    "    Restriction in meters for a node, vessel can only pass if height < restriction\n",
    "    '''\n",
    "    if (str(index) in HEIGHT_RESTRICED_NODES.keys()):\n",
    "        print(\"found restriction {}\".format(HEIGHT_RESTRICED_NODES[str(index)]))\n",
    "        return HEIGHT_RESTRICED_NODES[str(index)]\n",
    "    return 99\n",
    "\n",
    "def get_closed(index):\n",
    "    if index in CLOSED_NODES:\n",
    "        return True\n",
    "    return False\n",
    "\n",
    "          \n",
    "def do_nodes():\n",
    "    for i, node in enumerate(FG.nodes(data = True)):\n",
    "        H_G.add_node(i, pos = node[0], \n",
    "                        height_restriction = get_height_restriction(i),\n",
    "                        closed = get_closed(i),\n",
    "                        name = \"Node {}\".format(i),\n",
    "                        geometry = shapely.geometry.Point(node[0][0], node[0][1]))\n",
    "        lat_lon_to_index[node[0]] = i\n",
    "\n",
    "def do_edges():\n",
    "    for edge in FG.edges(data=True):\n",
    "        edge_type = 'Canal'\n",
    "        lock = get_lock(lat_lon_to_index[edge[0]],lat_lon_to_index[edge[1]])\n",
    "        edge_attribute = None\n",
    "        if (lock != None):\n",
    "            edge_type = 'Lock'\n",
    "            edge_attribute = lock\n",
    "            print(lock)\n",
    "        H_G.add_edge(lat_lon_to_index[edge[0]], \n",
    "                     lat_lon_to_index[edge[1]],\n",
    "                     Object=edge_type,\n",
    "                     dis= calculate_distance(nx.get_node_attributes(H_G, 'geometry')[lat_lon_to_index[edge[1]]], \n",
    "                                             nx.get_node_attributes(H_G, 'geometry')[lat_lon_to_index[edge[0]]]),\n",
    "                     weight = 1,\n",
    "                     attribute = edge_attribute\n",
    "                    )\n",
    "        if (edge_type == 'Lock'):\n",
    "            H_G.edges[lat_lon_to_index[edge[0]],lat_lon_to_index[edge[1]]][\"Resources\"] = lock.resource\n",
    "        \n",
    "do_nodes()\n",
    "do_edges()\n",
    "\n",
    "                     \n",
    "FG = H_G.to_directed()"
   ]
  },
  {
   "cell_type": "code",
   "execution_count": null,
   "metadata": {},
   "outputs": [],
   "source": [
    "def get_lock_edges():\n",
    "    for edge in H_G.edges(data=True):\n",
    "        if edge[2]['Object'] == 'Lock':\n",
    "            print(edge)\n",
    "            print(\"Has node connecting to..\")\n",
    "            node_1 = edge[0]\n",
    "            node_1 = edge[1]\n",
    "            for edge_connect in H_G.edges(data=True):\n",
    "                if edge_connect[0] == edge[0] or edge_connect[0] == edge[1] or edge_connect[1] == edge[1] or edge_connect[1] == edge[0]:\n",
    "                    print(edge_connect)\n",
    "                    print(H_G.nodes(data=True)[edge[0]])\n",
    "                    print(H_G.nodes(data=True)[edge[1]])"
   ]
  },
  {
   "cell_type": "code",
   "execution_count": null,
   "metadata": {},
   "outputs": [],
   "source": [
    "\"\"\"\n",
    "for edge in FG.edges(data=True):\n",
    "    if edge[0] == 178 and edge[1] == 179:\n",
    "        print(edge)\n",
    "    if edge[1] == 178 and edge[0] == 179:\n",
    "        print(edge)\n",
    "    if edge[0] == 317 and edge[1] == 365:\n",
    "        print(edge)\n",
    "    if edge[1] == 365 and edge[0] == 317:\n",
    "        print(edge)\n",
    "\"\"\""
   ]
  },
  {
   "cell_type": "code",
   "execution_count": null,
   "metadata": {},
   "outputs": [],
   "source": []
  },
  {
   "cell_type": "code",
   "execution_count": null,
   "metadata": {},
   "outputs": [],
   "source": []
  }
 ],
 "metadata": {
  "kernelspec": {
   "display_name": "Python 3",
   "language": "python",
   "name": "python3"
  },
  "language_info": {
   "codemirror_mode": {
    "name": "ipython",
    "version": 3
   },
   "file_extension": ".py",
   "mimetype": "text/x-python",
   "name": "python",
   "nbconvert_exporter": "python",
   "pygments_lexer": "ipython3",
   "version": "3.7.2"
  }
 },
 "nbformat": 4,
 "nbformat_minor": 2
}
