{
 "cells": [
  {
   "cell_type": "code",
   "execution_count": null,
   "metadata": {},
   "outputs": [],
   "source": [
    "class EnviromentReport():\n",
    "    \n",
    "    def __init__(self):\n",
    "        self.energy_consumption_entries = []\n",
    "        \n",
    "    def add_entry(vessel, amount):\n",
    "        self.energy_consumption_entries.append((amount_energy, total_time, vessel))\n",
    "        \n",
    "    def get_energy_usage():\n",
    "        filtered_result = {}\n",
    "        for energy_entry in self.energy_consumption_entries:\n",
    "            path_name = energy_entry[2].path_complete.name\n",
    "            if path_name in filtered_result:\n",
    "                if (vessel.loaded):\n",
    "                    filtered_result[path_name][\"loaded\"] += energy_entry[0]\n",
    "                else:\n",
    "                    filtered_result[path_name][\"unloaded\"] += energy_entry[0]\n",
    "            else:\n",
    "                if (vessel.loaded):\n",
    "                    filtered_result[path_name] = {\"loaded\": energy_entry[0], \"unloaded\": 0}\n",
    "                else:\n",
    "                    filtered_result[path_name] = {\"loaded\": 0, \"unloaded\": energy_entry[0]}\n",
    "\n",
    "        return filtered_result\n",
    "                    \n",
    "    def plot_energy_usage(save=False):\n",
    "        plot_dict = get_energy_usage()\n",
    "        \n",
    "        plot_dict[\"total\"] = {\"loaded\": plot_dict, \"unloaded\":}\n",
    "        plt.bar(range(len(plot_dict)), list(plot_dict.values()), align='center')\n",
    "        plt.xticks(range(len(D)), list(D.keys()))\n",
    "        plt.savefig()\n",
    "        plt.show()\n",
    "        \n",
    "    def plot_co2_emission():\n",
    "        "
   ]
  }
 ],
 "metadata": {
  "kernelspec": {
   "display_name": "Python 3",
   "language": "python",
   "name": "python3"
  },
  "language_info": {
   "codemirror_mode": {
    "name": "ipython",
    "version": 3
   },
   "file_extension": ".py",
   "mimetype": "text/x-python",
   "name": "python",
   "nbconvert_exporter": "python",
   "pygments_lexer": "ipython3",
   "version": "3.7.2"
  }
 },
 "nbformat": 4,
 "nbformat_minor": 2
}
