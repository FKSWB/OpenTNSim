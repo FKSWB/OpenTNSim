{
 "cells": [
  {
   "cell_type": "code",
   "execution_count": 1,
   "metadata": {},
   "outputs": [
    {
     "ename": "NameError",
     "evalue": "name 'graph_module' is not defined",
     "output_type": "error",
     "traceback": [
      "\u001b[1;31m---------------------------------------------------------------------------\u001b[0m",
      "\u001b[1;31mNameError\u001b[0m                                 Traceback (most recent call last)",
      "\u001b[1;32m<ipython-input-1-6bfde1ed73a3>\u001b[0m in \u001b[0;36m<module>\u001b[1;34m()\u001b[0m\n\u001b[0;32m      1\u001b[0m \u001b[1;31m# Make networkx variable\u001b[0m\u001b[1;33m\u001b[0m\u001b[1;33m\u001b[0m\u001b[0m\n\u001b[1;32m----> 2\u001b[1;33m \u001b[0mgraph\u001b[0m \u001b[1;33m=\u001b[0m \u001b[0mgraph_module\u001b[0m\u001b[1;33m.\u001b[0m\u001b[0mGraph\u001b[0m\u001b[1;33m(\u001b[0m\u001b[1;33m)\u001b[0m\u001b[1;33m\u001b[0m\u001b[0m\n\u001b[0m\u001b[0;32m      3\u001b[0m \u001b[0mgraph\u001b[0m\u001b[1;33m.\u001b[0m\u001b[0mgraph\u001b[0m \u001b[1;33m=\u001b[0m \u001b[0mgraph\u001b[0m\u001b[1;33m.\u001b[0m\u001b[0mgraph\u001b[0m\u001b[1;33m.\u001b[0m\u001b[0mto_directed\u001b[0m\u001b[1;33m(\u001b[0m\u001b[1;33m)\u001b[0m\u001b[1;33m\u001b[0m\u001b[0m\n\u001b[0;32m      4\u001b[0m \u001b[1;33m\u001b[0m\u001b[0m\n\u001b[0;32m      5\u001b[0m \u001b[1;31m#HG = graph.graph\u001b[0m\u001b[1;33m\u001b[0m\u001b[1;33m\u001b[0m\u001b[0m\n",
      "\u001b[1;31mNameError\u001b[0m: name 'graph_module' is not defined"
     ]
    }
   ],
   "source": [
    "# Make networkx variable\n",
    "graph = graph_module.Graph()\n",
    "graph.graph = graph.graph.to_directed()\n",
    "\n",
    "#HG = graph.graph\n",
    "\n",
    "# Add graph nodes and edges\n",
    "# Add nodes\n",
    "node_1 = {\"Name\": \"Node 1\", \"Geometry\": shapely.geometry.Point(00.0000, 0)}\n",
    "node_2 = {\"Name\": \"Node 2\", \"Geometry\": shapely.geometry.Point(00.0008, 0)}\n",
    "node_3 = {\"Name\": \"Node 3\", \"Geometry\": shapely.geometry.Point(00.0016, 0)} # lock part 1\n",
    "node_4 = {\"Name\": \"Node 4\", \"Geometry\": shapely.geometry.Point(00.0020, 0)} # lock part 2\n",
    "node_5 = {\"Name\": \"Node 5\", \"Geometry\": shapely.geometry.Point(00.0028, 0)}\n",
    "node_6 = {\"Name\": \"Node 6\", \"Geometry\": shapely.geometry.Point(00.0036, 0)}\n",
    "\n",
    "nodes = [node_1, node_2, node_3, node_4, node_5, node_6]\n",
    "\n",
    "for node in nodes:\n",
    "    graph.graph.add_node(node[\"Name\"], \n",
    "                         geometry = node[\"Geometry\"], \n",
    "                         Position = (node[\"Geometry\"].x, node[\"Geometry\"].y))\n",
    "\n",
    "# Add edges\n",
    "edge_1_2 = [node_1, node_2, \"Canal\", simpy.Resource(env, capacity = math.inf)]\n",
    "edge_2_1 = [node_2, node_1, \"Canal\", simpy.Resource(env, capacity = math.inf)]\n",
    "\n",
    "edge_2_3 = [node_2, node_3, \"Waiting Area\", simpy.Resource(env, capacity = 1)]\n",
    "edge_3_2 = [node_3, node_2, \"Canal\", simpy.Resource(env, capacity = math.inf)]\n",
    "\n",
    "shared_resource = simpy.PriorityResource(env, capacity = 1)\n",
    "edge_3_4 = [node_3, node_4, \"Lock\", shared_resource]\n",
    "edge_4_3 = [node_4, node_3, \"Lock\", shared_resource]\n",
    "\n",
    "edge_4_5 = [node_4, node_5, \"Canal\", simpy.Resource(env, capacity = math.inf)]\n",
    "edge_5_4 = [node_5, node_4, \"Waiting Area\", simpy.Resource(env, capacity = 1)]\n",
    "\n",
    "edge_5_6 = [node_5, node_6, \"Canal\", simpy.Resource(env, capacity = math.inf)]\n",
    "edge_6_5 = [node_6, node_5, \"Canal\", simpy.Resource(env, capacity = math.inf)]\n",
    "\n",
    "edges = [edge_1_2, edge_2_1,\n",
    "         edge_2_3, edge_3_2,\n",
    "         edge_3_4, edge_4_3,\n",
    "         edge_4_5, edge_5_4,\n",
    "         edge_5_6, edge_6_5]\n",
    "\n",
    "for edge in edges:\n",
    "    graph.graph.add_edge(edge[0][\"Name\"], edge[1][\"Name\"], \n",
    "                         Object = edge[2], dis=12.0, weight = 1, Resources = edge[3])\n",
    "    \n",
    "# Plot the graph\n",
    "graph.plot(size = [15, 5], arrowsize = 15)\n",
    "FG = graph.graph"
   ]
  },
  {
   "cell_type": "code",
   "execution_count": null,
   "metadata": {},
   "outputs": [],
   "source": []
  }
 ],
 "metadata": {
  "kernelspec": {
   "display_name": "Python 3",
   "language": "python",
   "name": "python3"
  },
  "language_info": {
   "codemirror_mode": {
    "name": "ipython",
    "version": 3
   },
   "file_extension": ".py",
   "mimetype": "text/x-python",
   "name": "python",
   "nbconvert_exporter": "python",
   "pygments_lexer": "ipython3",
   "version": "3.6.5"
  }
 },
 "nbformat": 4,
 "nbformat_minor": 2
}
