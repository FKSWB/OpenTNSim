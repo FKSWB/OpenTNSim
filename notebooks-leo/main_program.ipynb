{
 "cells": [
  {
   "cell_type": "markdown",
   "metadata": {},
   "source": [
    "# Main file where where simulation is run"
   ]
  },
  {
   "cell_type": "code",
   "execution_count": 1,
   "metadata": {},
   "outputs": [],
   "source": [
    "## here load all the dependencies and files needed\n",
    "%run loadpackagesandfiles.ipynb\n"
   ]
  },
  {
   "cell_type": "code",
   "execution_count": 2,
   "metadata": {},
   "outputs": [
    {
     "name": "stdout",
     "output_type": "stream",
     "text": [
      "found restriction 8.7\n",
      "<__main__.Lock object at 0x000001CE9763B630>\n",
      "<__main__.Lock object at 0x000001CE9763B550>\n",
      "<__main__.Lock object at 0x000001CE9763B5C0>\n",
      "True\n"
     ]
    }
   ],
   "source": [
    "## here create a graph of the loaded data, \n",
    "##note this gives access to variable FG which is the (directed) graph displayed below \n",
    "## (if it is not shown the plot can be activated by uncommenting in buildgraph.ipynb file)\n",
    "%run buildgraph.ipynb\n",
    "print(get_closed(143))"
   ]
  },
  {
   "cell_type": "code",
   "execution_count": 3,
   "metadata": {
    "scrolled": true
   },
   "outputs": [
    {
     "data": {
      "text/plain": [
       "\"\\n# loop over edges with data and check voorwaarden\\nfor edge in FG.edges(data=True):\\n    if edge[2]['dis'] > 285 and edge[2]['dis'] < 290:\\n        print(edge)\\n\\n# same for nodes\\nfor node in FG.nodes(data=True):\\n    if node[0] == 209:\\n        print(node)\\n    if node[0] == 208:\\n        print(node)    \\n\""
      ]
     },
     "execution_count": 3,
     "metadata": {},
     "output_type": "execute_result"
    }
   ],
   "source": [
    "'''\n",
    "# loop over edges with data and check voorwaarden\n",
    "for edge in FG.edges(data=True):\n",
    "    if edge[2]['dis'] > 285 and edge[2]['dis'] < 290:\n",
    "        print(edge)\n",
    "\n",
    "# same for nodes\n",
    "for node in FG.nodes(data=True):\n",
    "    if node[0] == 209:\n",
    "        print(node)\n",
    "    if node[0] == 208:\n",
    "        print(node)    \n",
    "'''"
   ]
  },
  {
   "cell_type": "code",
   "execution_count": 4,
   "metadata": {},
   "outputs": [],
   "source": [
    "## obtain the paths possible sorted by length \n",
    "## (these paths are classes containing node keys and path lengths (in meter?))\n",
    "%run get_paths.ipynb"
   ]
  },
  {
   "cell_type": "markdown",
   "metadata": {},
   "source": [
    "## below you see the data that is contained in a path"
   ]
  },
  {
   "cell_type": "code",
   "execution_count": 5,
   "metadata": {},
   "outputs": [
    {
     "name": "stdout",
     "output_type": "stream",
     "text": [
      "54\n",
      "from node 41 to  node 263, covering distance: 84567.37980081535, closed:False, max height: 99\n"
     ]
    }
   ],
   "source": [
    "print(len(ordered_paths))\n",
    "print(ordered_paths[8])\n",
    "#ordered_paths[8].plot(FG, save=True)"
   ]
  },
  {
   "cell_type": "code",
   "execution_count": 6,
   "metadata": {},
   "outputs": [],
   "source": [
    "%run vessels.ipynb"
   ]
  },
  {
   "cell_type": "code",
   "execution_count": 7,
   "metadata": {},
   "outputs": [],
   "source": [
    "\n",
    "list_with_vessels = init_vessels([M8, M8_loaded,M8_high,M8_loaded_high], ordered_paths)"
   ]
  },
  {
   "cell_type": "code",
   "execution_count": 8,
   "metadata": {},
   "outputs": [],
   "source": [
    "def start(env, vessel):\n",
    "    while True:\n",
    "        vessel.log_entry(\"Start sailing\", env.now, \"\", vessel.geometry)\n",
    "        yield from vessel.move()\n",
    "        vessel.log_entry(\"Stop sailing\", env.now, \"\", vessel.geometry)\n",
    "        if vessel.geometry == nx.get_node_attributes(FG, \"geometry\")[vessel.route[-1]]:\n",
    "            break"
   ]
  },
  {
   "cell_type": "code",
   "execution_count": 9,
   "metadata": {},
   "outputs": [],
   "source": [
    "# Add graph to environment\n",
    "env.FG = FG\n",
    "\n",
    "for i, vessel in enumerate(list_with_vessels):\n",
    "    # Add environment and path to the vessel\n",
    "    vessel.env = env\n",
    "    vessel.geometry = nx.get_node_attributes(FG, \"geometry\")[vessel.route[0]]\n",
    "    # Add the movements of the vessel to the simulation\n",
    "    env.process(start(env, vessel))\n",
    "\n",
    "env.epoch = datetime.datetime.now()\n",
    "\n",
    "env.run()"
   ]
  },
  {
   "cell_type": "code",
   "execution_count": 10,
   "metadata": {},
   "outputs": [
    {
     "name": "stdout",
     "output_type": "stream",
     "text": [
      "                                     Message     Timestamp Value                       Geometry\n",
      "0                              Start sailing      0.000000         POINT (4.4027792 51.6880539)\n",
      "1    Sailing from node 263 to node 264 start      0.000000     0   POINT (4.4027792 51.6880539)\n",
      "2    Sailing from node 263 to node 264 start     49.172325     0   POINT (4.4000023 51.6864487)\n",
      "3    Sailing from node 264 to node 248 start     49.172325     0   POINT (4.4000023 51.6864487)\n",
      "4    Sailing from node 264 to node 248 start     93.525441     0   POINT (4.3985059 51.6845369)\n",
      "5    Sailing from node 248 to node 174 start     93.525441     0   POINT (4.3985059 51.6845369)\n",
      "6    Sailing from node 248 to node 174 start    253.695318     0   POINT (4.3893096 51.6794118)\n",
      "7    Sailing from node 174 to node 171 start    253.695318     0   POINT (4.3893096 51.6794118)\n",
      "8    Sailing from node 174 to node 171 start    276.151799     0    POINT (4.3883543 51.678514)\n",
      "9    Sailing from node 171 to node 173 start    276.151799     0    POINT (4.3883543 51.678514)\n",
      "10   Sailing from node 171 to node 173 start    362.276601     0   POINT (4.3846904 51.6750709)\n",
      "11   Sailing from node 173 to node 290 start    362.276601     0   POINT (4.3846904 51.6750709)\n",
      "12   Sailing from node 173 to node 290 start    412.223037     0   POINT (4.3827894 51.6729888)\n",
      "13   Sailing from node 290 to node 240 start    412.223037     0   POINT (4.3827894 51.6729888)\n",
      "14   Sailing from node 290 to node 240 start    466.061578     0   POINT (4.3804227 51.6708687)\n",
      "15   Sailing from node 240 to node 241 start    466.061578     0   POINT (4.3804227 51.6708687)\n",
      "16   Sailing from node 240 to node 241 start    518.751872     0   POINT (4.3775403 51.6690891)\n",
      "17   Sailing from node 241 to node 242 start    518.751872     0   POINT (4.3775403 51.6690891)\n",
      "18   Sailing from node 241 to node 242 start    577.405155     0   POINT (4.3739745 51.6673604)\n",
      "19   Sailing from node 242 to node 275 start    577.405155     0   POINT (4.3739745 51.6673604)\n",
      "20   Sailing from node 242 to node 275 start    705.197921     0   POINT (4.3653491 51.6644015)\n",
      "21   Sailing from node 275 to node 276 start    705.197921     0   POINT (4.3653491 51.6644015)\n",
      "22   Sailing from node 275 to node 276 start    855.083259     0   POINT (4.3546711 51.6616586)\n",
      "23   Sailing from node 276 to node 386 start    855.083259     0   POINT (4.3546711 51.6616586)\n",
      "24   Sailing from node 276 to node 386 start    950.139222     0   POINT (4.3492658 51.6585828)\n",
      "25   Sailing from node 386 to node 266 start    950.139222     0   POINT (4.3492658 51.6585828)\n",
      "26   Sailing from node 386 to node 266 start    975.797283     0   POINT (4.3475074 51.6580201)\n",
      "27   Sailing from node 266 to node 267 start    975.797283     0   POINT (4.3475074 51.6580201)\n",
      "28   Sailing from node 266 to node 267 start   1004.425980     0    POINT (4.345519 51.6574253)\n",
      "29   Sailing from node 267 to node 268 start   1004.425980     0    POINT (4.345519 51.6574253)\n",
      "30   Sailing from node 267 to node 268 start   1031.800446     0   POINT (4.3436048 51.6568736)\n",
      "31   Sailing from node 268 to node 374 start   1031.800446     0   POINT (4.3436048 51.6568736)\n",
      "32   Sailing from node 268 to node 374 start   1060.831182     0    POINT (4.341554 51.6563173)\n",
      "33   Sailing from node 374 to node 357 start   1060.831182     0    POINT (4.341554 51.6563173)\n",
      "34   Sailing from node 374 to node 357 start   1089.110517     0   POINT (4.3395662 51.6557615)\n",
      "35   Sailing from node 357 to node 358 start   1089.110517     0   POINT (4.3395662 51.6557615)\n",
      "36   Sailing from node 357 to node 358 start   1124.288730     0   POINT (4.3370664 51.6551089)\n",
      "37     Sailing from node 358 to node 9 start   1124.288730     0   POINT (4.3370664 51.6551089)\n",
      "38     Sailing from node 358 to node 9 start   1147.535294     0   POINT (4.3354169 51.6546741)\n",
      "39      Sailing from node 9 to node 10 start   1147.535294     0   POINT (4.3354169 51.6546741)\n",
      "40      Sailing from node 9 to node 10 start   1175.640037     0   POINT (4.3333886 51.6542016)\n",
      "41     Sailing from node 10 to node 11 start   1175.640037     0   POINT (4.3333886 51.6542016)\n",
      "42     Sailing from node 10 to node 11 start   1203.145813     0    POINT (4.3313977 51.653749)\n",
      "43    Sailing from node 11 to node 369 start   1203.145813     0    POINT (4.3313977 51.653749)\n",
      "44    Sailing from node 11 to node 369 start   1232.173140     0    POINT (4.3292687 51.653322)\n",
      "45   Sailing from node 369 to node 370 start   1232.173140     0    POINT (4.3292687 51.653322)\n",
      "46   Sailing from node 369 to node 370 start   1259.813503     0   POINT (4.3272282 51.6529419)\n",
      "47   Sailing from node 370 to node 371 start   1259.813503     0   POINT (4.3272282 51.6529419)\n",
      "48   Sailing from node 370 to node 371 start   1288.162866     0   POINT (4.3251001 51.6526347)\n",
      "49   Sailing from node 371 to node 376 start   1288.162866     0   POINT (4.3251001 51.6526347)\n",
      "50   Sailing from node 371 to node 376 start   1316.450283     0   POINT (4.3229516 51.6524055)\n",
      "51   Sailing from node 376 to node 377 start   1316.450283     0   POINT (4.3229516 51.6524055)\n",
      "52   Sailing from node 376 to node 377 start   1344.392418     0    POINT (4.3208246 51.652197)\n",
      "53   Sailing from node 377 to node 321 start   1344.392418     0    POINT (4.3208246 51.652197)\n",
      "54   Sailing from node 377 to node 321 start   1372.309796     0   POINT (4.3187063 51.6519634)\n",
      "55   Sailing from node 321 to node 322 start   1372.309796     0   POINT (4.3187063 51.6519634)\n",
      "56   Sailing from node 321 to node 322 start   1401.223946     0    POINT (4.3165089 51.651734)\n",
      "57   Sailing from node 322 to node 323 start   1401.223946     0    POINT (4.3165089 51.651734)\n",
      "58   Sailing from node 322 to node 323 start   1438.018737     0     POINT (4.313727 51.651393)\n",
      "59   Sailing from node 323 to node 333 start   1438.018737     0     POINT (4.313727 51.651393)\n",
      "60   Sailing from node 323 to node 333 start   1458.269750     0   POINT (4.3122268 51.6511257)\n",
      "61   Sailing from node 333 to node 334 start   1458.269750     0   POINT (4.3122268 51.6511257)\n",
      "62   Sailing from node 333 to node 334 start   1487.219095     0   POINT (4.3100947 51.6507175)\n",
      "63   Sailing from node 334 to node 397 start   1487.219095     0   POINT (4.3100947 51.6507175)\n",
      "64   Sailing from node 334 to node 397 start   1517.418325     0   POINT (4.3079496 51.6501563)\n",
      "65   Sailing from node 397 to node 398 start   1517.418325     0   POINT (4.3079496 51.6501563)\n",
      "66   Sailing from node 397 to node 398 start   1546.023552     0   POINT (4.3059388 51.6495946)\n",
      "67   Sailing from node 398 to node 399 start   1546.023552     0   POINT (4.3059388 51.6495946)\n",
      "68   Sailing from node 398 to node 399 start   1570.599736     0   POINT (4.3042374 51.6490773)\n",
      "69   Sailing from node 399 to node 196 start   1570.599736     0   POINT (4.3042374 51.6490773)\n",
      "70   Sailing from node 399 to node 196 start   1589.847416     0   POINT (4.3028867 51.6486962)\n",
      "71   Sailing from node 196 to node 197 start   1589.847416     0   POINT (4.3028867 51.6486962)\n",
      "72   Sailing from node 196 to node 197 start   1607.463108     0    POINT (4.301646 51.6483537)\n",
      "73   Sailing from node 197 to node 198 start   1607.463108     0    POINT (4.301646 51.6483537)\n",
      "74   Sailing from node 197 to node 198 start   1630.493539     0   POINT (4.3000132 51.6479213)\n",
      "75   Sailing from node 198 to node 319 start   1630.493539     0   POINT (4.3000132 51.6479213)\n",
      "76   Sailing from node 198 to node 319 start   1648.355829     0   POINT (4.2987247 51.6476203)\n",
      "77   Sailing from node 319 to node 368 start   1648.355829     0   POINT (4.2987247 51.6476203)\n",
      "78   Sailing from node 319 to node 368 start   1676.020465     0   POINT (4.2966484 51.6473201)\n",
      "79   Sailing from node 368 to node 260 start   1676.020465     0   POINT (4.2966484 51.6473201)\n",
      "80   Sailing from node 368 to node 260 start   1701.133678     0   POINT (4.2947729 51.6470238)\n",
      "81   Sailing from node 260 to node 261 start   1701.133678     0   POINT (4.2947729 51.6470238)\n",
      "82   Sailing from node 260 to node 261 start   1730.517581     0   POINT (4.2925817 51.6466693)\n",
      "83   Sailing from node 261 to node 262 start   1730.517581     0   POINT (4.2925817 51.6466693)\n",
      "84   Sailing from node 261 to node 262 start   1769.017574     0    POINT (4.2896947 51.646245)\n",
      "85   Sailing from node 262 to node 311 start   1769.017574     0    POINT (4.2896947 51.646245)\n",
      "86   Sailing from node 262 to node 311 start   1785.883569     0   POINT (4.2884347 51.6460471)\n",
      "87   Sailing from node 311 to node 312 start   1785.883569     0   POINT (4.2884347 51.6460471)\n",
      "88   Sailing from node 311 to node 312 start   1813.818658     0    POINT (4.2863447 51.645727)\n",
      "89   Sailing from node 312 to node 390 start   1813.818658     0    POINT (4.2863447 51.645727)\n",
      "90   Sailing from node 312 to node 390 start   1855.347224     0   POINT (4.2832464 51.6452297)\n",
      "91   Sailing from node 390 to node 391 start   1855.347224     0   POINT (4.2832464 51.6452297)\n",
      "92   Sailing from node 390 to node 391 start   1871.453346     0   POINT (4.2820412 51.6450457)\n",
      "93   Sailing from node 391 to node 392 start   1871.453346     0   POINT (4.2820412 51.6450457)\n",
      "94   Sailing from node 391 to node 392 start   1994.928961     0   POINT (4.2725305 51.6448991)\n",
      "95    Sailing from node 392 to node 78 start   1994.928961     0   POINT (4.2725305 51.6448991)\n",
      "96    Sailing from node 392 to node 78 start   2030.120591     0    POINT (4.269914 51.6444566)\n",
      "97    Sailing from node 78 to node 405 start   2030.120591     0    POINT (4.269914 51.6444566)\n",
      "98    Sailing from node 78 to node 405 start   2144.974963     0   POINT (4.2614108 51.6459815)\n",
      "99   Sailing from node 405 to node 300 start   2144.974963     0   POINT (4.2614108 51.6459815)\n",
      "100  Sailing from node 405 to node 300 start   2160.905805     0   POINT (4.2602774 51.6462747)\n",
      "101  Sailing from node 300 to node 301 start   2160.905805     0   POINT (4.2602774 51.6462747)\n",
      "102  Sailing from node 300 to node 301 start   2217.547376     0   POINT (4.2560365 51.6469158)\n",
      "103  Sailing from node 301 to node 302 start   2217.547376     0   POINT (4.2560365 51.6469158)\n",
      "104  Sailing from node 301 to node 302 start   2257.992641     0   POINT (4.2529594 51.6472227)\n",
      "105  Sailing from node 302 to node 400 start   2257.992641     0   POINT (4.2529594 51.6472227)\n",
      "106  Sailing from node 302 to node 400 start   2387.430533     0   POINT (4.2432178 51.6485533)\n",
      "107  Sailing from node 400 to node 335 start   2387.430533     0   POINT (4.2432178 51.6485533)\n",
      "108  Sailing from node 400 to node 335 start   2538.094355     0     POINT (4.23191 51.6501892)\n",
      "109  Sailing from node 335 to node 336 start   2538.094355     0     POINT (4.23191 51.6501892)\n",
      "110  Sailing from node 335 to node 336 start   2618.149614     0   POINT (4.2258067 51.6507473)\n",
      "111  Sailing from node 336 to node 337 start   2618.149614     0   POINT (4.2258067 51.6507473)\n",
      "112  Sailing from node 336 to node 337 start   2646.862214     0   POINT (4.2236224 51.6505281)\n",
      "113   Sailing from node 337 to node 40 start   2646.862214     0   POINT (4.2236224 51.6505281)\n",
      "114   Sailing from node 337 to node 40 start   2677.605464     0   POINT (4.2213417 51.6501295)\n",
      "115    Sailing from node 40 to node 38 start   2677.605464     0   POINT (4.2213417 51.6501295)\n",
      "116    Sailing from node 40 to node 38 start   2751.076261     0   POINT (4.2185615 51.6470616)\n",
      "117    Sailing from node 38 to node 39 start   2751.076261     0   POINT (4.2185615 51.6470616)\n",
      "118    Sailing from node 38 to node 39 start   2881.649104     0   POINT (4.2090046 51.6490182)\n",
      "119   Sailing from node 39 to node 367 start   2881.649104     0   POINT (4.2090046 51.6490182)\n",
      "120   Sailing from node 39 to node 367 start   3026.066017     0   POINT (4.2015414 51.6541534)\n",
      "121  Sailing from node 367 to node 136 start   3026.066017     0   POINT (4.2015414 51.6541534)\n",
      "122  Sailing from node 367 to node 136 start   3113.530959     0    POINT (4.1970469 51.657278)\n",
      "123  Sailing from node 136 to node 137 start   3113.530959     0    POINT (4.1970469 51.657278)\n",
      "124  Sailing from node 136 to node 137 start   3164.904632     0   POINT (4.1944069 51.6591133)\n",
      "125  Sailing from node 137 to node 138 start   3164.904632     0   POINT (4.1944069 51.6591133)\n",
      "126  Sailing from node 137 to node 138 start   3219.955690     0   POINT (4.1913872 51.6609671)\n",
      "127  Sailing from node 138 to node 160 start   3219.955690     0   POINT (4.1913872 51.6609671)\n",
      "128  Sailing from node 138 to node 160 start   3329.177712     0   POINT (4.1830948 51.6618697)\n",
      "129  Sailing from node 160 to node 249 start   3329.177712     0   POINT (4.1830948 51.6618697)\n",
      "130  Sailing from node 160 to node 249 start   3374.343296     0   POINT (4.1796136 51.6618597)\n",
      "131  Sailing from node 249 to node 250 start   3374.343296     0   POINT (4.1796136 51.6618597)\n",
      "132  Sailing from node 249 to node 250 start   3458.998149     0    POINT (4.1730892 51.661913)\n",
      "133  Sailing from node 250 to node 141 start   3458.998149     0    POINT (4.1730892 51.661913)\n",
      "134  Sailing from node 250 to node 141 start   3527.315549     0   POINT (4.1678266 51.6618004)\n",
      "135  Sailing from node 141 to node 140 start   3527.315549     0   POINT (4.1678266 51.6618004)\n",
      "136  Sailing from node 141 to node 140 start   3581.198037     0   POINT (4.1637905 51.6611917)\n",
      "137  Sailing from node 140 to node 139 start   3581.198037     0   POINT (4.1637905 51.6611917)\n",
      "138  Sailing from node 140 to node 139 start   3604.178311     0    POINT (4.1620213 51.661139)\n",
      "139  Sailing from node 139 to node 179 start   3604.178311     0    POINT (4.1620213 51.661139)\n",
      "140  Sailing from node 139 to node 179 start   3608.873903     0   POINT (4.1616594 51.6611368)\n",
      "141                  Sailing into lock start   3608.873903     0   POINT (4.1616594 51.6611368)\n",
      "142                   Sailing into lock stop   3908.873903     0  POINT (4.15958415 51.6610659)\n",
      "143                      Doors closing start   3908.873903     0  POINT (4.15958415 51.6610659)\n",
      "144                       Doors closing stop   3968.873903     0  POINT (4.15958415 51.6610659)\n",
      "145                 Converting chamber start   3968.873903     0  POINT (4.15958415 51.6610659)\n",
      "146                  Converting chamber stop   5408.873903     0  POINT (4.15958415 51.6610659)\n",
      "147                      Doors opening start   5408.873903     0  POINT (4.15958415 51.6610659)\n",
      "148                       Doors opening stop   5468.873903     0  POINT (4.15958415 51.6610659)\n",
      "149                Sailing out of lock start   5468.873903     0  POINT (4.15958415 51.6610659)\n",
      "150                 Sailing out of lock stop   5768.873903     0    POINT (4.1575089 51.660995)\n",
      "151  Sailing from node 178 to node 379 start   5768.873903     0    POINT (4.1575089 51.660995)\n",
      "152  Sailing from node 178 to node 379 start   5800.275656     0   POINT (4.1550903 51.6609384)\n",
      "153  Sailing from node 379 to node 382 start   5800.275656     0   POINT (4.1550903 51.6609384)\n",
      "154  Sailing from node 379 to node 382 start   5837.772121     0    POINT (4.1522774 51.661351)\n",
      "155  Sailing from node 382 to node 348 start   5837.772121     0    POINT (4.1522774 51.661351)\n",
      "156  Sailing from node 382 to node 348 start   5928.175070     0   POINT (4.1453108 51.6612666)\n",
      "157  Sailing from node 348 to node 346 start   5928.175070     0   POINT (4.1453108 51.6612666)\n",
      "158  Sailing from node 348 to node 346 start   6138.628192     0   POINT (4.1291359 51.6605083)\n",
      "159  Sailing from node 346 to node 347 start   6138.628192     0   POINT (4.1291359 51.6605083)\n",
      "160  Sailing from node 346 to node 347 start   6166.001743     0   POINT (4.1270502 51.6603105)\n",
      "161   Sailing from node 347 to node 44 start   6166.001743     0   POINT (4.1270502 51.6603105)\n",
      "162   Sailing from node 347 to node 44 start   6198.674464     0   POINT (4.1245717 51.6600334)\n",
      "163    Sailing from node 44 to node 45 start   6198.674464     0   POINT (4.1245717 51.6600334)\n",
      "164    Sailing from node 44 to node 45 start   6244.025236     0   POINT (4.1211188 51.6596956)\n",
      "165    Sailing from node 45 to node 46 start   6244.025236     0   POINT (4.1211188 51.6596956)\n",
      "166    Sailing from node 45 to node 46 start   6300.513998     0   POINT (4.1169595 51.6588954)\n",
      "167   Sailing from node 46 to node 338 start   6300.513998     0   POINT (4.1169595 51.6588954)\n",
      "168   Sailing from node 46 to node 338 start   6343.961573     0   POINT (4.1138364 51.6581441)\n",
      "169  Sailing from node 338 to node 332 start   6343.961573     0   POINT (4.1138364 51.6581441)\n",
      "170  Sailing from node 338 to node 332 start   6442.565772     0   POINT (4.1088907 51.6545555)\n",
      "171  Sailing from node 332 to node 168 start   6442.565772     0   POINT (4.1088907 51.6545555)\n",
      "172  Sailing from node 332 to node 168 start   6519.085040     0   POINT (4.1050294 51.6517833)\n",
      "173  Sailing from node 168 to node 169 start   6519.085040     0   POINT (4.1050294 51.6517833)\n",
      "174  Sailing from node 168 to node 169 start   6581.818016     0   POINT (4.1021933 51.6493481)\n",
      "175  Sailing from node 169 to node 170 start   6581.818016     0   POINT (4.1021933 51.6493481)\n",
      "176  Sailing from node 169 to node 170 start   6704.526102     0   POINT (4.0965405 51.6446331)\n",
      "177  Sailing from node 170 to node 378 start   6704.526102     0   POINT (4.0965405 51.6446331)\n",
      "178  Sailing from node 170 to node 378 start   6736.049774     0   POINT (4.0950921 51.6434201)\n",
      "179  Sailing from node 378 to node 269 start   6736.049774     0   POINT (4.0950921 51.6434201)\n",
      "180  Sailing from node 378 to node 269 start   6755.081468     0    POINT (4.094059 51.6427727)\n",
      "181  Sailing from node 269 to node 270 start   6755.081468     0    POINT (4.094059 51.6427727)\n",
      "182  Sailing from node 269 to node 270 start   6956.715121     0     POINT (4.083045 51.635957)\n",
      "183  Sailing from node 270 to node 271 start   6956.715121     0     POINT (4.083045 51.635957)\n",
      "184  Sailing from node 270 to node 271 start   7085.049588     0   POINT (4.0788337 51.6303914)\n",
      "185  Sailing from node 271 to node 280 start   7085.049588     0   POINT (4.0788337 51.6303914)\n",
      "186  Sailing from node 271 to node 280 start   7175.105237     0   POINT (4.0747816 51.6268878)\n",
      "187  Sailing from node 280 to node 281 start   7175.105237     0   POINT (4.0747816 51.6268878)\n",
      "188  Sailing from node 280 to node 281 start   7210.816014     0   POINT (4.0724843 51.6259466)\n",
      "189  Sailing from node 281 to node 205 start   7210.816014     0   POINT (4.0724843 51.6259466)\n",
      "190  Sailing from node 281 to node 205 start   7498.603412     0   POINT (4.0549843 51.6174821)\n",
      "191  Sailing from node 205 to node 206 start   7498.603412     0   POINT (4.0549843 51.6174821)\n",
      "192  Sailing from node 205 to node 206 start   7602.159338     0   POINT (4.0486609 51.6144581)\n",
      "193  Sailing from node 206 to node 207 start   7602.159338     0   POINT (4.0486609 51.6144581)\n",
      "194  Sailing from node 206 to node 207 start   7778.070694     0   POINT (4.0375853 51.6096047)\n",
      "195  Sailing from node 207 to node 328 start   7778.070694     0   POINT (4.0375853 51.6096047)\n",
      "196  Sailing from node 207 to node 328 start   8035.352313     0   POINT (4.0210175 51.6028465)\n",
      "197  Sailing from node 328 to node 329 start   8035.352313     0   POINT (4.0210175 51.6028465)\n",
      "198  Sailing from node 328 to node 329 start   8269.828012     0   POINT (4.0035003 51.6001388)\n",
      "199  Sailing from node 329 to node 387 start   8269.828012     0   POINT (4.0035003 51.6001388)\n",
      "200  Sailing from node 329 to node 387 start   8371.825853     0   POINT (3.9956493 51.6001558)\n",
      "201  Sailing from node 387 to node 232 start   8371.825853     0   POINT (3.9956493 51.6001558)\n",
      "202  Sailing from node 387 to node 232 start   8484.146425     0   POINT (3.9872845 51.6015172)\n",
      "203  Sailing from node 232 to node 233 start   8484.146425     0   POINT (3.9872845 51.6015172)\n",
      "204  Sailing from node 232 to node 233 start   8711.289689     0   POINT (3.9716922 51.6064447)\n",
      "205  Sailing from node 233 to node 231 start   8711.289689     0   POINT (3.9716922 51.6064447)\n",
      "206  Sailing from node 233 to node 231 start   8820.211215     0   POINT (3.9687663 51.6015517)\n",
      "207  Sailing from node 231 to node 230 start   8820.211215     0   POINT (3.9687663 51.6015517)\n",
      "208  Sailing from node 231 to node 230 start   8908.412666     0    POINT (3.9669034 51.597486)\n",
      "209  Sailing from node 230 to node 229 start   8908.412666     0    POINT (3.9669034 51.597486)\n",
      "210  Sailing from node 230 to node 229 start   9017.097963     0   POINT (3.9650656 51.5924034)\n",
      "211  Sailing from node 229 to node 295 start   9017.097963     0   POINT (3.9650656 51.5924034)\n",
      "212  Sailing from node 229 to node 295 start   9112.070860     0   POINT (3.9635804 51.5879458)\n",
      "213  Sailing from node 295 to node 294 start   9112.070860     0   POINT (3.9635804 51.5879458)\n",
      "214  Sailing from node 295 to node 294 start   9276.707880     0   POINT (3.9606376 51.5802697)\n",
      "215  Sailing from node 294 to node 296 start   9276.707880     0   POINT (3.9606376 51.5802697)\n",
      "216  Sailing from node 294 to node 296 start   9342.039881     0   POINT (3.9606849 51.5771381)\n",
      "217  Sailing from node 296 to node 116 start   9342.039881     0   POINT (3.9606849 51.5771381)\n",
      "218  Sailing from node 296 to node 116 start   9403.146845     0   POINT (3.9612054 51.5742269)\n",
      "219  Sailing from node 116 to node 117 start   9403.146845     0   POINT (3.9612054 51.5742269)\n",
      "220  Sailing from node 116 to node 117 start   9538.907516     0   POINT (3.9655034 51.5682958)\n",
      "221  Sailing from node 117 to node 118 start   9538.907516     0   POINT (3.9655034 51.5682958)\n",
      "222  Sailing from node 117 to node 118 start   9677.641668     0    POINT (3.968587 51.5619292)\n",
      "223  Sailing from node 118 to node 165 start   9677.641668     0    POINT (3.968587 51.5619292)\n",
      "224  Sailing from node 118 to node 165 start   9774.462918     0   POINT (3.9724414 51.5579582)\n",
      "225  Sailing from node 165 to node 166 start   9774.462918     0   POINT (3.9724414 51.5579582)\n",
      "226  Sailing from node 165 to node 166 start   9860.697816     0   POINT (3.9760756 51.5545005)\n",
      "227  Sailing from node 166 to node 167 start   9860.697816     0   POINT (3.9760756 51.5545005)\n",
      "228  Sailing from node 166 to node 167 start  10172.249317     0   POINT (3.9869536 51.5411948)\n",
      "229  Sailing from node 167 to node 234 start  10172.249317     0   POINT (3.9869536 51.5411948)\n",
      "230  Sailing from node 167 to node 234 start  10309.902811     0   POINT (3.9932584 51.5358955)\n",
      "231  Sailing from node 234 to node 235 start  10309.902811     0   POINT (3.9932584 51.5358955)\n",
      "232  Sailing from node 234 to node 235 start  10411.161283     0   POINT (3.9986544 51.5323976)\n",
      "233  Sailing from node 235 to node 236 start  10411.161283     0   POINT (3.9986544 51.5323976)\n",
      "234  Sailing from node 235 to node 236 start  10548.905997     0    POINT (4.006985 51.5283232)\n",
      "235  Sailing from node 236 to node 325 start  10548.905997     0    POINT (4.006985 51.5283232)\n",
      "236  Sailing from node 236 to node 325 start  10743.464581     0   POINT (4.0163641 51.5210602)\n",
      "237  Sailing from node 325 to node 163 start  10743.464581     0   POINT (4.0163641 51.5210602)\n",
      "238  Sailing from node 325 to node 163 start  10847.545022     0   POINT (4.0146364 51.5161888)\n",
      "239  Sailing from node 163 to node 162 start  10847.545022     0   POINT (4.0146364 51.5161888)\n",
      "240  Sailing from node 163 to node 162 start  10950.586378     0    POINT (4.0128008 51.511384)\n",
      "241  Sailing from node 162 to node 161 start  10950.586378     0    POINT (4.0128008 51.511384)\n",
      "242  Sailing from node 162 to node 161 start  11026.560982     0   POINT (4.0104252 51.5080574)\n",
      "243  Sailing from node 161 to node 309 start  11026.560982     0   POINT (4.0104252 51.5080574)\n",
      "244  Sailing from node 161 to node 309 start  11092.146977     0   POINT (4.0075637 51.5054698)\n",
      "245  Sailing from node 309 to node 308 start  11092.146977     0   POINT (4.0075637 51.5054698)\n",
      "246  Sailing from node 309 to node 308 start  11126.044435     0   POINT (4.0064839 51.5039912)\n",
      "247  Sailing from node 308 to node 342 start  11126.044435     0   POINT (4.0064839 51.5039912)\n",
      "248  Sailing from node 308 to node 342 start  11177.358651     0   POINT (4.0050262 51.5017058)\n",
      "249  Sailing from node 342 to node 341 start  11177.358651     0   POINT (4.0050262 51.5017058)\n",
      "250  Sailing from node 342 to node 341 start  11202.534054     0   POINT (4.0047408 51.5005122)\n",
      "251  Sailing from node 341 to node 340 start  11202.534054     0   POINT (4.0047408 51.5005122)\n",
      "252  Sailing from node 341 to node 340 start  11267.673111     0   POINT (4.0041864 51.4974089)\n",
      "253  Sailing from node 340 to node 356 start  11267.673111     0   POINT (4.0041864 51.4974089)\n",
      "254  Sailing from node 340 to node 356 start  11321.780387     0    POINT (4.0043416 51.494817)\n",
      "255   Sailing from node 356 to node 65 start  11321.780387     0    POINT (4.0043416 51.494817)\n",
      "256   Sailing from node 356 to node 65 start  11455.611273     0   POINT (4.0047256 51.4884061)\n",
      "257    Sailing from node 65 to node 64 start  11455.611273     0   POINT (4.0047256 51.4884061)\n",
      "258    Sailing from node 65 to node 64 start  11638.712995     0   POINT (4.0051837 51.4796335)\n",
      "259    Sailing from node 64 to node 63 start  11638.712995     0   POINT (4.0051837 51.4796335)\n",
      "260    Sailing from node 64 to node 63 start  11767.519719     0   POINT (4.0055464 51.4734631)\n",
      "261   Sailing from node 63 to node 224 start  11767.519719     0   POINT (4.0055464 51.4734631)\n",
      "262   Sailing from node 63 to node 224 start  11808.225513     0   POINT (4.0057488 51.4715159)\n",
      "263  Sailing from node 224 to node 105 start  11808.225513     0   POINT (4.0057488 51.4715159)\n",
      "264  Sailing from node 224 to node 105 start  11851.533911     0   POINT (4.0059641 51.4694442)\n",
      "265  Sailing from node 105 to node 104 start  11851.533911     0   POINT (4.0059641 51.4694442)\n",
      "266  Sailing from node 105 to node 104 start  11855.039533     0   POINT (4.0059941 51.4692772)\n",
      "267  Sailing from node 104 to node 103 start  11855.039533     0   POINT (4.0059941 51.4692772)\n",
      "268  Sailing from node 104 to node 103 start  11891.017041     0   POINT (4.0062362 51.4675592)\n",
      "269  Sailing from node 103 to node 274 start  11891.017041     0   POINT (4.0062362 51.4675592)\n",
      "270  Sailing from node 103 to node 274 start  11937.401546     0    POINT (4.0063588 51.465337)\n",
      "271  Sailing from node 274 to node 273 start  11937.401546     0    POINT (4.0063588 51.465337)\n",
      "272  Sailing from node 274 to node 273 start  11994.829259     0   POINT (4.0077106 51.4627168)\n",
      "273  Sailing from node 273 to node 222 start  11994.829259     0   POINT (4.0077106 51.4627168)\n",
      "274  Sailing from node 273 to node 222 start  12079.342764     0   POINT (4.0086197 51.4587055)\n",
      "275  Sailing from node 222 to node 221 start  12079.342764     0   POINT (4.0086197 51.4587055)\n",
      "276  Sailing from node 222 to node 221 start  12116.503122     0   POINT (4.0092224 51.4569644)\n",
      "277                  Sailing into lock start  12116.503122     0   POINT (4.0092224 51.4569644)\n",
      "278                   Sailing into lock stop  12416.503122     0  POINT (4.0096709 51.45569335)\n",
      "279                      Doors closing start  12416.503122     0  POINT (4.0096709 51.45569335)\n",
      "280                       Doors closing stop  12476.503122     0  POINT (4.0096709 51.45569335)\n",
      "281                 Converting chamber start  12476.503122     0  POINT (4.0096709 51.45569335)\n",
      "282                  Converting chamber stop  13196.503122     0  POINT (4.0096709 51.45569335)\n",
      "283                      Doors opening start  13196.503122     0  POINT (4.0096709 51.45569335)\n",
      "284                       Doors opening stop  13256.503122     0  POINT (4.0096709 51.45569335)\n",
      "285                Sailing out of lock start  13256.503122     0  POINT (4.0096709 51.45569335)\n",
      "286                 Sailing out of lock stop  13556.503122     0   POINT (4.0101194 51.4544223)\n",
      "287  Sailing from node 220 to node 279 start  13556.503122     0   POINT (4.0101194 51.4544223)\n",
      "288  Sailing from node 220 to node 279 start  13593.742634     0   POINT (4.0108726 51.4527003)\n",
      "289  Sailing from node 279 to node 278 start  13593.742634     0   POINT (4.0108726 51.4527003)\n",
      "290  Sailing from node 279 to node 278 start  13663.035385     0   POINT (4.0124113 51.4495208)\n",
      "291  Sailing from node 278 to node 277 start  13663.035385     0   POINT (4.0124113 51.4495208)\n",
      "292  Sailing from node 278 to node 277 start  13702.860879     0   POINT (4.0130457 51.4476533)\n",
      "293  Sailing from node 277 to node 354 start  13702.860879     0   POINT (4.0130457 51.4476533)\n",
      "294  Sailing from node 277 to node 354 start  13725.282077     0    POINT (4.0132346 51.446585)\n",
      "295  Sailing from node 354 to node 353 start  13725.282077     0    POINT (4.0132346 51.446585)\n",
      "296  Sailing from node 354 to node 353 start  13775.409521     0   POINT (4.0134911 51.4441874)\n",
      "297  Sailing from node 353 to node 373 start  13775.409521     0   POINT (4.0134911 51.4441874)\n",
      "298  Sailing from node 353 to node 373 start  13796.790309     0   POINT (4.0132076 51.4431779)\n",
      "299  Sailing from node 373 to node 307 start  13796.790309     0   POINT (4.0132076 51.4431779)\n",
      "300  Sailing from node 373 to node 307 start  13836.434353     0   POINT (4.0124113 51.4413438)\n",
      "301  Sailing from node 307 to node 306 start  13836.434353     0   POINT (4.0124113 51.4413438)\n",
      "302  Sailing from node 307 to node 306 start  13873.445525     0    POINT (4.011237 51.4397285)\n",
      "303  Sailing from node 306 to node 305 start  13873.445525     0    POINT (4.011237 51.4397285)\n",
      "304  Sailing from node 306 to node 305 start  13969.986589     0   POINT (4.0077578 51.4356433)\n",
      "305  Sailing from node 305 to node 352 start  13969.986589     0   POINT (4.0077578 51.4356433)\n",
      "306  Sailing from node 305 to node 352 start  14069.348903     0    POINT (4.0141622 51.433062)\n",
      "307  Sailing from node 352 to node 131 start  14069.348903     0    POINT (4.0141622 51.433062)\n",
      "308  Sailing from node 352 to node 131 start  14112.583076     0   POINT (4.0168194 51.4318224)\n",
      "309  Sailing from node 131 to node 130 start  14112.583076     0   POINT (4.0168194 51.4318224)\n",
      "310  Sailing from node 131 to node 130 start  14326.042022     0   POINT (4.0272197 51.4239208)\n",
      "311   Sailing from node 130 to node 52 start  14326.042022     0   POINT (4.0272197 51.4239208)\n",
      "312   Sailing from node 130 to node 52 start  14455.351271     0   POINT (4.0313597 51.4182884)\n",
      "313   Sailing from node 52 to node 247 start  14455.351271     0   POINT (4.0313597 51.4182884)\n",
      "314   Sailing from node 52 to node 247 start  14737.699072     0   POINT (4.0502254 51.4116531)\n",
      "315  Sailing from node 247 to node 246 start  14737.699072     0   POINT (4.0502254 51.4116531)\n",
      "316  Sailing from node 247 to node 246 start  14949.652287     0    POINT (4.0617282 51.404478)\n",
      "317   Sailing from node 246 to node 34 start  14949.652287     0    POINT (4.0617282 51.404478)\n",
      "318   Sailing from node 246 to node 34 start  15171.454531     0   POINT (4.0740752 51.3971701)\n",
      "319    Sailing from node 34 to node 33 start  15171.454531     0   POINT (4.0740752 51.3971701)\n",
      "320    Sailing from node 34 to node 33 start  15386.794535     0    POINT (4.0864221 51.390322)\n",
      "321    Sailing from node 33 to node 32 start  15386.794535     0    POINT (4.0864221 51.390322)\n",
      "322    Sailing from node 33 to node 32 start  15537.536001     0   POINT (4.0920152 51.3839998)\n",
      "323   Sailing from node 32 to node 195 start  15537.536001     0   POINT (4.0920152 51.3839998)\n",
      "324   Sailing from node 32 to node 195 start  15665.624684     0   POINT (4.0959229 51.3783675)\n",
      "325  Sailing from node 195 to node 194 start  15665.624684     0   POINT (4.0959229 51.3783675)\n",
      "326  Sailing from node 195 to node 194 start  15732.479458     0   POINT (4.0984797 51.3755907)\n",
      "327  Sailing from node 194 to node 193 start  15732.479458     0   POINT (4.0984797 51.3755907)\n",
      "328  Sailing from node 194 to node 193 start  15818.234294     0    POINT (4.102647 51.3724132)\n",
      "329  Sailing from node 193 to node 245 start  15818.234294     0    POINT (4.102647 51.3724132)\n",
      "330  Sailing from node 193 to node 245 start  15892.970401     0   POINT (4.1056847 51.3693767)\n",
      "331  Sailing from node 245 to node 244 start  15892.970401     0   POINT (4.1056847 51.3693767)\n",
      "332  Sailing from node 245 to node 244 start  16194.108706     0   POINT (4.1285587 51.3712219)\n",
      "333  Sailing from node 244 to node 388 start  16194.108706     0   POINT (4.1285587 51.3712219)\n",
      "334  Sailing from node 244 to node 388 start  16367.794391     0   POINT (4.1414758 51.3732117)\n",
      "335   Sailing from node 388 to node 17 start  16367.794391     0   POINT (4.1414758 51.3732117)\n",
      "336   Sailing from node 388 to node 17 start  16503.582117     0   POINT (4.1510484 51.3757567)\n",
      "337    Sailing from node 17 to node 16 start  16503.582117     0   POINT (4.1510484 51.3757567)\n",
      "338    Sailing from node 17 to node 16 start  16846.486455     0   POINT (4.1687576 51.3878975)\n",
      "339    Sailing from node 16 to node 15 start  16846.486455     0   POINT (4.1687576 51.3878975)\n",
      "340    Sailing from node 16 to node 15 start  16988.309020     0     POINT (4.17633 51.3927735)\n",
      "341    Sailing from node 15 to node 75 start  16988.309020     0     POINT (4.17633 51.3927735)\n",
      "342    Sailing from node 15 to node 75 start  17090.681395     0   POINT (4.1822662 51.3959816)\n",
      "343   Sailing from node 75 to node 152 start  17090.681395     0   POINT (4.1822662 51.3959816)\n",
      "344   Sailing from node 75 to node 152 start  17177.131334     0   POINT (4.1878773 51.3981847)\n",
      "345  Sailing from node 152 to node 345 start  17177.131334     0   POINT (4.1878773 51.3981847)\n",
      "346  Sailing from node 152 to node 345 start  17270.218055     0   POINT (4.1949571 51.3987316)\n",
      "347  Sailing from node 345 to node 289 start  17270.218055     0   POINT (4.1949571 51.3987316)\n",
      "348  Sailing from node 345 to node 289 start  17338.580097     0    POINT (4.2001636 51.398368)\n",
      "349  Sailing from node 289 to node 288 start  17338.580097     0    POINT (4.2001636 51.398368)\n",
      "350  Sailing from node 289 to node 288 start  17376.574517     0     POINT (4.2029502 51.39784)\n",
      "351  Sailing from node 288 to node 287 start  17376.574517     0     POINT (4.2029502 51.39784)\n",
      "352  Sailing from node 288 to node 287 start  17421.805166     0   POINT (4.2057029 51.3965224)\n",
      "353  Sailing from node 287 to node 109 start  17421.805166     0   POINT (4.2057029 51.3965224)\n",
      "354  Sailing from node 287 to node 109 start  17462.823683     0   POINT (4.2076065 51.3949577)\n",
      "355   Sailing from node 109 to node 90 start  17462.823683     0   POINT (4.2076065 51.3949577)\n",
      "356   Sailing from node 109 to node 90 start  17506.118641     0    POINT (4.209383 51.3932049)\n",
      "357    Sailing from node 90 to node 89 start  17506.118641     0    POINT (4.209383 51.3932049)\n",
      "358    Sailing from node 90 to node 89 start  17578.292753     0   POINT (4.2114239 51.3899893)\n",
      "359    Sailing from node 89 to node 88 start  17578.292753     0   POINT (4.2114239 51.3899893)\n",
      "360    Sailing from node 89 to node 88 start  17656.115397     0    POINT (4.2126237 51.386335)\n",
      "361   Sailing from node 88 to node 255 start  17656.115397     0    POINT (4.2126237 51.386335)\n",
      "362   Sailing from node 88 to node 255 start  17767.449406     0   POINT (4.2143399 51.3811071)\n",
      "363  Sailing from node 255 to node 254 start  17767.449406     0   POINT (4.2143399 51.3811071)\n",
      "364  Sailing from node 255 to node 254 start  17925.759928     0   POINT (4.2181537 51.3739032)\n",
      "365  Sailing from node 254 to node 253 start  17925.759928     0   POINT (4.2181537 51.3739032)\n",
      "366  Sailing from node 254 to node 253 start  18094.041886     0   POINT (4.2218597 51.3661769)\n",
      "367  Sailing from node 253 to node 383 start  18094.041886     0   POINT (4.2218597 51.3661769)\n",
      "368  Sailing from node 253 to node 383 start  18199.726442     0   POINT (4.2255434 51.3616659)\n",
      "369  Sailing from node 383 to node 395 start  18199.726442     0   POINT (4.2255434 51.3616659)\n",
      "370  Sailing from node 383 to node 395 start  18260.548721     0   POINT (4.2284151 51.3593705)\n",
      "371  Sailing from node 395 to node 315 start  18260.548721     0   POINT (4.2284151 51.3593705)\n",
      "372  Sailing from node 395 to node 315 start  18368.753734     0   POINT (4.2350691 51.3562802)\n",
      "373  Sailing from node 315 to node 304 start  18368.753734     0   POINT (4.2350691 51.3562802)\n",
      "374  Sailing from node 315 to node 304 start  18514.992539     0   POINT (4.2447637 51.3527734)\n",
      "375   Sailing from node 304 to node 74 start  18514.992539     0   POINT (4.2447637 51.3527734)\n",
      "376   Sailing from node 304 to node 74 start  18559.525413     0   POINT (4.2475303 51.3515259)\n",
      "377   Sailing from node 74 to node 303 start  18559.525413     0   POINT (4.2475303 51.3515259)\n",
      "378   Sailing from node 74 to node 303 start  18882.638690     0   POINT (4.2713545 51.3473615)\n",
      "379   Sailing from node 303 to node 96 start  18882.638690     0   POINT (4.2713545 51.3473615)\n",
      "380   Sailing from node 303 to node 96 start  18977.690272     0   POINT (4.2785423 51.3466542)\n",
      "381    Sailing from node 96 to node 95 start  18977.690272     0   POINT (4.2785423 51.3466542)\n",
      "382    Sailing from node 96 to node 95 start  19017.286044     0    POINT (4.2815575 51.346461)\n",
      "383    Sailing from node 95 to node 94 start  19017.286044     0    POINT (4.2815575 51.346461)\n",
      "384    Sailing from node 95 to node 94 start  19029.642361     0   POINT (4.2825009 51.3464185)\n",
      "385    Sailing from node 94 to node 81 start  19029.642361     0   POINT (4.2825009 51.3464185)\n",
      "386    Sailing from node 94 to node 81 start  19125.687110     0   POINT (4.2898218 51.3459962)\n",
      "387    Sailing from node 81 to node 47 start  19125.687110     0   POINT (4.2898218 51.3459962)\n",
      "388    Sailing from node 81 to node 47 start  19236.660423     0   POINT (4.2982523 51.3453443)\n",
      "389    Sailing from node 47 to node 43 start  19236.660423     0   POINT (4.2982523 51.3453443)\n",
      "390    Sailing from node 47 to node 43 start  19276.590805     0   POINT (4.2984587 51.3472541)\n",
      "391    Sailing from node 43 to node 41 start  19276.590805     0   POINT (4.2984587 51.3472541)\n",
      "392    Sailing from node 43 to node 41 start  19348.248517     0   POINT (4.3007857 51.3503648)\n",
      "393                             Stop sailing  19348.248517         POINT (4.3007857 51.3503648)\n"
     ]
    }
   ],
   "source": [
    "vessel_log = pd.DataFrame.from_dict(list_with_vessels[0].log)\n",
    "print(vessel_log.to_string())\n"
   ]
  },
  {
   "cell_type": "code",
   "execution_count": 11,
   "metadata": {},
   "outputs": [],
   "source": [
    "#for vessel in list_with_vessels:\n",
    "    #vessel.path_complete.plot(FG, True, vessel.name)"
   ]
  },
  {
   "cell_type": "code",
   "execution_count": 12,
   "metadata": {},
   "outputs": [
    {
     "name": "stdout",
     "output_type": "stream",
     "text": [
      "{'total_energy': 3527149.3277274636, 'stationary': 437515.48773333343} 84567.37980081535\n",
      "{'total_energy': 3852824.567794032, 'stationary': 616626.1637533333} 50509.6454830062\n",
      "{'total_energy': 1999840.0098490794, 'stationary': 175006.19509333334} 50509.6454830062\n",
      "{'total_energy': 6307714.83526843, 'stationary': 938344.1622333329} 84567.37980081535\n"
     ]
    }
   ],
   "source": [
    "energy_usage_total = []\n",
    "energy_usage_stationary = []\n",
    "for vessel in list_with_vessels:\n",
    "    energy = vessel.calculate_energy_consumption()\n",
    "    energy_usage_total.append(energy['total_energy'])\n",
    "    energy_usage_stationary.append(energy['stationary'])\n",
    "    print(energy, vessel.path_complete.length)"
   ]
  },
  {
   "cell_type": "code",
   "execution_count": 14,
   "metadata": {},
   "outputs": [
    {
     "data": {
      "text/plain": [
       "Text(0.5, 1.0, 'M8 routes')"
      ]
     },
     "execution_count": 14,
     "metadata": {},
     "output_type": "execute_result"
    },
    {
     "data": {
      "image/png": "[encoded data removed]",
      "text/plain": [
       "<Figure size 432x288 with 1 Axes>"
      ]
     },
     "metadata": {},
     "output_type": "display_data"
    }
   ],
   "source": [
    "plt.bar([1,2,3,4], energy_usage_total, color=['g', 'y', 'b', 'r'], tick_label=['one','two','thee','four'])\n",
    "plt.ylabel('Nm')\n",
    "plt.title('M8 routes')"
   ]
  },
  {
   "cell_type": "code",
   "execution_count": 23,
   "metadata": {},
   "outputs": [
    {
     "name": "stdout",
     "output_type": "stream",
     "text": [
      "0\n",
      "1\n",
      "2\n",
      "3\n"
     ]
    },
    {
     "data": {
      "image/png": "[encoded data removed]",
      "text/plain": [
       "<Figure size 576x576 with 1 Axes>"
      ]
     },
     "metadata": {},
     "output_type": "display_data"
    },
    {
     "data": {
      "image/png": "[encoded data removed]",
      "text/plain": [
       "<Figure size 576x576 with 1 Axes>"
      ]
     },
     "metadata": {},
     "output_type": "display_data"
    },
    {
     "data": {
      "image/png": "[encoded data removed]",
      "text/plain": [
       "<Figure size 576x576 with 1 Axes>"
      ]
     },
     "metadata": {},
     "output_type": "display_data"
    },
    {
     "data": {
      "image/png": "[encoded data removed]",
      "text/plain": [
       "<Figure size 576x576 with 1 Axes>"
      ]
     },
     "metadata": {},
     "output_type": "display_data"
    }
   ],
   "source": [
    "for i in range(len(energy_usage_total)):\n",
    "    print(i)\n",
    "    plt.figure(figsize=(6,6))\n",
    "    plt.pie([ energy_usage_total[i]-energy_usage_stationary[i], energy_usage_stationary[i] ])\n",
    "    plt.savefig('img/piechart_m8' + str(i) +'.png')"
   ]
  },
  {
   "cell_type": "code",
   "execution_count": null,
   "metadata": {},
   "outputs": [],
   "source": []
  }
 ],
 "metadata": {
  "kernelspec": {
   "display_name": "Python 3",
   "language": "python",
   "name": "python3"
  },
  "language_info": {
   "codemirror_mode": {
    "name": "ipython",
    "version": 3
   },
   "file_extension": ".py",
   "mimetype": "text/x-python",
   "name": "python",
   "nbconvert_exporter": "python",
   "pygments_lexer": "ipython3",
   "version": "3.6.5"
  }
 },
 "nbformat": 4,
 "nbformat_minor": 2
}
